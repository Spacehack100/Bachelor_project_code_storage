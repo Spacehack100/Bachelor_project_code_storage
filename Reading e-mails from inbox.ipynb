{
 "cells": [
  {
   "cell_type": "markdown",
   "id": "5ac0d3e2",
   "metadata": {},
   "source": [
    "# Import necessary libraries"
   ]
  },
  {
   "cell_type": "code",
   "execution_count": 1,
   "id": "6552ca81",
   "metadata": {},
   "outputs": [],
   "source": [
    "import os\n",
    "import re\n",
    "import pandas as pd\n",
    "from imap_tools import MailBox, AND\n",
    "from difflib import SequenceMatcher\n",
    "pd.set_option('display.max_colwidth', None)"
   ]
  },
  {
   "cell_type": "markdown",
   "id": "27b672f6",
   "metadata": {},
   "source": [
    "# Define function to get password from file (for security)"
   ]
  },
  {
   "cell_type": "code",
   "execution_count": 2,
   "id": "ce088e4c",
   "metadata": {},
   "outputs": [],
   "source": [
    "def GetPasswordFromFile(filePath):\n",
    "    f = open(filePath,\"r\")\n",
    "    password = f.read()\n",
    "    f.close()\n",
    "    return password"
   ]
  },
  {
   "cell_type": "markdown",
   "id": "4e5f04b3",
   "metadata": {},
   "source": [
    "# Open mailbox and retrieve content of unread messages"
   ]
  },
  {
   "cell_type": "code",
   "execution_count": null,
   "id": "93f158ce",
   "metadata": {
    "scrolled": false
   },
   "outputs": [],
   "source": [
    "mb = MailBox('<enter mailbox>').login('<enter email adres>',GetPasswordFromFile(os.getcwd() + '<enter filename with password>'))\n",
    "messages = mb.fetch(criteria=AND(seen=False), mark_seen=False, bulk=True)\n",
    "\n",
    "contents = []\n",
    "threadCheck = \"\"\n",
    "escapes = ''.join([chr(char) for char in range(1, 32)])\n",
    "for msg in messages:\n",
    "    if(msg != None):\n",
    "        textMsg = msg.subject + \" \" + msg.text\n",
    "        #if SequenceMatcher(None,textMsg[-len(threadCheck):],threadCheck).ratio() > 0.9 and threadCheck != \"\" and len(threadCheck) <= len(textMsg):\n",
    "            #print('found one!')\n",
    "            #threadLenght = len(threadCheck)\n",
    "            #threadCheck = textMsg\n",
    "            #textMsg = textMsg[:-threadLenght]\n",
    "        #else:\n",
    "            #threadCheck = textMsg\n",
    "        \n",
    "        #textMsg = re.sub(r'[' + escapes + r']',' ', textMsg)\n",
    "        #if threadCheck in textMsg and threadCheck != '':\n",
    "            #threadIndex = textMsg.index(threadCheck)\n",
    "            #textMsg = textMsg[:threadIndex]\n",
    "        #threadCheck = textMsg[:30]\n",
    "        \n",
    "        indexes = [m.span() for m in re.finditer('>>',textMsg)]\n",
    "        for i in indexes:\n",
    "            print(i[0])\n",
    "        \n",
    "        contents.append(textMsg)\n",
    "    \n",
    "contentsDf = pd.DataFrame(contents, columns=['contents'])\n",
    "contentsDf"
   ]
  },
  {
   "cell_type": "markdown",
   "id": "d5f356d1",
   "metadata": {},
   "source": [
    "# Sources:\n",
    "- https://deviloper.in/how-to-read-emails-using-python\n",
    "- https://www.reddit.com/r/learnprogramming/comments/unzzaq/how_to_add_gmail_imap_authentication_python/"
   ]
  }
 ],
 "metadata": {
  "kernelspec": {
   "display_name": "Python 3 (ipykernel)",
   "language": "python",
   "name": "python3"
  },
  "language_info": {
   "codemirror_mode": {
    "name": "ipython",
    "version": 3
   },
   "file_extension": ".py",
   "mimetype": "text/x-python",
   "name": "python",
   "nbconvert_exporter": "python",
   "pygments_lexer": "ipython3",
   "version": "3.10.9"
  }
 },
 "nbformat": 4,
 "nbformat_minor": 5
}
