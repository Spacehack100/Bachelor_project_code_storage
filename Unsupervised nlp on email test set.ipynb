{
 "cells": [
  {
   "cell_type": "markdown",
   "id": "c73e03d3",
   "metadata": {},
   "source": [
    "# Import necassary libraries"
   ]
  },
  {
   "cell_type": "code",
   "execution_count": 35,
   "id": "65a7385e",
   "metadata": {},
   "outputs": [],
   "source": [
    "import pandas as pd\n",
    "import os\n",
    "import numpy as np\n",
    "from sklearn.model_selection import train_test_split, GridSearchCV\n",
    "from gensim.utils import simple_preprocess\n",
    "from gensim.parsing.preprocessing import strip_tags\n",
    "from gensim.models.doc2vec import TaggedDocument\n",
    "from lbl2vec import Lbl2Vec\n",
    "from sklearn.metrics import f1_score, confusion_matrix, precision_score, balanced_accuracy_score"
   ]
  },
  {
   "cell_type": "markdown",
   "id": "16ff8bb5",
   "metadata": {},
   "source": [
    "# Manually define labels and corresponding keywords"
   ]
  },
  {
   "cell_type": "code",
   "execution_count": 36,
   "id": "9337f4bb",
   "metadata": {},
   "outputs": [],
   "source": [
    "labels = pd.DataFrame({'name' : ['factuur','aanmaning'], 'classIndex' : [1,2], 'keywords' : [['rekening','afrekening','factuur'],['aanmaning','herinnering']]})"
   ]
  },
  {
   "cell_type": "markdown",
   "id": "6a136843",
   "metadata": {},
   "source": [
    "# Import dataset and view class distribution"
   ]
  },
  {
   "cell_type": "code",
   "execution_count": 37,
   "id": "e14e4d1c",
   "metadata": {},
   "outputs": [
    {
     "data": {
      "text/plain": [
       "<AxesSubplot: >"
      ]
     },
     "execution_count": 37,
     "metadata": {},
     "output_type": "execute_result"
    },
    {
     "data": {
      "image/png": "[encoded data removed]",
      "text/plain": [
       "<Figure size 640x480 with 1 Axes>"
      ]
     },
     "metadata": {},
     "output_type": "display_data"
    }
   ],
   "source": [
    "fullDataset = pd.read_csv(os.getcwd() + \"\\\\test_extraction_emails.csv\")\n",
    "fullDataset['classIndex'].hist(bins=3)"
   ]
  },
  {
   "cell_type": "markdown",
   "id": "41938a03",
   "metadata": {},
   "source": [
    "A lot of datapoints with label 'factuur'. Much less with 'aanmaning' en 'ander'"
   ]
  },
  {
   "cell_type": "markdown",
   "id": "fd0df331",
   "metadata": {},
   "source": [
    "# Split dataset in train/test set and remove 'andere' (other) category"
   ]
  },
  {
   "cell_type": "code",
   "execution_count": 38,
   "id": "301edd5c",
   "metadata": {
    "scrolled": false
   },
   "outputs": [
    {
     "data": {
      "text/html": [
       "<div>\n",
       "<style scoped>\n",
       "    .dataframe tbody tr th:only-of-type {\n",
       "        vertical-align: middle;\n",
       "    }\n",
       "\n",
       "    .dataframe tbody tr th {\n",
       "        vertical-align: top;\n",
       "    }\n",
       "\n",
       "    .dataframe thead th {\n",
       "        text-align: right;\n",
       "    }\n",
       "</style>\n",
       "<table border=\"1\" class=\"dataframe\">\n",
       "  <thead>\n",
       "    <tr style=\"text-align: right;\">\n",
       "      <th></th>\n",
       "      <th>Unnamed: 0</th>\n",
       "      <th>names</th>\n",
       "      <th>contents</th>\n",
       "      <th>classIndex</th>\n",
       "      <th>type</th>\n",
       "    </tr>\n",
       "  </thead>\n",
       "  <tbody>\n",
       "    <tr>\n",
       "      <th>0</th>\n",
       "      <td>1714</td>\n",
       "      <td>ee702b77-6016-47b9-8134-31fc5482131a-aanmaningen</td>\n",
       "      <td>woensdag augustus klep onderwerp re service go...</td>\n",
       "      <td>2</td>\n",
       "      <td>train</td>\n",
       "    </tr>\n",
       "    <tr>\n",
       "      <th>1</th>\n",
       "      <td>1435</td>\n",
       "      <td>c8c071ae-575c-46f6-aaed-185a8a605cb2-facturen</td>\n",
       "      <td>hallo mogelijk factuur bijlage betalen talent ...</td>\n",
       "      <td>1</td>\n",
       "      <td>train</td>\n",
       "    </tr>\n",
       "    <tr>\n",
       "      <th>2</th>\n",
       "      <td>105</td>\n",
       "      <td>0d212b95-a5d9-48cd-b076-6d6799a12475-aanmaningen</td>\n",
       "      <td>nv medium service nv geacht heer mevrouw nazic...</td>\n",
       "      <td>2</td>\n",
       "      <td>train</td>\n",
       "    </tr>\n",
       "    <tr>\n",
       "      <th>3</th>\n",
       "      <td>52</td>\n",
       "      <td>05d9df6c-9cd1-43cd-b96d-143da4501340-aanmaningen</td>\n",
       "      <td>partner so kind to date sent september to subj...</td>\n",
       "      <td>2</td>\n",
       "      <td>train</td>\n",
       "    </tr>\n",
       "    <tr>\n",
       "      <th>4</th>\n",
       "      <td>548</td>\n",
       "      <td>4ab19178-9090-4d46-8747-e1c5c068cb30-facturen</td>\n",
       "      <td>goed klant gelieve bijlage ons factuur vinden ...</td>\n",
       "      <td>1</td>\n",
       "      <td>train</td>\n",
       "    </tr>\n",
       "  </tbody>\n",
       "</table>\n",
       "</div>"
      ],
      "text/plain": [
       "   Unnamed: 0                                             names  \\\n",
       "0        1714  ee702b77-6016-47b9-8134-31fc5482131a-aanmaningen   \n",
       "1        1435     c8c071ae-575c-46f6-aaed-185a8a605cb2-facturen   \n",
       "2         105  0d212b95-a5d9-48cd-b076-6d6799a12475-aanmaningen   \n",
       "3          52  05d9df6c-9cd1-43cd-b96d-143da4501340-aanmaningen   \n",
       "4         548     4ab19178-9090-4d46-8747-e1c5c068cb30-facturen   \n",
       "\n",
       "                                            contents  classIndex   type  \n",
       "0  woensdag augustus klep onderwerp re service go...           2  train  \n",
       "1  hallo mogelijk factuur bijlage betalen talent ...           1  train  \n",
       "2  nv medium service nv geacht heer mevrouw nazic...           2  train  \n",
       "3  partner so kind to date sent september to subj...           2  train  \n",
       "4  goed klant gelieve bijlage ons factuur vinden ...           1  train  "
      ]
     },
     "execution_count": 38,
     "metadata": {},
     "output_type": "execute_result"
    }
   ],
   "source": [
    "trainSet, testSet = train_test_split(fullDataset, test_size=0.10, stratify=fullDataset['classIndex'], random_state=42)\n",
    "\n",
    "trainSet['type'] = 'train'\n",
    "testSet['type'] = 'test'\n",
    "fullCorpus = pd.concat([trainSet, testSet]).reset_index(drop=True)\n",
    "fullCorpus = fullCorpus[fullCorpus['classIndex'].isin(list(labels['classIndex']))]\n",
    "fullCorpus.head()"
   ]
  },
  {
   "cell_type": "markdown",
   "id": "df4f71ee",
   "metadata": {},
   "source": [
    "# Tokenize, tag and prepare documents for training"
   ]
  },
  {
   "cell_type": "code",
   "execution_count": 39,
   "id": "4cd7c5b8",
   "metadata": {
    "scrolled": true
   },
   "outputs": [
    {
     "data": {
      "text/html": [
       "<div>\n",
       "<style scoped>\n",
       "    .dataframe tbody tr th:only-of-type {\n",
       "        vertical-align: middle;\n",
       "    }\n",
       "\n",
       "    .dataframe tbody tr th {\n",
       "        vertical-align: top;\n",
       "    }\n",
       "\n",
       "    .dataframe thead th {\n",
       "        text-align: right;\n",
       "    }\n",
       "</style>\n",
       "<table border=\"1\" class=\"dataframe\">\n",
       "  <thead>\n",
       "    <tr style=\"text-align: right;\">\n",
       "      <th></th>\n",
       "      <th>Unnamed: 0</th>\n",
       "      <th>names</th>\n",
       "      <th>contents</th>\n",
       "      <th>classIndex</th>\n",
       "      <th>type</th>\n",
       "      <th>tagged</th>\n",
       "      <th>documentKey</th>\n",
       "      <th>name</th>\n",
       "      <th>keywords</th>\n",
       "    </tr>\n",
       "  </thead>\n",
       "  <tbody>\n",
       "    <tr>\n",
       "      <th>0</th>\n",
       "      <td>1714</td>\n",
       "      <td>ee702b77-6016-47b9-8134-31fc5482131a-aanmaningen</td>\n",
       "      <td>woensdag augustus klep onderwerp re service go...</td>\n",
       "      <td>2</td>\n",
       "      <td>train</td>\n",
       "      <td>([woensdag, augustus, klep, onderwerp, re, ser...</td>\n",
       "      <td>0</td>\n",
       "      <td>aanmaning</td>\n",
       "      <td>[aanmaning, herinnering]</td>\n",
       "    </tr>\n",
       "    <tr>\n",
       "      <th>1</th>\n",
       "      <td>1435</td>\n",
       "      <td>c8c071ae-575c-46f6-aaed-185a8a605cb2-facturen</td>\n",
       "      <td>hallo mogelijk factuur bijlage betalen talent ...</td>\n",
       "      <td>1</td>\n",
       "      <td>train</td>\n",
       "      <td>([hallo, mogelijk, factuur, bijlage, betalen, ...</td>\n",
       "      <td>1</td>\n",
       "      <td>factuur</td>\n",
       "      <td>[rekening, afrekening, factuur]</td>\n",
       "    </tr>\n",
       "    <tr>\n",
       "      <th>2</th>\n",
       "      <td>105</td>\n",
       "      <td>0d212b95-a5d9-48cd-b076-6d6799a12475-aanmaningen</td>\n",
       "      <td>nv medium service nv geacht heer mevrouw nazic...</td>\n",
       "      <td>2</td>\n",
       "      <td>train</td>\n",
       "      <td>([nv, medium, service, nv, geacht, heer, mevro...</td>\n",
       "      <td>2</td>\n",
       "      <td>aanmaning</td>\n",
       "      <td>[aanmaning, herinnering]</td>\n",
       "    </tr>\n",
       "    <tr>\n",
       "      <th>3</th>\n",
       "      <td>52</td>\n",
       "      <td>05d9df6c-9cd1-43cd-b96d-143da4501340-aanmaningen</td>\n",
       "      <td>partner so kind to date sent september to subj...</td>\n",
       "      <td>2</td>\n",
       "      <td>train</td>\n",
       "      <td>([partner, so, kind, to, date, sent, september...</td>\n",
       "      <td>3</td>\n",
       "      <td>aanmaning</td>\n",
       "      <td>[aanmaning, herinnering]</td>\n",
       "    </tr>\n",
       "    <tr>\n",
       "      <th>4</th>\n",
       "      <td>548</td>\n",
       "      <td>4ab19178-9090-4d46-8747-e1c5c068cb30-facturen</td>\n",
       "      <td>goed klant gelieve bijlage ons factuur vinden ...</td>\n",
       "      <td>1</td>\n",
       "      <td>train</td>\n",
       "      <td>([goed, klant, gelieve, bijlage, ons, factuur,...</td>\n",
       "      <td>4</td>\n",
       "      <td>factuur</td>\n",
       "      <td>[rekening, afrekening, factuur]</td>\n",
       "    </tr>\n",
       "  </tbody>\n",
       "</table>\n",
       "</div>"
      ],
      "text/plain": [
       "   Unnamed: 0                                             names  \\\n",
       "0        1714  ee702b77-6016-47b9-8134-31fc5482131a-aanmaningen   \n",
       "1        1435     c8c071ae-575c-46f6-aaed-185a8a605cb2-facturen   \n",
       "2         105  0d212b95-a5d9-48cd-b076-6d6799a12475-aanmaningen   \n",
       "3          52  05d9df6c-9cd1-43cd-b96d-143da4501340-aanmaningen   \n",
       "4         548     4ab19178-9090-4d46-8747-e1c5c068cb30-facturen   \n",
       "\n",
       "                                            contents  classIndex   type  \\\n",
       "0  woensdag augustus klep onderwerp re service go...           2  train   \n",
       "1  hallo mogelijk factuur bijlage betalen talent ...           1  train   \n",
       "2  nv medium service nv geacht heer mevrouw nazic...           2  train   \n",
       "3  partner so kind to date sent september to subj...           2  train   \n",
       "4  goed klant gelieve bijlage ons factuur vinden ...           1  train   \n",
       "\n",
       "                                              tagged documentKey       name  \\\n",
       "0  ([woensdag, augustus, klep, onderwerp, re, ser...           0  aanmaning   \n",
       "1  ([hallo, mogelijk, factuur, bijlage, betalen, ...           1    factuur   \n",
       "2  ([nv, medium, service, nv, geacht, heer, mevro...           2  aanmaning   \n",
       "3  ([partner, so, kind, to, date, sent, september...           3  aanmaning   \n",
       "4  ([goed, klant, gelieve, bijlage, ons, factuur,...           4    factuur   \n",
       "\n",
       "                          keywords  \n",
       "0         [aanmaning, herinnering]  \n",
       "1  [rekening, afrekening, factuur]  \n",
       "2         [aanmaning, herinnering]  \n",
       "3         [aanmaning, herinnering]  \n",
       "4  [rekening, afrekening, factuur]  "
      ]
     },
     "execution_count": 39,
     "metadata": {},
     "output_type": "execute_result"
    }
   ],
   "source": [
    "def tokenize(doc):\n",
    "    return simple_preprocess(strip_tags(doc), deacc=True, min_len=2, max_len=15)\n",
    "fullCorpus = fullCorpus.dropna()\n",
    "fullCorpus['tagged'] = fullCorpus.apply(lambda row: TaggedDocument(tokenize(row['contents']), [str(row.name)]), axis=1)\n",
    "fullCorpus['documentKey'] = fullCorpus.index.astype(str)\n",
    "fullCorpus = fullCorpus.merge(labels, left_on='classIndex', right_on='classIndex', how='left')\n",
    "fullCorpus.head()"
   ]
  },
  {
   "cell_type": "markdown",
   "id": "84c7de25",
   "metadata": {},
   "source": [
    "Model will use taggs to vectorise documents"
   ]
  },
  {
   "cell_type": "markdown",
   "id": "9040b0c2",
   "metadata": {},
   "source": [
    "# Define model and start training on training set"
   ]
  },
  {
   "cell_type": "code",
   "execution_count": 56,
   "id": "3b9a3501",
   "metadata": {
    "scrolled": true
   },
   "outputs": [
    {
     "name": "stderr",
     "output_type": "stream",
     "text": [
      "2023-02-20 12:12:49,248 - Lbl2Vec - INFO - Train document and word embeddings\n",
      "2023-02-20 12:12:49,248 - Lbl2Vec - INFO - Train document and word embeddings\n",
      "2023-02-20 12:12:49,248 - Lbl2Vec - INFO - Train document and word embeddings\n",
      "2023-02-20 12:12:49,248 - Lbl2Vec - INFO - Train document and word embeddings\n",
      "2023-02-20 12:12:49,248 - Lbl2Vec - INFO - Train document and word embeddings\n",
      "2023-02-20 12:12:49,248 - Lbl2Vec - INFO - Train document and word embeddings\n",
      "2023-02-20 12:12:49,248 - Lbl2Vec - INFO - Train document and word embeddings\n",
      "2023-02-20 12:12:49,248 - Lbl2Vec - INFO - Train document and word embeddings\n",
      "2023-02-20 12:12:49,248 - Lbl2Vec - INFO - Train document and word embeddings\n",
      "2023-02-20 12:12:51,213 - Lbl2Vec - INFO - Train label embeddings\n",
      "2023-02-20 12:12:51,213 - Lbl2Vec - INFO - Train label embeddings\n",
      "2023-02-20 12:12:51,213 - Lbl2Vec - INFO - Train label embeddings\n",
      "2023-02-20 12:12:51,213 - Lbl2Vec - INFO - Train label embeddings\n",
      "2023-02-20 12:12:51,213 - Lbl2Vec - INFO - Train label embeddings\n",
      "2023-02-20 12:12:51,213 - Lbl2Vec - INFO - Train label embeddings\n",
      "2023-02-20 12:12:51,213 - Lbl2Vec - INFO - Train label embeddings\n",
      "2023-02-20 12:12:51,213 - Lbl2Vec - INFO - Train label embeddings\n",
      "2023-02-20 12:12:51,213 - Lbl2Vec - INFO - Train label embeddings\n"
     ]
    }
   ],
   "source": [
    "Lbl2VecModel = Lbl2Vec(keywords_list=list(labels.keywords), tagged_documents=fullCorpus['tagged'][fullCorpus['type'] == 'train'], label_names=list(labels.name), min_count=2, similarity_threshold=0.4, min_num_docs=15, epochs=25)\n",
    "\n",
    "Lbl2VecModel.fit()"
   ]
  },
  {
   "cell_type": "markdown",
   "id": "5a4bc8c7",
   "metadata": {},
   "source": [
    "### Evaluate performance on training set"
   ]
  },
  {
   "cell_type": "code",
   "execution_count": 57,
   "id": "d9661529",
   "metadata": {
    "scrolled": false
   },
   "outputs": [
    {
     "name": "stderr",
     "output_type": "stream",
     "text": [
      "2023-02-20 12:12:51,248 - Lbl2Vec - INFO - Get document embeddings from model\n",
      "2023-02-20 12:12:51,248 - Lbl2Vec - INFO - Get document embeddings from model\n",
      "2023-02-20 12:12:51,248 - Lbl2Vec - INFO - Get document embeddings from model\n",
      "2023-02-20 12:12:51,248 - Lbl2Vec - INFO - Get document embeddings from model\n",
      "2023-02-20 12:12:51,248 - Lbl2Vec - INFO - Get document embeddings from model\n",
      "2023-02-20 12:12:51,248 - Lbl2Vec - INFO - Get document embeddings from model\n",
      "2023-02-20 12:12:51,248 - Lbl2Vec - INFO - Get document embeddings from model\n",
      "2023-02-20 12:12:51,248 - Lbl2Vec - INFO - Get document embeddings from model\n",
      "2023-02-20 12:12:51,248 - Lbl2Vec - INFO - Get document embeddings from model\n",
      "2023-02-20 12:12:51,251 - Lbl2Vec - INFO - Calculate document<->label similarities\n",
      "2023-02-20 12:12:51,251 - Lbl2Vec - INFO - Calculate document<->label similarities\n",
      "2023-02-20 12:12:51,251 - Lbl2Vec - INFO - Calculate document<->label similarities\n",
      "2023-02-20 12:12:51,251 - Lbl2Vec - INFO - Calculate document<->label similarities\n",
      "2023-02-20 12:12:51,251 - Lbl2Vec - INFO - Calculate document<->label similarities\n",
      "2023-02-20 12:12:51,251 - Lbl2Vec - INFO - Calculate document<->label similarities\n",
      "2023-02-20 12:12:51,251 - Lbl2Vec - INFO - Calculate document<->label similarities\n",
      "2023-02-20 12:12:51,251 - Lbl2Vec - INFO - Calculate document<->label similarities\n",
      "2023-02-20 12:12:51,251 - Lbl2Vec - INFO - Calculate document<->label similarities\n"
     ]
    },
    {
     "name": "stdout",
     "output_type": "stream",
     "text": [
      "Index(['doc_key', 'most_similar_label', 'highest_similarity_score', 'factuur',\n",
      "       'aanmaning'],\n",
      "      dtype='object')\n",
      "F1 score: 0.66190833959429\n",
      "Accuracy score: 0.6558509303128236\n",
      "[[150  82]\n",
      " [368 731]]\n"
     ]
    }
   ],
   "source": [
    "model_docs_lbl_similarities = Lbl2VecModel.predict_model_docs()\n",
    "print(model_docs_lbl_similarities.columns)\n",
    "evaluationTrain = model_docs_lbl_similarities.merge(fullCorpus[fullCorpus['type'] == 'train'], left_on='doc_key', right_on='documentKey')\n",
    "yTrueTrain = evaluationTrain['name']\n",
    "yPredTrain = evaluationTrain['most_similar_label']\n",
    "\n",
    "print('F1 score:',f1_score(yTrueTrain, yPredTrain, average='micro'))\n",
    "print('Accuracy score:',balanced_accuracy_score(yTrueTrain,yPredTrain))\n",
    "#print('Precision score:',precision_score(yTrueTrain,yPredTrain))\n",
    "print(confusion_matrix(yTrueTrain, yPredTrain))"
   ]
  },
  {
   "cell_type": "markdown",
   "id": "e5c20190",
   "metadata": {},
   "source": [
    "### Evaluate performance on test set"
   ]
  },
  {
   "cell_type": "code",
   "execution_count": 58,
   "id": "6123e690",
   "metadata": {
    "scrolled": true
   },
   "outputs": [
    {
     "name": "stderr",
     "output_type": "stream",
     "text": [
      "2023-02-20 12:12:52,159 - Lbl2Vec - INFO - Calculate document embeddings\n",
      "2023-02-20 12:12:52,159 - Lbl2Vec - INFO - Calculate document embeddings\n",
      "2023-02-20 12:12:52,159 - Lbl2Vec - INFO - Calculate document embeddings\n",
      "2023-02-20 12:12:52,159 - Lbl2Vec - INFO - Calculate document embeddings\n",
      "2023-02-20 12:12:52,159 - Lbl2Vec - INFO - Calculate document embeddings\n",
      "2023-02-20 12:12:52,159 - Lbl2Vec - INFO - Calculate document embeddings\n",
      "2023-02-20 12:12:52,159 - Lbl2Vec - INFO - Calculate document embeddings\n",
      "2023-02-20 12:12:52,159 - Lbl2Vec - INFO - Calculate document embeddings\n",
      "2023-02-20 12:12:52,159 - Lbl2Vec - INFO - Calculate document embeddings\n",
      "2023-02-20 12:12:52,285 - Lbl2Vec - INFO - Calculate document<->label similarities\n",
      "2023-02-20 12:12:52,285 - Lbl2Vec - INFO - Calculate document<->label similarities\n",
      "2023-02-20 12:12:52,285 - Lbl2Vec - INFO - Calculate document<->label similarities\n",
      "2023-02-20 12:12:52,285 - Lbl2Vec - INFO - Calculate document<->label similarities\n",
      "2023-02-20 12:12:52,285 - Lbl2Vec - INFO - Calculate document<->label similarities\n",
      "2023-02-20 12:12:52,285 - Lbl2Vec - INFO - Calculate document<->label similarities\n",
      "2023-02-20 12:12:52,285 - Lbl2Vec - INFO - Calculate document<->label similarities\n",
      "2023-02-20 12:12:52,285 - Lbl2Vec - INFO - Calculate document<->label similarities\n",
      "2023-02-20 12:12:52,285 - Lbl2Vec - INFO - Calculate document<->label similarities\n"
     ]
    },
    {
     "name": "stdout",
     "output_type": "stream",
     "text": [
      "Index(['doc_key', 'most_similar_label', 'highest_similarity_score', 'factuur',\n",
      "       'aanmaning', 'Unnamed: 0', 'names', 'contents', 'classIndex', 'type',\n",
      "       'tagged', 'documentKey', 'name', 'keywords'],\n",
      "      dtype='object')\n",
      "F1 score: 0.5945945945945946\n",
      "Accuracy score: 0.6330390920554855\n",
      "[[18  8]\n",
      " [52 70]]\n"
     ]
    }
   ],
   "source": [
    "new_docs_lbl_similarities = Lbl2VecModel.predict_new_docs(tagged_docs=fullCorpus['tagged'][fullCorpus['type']=='test'])\n",
    "\n",
    "# merge DataFrames to compare the predicted and true class labels\n",
    "evaluationTest = new_docs_lbl_similarities.merge(fullCorpus[fullCorpus['type']=='test'], left_on='doc_key', right_on='documentKey')\n",
    "print(evaluationTest.columns)\n",
    "yTrueTest = evaluationTest['name']\n",
    "yPredTest = evaluationTest['most_similar_label']\n",
    "\n",
    "print('F1 score:',f1_score(yTrueTest, yPredTest, average='micro'))\n",
    "print('Accuracy score:',balanced_accuracy_score(yTrueTest,yPredTest))\n",
    "#print('Precision score:',precision_score(yTrueTest,yPredTest))\n",
    "print(confusion_matrix(yTrueTest, yPredTest))"
   ]
  },
  {
   "cell_type": "markdown",
   "id": "a17cc182",
   "metadata": {},
   "source": [
    "# Conclusion: \n",
    "Model can classify incoming emails with low to ok accuracy and has no dedicated class/keywords for an 'other' class.\n",
    "Biggest problem is dataset size, too small."
   ]
  },
  {
   "cell_type": "markdown",
   "id": "d393a70a",
   "metadata": {},
   "source": [
    "#### Sources:\n",
    "- https://towardsdatascience.com/unsupervised-text-classification-with-lbl2vec-6c5e040354de"
   ]
  }
 ],
 "metadata": {
  "kernelspec": {
   "display_name": "Python 3 (ipykernel)",
   "language": "python",
   "name": "python3"
  },
  "language_info": {
   "codemirror_mode": {
    "name": "ipython",
    "version": 3
   },
   "file_extension": ".py",
   "mimetype": "text/x-python",
   "name": "python",
   "nbconvert_exporter": "python",
   "pygments_lexer": "ipython3",
   "version": "3.10.9"
  }
 },
 "nbformat": 4,
 "nbformat_minor": 5
}
