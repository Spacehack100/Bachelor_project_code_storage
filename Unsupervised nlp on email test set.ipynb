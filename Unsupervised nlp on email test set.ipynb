{
 "cells": [
  {
   "cell_type": "code",
   "execution_count": 1,
   "id": "65a7385e",
   "metadata": {},
   "outputs": [
    {
     "data": {
      "application/vnd.jupyter.widget-view+json": {
       "model_id": "eed26e86d4214c079cc38c729ab9977d",
       "version_major": 2,
       "version_minor": 0
      },
      "text/plain": [
       "Downloading (…)e9125/.gitattributes:   0%|          | 0.00/1.18k [00:00<?, ?B/s]"
      ]
     },
     "metadata": {},
     "output_type": "display_data"
    },
    {
     "data": {
      "application/vnd.jupyter.widget-view+json": {
       "model_id": "a972d81d97304ab0bc475158c3f9029a",
       "version_major": 2,
       "version_minor": 0
      },
      "text/plain": [
       "Downloading (…)_Pooling/config.json:   0%|          | 0.00/190 [00:00<?, ?B/s]"
      ]
     },
     "metadata": {},
     "output_type": "display_data"
    },
    {
     "data": {
      "application/vnd.jupyter.widget-view+json": {
       "model_id": "2a3ed008a30c40a3b80c275ab47074ea",
       "version_major": 2,
       "version_minor": 0
      },
      "text/plain": [
       "Downloading (…)7e55de9125/README.md:   0%|          | 0.00/10.6k [00:00<?, ?B/s]"
      ]
     },
     "metadata": {},
     "output_type": "display_data"
    },
    {
     "data": {
      "application/vnd.jupyter.widget-view+json": {
       "model_id": "22007b6a07c0457190f62cb41f38fd27",
       "version_major": 2,
       "version_minor": 0
      },
      "text/plain": [
       "Downloading (…)55de9125/config.json:   0%|          | 0.00/612 [00:00<?, ?B/s]"
      ]
     },
     "metadata": {},
     "output_type": "display_data"
    },
    {
     "data": {
      "application/vnd.jupyter.widget-view+json": {
       "model_id": "b8603770b8c3403a8b9c59a9fe0f77e3",
       "version_major": 2,
       "version_minor": 0
      },
      "text/plain": [
       "Downloading (…)ce_transformers.json:   0%|          | 0.00/116 [00:00<?, ?B/s]"
      ]
     },
     "metadata": {},
     "output_type": "display_data"
    },
    {
     "data": {
      "application/vnd.jupyter.widget-view+json": {
       "model_id": "5ba3d3db7b4648779af994f972ade02a",
       "version_major": 2,
       "version_minor": 0
      },
      "text/plain": [
       "Downloading (…)125/data_config.json:   0%|          | 0.00/39.3k [00:00<?, ?B/s]"
      ]
     },
     "metadata": {},
     "output_type": "display_data"
    },
    {
     "data": {
      "application/vnd.jupyter.widget-view+json": {
       "model_id": "2b6c2072fc9d4870aa1014a65ad1d46a",
       "version_major": 2,
       "version_minor": 0
      },
      "text/plain": [
       "Downloading (…)\"pytorch_model.bin\";:   0%|          | 0.00/90.9M [00:00<?, ?B/s]"
      ]
     },
     "metadata": {},
     "output_type": "display_data"
    },
    {
     "data": {
      "application/vnd.jupyter.widget-view+json": {
       "model_id": "376aa01cb21c480d9be4ed4dbacc82b3",
       "version_major": 2,
       "version_minor": 0
      },
      "text/plain": [
       "Downloading (…)nce_bert_config.json:   0%|          | 0.00/53.0 [00:00<?, ?B/s]"
      ]
     },
     "metadata": {},
     "output_type": "display_data"
    },
    {
     "data": {
      "application/vnd.jupyter.widget-view+json": {
       "model_id": "b08652ca1a5c446eadeb05b1471363bf",
       "version_major": 2,
       "version_minor": 0
      },
      "text/plain": [
       "Downloading (…)cial_tokens_map.json:   0%|          | 0.00/112 [00:00<?, ?B/s]"
      ]
     },
     "metadata": {},
     "output_type": "display_data"
    },
    {
     "data": {
      "application/vnd.jupyter.widget-view+json": {
       "model_id": "64d3dac1ec8d418db5b3027f2dd2251e",
       "version_major": 2,
       "version_minor": 0
      },
      "text/plain": [
       "Downloading (…)e9125/tokenizer.json:   0%|          | 0.00/466k [00:00<?, ?B/s]"
      ]
     },
     "metadata": {},
     "output_type": "display_data"
    },
    {
     "data": {
      "application/vnd.jupyter.widget-view+json": {
       "model_id": "3bd3ca5089194f0aac5f3af6a4047cdd",
       "version_major": 2,
       "version_minor": 0
      },
      "text/plain": [
       "Downloading (…)okenizer_config.json:   0%|          | 0.00/350 [00:00<?, ?B/s]"
      ]
     },
     "metadata": {},
     "output_type": "display_data"
    },
    {
     "data": {
      "application/vnd.jupyter.widget-view+json": {
       "model_id": "f591cd7c73ca488e8754ecc21c5f5d73",
       "version_major": 2,
       "version_minor": 0
      },
      "text/plain": [
       "Downloading (…)9125/train_script.py:   0%|          | 0.00/13.2k [00:00<?, ?B/s]"
      ]
     },
     "metadata": {},
     "output_type": "display_data"
    },
    {
     "data": {
      "application/vnd.jupyter.widget-view+json": {
       "model_id": "530091aa132347c69dc2e7fde75e698e",
       "version_major": 2,
       "version_minor": 0
      },
      "text/plain": [
       "Downloading (…)7e55de9125/vocab.txt:   0%|          | 0.00/232k [00:00<?, ?B/s]"
      ]
     },
     "metadata": {},
     "output_type": "display_data"
    },
    {
     "data": {
      "application/vnd.jupyter.widget-view+json": {
       "model_id": "0a978fa2e7e44e2d9c17e2a2bba0df8a",
       "version_major": 2,
       "version_minor": 0
      },
      "text/plain": [
       "Downloading (…)5de9125/modules.json:   0%|          | 0.00/349 [00:00<?, ?B/s]"
      ]
     },
     "metadata": {},
     "output_type": "display_data"
    }
   ],
   "source": [
    "import pandas as pd\n",
    "import os\n",
    "from sklearn.model_selection import train_test_split\n",
    "from gensim.utils import simple_preprocess\n",
    "from gensim.parsing.preprocessing import strip_tags\n",
    "from gensim.models.doc2vec import TaggedDocument\n",
    "from lbl2vec import Lbl2Vec\n",
    "from sklearn.metrics import f1_score"
   ]
  },
  {
   "cell_type": "code",
   "execution_count": 8,
   "id": "9337f4bb",
   "metadata": {},
   "outputs": [],
   "source": [
    "labels = pd.DataFrame({'name' : ['facturen','aanmaningen'], 'classIndex' : [1,2], 'keywords' : [['rekening','afrekening','factuur'],['aanmaning','herinnering']]})"
   ]
  },
  {
   "cell_type": "code",
   "execution_count": 9,
   "id": "301edd5c",
   "metadata": {},
   "outputs": [
    {
     "data": {
      "text/html": [
       "<div>\n",
       "<style scoped>\n",
       "    .dataframe tbody tr th:only-of-type {\n",
       "        vertical-align: middle;\n",
       "    }\n",
       "\n",
       "    .dataframe tbody tr th {\n",
       "        vertical-align: top;\n",
       "    }\n",
       "\n",
       "    .dataframe thead th {\n",
       "        text-align: right;\n",
       "    }\n",
       "</style>\n",
       "<table border=\"1\" class=\"dataframe\">\n",
       "  <thead>\n",
       "    <tr style=\"text-align: right;\">\n",
       "      <th></th>\n",
       "      <th>Unnamed: 0</th>\n",
       "      <th>names</th>\n",
       "      <th>contents</th>\n",
       "      <th>classIndex</th>\n",
       "      <th>type</th>\n",
       "      <th>tagged</th>\n",
       "      <th>documentKey</th>\n",
       "      <th>name</th>\n",
       "      <th>keywords</th>\n",
       "    </tr>\n",
       "  </thead>\n",
       "  <tbody>\n",
       "    <tr>\n",
       "      <th>0</th>\n",
       "      <td>1184</td>\n",
       "      <td>a30c3018-73a2-48c8-ad4f-f120aa8c6efb-facturen</td>\n",
       "      <td>Message from Basware Invoice from InetumRealdo...</td>\n",
       "      <td>1</td>\n",
       "      <td>train</td>\n",
       "      <td>([message, from, basware, invoice, from, sent,...</td>\n",
       "      <td>0</td>\n",
       "      <td>facturen</td>\n",
       "      <td>[rekening, afrekening, factuur]</td>\n",
       "    </tr>\n",
       "    <tr>\n",
       "      <th>1</th>\n",
       "      <td>1707</td>\n",
       "      <td>ed963fe9-374e-4eb8-9e7e-30538bf54e11-facturen</td>\n",
       "      <td>Dag Mireille, Onderstaande betaling zou moeten...</td>\n",
       "      <td>1</td>\n",
       "      <td>train</td>\n",
       "      <td>([dag, mireille, onderstaande, betaling, zou, ...</td>\n",
       "      <td>1</td>\n",
       "      <td>facturen</td>\n",
       "      <td>[rekening, afrekening, factuur]</td>\n",
       "    </tr>\n",
       "    <tr>\n",
       "      <th>2</th>\n",
       "      <td>527</td>\n",
       "      <td>48a461f3-f183-4874-babe-3cc0867af2b3-facturen</td>\n",
       "      <td>Hi , Please find enclosed invoices Thanks  Reg...</td>\n",
       "      <td>1</td>\n",
       "      <td>train</td>\n",
       "      <td>([hi, please, find, enclosed, invoices, thanks...</td>\n",
       "      <td>2</td>\n",
       "      <td>facturen</td>\n",
       "      <td>[rekening, afrekening, factuur]</td>\n",
       "    </tr>\n",
       "    <tr>\n",
       "      <th>3</th>\n",
       "      <td>1388</td>\n",
       "      <td>c24d3657-b5df-4df9-965f-71c6b3b74e34-facturen</td>\n",
       "      <td>!if !vml!endifUw factuurGeachte, Beste,In bijl...</td>\n",
       "      <td>1</td>\n",
       "      <td>train</td>\n",
       "      <td>([if, vml, endifuw, factuurgeachte, beste, in,...</td>\n",
       "      <td>3</td>\n",
       "      <td>facturen</td>\n",
       "      <td>[rekening, afrekening, factuur]</td>\n",
       "    </tr>\n",
       "    <tr>\n",
       "      <th>4</th>\n",
       "      <td>27</td>\n",
       "      <td>02a31090-cecb-4835-a601-7a07507194f9-facturen</td>\n",
       "      <td>Deze factuur graag nog even on hold zetten. Zo...</td>\n",
       "      <td>1</td>\n",
       "      <td>train</td>\n",
       "      <td>([deze, factuur, graag, nog, even, on, hold, z...</td>\n",
       "      <td>4</td>\n",
       "      <td>facturen</td>\n",
       "      <td>[rekening, afrekening, factuur]</td>\n",
       "    </tr>\n",
       "  </tbody>\n",
       "</table>\n",
       "</div>"
      ],
      "text/plain": [
       "   Unnamed: 0                                          names  \\\n",
       "0        1184  a30c3018-73a2-48c8-ad4f-f120aa8c6efb-facturen   \n",
       "1        1707  ed963fe9-374e-4eb8-9e7e-30538bf54e11-facturen   \n",
       "2         527  48a461f3-f183-4874-babe-3cc0867af2b3-facturen   \n",
       "3        1388  c24d3657-b5df-4df9-965f-71c6b3b74e34-facturen   \n",
       "4          27  02a31090-cecb-4835-a601-7a07507194f9-facturen   \n",
       "\n",
       "                                            contents  classIndex   type  \\\n",
       "0  Message from Basware Invoice from InetumRealdo...           1  train   \n",
       "1  Dag Mireille, Onderstaande betaling zou moeten...           1  train   \n",
       "2  Hi , Please find enclosed invoices Thanks  Reg...           1  train   \n",
       "3  !if !vml!endifUw factuurGeachte, Beste,In bijl...           1  train   \n",
       "4  Deze factuur graag nog even on hold zetten. Zo...           1  train   \n",
       "\n",
       "                                              tagged documentKey      name  \\\n",
       "0  ([message, from, basware, invoice, from, sent,...           0  facturen   \n",
       "1  ([dag, mireille, onderstaande, betaling, zou, ...           1  facturen   \n",
       "2  ([hi, please, find, enclosed, invoices, thanks...           2  facturen   \n",
       "3  ([if, vml, endifuw, factuurgeachte, beste, in,...           3  facturen   \n",
       "4  ([deze, factuur, graag, nog, even, on, hold, z...           4  facturen   \n",
       "\n",
       "                          keywords  \n",
       "0  [rekening, afrekening, factuur]  \n",
       "1  [rekening, afrekening, factuur]  \n",
       "2  [rekening, afrekening, factuur]  \n",
       "3  [rekening, afrekening, factuur]  \n",
       "4  [rekening, afrekening, factuur]  "
      ]
     },
     "execution_count": 9,
     "metadata": {},
     "output_type": "execute_result"
    }
   ],
   "source": [
    "fullDataset = pd.read_csv(os.getcwd() + \"\\\\test_extraction_emails.csv\")\n",
    "trainSet, testSet = train_test_split(fullDataset, test_size=0.2)\n",
    "\n",
    "trainSet['type'] = 'train'\n",
    "testSet['type'] = 'test'\n",
    "fullCorpus = pd.concat([trainSet, testSet]).reset_index(drop=True)\n",
    "fullCorpus = fullCorpus[fullCorpus['classIndex'].isin(list(labels['classIndex']))]\n",
    "\n",
    "def tokenize(doc):\n",
    "    return simple_preprocess(strip_tags(doc), deacc=True, min_len=2, max_len=15)\n",
    "fullCorpus = fullCorpus.dropna()\n",
    "fullCorpus['tagged'] = fullCorpus.apply(lambda row: TaggedDocument(tokenize(row['contents']), [str(row.name)]), axis=1)\n",
    "fullCorpus['documentKey'] = fullCorpus.index.astype(str)\n",
    "fullCorpus = fullCorpus.merge(labels, left_on='classIndex', right_on='classIndex', how='left')\n",
    "fullCorpus.head()"
   ]
  },
  {
   "cell_type": "code",
   "execution_count": 22,
   "id": "3b9a3501",
   "metadata": {
    "scrolled": false
   },
   "outputs": [
    {
     "name": "stderr",
     "output_type": "stream",
     "text": [
      "2023-02-15 17:00:35,182 - Lbl2Vec - INFO - Train document and word embeddings\n",
      "2023-02-15 17:00:35,182 - Lbl2Vec - INFO - Train document and word embeddings\n",
      "2023-02-15 17:00:35,182 - Lbl2Vec - INFO - Train document and word embeddings\n",
      "2023-02-15 17:00:35,182 - Lbl2Vec - INFO - Train document and word embeddings\n",
      "2023-02-15 17:00:35,182 - Lbl2Vec - INFO - Train document and word embeddings\n",
      "2023-02-15 17:00:37,960 - Lbl2Vec - INFO - Train label embeddings\n",
      "2023-02-15 17:00:37,960 - Lbl2Vec - INFO - Train label embeddings\n",
      "2023-02-15 17:00:37,960 - Lbl2Vec - INFO - Train label embeddings\n",
      "2023-02-15 17:00:37,960 - Lbl2Vec - INFO - Train label embeddings\n",
      "2023-02-15 17:00:37,960 - Lbl2Vec - INFO - Train label embeddings\n",
      "2023-02-15 17:00:37,962 - Lbl2Vec - WARNING - The following keywords from the 'keywords_list' are unknown to the Doc2Vec model and therefore not used to train the model: afrekening\n",
      "2023-02-15 17:00:37,962 - Lbl2Vec - WARNING - The following keywords from the 'keywords_list' are unknown to the Doc2Vec model and therefore not used to train the model: afrekening\n",
      "2023-02-15 17:00:37,962 - Lbl2Vec - WARNING - The following keywords from the 'keywords_list' are unknown to the Doc2Vec model and therefore not used to train the model: afrekening\n",
      "2023-02-15 17:00:37,962 - Lbl2Vec - WARNING - The following keywords from the 'keywords_list' are unknown to the Doc2Vec model and therefore not used to train the model: afrekening\n",
      "2023-02-15 17:00:37,962 - Lbl2Vec - WARNING - The following keywords from the 'keywords_list' are unknown to the Doc2Vec model and therefore not used to train the model: afrekening\n"
     ]
    }
   ],
   "source": [
    "Lbl2VecModel = Lbl2Vec(keywords_list=list(labels.keywords), tagged_documents=fullCorpus['tagged'][fullCorpus['type'] == 'train'], label_names=list(labels.name), min_count=2, similarity_threshold=0.43, min_num_docs=10, epochs=10)\n",
    "\n",
    "Lbl2VecModel.fit()"
   ]
  },
  {
   "cell_type": "code",
   "execution_count": 23,
   "id": "d9661529",
   "metadata": {},
   "outputs": [
    {
     "name": "stderr",
     "output_type": "stream",
     "text": [
      "2023-02-15 17:00:44,539 - Lbl2Vec - INFO - Get document embeddings from model\n",
      "2023-02-15 17:00:44,539 - Lbl2Vec - INFO - Get document embeddings from model\n",
      "2023-02-15 17:00:44,539 - Lbl2Vec - INFO - Get document embeddings from model\n",
      "2023-02-15 17:00:44,539 - Lbl2Vec - INFO - Get document embeddings from model\n",
      "2023-02-15 17:00:44,539 - Lbl2Vec - INFO - Get document embeddings from model\n",
      "2023-02-15 17:00:44,543 - Lbl2Vec - INFO - Calculate document<->label similarities\n",
      "2023-02-15 17:00:44,543 - Lbl2Vec - INFO - Calculate document<->label similarities\n",
      "2023-02-15 17:00:44,543 - Lbl2Vec - INFO - Calculate document<->label similarities\n",
      "2023-02-15 17:00:44,543 - Lbl2Vec - INFO - Calculate document<->label similarities\n",
      "2023-02-15 17:00:44,543 - Lbl2Vec - INFO - Calculate document<->label similarities\n"
     ]
    },
    {
     "name": "stdout",
     "output_type": "stream",
     "text": [
      "Index(['doc_key', 'most_similar_label', 'highest_similarity_score', 'facturen',\n",
      "       'aanmaningen'],\n",
      "      dtype='object')\n",
      "F1 score: 0.39057239057239057\n"
     ]
    }
   ],
   "source": [
    "model_docs_lbl_similarities = Lbl2VecModel.predict_model_docs()\n",
    "print(model_docs_lbl_similarities.columns)\n",
    "evaluationTrain = model_docs_lbl_similarities.merge(fullCorpus[fullCorpus['type'] == 'train'], left_on='doc_key', right_on='documentKey')\n",
    "yTrueTrain = evaluationTrain['name']\n",
    "yPredTrain = evaluationTrain['most_similar_label']\n",
    "\n",
    "print('F1 score:',f1_score(yTrueTrain, yPredTrain, average='micro'))"
   ]
  },
  {
   "cell_type": "code",
   "execution_count": 24,
   "id": "6123e690",
   "metadata": {},
   "outputs": [
    {
     "name": "stderr",
     "output_type": "stream",
     "text": [
      "2023-02-15 17:00:48,825 - Lbl2Vec - INFO - Calculate document embeddings\n",
      "2023-02-15 17:00:48,825 - Lbl2Vec - INFO - Calculate document embeddings\n",
      "2023-02-15 17:00:48,825 - Lbl2Vec - INFO - Calculate document embeddings\n",
      "2023-02-15 17:00:48,825 - Lbl2Vec - INFO - Calculate document embeddings\n",
      "2023-02-15 17:00:48,825 - Lbl2Vec - INFO - Calculate document embeddings\n",
      "2023-02-15 17:00:49,050 - Lbl2Vec - INFO - Calculate document<->label similarities\n",
      "2023-02-15 17:00:49,050 - Lbl2Vec - INFO - Calculate document<->label similarities\n",
      "2023-02-15 17:00:49,050 - Lbl2Vec - INFO - Calculate document<->label similarities\n",
      "2023-02-15 17:00:49,050 - Lbl2Vec - INFO - Calculate document<->label similarities\n",
      "2023-02-15 17:00:49,050 - Lbl2Vec - INFO - Calculate document<->label similarities\n"
     ]
    },
    {
     "name": "stdout",
     "output_type": "stream",
     "text": [
      "F1 score: 0.40816326530612246\n"
     ]
    }
   ],
   "source": [
    "new_docs_lbl_similarities = Lbl2VecModel.predict_new_docs(tagged_docs=fullCorpus['tagged'][fullCorpus['type']=='test'])\n",
    "\n",
    "# merge DataFrames to compare the predicted and true topic labels\n",
    "evaluationTest = new_docs_lbl_similarities.merge(fullCorpus[fullCorpus['type']=='test'], left_on='doc_key', right_on='documentKey')\n",
    "yTrueTest = evaluationTest['name']\n",
    "yPredTest = evaluationTest['most_similar_label']\n",
    "\n",
    "print('F1 score:',f1_score(yTrueTest, yPredTest, average='micro'))"
   ]
  },
  {
   "cell_type": "markdown",
   "id": "d393a70a",
   "metadata": {},
   "source": [
    "#### Sources:\n",
    "- https://towardsdatascience.com/unsupervised-text-classification-with-lbl2vec-6c5e040354de"
   ]
  }
 ],
 "metadata": {
  "kernelspec": {
   "display_name": "Python 3 (ipykernel)",
   "language": "python",
   "name": "python3"
  },
  "language_info": {
   "codemirror_mode": {
    "name": "ipython",
    "version": 3
   },
   "file_extension": ".py",
   "mimetype": "text/x-python",
   "name": "python",
   "nbconvert_exporter": "python",
   "pygments_lexer": "ipython3",
   "version": "3.9.12"
  }
 },
 "nbformat": 4,
 "nbformat_minor": 5
}
