{
 "cells": [
  {
   "cell_type": "markdown",
   "id": "f465bad9",
   "metadata": {},
   "source": [
    "# Import necassary libraries"
   ]
  },
  {
   "cell_type": "code",
   "execution_count": 1,
   "id": "c1db268b",
   "metadata": {},
   "outputs": [],
   "source": [
    "import numpy as np\n",
    "import pandas as pd\n",
    "import os\n",
    "import torch\n",
    "import wandb\n",
    "import ast\n",
    "import re\n",
    "from sklearn.model_selection import train_test_split\n",
    "from simpletransformers.classification import ClassificationModel\n",
    "from sklearn.metrics import f1_score, accuracy_score, confusion_matrix\n",
    "torch.cuda.is_available()\n",
    "pd.set_option('display.max_rows', None)\n",
    "pd.set_option('display.max_colwidth', None)"
   ]
  },
  {
   "cell_type": "markdown",
   "id": "ff4bd303",
   "metadata": {},
   "source": [
    "# Retrieve dataset and prepare it for the model"
   ]
  },
  {
   "cell_type": "code",
   "execution_count": 2,
   "id": "faac399f",
   "metadata": {},
   "outputs": [
    {
     "name": "stdout",
     "output_type": "stream",
     "text": [
      "Index(['Unnamed: 0', 'names', 'contents', 'classIndex'], dtype='object')\n",
      "Index(['contents', 'classIndex'], dtype='object')\n",
      "[0 1 2]\n"
     ]
    },
    {
     "data": {
      "image/png": "[encoded data removed]",
      "text/plain": [
       "<Figure size 640x480 with 1 Axes>"
      ]
     },
     "metadata": {},
     "output_type": "display_data"
    }
   ],
   "source": [
    "classesList = ['andere','factuur','aanmaning']\n",
    "\n",
    "Dataset = pd.read_csv(os.getcwd() + \"\\\\test_extraction_emails.csv\")\n",
    "Dataset['classIndex'].hist(bins=3)\n",
    "print(Dataset.columns)\n",
    "Dataset = Dataset.drop(['Unnamed: 0','names'],axis=1)\n",
    "print(Dataset.columns)\n",
    "\n",
    "def reducedDataset(dataset):\n",
    "    dataset = dataset.drop(dataset[dataset['classIndex'] == 0].index,axis=0)\n",
    "    dataset.loc[dataset['classIndex'] == 1, 'classIndex'] = 0\n",
    "    dataset.loc[dataset['classIndex'] == 2, 'classIndex'] = 1\n",
    "    return dataset\n",
    "\n",
    "#Dataset = reducedDataset(Dataset)\n",
    "\n",
    "print(Dataset['classIndex'].unique())"
   ]
  },
  {
   "cell_type": "markdown",
   "id": "d6a73dfc",
   "metadata": {},
   "source": [
    "### Split dataset into train/val/test set"
   ]
  },
  {
   "cell_type": "code",
   "execution_count": 3,
   "id": "93eeaf56",
   "metadata": {},
   "outputs": [],
   "source": [
    "trainSet, evalSet = train_test_split(Dataset, test_size=0.25, stratify=Dataset['classIndex'], random_state=42)\n",
    "valSet, testSet = train_test_split(evalSet, test_size=0.4, stratify=evalSet['classIndex'], random_state=42)"
   ]
  },
  {
   "cell_type": "markdown",
   "id": "1e7f18f0",
   "metadata": {},
   "source": [
    "### Define helper functions and variables"
   ]
  },
  {
   "cell_type": "code",
   "execution_count": 4,
   "id": "b940dd0f",
   "metadata": {},
   "outputs": [],
   "source": [
    "#check if CUDA capable gpu is available\n",
    "cudaAvailable = torch.cuda.is_available()\n",
    "\n",
    "def calculate_class_weights(trainingDataset):\n",
    "    weightList = []\n",
    "    numberOfLabels = len(trainingDataset['classIndex'].unique())\n",
    "    for i in range(0,numberOfLabels):\n",
    "        weight = len(trainingDataset.index) / (numberOfLabels * len(trainingDataset[trainingDataset['classIndex'] == i].index))\n",
    "        weightList.append(weight)\n",
    "    print(weightList)\n",
    "    return weightList"
   ]
  },
  {
   "cell_type": "markdown",
   "id": "34b89668",
   "metadata": {},
   "source": [
    "# Define model/sweep and start training"
   ]
  },
  {
   "cell_type": "code",
   "execution_count": 9,
   "id": "d5a5662e",
   "metadata": {
    "scrolled": true
   },
   "outputs": [
    {
     "name": "stdout",
     "output_type": "stream",
     "text": [
      "Create sweep with ID: ubozjgk2\n",
      "Sweep URL: https://wandb.ai/spacehack100/Test%20sweep/sweeps/ubozjgk2\n"
     ]
    },
    {
     "name": "stderr",
     "output_type": "stream",
     "text": [
      "\u001b[34m\u001b[1mwandb\u001b[0m: Agent Starting Run: 8yeu4moh with config:\n",
      "\u001b[34m\u001b[1mwandb\u001b[0m: \tlearning_rate: 4e-05\n",
      "\u001b[34m\u001b[1mwandb\u001b[0m: \tnum_train_epochs: 3\n",
      "\u001b[34m\u001b[1mwandb\u001b[0m: \ttrain_batch_size: 16\n"
     ]
    },
    {
     "data": {
      "text/html": [
       "wandb version 0.13.11 is available!  To upgrade, please run:\n",
       " $ pip install wandb --upgrade"
      ],
      "text/plain": [
       "<IPython.core.display.HTML object>"
      ]
     },
     "metadata": {},
     "output_type": "display_data"
    },
    {
     "data": {
      "text/html": [
       "Tracking run with wandb version 0.13.10"
      ],
      "text/plain": [
       "<IPython.core.display.HTML object>"
      ]
     },
     "metadata": {},
     "output_type": "display_data"
    },
    {
     "data": {
      "text/html": [
       "Run data is saved locally in <code>C:\\De Nayer 2022-2023\\Bachelorproef\\Jupyter notebook\\wandb\\run-20230308_153744-8yeu4moh</code>"
      ],
      "text/plain": [
       "<IPython.core.display.HTML object>"
      ]
     },
     "metadata": {},
     "output_type": "display_data"
    },
    {
     "data": {
      "text/html": [
       "Syncing run <strong><a href='https://wandb.ai/spacehack100/Test%20sweep/runs/8yeu4moh' target=\"_blank\">still-sweep-1</a></strong> to <a href='https://wandb.ai/spacehack100/Test%20sweep' target=\"_blank\">Weights & Biases</a> (<a href='https://wandb.me/run' target=\"_blank\">docs</a>)<br/>Sweep page: <a href='https://wandb.ai/spacehack100/Test%20sweep/sweeps/ubozjgk2' target=\"_blank\">https://wandb.ai/spacehack100/Test%20sweep/sweeps/ubozjgk2</a>"
      ],
      "text/plain": [
       "<IPython.core.display.HTML object>"
      ]
     },
     "metadata": {},
     "output_type": "display_data"
    },
    {
     "data": {
      "text/html": [
       " View project at <a href='https://wandb.ai/spacehack100/Test%20sweep' target=\"_blank\">https://wandb.ai/spacehack100/Test%20sweep</a>"
      ],
      "text/plain": [
       "<IPython.core.display.HTML object>"
      ]
     },
     "metadata": {},
     "output_type": "display_data"
    },
    {
     "data": {
      "text/html": [
       " View sweep at <a href='https://wandb.ai/spacehack100/Test%20sweep/sweeps/ubozjgk2' target=\"_blank\">https://wandb.ai/spacehack100/Test%20sweep/sweeps/ubozjgk2</a>"
      ],
      "text/plain": [
       "<IPython.core.display.HTML object>"
      ]
     },
     "metadata": {},
     "output_type": "display_data"
    },
    {
     "data": {
      "text/html": [
       " View run at <a href='https://wandb.ai/spacehack100/Test%20sweep/runs/8yeu4moh' target=\"_blank\">https://wandb.ai/spacehack100/Test%20sweep/runs/8yeu4moh</a>"
      ],
      "text/plain": [
       "<IPython.core.display.HTML object>"
      ]
     },
     "metadata": {},
     "output_type": "display_data"
    },
    {
     "name": "stdout",
     "output_type": "stream",
     "text": [
      "[0.6052393857271906, 2.875536480686695]\n"
     ]
    },
    {
     "name": "stderr",
     "output_type": "stream",
     "text": [
      "Some weights of the model checkpoint at GroNLP/bert-base-dutch-cased were not used when initializing BertForSequenceClassification: ['cls.predictions.decoder.weight', 'cls.predictions.decoder.bias', 'cls.predictions.transform.dense.weight', 'cls.predictions.transform.LayerNorm.bias', 'cls.predictions.transform.dense.bias', 'cls.predictions.transform.LayerNorm.weight', 'cls.predictions.bias']\n",
      "- This IS expected if you are initializing BertForSequenceClassification from the checkpoint of a model trained on another task or with another architecture (e.g. initializing a BertForSequenceClassification model from a BertForPreTraining model).\n",
      "- This IS NOT expected if you are initializing BertForSequenceClassification from the checkpoint of a model that you expect to be exactly identical (initializing a BertForSequenceClassification model from a BertForSequenceClassification model).\n",
      "Some weights of BertForSequenceClassification were not initialized from the model checkpoint at GroNLP/bert-base-dutch-cased and are newly initialized: ['classifier.weight', 'bert.pooler.dense.weight', 'classifier.bias', 'bert.pooler.dense.bias']\n",
      "You should probably TRAIN this model on a down-stream task to be able to use it for predictions and inference.\n",
      "C:\\Users\\jensk\\miniconda3\\envs\\gpu\\lib\\site-packages\\simpletransformers\\classification\\classification_model.py:612: UserWarning: Dataframe headers not specified. Falling back to using column 0 as text and column 1 as labels.\n",
      "  warnings.warn(\n"
     ]
    },
    {
     "data": {
      "application/vnd.jupyter.widget-view+json": {
       "model_id": "431514783b624b2692be0f3f0eac69bf",
       "version_major": 2,
       "version_minor": 0
      },
      "text/plain": [
       "  0%|          | 0/1340 [00:00<?, ?it/s]"
      ]
     },
     "metadata": {},
     "output_type": "display_data"
    },
    {
     "data": {
      "application/vnd.jupyter.widget-view+json": {
       "model_id": "62cde537155f4c5c9afb8e2235066018",
       "version_major": 2,
       "version_minor": 0
      },
      "text/plain": [
       "Epoch:   0%|          | 0/3 [00:00<?, ?it/s]"
      ]
     },
     "metadata": {},
     "output_type": "display_data"
    },
    {
     "data": {
      "application/vnd.jupyter.widget-view+json": {
       "model_id": "385c14a7248942b8bc98f5d4cca3de5d",
       "version_major": 2,
       "version_minor": 0
      },
      "text/plain": [
       "Running Epoch 0 of 3:   0%|          | 0/84 [00:00<?, ?it/s]"
      ]
     },
     "metadata": {},
     "output_type": "display_data"
    },
    {
     "data": {
      "application/vnd.jupyter.widget-view+json": {
       "model_id": "4d7eab52867d473689fb272b380fd0f0",
       "version_major": 2,
       "version_minor": 0
      },
      "text/plain": [
       "Running Epoch 1 of 3:   0%|          | 0/84 [00:00<?, ?it/s]"
      ]
     },
     "metadata": {},
     "output_type": "display_data"
    },
    {
     "data": {
      "application/vnd.jupyter.widget-view+json": {
       "model_id": "270b8f812fe64a0283dec86a2a9bfe5a",
       "version_major": 2,
       "version_minor": 0
      },
      "text/plain": [
       "Running Epoch 2 of 3:   0%|          | 0/84 [00:00<?, ?it/s]"
      ]
     },
     "metadata": {},
     "output_type": "display_data"
    },
    {
     "name": "stderr",
     "output_type": "stream",
     "text": [
      "C:\\Users\\jensk\\miniconda3\\envs\\gpu\\lib\\site-packages\\simpletransformers\\classification\\classification_model.py:1454: UserWarning: Dataframe headers not specified. Falling back to using column 0 as text and column 1 as labels.\n",
      "  warnings.warn(\n"
     ]
    },
    {
     "data": {
      "application/vnd.jupyter.widget-view+json": {
       "model_id": "5e1b581c7aa3400e9da7f3a21a1916b3",
       "version_major": 2,
       "version_minor": 0
      },
      "text/plain": [
       "  0%|          | 0/149 [00:00<?, ?it/s]"
      ]
     },
     "metadata": {},
     "output_type": "display_data"
    },
    {
     "data": {
      "application/vnd.jupyter.widget-view+json": {
       "model_id": "0ee28eb0863d46c38d6615f506239cb0",
       "version_major": 2,
       "version_minor": 0
      },
      "text/plain": [
       "Running Evaluation:   0%|          | 0/19 [00:00<?, ?it/s]"
      ]
     },
     "metadata": {},
     "output_type": "display_data"
    },
    {
     "data": {
      "text/html": [
       "Waiting for W&B process to finish... <strong style=\"color:green\">(success).</strong>"
      ],
      "text/plain": [
       "<IPython.core.display.HTML object>"
      ]
     },
     "metadata": {},
     "output_type": "display_data"
    },
    {
     "data": {
      "text/html": [
       "<style>\n",
       "    table.wandb td:nth-child(1) { padding: 0 10px; text-align: left ; width: auto;} td:nth-child(2) {text-align: left ; width: 100%}\n",
       "    .wandb-row { display: flex; flex-direction: row; flex-wrap: wrap; justify-content: flex-start; width: 100% }\n",
       "    .wandb-col { display: flex; flex-direction: column; flex-basis: 100%; flex: 1; padding: 10px; }\n",
       "    </style>\n",
       "<div class=\"wandb-row\"><div class=\"wandb-col\"><h3>Run history:</h3><br/><table class=\"wandb\"><tr><td>Training loss</td><td>▇█▁▄▁</td></tr><tr><td>f1</td><td>▁</td></tr><tr><td>global_step</td><td>▁▃▅▆█</td></tr><tr><td>lr</td><td>█▆▅▃▁</td></tr><tr><td>mcc</td><td>▁</td></tr></table><br/></div><div class=\"wandb-col\"><h3>Run summary:</h3><br/><table class=\"wandb\"><tr><td>Training loss</td><td>0.00884</td></tr><tr><td>f1</td><td>0.92617</td></tr><tr><td>global_step</td><td>250</td></tr><tr><td>lr</td><td>0.0</td></tr><tr><td>mcc</td><td>0.74001</td></tr></table><br/></div></div>"
      ],
      "text/plain": [
       "<IPython.core.display.HTML object>"
      ]
     },
     "metadata": {},
     "output_type": "display_data"
    },
    {
     "data": {
      "text/html": [
       " View run <strong style=\"color:#cdcd00\">still-sweep-1</strong> at: <a href='https://wandb.ai/spacehack100/Test%20sweep/runs/8yeu4moh' target=\"_blank\">https://wandb.ai/spacehack100/Test%20sweep/runs/8yeu4moh</a><br/>Synced 6 W&B file(s), 3 media file(s), 3 artifact file(s) and 0 other file(s)"
      ],
      "text/plain": [
       "<IPython.core.display.HTML object>"
      ]
     },
     "metadata": {},
     "output_type": "display_data"
    },
    {
     "data": {
      "text/html": [
       "Find logs at: <code>.\\wandb\\run-20230308_153744-8yeu4moh\\logs</code>"
      ],
      "text/plain": [
       "<IPython.core.display.HTML object>"
      ]
     },
     "metadata": {},
     "output_type": "display_data"
    },
    {
     "name": "stderr",
     "output_type": "stream",
     "text": [
      "\u001b[34m\u001b[1mwandb\u001b[0m: Agent Starting Run: xdr99ovr with config:\n",
      "\u001b[34m\u001b[1mwandb\u001b[0m: \tlearning_rate: 4e-05\n",
      "\u001b[34m\u001b[1mwandb\u001b[0m: \tnum_train_epochs: 3\n",
      "\u001b[34m\u001b[1mwandb\u001b[0m: \ttrain_batch_size: 32\n"
     ]
    },
    {
     "data": {
      "text/html": [
       "wandb version 0.13.11 is available!  To upgrade, please run:\n",
       " $ pip install wandb --upgrade"
      ],
      "text/plain": [
       "<IPython.core.display.HTML object>"
      ]
     },
     "metadata": {},
     "output_type": "display_data"
    },
    {
     "data": {
      "text/html": [
       "Tracking run with wandb version 0.13.10"
      ],
      "text/plain": [
       "<IPython.core.display.HTML object>"
      ]
     },
     "metadata": {},
     "output_type": "display_data"
    },
    {
     "data": {
      "text/html": [
       "Run data is saved locally in <code>C:\\De Nayer 2022-2023\\Bachelorproef\\Jupyter notebook\\wandb\\run-20230308_153901-xdr99ovr</code>"
      ],
      "text/plain": [
       "<IPython.core.display.HTML object>"
      ]
     },
     "metadata": {},
     "output_type": "display_data"
    },
    {
     "data": {
      "text/html": [
       "Syncing run <strong><a href='https://wandb.ai/spacehack100/Test%20sweep/runs/xdr99ovr' target=\"_blank\">earthy-sweep-2</a></strong> to <a href='https://wandb.ai/spacehack100/Test%20sweep' target=\"_blank\">Weights & Biases</a> (<a href='https://wandb.me/run' target=\"_blank\">docs</a>)<br/>Sweep page: <a href='https://wandb.ai/spacehack100/Test%20sweep/sweeps/ubozjgk2' target=\"_blank\">https://wandb.ai/spacehack100/Test%20sweep/sweeps/ubozjgk2</a>"
      ],
      "text/plain": [
       "<IPython.core.display.HTML object>"
      ]
     },
     "metadata": {},
     "output_type": "display_data"
    },
    {
     "data": {
      "text/html": [
       " View project at <a href='https://wandb.ai/spacehack100/Test%20sweep' target=\"_blank\">https://wandb.ai/spacehack100/Test%20sweep</a>"
      ],
      "text/plain": [
       "<IPython.core.display.HTML object>"
      ]
     },
     "metadata": {},
     "output_type": "display_data"
    },
    {
     "data": {
      "text/html": [
       " View sweep at <a href='https://wandb.ai/spacehack100/Test%20sweep/sweeps/ubozjgk2' target=\"_blank\">https://wandb.ai/spacehack100/Test%20sweep/sweeps/ubozjgk2</a>"
      ],
      "text/plain": [
       "<IPython.core.display.HTML object>"
      ]
     },
     "metadata": {},
     "output_type": "display_data"
    },
    {
     "data": {
      "text/html": [
       " View run at <a href='https://wandb.ai/spacehack100/Test%20sweep/runs/xdr99ovr' target=\"_blank\">https://wandb.ai/spacehack100/Test%20sweep/runs/xdr99ovr</a>"
      ],
      "text/plain": [
       "<IPython.core.display.HTML object>"
      ]
     },
     "metadata": {},
     "output_type": "display_data"
    },
    {
     "name": "stdout",
     "output_type": "stream",
     "text": [
      "[0.6052393857271906, 2.875536480686695]\n"
     ]
    },
    {
     "name": "stderr",
     "output_type": "stream",
     "text": [
      "Some weights of the model checkpoint at GroNLP/bert-base-dutch-cased were not used when initializing BertForSequenceClassification: ['cls.predictions.decoder.weight', 'cls.predictions.decoder.bias', 'cls.predictions.transform.dense.weight', 'cls.predictions.transform.LayerNorm.bias', 'cls.predictions.transform.dense.bias', 'cls.predictions.transform.LayerNorm.weight', 'cls.predictions.bias']\n",
      "- This IS expected if you are initializing BertForSequenceClassification from the checkpoint of a model trained on another task or with another architecture (e.g. initializing a BertForSequenceClassification model from a BertForPreTraining model).\n",
      "- This IS NOT expected if you are initializing BertForSequenceClassification from the checkpoint of a model that you expect to be exactly identical (initializing a BertForSequenceClassification model from a BertForSequenceClassification model).\n",
      "Some weights of BertForSequenceClassification were not initialized from the model checkpoint at GroNLP/bert-base-dutch-cased and are newly initialized: ['classifier.weight', 'bert.pooler.dense.weight', 'classifier.bias', 'bert.pooler.dense.bias']\n",
      "You should probably TRAIN this model on a down-stream task to be able to use it for predictions and inference.\n",
      "C:\\Users\\jensk\\miniconda3\\envs\\gpu\\lib\\site-packages\\simpletransformers\\classification\\classification_model.py:612: UserWarning: Dataframe headers not specified. Falling back to using column 0 as text and column 1 as labels.\n",
      "  warnings.warn(\n"
     ]
    },
    {
     "data": {
      "application/vnd.jupyter.widget-view+json": {
       "model_id": "946363ecae224a4590eb7ebb76616c11",
       "version_major": 2,
       "version_minor": 0
      },
      "text/plain": [
       "  0%|          | 0/1340 [00:00<?, ?it/s]"
      ]
     },
     "metadata": {},
     "output_type": "display_data"
    },
    {
     "data": {
      "application/vnd.jupyter.widget-view+json": {
       "model_id": "b04d811b44bf465aafc8b83e5eaa6d98",
       "version_major": 2,
       "version_minor": 0
      },
      "text/plain": [
       "Epoch:   0%|          | 0/3 [00:00<?, ?it/s]"
      ]
     },
     "metadata": {},
     "output_type": "display_data"
    },
    {
     "data": {
      "application/vnd.jupyter.widget-view+json": {
       "model_id": "248870c48b014b82bfad7d3ecf94ce5a",
       "version_major": 2,
       "version_minor": 0
      },
      "text/plain": [
       "Running Epoch 0 of 3:   0%|          | 0/42 [00:00<?, ?it/s]"
      ]
     },
     "metadata": {},
     "output_type": "display_data"
    },
    {
     "data": {
      "application/vnd.jupyter.widget-view+json": {
       "model_id": "102e0602c0194fbbb447f052ee6d0750",
       "version_major": 2,
       "version_minor": 0
      },
      "text/plain": [
       "Running Epoch 1 of 3:   0%|          | 0/42 [00:00<?, ?it/s]"
      ]
     },
     "metadata": {},
     "output_type": "display_data"
    },
    {
     "data": {
      "application/vnd.jupyter.widget-view+json": {
       "model_id": "da33436bd198442c9f510dfc5a0754ad",
       "version_major": 2,
       "version_minor": 0
      },
      "text/plain": [
       "Running Epoch 2 of 3:   0%|          | 0/42 [00:00<?, ?it/s]"
      ]
     },
     "metadata": {},
     "output_type": "display_data"
    },
    {
     "name": "stderr",
     "output_type": "stream",
     "text": [
      "C:\\Users\\jensk\\miniconda3\\envs\\gpu\\lib\\site-packages\\simpletransformers\\classification\\classification_model.py:1454: UserWarning: Dataframe headers not specified. Falling back to using column 0 as text and column 1 as labels.\n",
      "  warnings.warn(\n"
     ]
    },
    {
     "data": {
      "application/vnd.jupyter.widget-view+json": {
       "model_id": "b881d898c9c84a949314c8e5276ffa98",
       "version_major": 2,
       "version_minor": 0
      },
      "text/plain": [
       "  0%|          | 0/149 [00:00<?, ?it/s]"
      ]
     },
     "metadata": {},
     "output_type": "display_data"
    },
    {
     "data": {
      "application/vnd.jupyter.widget-view+json": {
       "model_id": "65d292fb70f448cf9d113e54abecc404",
       "version_major": 2,
       "version_minor": 0
      },
      "text/plain": [
       "Running Evaluation:   0%|          | 0/19 [00:00<?, ?it/s]"
      ]
     },
     "metadata": {},
     "output_type": "display_data"
    },
    {
     "data": {
      "text/html": [
       "Waiting for W&B process to finish... <strong style=\"color:green\">(success).</strong>"
      ],
      "text/plain": [
       "<IPython.core.display.HTML object>"
      ]
     },
     "metadata": {},
     "output_type": "display_data"
    },
    {
     "data": {
      "text/html": [
       "<style>\n",
       "    table.wandb td:nth-child(1) { padding: 0 10px; text-align: left ; width: auto;} td:nth-child(2) {text-align: left ; width: 100%}\n",
       "    .wandb-row { display: flex; flex-direction: row; flex-wrap: wrap; justify-content: flex-start; width: 100% }\n",
       "    .wandb-col { display: flex; flex-direction: column; flex-basis: 100%; flex: 1; padding: 10px; }\n",
       "    </style>\n",
       "<div class=\"wandb-row\"><div class=\"wandb-col\"><h3>Run history:</h3><br/><table class=\"wandb\"><tr><td>Training loss</td><td>█▁</td></tr><tr><td>f1</td><td>▁</td></tr><tr><td>global_step</td><td>▁█</td></tr><tr><td>lr</td><td>█▁</td></tr><tr><td>mcc</td><td>▁</td></tr></table><br/></div><div class=\"wandb-col\"><h3>Run summary:</h3><br/><table class=\"wandb\"><tr><td>Training loss</td><td>0.01037</td></tr><tr><td>f1</td><td>0.92617</td></tr><tr><td>global_step</td><td>100</td></tr><tr><td>lr</td><td>1e-05</td></tr><tr><td>mcc</td><td>0.75659</td></tr></table><br/></div></div>"
      ],
      "text/plain": [
       "<IPython.core.display.HTML object>"
      ]
     },
     "metadata": {},
     "output_type": "display_data"
    },
    {
     "data": {
      "text/html": [
       " View run <strong style=\"color:#cdcd00\">earthy-sweep-2</strong> at: <a href='https://wandb.ai/spacehack100/Test%20sweep/runs/xdr99ovr' target=\"_blank\">https://wandb.ai/spacehack100/Test%20sweep/runs/xdr99ovr</a><br/>Synced 6 W&B file(s), 3 media file(s), 3 artifact file(s) and 0 other file(s)"
      ],
      "text/plain": [
       "<IPython.core.display.HTML object>"
      ]
     },
     "metadata": {},
     "output_type": "display_data"
    },
    {
     "data": {
      "text/html": [
       "Find logs at: <code>.\\wandb\\run-20230308_153901-xdr99ovr\\logs</code>"
      ],
      "text/plain": [
       "<IPython.core.display.HTML object>"
      ]
     },
     "metadata": {},
     "output_type": "display_data"
    },
    {
     "name": "stderr",
     "output_type": "stream",
     "text": [
      "\u001b[34m\u001b[1mwandb\u001b[0m: Agent Starting Run: zc1k9gcb with config:\n",
      "\u001b[34m\u001b[1mwandb\u001b[0m: \tlearning_rate: 4e-05\n",
      "\u001b[34m\u001b[1mwandb\u001b[0m: \tnum_train_epochs: 4\n",
      "\u001b[34m\u001b[1mwandb\u001b[0m: \ttrain_batch_size: 16\n"
     ]
    },
    {
     "data": {
      "text/html": [
       "wandb version 0.13.11 is available!  To upgrade, please run:\n",
       " $ pip install wandb --upgrade"
      ],
      "text/plain": [
       "<IPython.core.display.HTML object>"
      ]
     },
     "metadata": {},
     "output_type": "display_data"
    },
    {
     "data": {
      "text/html": [
       "Tracking run with wandb version 0.13.10"
      ],
      "text/plain": [
       "<IPython.core.display.HTML object>"
      ]
     },
     "metadata": {},
     "output_type": "display_data"
    },
    {
     "data": {
      "text/html": [
       "Run data is saved locally in <code>C:\\De Nayer 2022-2023\\Bachelorproef\\Jupyter notebook\\wandb\\run-20230308_154008-zc1k9gcb</code>"
      ],
      "text/plain": [
       "<IPython.core.display.HTML object>"
      ]
     },
     "metadata": {},
     "output_type": "display_data"
    },
    {
     "data": {
      "text/html": [
       "Syncing run <strong><a href='https://wandb.ai/spacehack100/Test%20sweep/runs/zc1k9gcb' target=\"_blank\">treasured-sweep-3</a></strong> to <a href='https://wandb.ai/spacehack100/Test%20sweep' target=\"_blank\">Weights & Biases</a> (<a href='https://wandb.me/run' target=\"_blank\">docs</a>)<br/>Sweep page: <a href='https://wandb.ai/spacehack100/Test%20sweep/sweeps/ubozjgk2' target=\"_blank\">https://wandb.ai/spacehack100/Test%20sweep/sweeps/ubozjgk2</a>"
      ],
      "text/plain": [
       "<IPython.core.display.HTML object>"
      ]
     },
     "metadata": {},
     "output_type": "display_data"
    },
    {
     "data": {
      "text/html": [
       " View project at <a href='https://wandb.ai/spacehack100/Test%20sweep' target=\"_blank\">https://wandb.ai/spacehack100/Test%20sweep</a>"
      ],
      "text/plain": [
       "<IPython.core.display.HTML object>"
      ]
     },
     "metadata": {},
     "output_type": "display_data"
    },
    {
     "data": {
      "text/html": [
       " View sweep at <a href='https://wandb.ai/spacehack100/Test%20sweep/sweeps/ubozjgk2' target=\"_blank\">https://wandb.ai/spacehack100/Test%20sweep/sweeps/ubozjgk2</a>"
      ],
      "text/plain": [
       "<IPython.core.display.HTML object>"
      ]
     },
     "metadata": {},
     "output_type": "display_data"
    },
    {
     "data": {
      "text/html": [
       " View run at <a href='https://wandb.ai/spacehack100/Test%20sweep/runs/zc1k9gcb' target=\"_blank\">https://wandb.ai/spacehack100/Test%20sweep/runs/zc1k9gcb</a>"
      ],
      "text/plain": [
       "<IPython.core.display.HTML object>"
      ]
     },
     "metadata": {},
     "output_type": "display_data"
    },
    {
     "name": "stdout",
     "output_type": "stream",
     "text": [
      "[0.6052393857271906, 2.875536480686695]\n"
     ]
    },
    {
     "name": "stderr",
     "output_type": "stream",
     "text": [
      "Some weights of the model checkpoint at GroNLP/bert-base-dutch-cased were not used when initializing BertForSequenceClassification: ['cls.predictions.decoder.weight', 'cls.predictions.decoder.bias', 'cls.predictions.transform.dense.weight', 'cls.predictions.transform.LayerNorm.bias', 'cls.predictions.transform.dense.bias', 'cls.predictions.transform.LayerNorm.weight', 'cls.predictions.bias']\n",
      "- This IS expected if you are initializing BertForSequenceClassification from the checkpoint of a model trained on another task or with another architecture (e.g. initializing a BertForSequenceClassification model from a BertForPreTraining model).\n",
      "- This IS NOT expected if you are initializing BertForSequenceClassification from the checkpoint of a model that you expect to be exactly identical (initializing a BertForSequenceClassification model from a BertForSequenceClassification model).\n",
      "Some weights of BertForSequenceClassification were not initialized from the model checkpoint at GroNLP/bert-base-dutch-cased and are newly initialized: ['classifier.weight', 'bert.pooler.dense.weight', 'classifier.bias', 'bert.pooler.dense.bias']\n",
      "You should probably TRAIN this model on a down-stream task to be able to use it for predictions and inference.\n",
      "C:\\Users\\jensk\\miniconda3\\envs\\gpu\\lib\\site-packages\\simpletransformers\\classification\\classification_model.py:612: UserWarning: Dataframe headers not specified. Falling back to using column 0 as text and column 1 as labels.\n",
      "  warnings.warn(\n"
     ]
    },
    {
     "data": {
      "application/vnd.jupyter.widget-view+json": {
       "model_id": "afd55b24c2da4e32a745b910059aaa6c",
       "version_major": 2,
       "version_minor": 0
      },
      "text/plain": [
       "  0%|          | 0/1340 [00:00<?, ?it/s]"
      ]
     },
     "metadata": {},
     "output_type": "display_data"
    },
    {
     "data": {
      "application/vnd.jupyter.widget-view+json": {
       "model_id": "90d44a7d5e5849edbd0630863b4629cc",
       "version_major": 2,
       "version_minor": 0
      },
      "text/plain": [
       "Epoch:   0%|          | 0/4 [00:00<?, ?it/s]"
      ]
     },
     "metadata": {},
     "output_type": "display_data"
    },
    {
     "data": {
      "application/vnd.jupyter.widget-view+json": {
       "model_id": "d77de5da50684e06b8c8d1cb53977e03",
       "version_major": 2,
       "version_minor": 0
      },
      "text/plain": [
       "Running Epoch 0 of 4:   0%|          | 0/84 [00:00<?, ?it/s]"
      ]
     },
     "metadata": {},
     "output_type": "display_data"
    },
    {
     "data": {
      "application/vnd.jupyter.widget-view+json": {
       "model_id": "5935bd2002654ed69a2e24c682ee6646",
       "version_major": 2,
       "version_minor": 0
      },
      "text/plain": [
       "Running Epoch 1 of 4:   0%|          | 0/84 [00:00<?, ?it/s]"
      ]
     },
     "metadata": {},
     "output_type": "display_data"
    },
    {
     "data": {
      "application/vnd.jupyter.widget-view+json": {
       "model_id": "712ece54c70240c2a4963d045cad6da6",
       "version_major": 2,
       "version_minor": 0
      },
      "text/plain": [
       "Running Epoch 2 of 4:   0%|          | 0/84 [00:00<?, ?it/s]"
      ]
     },
     "metadata": {},
     "output_type": "display_data"
    },
    {
     "data": {
      "application/vnd.jupyter.widget-view+json": {
       "model_id": "843cf0f370014f1f9a22981912f39ac3",
       "version_major": 2,
       "version_minor": 0
      },
      "text/plain": [
       "Running Epoch 3 of 4:   0%|          | 0/84 [00:00<?, ?it/s]"
      ]
     },
     "metadata": {},
     "output_type": "display_data"
    },
    {
     "name": "stderr",
     "output_type": "stream",
     "text": [
      "C:\\Users\\jensk\\miniconda3\\envs\\gpu\\lib\\site-packages\\simpletransformers\\classification\\classification_model.py:1454: UserWarning: Dataframe headers not specified. Falling back to using column 0 as text and column 1 as labels.\n",
      "  warnings.warn(\n"
     ]
    },
    {
     "data": {
      "application/vnd.jupyter.widget-view+json": {
       "model_id": "c21d9fd420254f28a29ea7a7805db975",
       "version_major": 2,
       "version_minor": 0
      },
      "text/plain": [
       "  0%|          | 0/149 [00:00<?, ?it/s]"
      ]
     },
     "metadata": {},
     "output_type": "display_data"
    },
    {
     "data": {
      "application/vnd.jupyter.widget-view+json": {
       "model_id": "c7f183445421408190958716ee955ef4",
       "version_major": 2,
       "version_minor": 0
      },
      "text/plain": [
       "Running Evaluation:   0%|          | 0/19 [00:00<?, ?it/s]"
      ]
     },
     "metadata": {},
     "output_type": "display_data"
    },
    {
     "data": {
      "text/html": [
       "Waiting for W&B process to finish... <strong style=\"color:green\">(success).</strong>"
      ],
      "text/plain": [
       "<IPython.core.display.HTML object>"
      ]
     },
     "metadata": {},
     "output_type": "display_data"
    },
    {
     "data": {
      "text/html": [
       "<style>\n",
       "    table.wandb td:nth-child(1) { padding: 0 10px; text-align: left ; width: auto;} td:nth-child(2) {text-align: left ; width: 100%}\n",
       "    .wandb-row { display: flex; flex-direction: row; flex-wrap: wrap; justify-content: flex-start; width: 100% }\n",
       "    .wandb-col { display: flex; flex-direction: column; flex-basis: 100%; flex: 1; padding: 10px; }\n",
       "    </style>\n",
       "<div class=\"wandb-row\"><div class=\"wandb-col\"><h3>Run history:</h3><br/><table class=\"wandb\"><tr><td>Training loss</td><td>▅▂▃█▁▁</td></tr><tr><td>f1</td><td>▁</td></tr><tr><td>global_step</td><td>▁▂▄▅▇█</td></tr><tr><td>lr</td><td>█▇▅▄▂▁</td></tr><tr><td>mcc</td><td>▁</td></tr></table><br/></div><div class=\"wandb-col\"><h3>Run summary:</h3><br/><table class=\"wandb\"><tr><td>Training loss</td><td>0.00056</td></tr><tr><td>f1</td><td>0.9396</td></tr><tr><td>global_step</td><td>300</td></tr><tr><td>lr</td><td>0.0</td></tr><tr><td>mcc</td><td>0.78733</td></tr></table><br/></div></div>"
      ],
      "text/plain": [
       "<IPython.core.display.HTML object>"
      ]
     },
     "metadata": {},
     "output_type": "display_data"
    },
    {
     "data": {
      "text/html": [
       " View run <strong style=\"color:#cdcd00\">treasured-sweep-3</strong> at: <a href='https://wandb.ai/spacehack100/Test%20sweep/runs/zc1k9gcb' target=\"_blank\">https://wandb.ai/spacehack100/Test%20sweep/runs/zc1k9gcb</a><br/>Synced 6 W&B file(s), 3 media file(s), 3 artifact file(s) and 0 other file(s)"
      ],
      "text/plain": [
       "<IPython.core.display.HTML object>"
      ]
     },
     "metadata": {},
     "output_type": "display_data"
    },
    {
     "data": {
      "text/html": [
       "Find logs at: <code>.\\wandb\\run-20230308_154008-zc1k9gcb\\logs</code>"
      ],
      "text/plain": [
       "<IPython.core.display.HTML object>"
      ]
     },
     "metadata": {},
     "output_type": "display_data"
    },
    {
     "name": "stderr",
     "output_type": "stream",
     "text": [
      "\u001b[34m\u001b[1mwandb\u001b[0m: Sweep Agent: Waiting for job.\n",
      "\u001b[34m\u001b[1mwandb\u001b[0m: Job received.\n",
      "\u001b[34m\u001b[1mwandb\u001b[0m: Agent Starting Run: 5w98rgf9 with config:\n",
      "\u001b[34m\u001b[1mwandb\u001b[0m: \tlearning_rate: 4e-05\n",
      "\u001b[34m\u001b[1mwandb\u001b[0m: \tnum_train_epochs: 4\n",
      "\u001b[34m\u001b[1mwandb\u001b[0m: \ttrain_batch_size: 32\n"
     ]
    },
    {
     "data": {
      "text/html": [
       "wandb version 0.13.11 is available!  To upgrade, please run:\n",
       " $ pip install wandb --upgrade"
      ],
      "text/plain": [
       "<IPython.core.display.HTML object>"
      ]
     },
     "metadata": {},
     "output_type": "display_data"
    },
    {
     "data": {
      "text/html": [
       "Tracking run with wandb version 0.13.10"
      ],
      "text/plain": [
       "<IPython.core.display.HTML object>"
      ]
     },
     "metadata": {},
     "output_type": "display_data"
    },
    {
     "data": {
      "text/html": [
       "Run data is saved locally in <code>C:\\De Nayer 2022-2023\\Bachelorproef\\Jupyter notebook\\wandb\\run-20230308_154143-5w98rgf9</code>"
      ],
      "text/plain": [
       "<IPython.core.display.HTML object>"
      ]
     },
     "metadata": {},
     "output_type": "display_data"
    },
    {
     "data": {
      "text/html": [
       "Syncing run <strong><a href='https://wandb.ai/spacehack100/Test%20sweep/runs/5w98rgf9' target=\"_blank\">misunderstood-sweep-4</a></strong> to <a href='https://wandb.ai/spacehack100/Test%20sweep' target=\"_blank\">Weights & Biases</a> (<a href='https://wandb.me/run' target=\"_blank\">docs</a>)<br/>Sweep page: <a href='https://wandb.ai/spacehack100/Test%20sweep/sweeps/ubozjgk2' target=\"_blank\">https://wandb.ai/spacehack100/Test%20sweep/sweeps/ubozjgk2</a>"
      ],
      "text/plain": [
       "<IPython.core.display.HTML object>"
      ]
     },
     "metadata": {},
     "output_type": "display_data"
    },
    {
     "data": {
      "text/html": [
       " View project at <a href='https://wandb.ai/spacehack100/Test%20sweep' target=\"_blank\">https://wandb.ai/spacehack100/Test%20sweep</a>"
      ],
      "text/plain": [
       "<IPython.core.display.HTML object>"
      ]
     },
     "metadata": {},
     "output_type": "display_data"
    },
    {
     "data": {
      "text/html": [
       " View sweep at <a href='https://wandb.ai/spacehack100/Test%20sweep/sweeps/ubozjgk2' target=\"_blank\">https://wandb.ai/spacehack100/Test%20sweep/sweeps/ubozjgk2</a>"
      ],
      "text/plain": [
       "<IPython.core.display.HTML object>"
      ]
     },
     "metadata": {},
     "output_type": "display_data"
    },
    {
     "data": {
      "text/html": [
       " View run at <a href='https://wandb.ai/spacehack100/Test%20sweep/runs/5w98rgf9' target=\"_blank\">https://wandb.ai/spacehack100/Test%20sweep/runs/5w98rgf9</a>"
      ],
      "text/plain": [
       "<IPython.core.display.HTML object>"
      ]
     },
     "metadata": {},
     "output_type": "display_data"
    },
    {
     "name": "stdout",
     "output_type": "stream",
     "text": [
      "[0.6052393857271906, 2.875536480686695]\n"
     ]
    },
    {
     "name": "stderr",
     "output_type": "stream",
     "text": [
      "Some weights of the model checkpoint at GroNLP/bert-base-dutch-cased were not used when initializing BertForSequenceClassification: ['cls.predictions.decoder.weight', 'cls.predictions.decoder.bias', 'cls.predictions.transform.dense.weight', 'cls.predictions.transform.LayerNorm.bias', 'cls.predictions.transform.dense.bias', 'cls.predictions.transform.LayerNorm.weight', 'cls.predictions.bias']\n",
      "- This IS expected if you are initializing BertForSequenceClassification from the checkpoint of a model trained on another task or with another architecture (e.g. initializing a BertForSequenceClassification model from a BertForPreTraining model).\n",
      "- This IS NOT expected if you are initializing BertForSequenceClassification from the checkpoint of a model that you expect to be exactly identical (initializing a BertForSequenceClassification model from a BertForSequenceClassification model).\n",
      "Some weights of BertForSequenceClassification were not initialized from the model checkpoint at GroNLP/bert-base-dutch-cased and are newly initialized: ['classifier.weight', 'bert.pooler.dense.weight', 'classifier.bias', 'bert.pooler.dense.bias']\n",
      "You should probably TRAIN this model on a down-stream task to be able to use it for predictions and inference.\n",
      "C:\\Users\\jensk\\miniconda3\\envs\\gpu\\lib\\site-packages\\simpletransformers\\classification\\classification_model.py:612: UserWarning: Dataframe headers not specified. Falling back to using column 0 as text and column 1 as labels.\n",
      "  warnings.warn(\n"
     ]
    },
    {
     "data": {
      "application/vnd.jupyter.widget-view+json": {
       "model_id": "50077a35fbac4eddbc3bc40e08b16fb7",
       "version_major": 2,
       "version_minor": 0
      },
      "text/plain": [
       "  0%|          | 0/1340 [00:00<?, ?it/s]"
      ]
     },
     "metadata": {},
     "output_type": "display_data"
    },
    {
     "data": {
      "application/vnd.jupyter.widget-view+json": {
       "model_id": "12ea3548e9024110b92a0f8a9a5e5d9f",
       "version_major": 2,
       "version_minor": 0
      },
      "text/plain": [
       "Epoch:   0%|          | 0/4 [00:00<?, ?it/s]"
      ]
     },
     "metadata": {},
     "output_type": "display_data"
    },
    {
     "data": {
      "application/vnd.jupyter.widget-view+json": {
       "model_id": "410cd9fe802d4e898e2eed034f9b2744",
       "version_major": 2,
       "version_minor": 0
      },
      "text/plain": [
       "Running Epoch 0 of 4:   0%|          | 0/42 [00:00<?, ?it/s]"
      ]
     },
     "metadata": {},
     "output_type": "display_data"
    },
    {
     "data": {
      "application/vnd.jupyter.widget-view+json": {
       "model_id": "bec50fdf97554a368445a1c21c61d0b2",
       "version_major": 2,
       "version_minor": 0
      },
      "text/plain": [
       "Running Epoch 1 of 4:   0%|          | 0/42 [00:00<?, ?it/s]"
      ]
     },
     "metadata": {},
     "output_type": "display_data"
    },
    {
     "data": {
      "application/vnd.jupyter.widget-view+json": {
       "model_id": "4707d763bcdb4032ada70377344849a6",
       "version_major": 2,
       "version_minor": 0
      },
      "text/plain": [
       "Running Epoch 2 of 4:   0%|          | 0/42 [00:00<?, ?it/s]"
      ]
     },
     "metadata": {},
     "output_type": "display_data"
    },
    {
     "data": {
      "application/vnd.jupyter.widget-view+json": {
       "model_id": "480a5e1e879c4de5ac80ba0945f8f65f",
       "version_major": 2,
       "version_minor": 0
      },
      "text/plain": [
       "Running Epoch 3 of 4:   0%|          | 0/42 [00:00<?, ?it/s]"
      ]
     },
     "metadata": {},
     "output_type": "display_data"
    },
    {
     "name": "stderr",
     "output_type": "stream",
     "text": [
      "C:\\Users\\jensk\\miniconda3\\envs\\gpu\\lib\\site-packages\\simpletransformers\\classification\\classification_model.py:1454: UserWarning: Dataframe headers not specified. Falling back to using column 0 as text and column 1 as labels.\n",
      "  warnings.warn(\n"
     ]
    },
    {
     "data": {
      "application/vnd.jupyter.widget-view+json": {
       "model_id": "791d84e735a84d2b98267609d7660a84",
       "version_major": 2,
       "version_minor": 0
      },
      "text/plain": [
       "  0%|          | 0/149 [00:00<?, ?it/s]"
      ]
     },
     "metadata": {},
     "output_type": "display_data"
    },
    {
     "data": {
      "application/vnd.jupyter.widget-view+json": {
       "model_id": "a6c9c23ccb2f4bf185cd0dfeeadc7ab7",
       "version_major": 2,
       "version_minor": 0
      },
      "text/plain": [
       "Running Evaluation:   0%|          | 0/19 [00:00<?, ?it/s]"
      ]
     },
     "metadata": {},
     "output_type": "display_data"
    },
    {
     "data": {
      "text/html": [
       "Waiting for W&B process to finish... <strong style=\"color:green\">(success).</strong>"
      ],
      "text/plain": [
       "<IPython.core.display.HTML object>"
      ]
     },
     "metadata": {},
     "output_type": "display_data"
    },
    {
     "data": {
      "text/html": [
       "<style>\n",
       "    table.wandb td:nth-child(1) { padding: 0 10px; text-align: left ; width: auto;} td:nth-child(2) {text-align: left ; width: 100%}\n",
       "    .wandb-row { display: flex; flex-direction: row; flex-wrap: wrap; justify-content: flex-start; width: 100% }\n",
       "    .wandb-col { display: flex; flex-direction: column; flex-basis: 100%; flex: 1; padding: 10px; }\n",
       "    </style>\n",
       "<div class=\"wandb-row\"><div class=\"wandb-col\"><h3>Run history:</h3><br/><table class=\"wandb\"><tr><td>Training loss</td><td>█▄▁</td></tr><tr><td>f1</td><td>▁</td></tr><tr><td>global_step</td><td>▁▅█</td></tr><tr><td>lr</td><td>█▄▁</td></tr><tr><td>mcc</td><td>▁</td></tr></table><br/></div><div class=\"wandb-col\"><h3>Run summary:</h3><br/><table class=\"wandb\"><tr><td>Training loss</td><td>0.00239</td></tr><tr><td>f1</td><td>0.94631</td></tr><tr><td>global_step</td><td>150</td></tr><tr><td>lr</td><td>0.0</td></tr><tr><td>mcc</td><td>0.80557</td></tr></table><br/></div></div>"
      ],
      "text/plain": [
       "<IPython.core.display.HTML object>"
      ]
     },
     "metadata": {},
     "output_type": "display_data"
    },
    {
     "data": {
      "text/html": [
       " View run <strong style=\"color:#cdcd00\">misunderstood-sweep-4</strong> at: <a href='https://wandb.ai/spacehack100/Test%20sweep/runs/5w98rgf9' target=\"_blank\">https://wandb.ai/spacehack100/Test%20sweep/runs/5w98rgf9</a><br/>Synced 6 W&B file(s), 3 media file(s), 3 artifact file(s) and 0 other file(s)"
      ],
      "text/plain": [
       "<IPython.core.display.HTML object>"
      ]
     },
     "metadata": {},
     "output_type": "display_data"
    },
    {
     "data": {
      "text/html": [
       "Find logs at: <code>.\\wandb\\run-20230308_154143-5w98rgf9\\logs</code>"
      ],
      "text/plain": [
       "<IPython.core.display.HTML object>"
      ]
     },
     "metadata": {},
     "output_type": "display_data"
    },
    {
     "name": "stderr",
     "output_type": "stream",
     "text": [
      "\u001b[34m\u001b[1mwandb\u001b[0m: Agent Starting Run: e0csvlnq with config:\n",
      "\u001b[34m\u001b[1mwandb\u001b[0m: \tlearning_rate: 4e-05\n",
      "\u001b[34m\u001b[1mwandb\u001b[0m: \tnum_train_epochs: 5\n",
      "\u001b[34m\u001b[1mwandb\u001b[0m: \ttrain_batch_size: 16\n"
     ]
    },
    {
     "data": {
      "text/html": [
       "wandb version 0.13.11 is available!  To upgrade, please run:\n",
       " $ pip install wandb --upgrade"
      ],
      "text/plain": [
       "<IPython.core.display.HTML object>"
      ]
     },
     "metadata": {},
     "output_type": "display_data"
    },
    {
     "data": {
      "text/html": [
       "Tracking run with wandb version 0.13.10"
      ],
      "text/plain": [
       "<IPython.core.display.HTML object>"
      ]
     },
     "metadata": {},
     "output_type": "display_data"
    },
    {
     "data": {
      "text/html": [
       "Run data is saved locally in <code>C:\\De Nayer 2022-2023\\Bachelorproef\\Jupyter notebook\\wandb\\run-20230308_154302-e0csvlnq</code>"
      ],
      "text/plain": [
       "<IPython.core.display.HTML object>"
      ]
     },
     "metadata": {},
     "output_type": "display_data"
    },
    {
     "data": {
      "text/html": [
       "Syncing run <strong><a href='https://wandb.ai/spacehack100/Test%20sweep/runs/e0csvlnq' target=\"_blank\">dazzling-sweep-5</a></strong> to <a href='https://wandb.ai/spacehack100/Test%20sweep' target=\"_blank\">Weights & Biases</a> (<a href='https://wandb.me/run' target=\"_blank\">docs</a>)<br/>Sweep page: <a href='https://wandb.ai/spacehack100/Test%20sweep/sweeps/ubozjgk2' target=\"_blank\">https://wandb.ai/spacehack100/Test%20sweep/sweeps/ubozjgk2</a>"
      ],
      "text/plain": [
       "<IPython.core.display.HTML object>"
      ]
     },
     "metadata": {},
     "output_type": "display_data"
    },
    {
     "data": {
      "text/html": [
       " View project at <a href='https://wandb.ai/spacehack100/Test%20sweep' target=\"_blank\">https://wandb.ai/spacehack100/Test%20sweep</a>"
      ],
      "text/plain": [
       "<IPython.core.display.HTML object>"
      ]
     },
     "metadata": {},
     "output_type": "display_data"
    },
    {
     "data": {
      "text/html": [
       " View sweep at <a href='https://wandb.ai/spacehack100/Test%20sweep/sweeps/ubozjgk2' target=\"_blank\">https://wandb.ai/spacehack100/Test%20sweep/sweeps/ubozjgk2</a>"
      ],
      "text/plain": [
       "<IPython.core.display.HTML object>"
      ]
     },
     "metadata": {},
     "output_type": "display_data"
    },
    {
     "data": {
      "text/html": [
       " View run at <a href='https://wandb.ai/spacehack100/Test%20sweep/runs/e0csvlnq' target=\"_blank\">https://wandb.ai/spacehack100/Test%20sweep/runs/e0csvlnq</a>"
      ],
      "text/plain": [
       "<IPython.core.display.HTML object>"
      ]
     },
     "metadata": {},
     "output_type": "display_data"
    },
    {
     "name": "stdout",
     "output_type": "stream",
     "text": [
      "[0.6052393857271906, 2.875536480686695]\n"
     ]
    },
    {
     "name": "stderr",
     "output_type": "stream",
     "text": [
      "Some weights of the model checkpoint at GroNLP/bert-base-dutch-cased were not used when initializing BertForSequenceClassification: ['cls.predictions.decoder.weight', 'cls.predictions.decoder.bias', 'cls.predictions.transform.dense.weight', 'cls.predictions.transform.LayerNorm.bias', 'cls.predictions.transform.dense.bias', 'cls.predictions.transform.LayerNorm.weight', 'cls.predictions.bias']\n",
      "- This IS expected if you are initializing BertForSequenceClassification from the checkpoint of a model trained on another task or with another architecture (e.g. initializing a BertForSequenceClassification model from a BertForPreTraining model).\n",
      "- This IS NOT expected if you are initializing BertForSequenceClassification from the checkpoint of a model that you expect to be exactly identical (initializing a BertForSequenceClassification model from a BertForSequenceClassification model).\n",
      "Some weights of BertForSequenceClassification were not initialized from the model checkpoint at GroNLP/bert-base-dutch-cased and are newly initialized: ['classifier.weight', 'bert.pooler.dense.weight', 'classifier.bias', 'bert.pooler.dense.bias']\n",
      "You should probably TRAIN this model on a down-stream task to be able to use it for predictions and inference.\n",
      "C:\\Users\\jensk\\miniconda3\\envs\\gpu\\lib\\site-packages\\simpletransformers\\classification\\classification_model.py:612: UserWarning: Dataframe headers not specified. Falling back to using column 0 as text and column 1 as labels.\n",
      "  warnings.warn(\n"
     ]
    },
    {
     "data": {
      "application/vnd.jupyter.widget-view+json": {
       "model_id": "cba5ff1449934e71adfa7226cb92e99a",
       "version_major": 2,
       "version_minor": 0
      },
      "text/plain": [
       "  0%|          | 0/1340 [00:00<?, ?it/s]"
      ]
     },
     "metadata": {},
     "output_type": "display_data"
    },
    {
     "data": {
      "application/vnd.jupyter.widget-view+json": {
       "model_id": "50752672ae6547e599383806fa0e98b7",
       "version_major": 2,
       "version_minor": 0
      },
      "text/plain": [
       "Epoch:   0%|          | 0/5 [00:00<?, ?it/s]"
      ]
     },
     "metadata": {},
     "output_type": "display_data"
    },
    {
     "data": {
      "application/vnd.jupyter.widget-view+json": {
       "model_id": "a468d9ceadfa41838b28653b96571812",
       "version_major": 2,
       "version_minor": 0
      },
      "text/plain": [
       "Running Epoch 0 of 5:   0%|          | 0/84 [00:00<?, ?it/s]"
      ]
     },
     "metadata": {},
     "output_type": "display_data"
    },
    {
     "data": {
      "application/vnd.jupyter.widget-view+json": {
       "model_id": "a2aa803e9d394a28ada618c95518419d",
       "version_major": 2,
       "version_minor": 0
      },
      "text/plain": [
       "Running Epoch 1 of 5:   0%|          | 0/84 [00:00<?, ?it/s]"
      ]
     },
     "metadata": {},
     "output_type": "display_data"
    },
    {
     "data": {
      "application/vnd.jupyter.widget-view+json": {
       "model_id": "f5fdb60873524135b040e7a100d9593e",
       "version_major": 2,
       "version_minor": 0
      },
      "text/plain": [
       "Running Epoch 2 of 5:   0%|          | 0/84 [00:00<?, ?it/s]"
      ]
     },
     "metadata": {},
     "output_type": "display_data"
    },
    {
     "data": {
      "application/vnd.jupyter.widget-view+json": {
       "model_id": "4e20041b8e61410fbd0ee84d0fc5821f",
       "version_major": 2,
       "version_minor": 0
      },
      "text/plain": [
       "Running Epoch 3 of 5:   0%|          | 0/84 [00:00<?, ?it/s]"
      ]
     },
     "metadata": {},
     "output_type": "display_data"
    },
    {
     "data": {
      "application/vnd.jupyter.widget-view+json": {
       "model_id": "d9d61b1485424fae82a6c6b305ef1590",
       "version_major": 2,
       "version_minor": 0
      },
      "text/plain": [
       "Running Epoch 4 of 5:   0%|          | 0/84 [00:00<?, ?it/s]"
      ]
     },
     "metadata": {},
     "output_type": "display_data"
    },
    {
     "name": "stderr",
     "output_type": "stream",
     "text": [
      "C:\\Users\\jensk\\miniconda3\\envs\\gpu\\lib\\site-packages\\simpletransformers\\classification\\classification_model.py:1454: UserWarning: Dataframe headers not specified. Falling back to using column 0 as text and column 1 as labels.\n",
      "  warnings.warn(\n"
     ]
    },
    {
     "data": {
      "application/vnd.jupyter.widget-view+json": {
       "model_id": "69df4f1552e44579a24b10999d3e92c6",
       "version_major": 2,
       "version_minor": 0
      },
      "text/plain": [
       "  0%|          | 0/149 [00:00<?, ?it/s]"
      ]
     },
     "metadata": {},
     "output_type": "display_data"
    },
    {
     "data": {
      "application/vnd.jupyter.widget-view+json": {
       "model_id": "287ee33a22fe4b37893c7d007ab1bfd6",
       "version_major": 2,
       "version_minor": 0
      },
      "text/plain": [
       "Running Evaluation:   0%|          | 0/19 [00:00<?, ?it/s]"
      ]
     },
     "metadata": {},
     "output_type": "display_data"
    },
    {
     "data": {
      "text/html": [
       "Waiting for W&B process to finish... <strong style=\"color:green\">(success).</strong>"
      ],
      "text/plain": [
       "<IPython.core.display.HTML object>"
      ]
     },
     "metadata": {},
     "output_type": "display_data"
    },
    {
     "data": {
      "text/html": [
       "<style>\n",
       "    table.wandb td:nth-child(1) { padding: 0 10px; text-align: left ; width: auto;} td:nth-child(2) {text-align: left ; width: 100%}\n",
       "    .wandb-row { display: flex; flex-direction: row; flex-wrap: wrap; justify-content: flex-start; width: 100% }\n",
       "    .wandb-col { display: flex; flex-direction: column; flex-basis: 100%; flex: 1; padding: 10px; }\n",
       "    </style>\n",
       "<div class=\"wandb-row\"><div class=\"wandb-col\"><h3>Run history:</h3><br/><table class=\"wandb\"><tr><td>Training loss</td><td>█▃█▁▁▁▁▁</td></tr><tr><td>f1</td><td>▁</td></tr><tr><td>global_step</td><td>▁▂▃▄▅▆▇█</td></tr><tr><td>lr</td><td>█▇▆▅▄▃▂▁</td></tr><tr><td>mcc</td><td>▁</td></tr></table><br/></div><div class=\"wandb-col\"><h3>Run summary:</h3><br/><table class=\"wandb\"><tr><td>Training loss</td><td>0.00022</td></tr><tr><td>f1</td><td>0.9396</td></tr><tr><td>global_step</td><td>400</td></tr><tr><td>lr</td><td>0.0</td></tr><tr><td>mcc</td><td>0.78244</td></tr></table><br/></div></div>"
      ],
      "text/plain": [
       "<IPython.core.display.HTML object>"
      ]
     },
     "metadata": {},
     "output_type": "display_data"
    },
    {
     "data": {
      "text/html": [
       " View run <strong style=\"color:#cdcd00\">dazzling-sweep-5</strong> at: <a href='https://wandb.ai/spacehack100/Test%20sweep/runs/e0csvlnq' target=\"_blank\">https://wandb.ai/spacehack100/Test%20sweep/runs/e0csvlnq</a><br/>Synced 6 W&B file(s), 3 media file(s), 3 artifact file(s) and 0 other file(s)"
      ],
      "text/plain": [
       "<IPython.core.display.HTML object>"
      ]
     },
     "metadata": {},
     "output_type": "display_data"
    },
    {
     "data": {
      "text/html": [
       "Find logs at: <code>.\\wandb\\run-20230308_154302-e0csvlnq\\logs</code>"
      ],
      "text/plain": [
       "<IPython.core.display.HTML object>"
      ]
     },
     "metadata": {},
     "output_type": "display_data"
    },
    {
     "name": "stderr",
     "output_type": "stream",
     "text": [
      "\u001b[34m\u001b[1mwandb\u001b[0m: Agent Starting Run: 0cjt8hyo with config:\n",
      "\u001b[34m\u001b[1mwandb\u001b[0m: \tlearning_rate: 4e-05\n",
      "\u001b[34m\u001b[1mwandb\u001b[0m: \tnum_train_epochs: 5\n",
      "\u001b[34m\u001b[1mwandb\u001b[0m: \ttrain_batch_size: 32\n"
     ]
    },
    {
     "data": {
      "text/html": [
       "wandb version 0.13.11 is available!  To upgrade, please run:\n",
       " $ pip install wandb --upgrade"
      ],
      "text/plain": [
       "<IPython.core.display.HTML object>"
      ]
     },
     "metadata": {},
     "output_type": "display_data"
    },
    {
     "data": {
      "text/html": [
       "Tracking run with wandb version 0.13.10"
      ],
      "text/plain": [
       "<IPython.core.display.HTML object>"
      ]
     },
     "metadata": {},
     "output_type": "display_data"
    },
    {
     "data": {
      "text/html": [
       "Run data is saved locally in <code>C:\\De Nayer 2022-2023\\Bachelorproef\\Jupyter notebook\\wandb\\run-20230308_154437-0cjt8hyo</code>"
      ],
      "text/plain": [
       "<IPython.core.display.HTML object>"
      ]
     },
     "metadata": {},
     "output_type": "display_data"
    },
    {
     "data": {
      "text/html": [
       "Syncing run <strong><a href='https://wandb.ai/spacehack100/Test%20sweep/runs/0cjt8hyo' target=\"_blank\">ethereal-sweep-6</a></strong> to <a href='https://wandb.ai/spacehack100/Test%20sweep' target=\"_blank\">Weights & Biases</a> (<a href='https://wandb.me/run' target=\"_blank\">docs</a>)<br/>Sweep page: <a href='https://wandb.ai/spacehack100/Test%20sweep/sweeps/ubozjgk2' target=\"_blank\">https://wandb.ai/spacehack100/Test%20sweep/sweeps/ubozjgk2</a>"
      ],
      "text/plain": [
       "<IPython.core.display.HTML object>"
      ]
     },
     "metadata": {},
     "output_type": "display_data"
    },
    {
     "data": {
      "text/html": [
       " View project at <a href='https://wandb.ai/spacehack100/Test%20sweep' target=\"_blank\">https://wandb.ai/spacehack100/Test%20sweep</a>"
      ],
      "text/plain": [
       "<IPython.core.display.HTML object>"
      ]
     },
     "metadata": {},
     "output_type": "display_data"
    },
    {
     "data": {
      "text/html": [
       " View sweep at <a href='https://wandb.ai/spacehack100/Test%20sweep/sweeps/ubozjgk2' target=\"_blank\">https://wandb.ai/spacehack100/Test%20sweep/sweeps/ubozjgk2</a>"
      ],
      "text/plain": [
       "<IPython.core.display.HTML object>"
      ]
     },
     "metadata": {},
     "output_type": "display_data"
    },
    {
     "data": {
      "text/html": [
       " View run at <a href='https://wandb.ai/spacehack100/Test%20sweep/runs/0cjt8hyo' target=\"_blank\">https://wandb.ai/spacehack100/Test%20sweep/runs/0cjt8hyo</a>"
      ],
      "text/plain": [
       "<IPython.core.display.HTML object>"
      ]
     },
     "metadata": {},
     "output_type": "display_data"
    },
    {
     "name": "stdout",
     "output_type": "stream",
     "text": [
      "[0.6052393857271906, 2.875536480686695]\n"
     ]
    },
    {
     "name": "stderr",
     "output_type": "stream",
     "text": [
      "Some weights of the model checkpoint at GroNLP/bert-base-dutch-cased were not used when initializing BertForSequenceClassification: ['cls.predictions.decoder.weight', 'cls.predictions.decoder.bias', 'cls.predictions.transform.dense.weight', 'cls.predictions.transform.LayerNorm.bias', 'cls.predictions.transform.dense.bias', 'cls.predictions.transform.LayerNorm.weight', 'cls.predictions.bias']\n",
      "- This IS expected if you are initializing BertForSequenceClassification from the checkpoint of a model trained on another task or with another architecture (e.g. initializing a BertForSequenceClassification model from a BertForPreTraining model).\n",
      "- This IS NOT expected if you are initializing BertForSequenceClassification from the checkpoint of a model that you expect to be exactly identical (initializing a BertForSequenceClassification model from a BertForSequenceClassification model).\n",
      "Some weights of BertForSequenceClassification were not initialized from the model checkpoint at GroNLP/bert-base-dutch-cased and are newly initialized: ['classifier.weight', 'bert.pooler.dense.weight', 'classifier.bias', 'bert.pooler.dense.bias']\n",
      "You should probably TRAIN this model on a down-stream task to be able to use it for predictions and inference.\n",
      "C:\\Users\\jensk\\miniconda3\\envs\\gpu\\lib\\site-packages\\simpletransformers\\classification\\classification_model.py:612: UserWarning: Dataframe headers not specified. Falling back to using column 0 as text and column 1 as labels.\n",
      "  warnings.warn(\n"
     ]
    },
    {
     "data": {
      "application/vnd.jupyter.widget-view+json": {
       "model_id": "6e419d53bbd6462e981a6d333b65bcc3",
       "version_major": 2,
       "version_minor": 0
      },
      "text/plain": [
       "  0%|          | 0/1340 [00:00<?, ?it/s]"
      ]
     },
     "metadata": {},
     "output_type": "display_data"
    },
    {
     "data": {
      "application/vnd.jupyter.widget-view+json": {
       "model_id": "de89af5cc04c43a7ae080b73b87dedc1",
       "version_major": 2,
       "version_minor": 0
      },
      "text/plain": [
       "Epoch:   0%|          | 0/5 [00:00<?, ?it/s]"
      ]
     },
     "metadata": {},
     "output_type": "display_data"
    },
    {
     "data": {
      "application/vnd.jupyter.widget-view+json": {
       "model_id": "046cd199c4274e659c3fbc61519bd6da",
       "version_major": 2,
       "version_minor": 0
      },
      "text/plain": [
       "Running Epoch 0 of 5:   0%|          | 0/42 [00:00<?, ?it/s]"
      ]
     },
     "metadata": {},
     "output_type": "display_data"
    },
    {
     "data": {
      "application/vnd.jupyter.widget-view+json": {
       "model_id": "2d1d27beda04429d9df75e155762e3da",
       "version_major": 2,
       "version_minor": 0
      },
      "text/plain": [
       "Running Epoch 1 of 5:   0%|          | 0/42 [00:00<?, ?it/s]"
      ]
     },
     "metadata": {},
     "output_type": "display_data"
    },
    {
     "data": {
      "application/vnd.jupyter.widget-view+json": {
       "model_id": "7ee1ddbfe3a1491cbd9d066c575cf620",
       "version_major": 2,
       "version_minor": 0
      },
      "text/plain": [
       "Running Epoch 2 of 5:   0%|          | 0/42 [00:00<?, ?it/s]"
      ]
     },
     "metadata": {},
     "output_type": "display_data"
    },
    {
     "data": {
      "application/vnd.jupyter.widget-view+json": {
       "model_id": "07f373cc00a94174844cfdb86c60d8f6",
       "version_major": 2,
       "version_minor": 0
      },
      "text/plain": [
       "Running Epoch 3 of 5:   0%|          | 0/42 [00:00<?, ?it/s]"
      ]
     },
     "metadata": {},
     "output_type": "display_data"
    },
    {
     "data": {
      "application/vnd.jupyter.widget-view+json": {
       "model_id": "213c25658ef94159b7807ce6f1fd146d",
       "version_major": 2,
       "version_minor": 0
      },
      "text/plain": [
       "Running Epoch 4 of 5:   0%|          | 0/42 [00:00<?, ?it/s]"
      ]
     },
     "metadata": {},
     "output_type": "display_data"
    },
    {
     "name": "stderr",
     "output_type": "stream",
     "text": [
      "C:\\Users\\jensk\\miniconda3\\envs\\gpu\\lib\\site-packages\\simpletransformers\\classification\\classification_model.py:1454: UserWarning: Dataframe headers not specified. Falling back to using column 0 as text and column 1 as labels.\n",
      "  warnings.warn(\n"
     ]
    },
    {
     "data": {
      "application/vnd.jupyter.widget-view+json": {
       "model_id": "d796dc20c8b740be9392663a18ec2462",
       "version_major": 2,
       "version_minor": 0
      },
      "text/plain": [
       "  0%|          | 0/149 [00:00<?, ?it/s]"
      ]
     },
     "metadata": {},
     "output_type": "display_data"
    },
    {
     "data": {
      "application/vnd.jupyter.widget-view+json": {
       "model_id": "2db75d6761174ab2ad3dbea2986947d6",
       "version_major": 2,
       "version_minor": 0
      },
      "text/plain": [
       "Running Evaluation:   0%|          | 0/19 [00:00<?, ?it/s]"
      ]
     },
     "metadata": {},
     "output_type": "display_data"
    },
    {
     "data": {
      "text/html": [
       "Waiting for W&B process to finish... <strong style=\"color:green\">(success).</strong>"
      ],
      "text/plain": [
       "<IPython.core.display.HTML object>"
      ]
     },
     "metadata": {},
     "output_type": "display_data"
    },
    {
     "data": {
      "text/html": [
       "<style>\n",
       "    table.wandb td:nth-child(1) { padding: 0 10px; text-align: left ; width: auto;} td:nth-child(2) {text-align: left ; width: 100%}\n",
       "    .wandb-row { display: flex; flex-direction: row; flex-wrap: wrap; justify-content: flex-start; width: 100% }\n",
       "    .wandb-col { display: flex; flex-direction: column; flex-basis: 100%; flex: 1; padding: 10px; }\n",
       "    </style>\n",
       "<div class=\"wandb-row\"><div class=\"wandb-col\"><h3>Run history:</h3><br/><table class=\"wandb\"><tr><td>Training loss</td><td>▆▁▂█</td></tr><tr><td>f1</td><td>▁</td></tr><tr><td>global_step</td><td>▁▃▆█</td></tr><tr><td>lr</td><td>█▆▃▁</td></tr><tr><td>mcc</td><td>▁</td></tr></table><br/></div><div class=\"wandb-col\"><h3>Run summary:</h3><br/><table class=\"wandb\"><tr><td>Training loss</td><td>0.32844</td></tr><tr><td>f1</td><td>0.9396</td></tr><tr><td>global_step</td><td>200</td></tr><tr><td>lr</td><td>0.0</td></tr><tr><td>mcc</td><td>0.78244</td></tr></table><br/></div></div>"
      ],
      "text/plain": [
       "<IPython.core.display.HTML object>"
      ]
     },
     "metadata": {},
     "output_type": "display_data"
    },
    {
     "data": {
      "text/html": [
       " View run <strong style=\"color:#cdcd00\">ethereal-sweep-6</strong> at: <a href='https://wandb.ai/spacehack100/Test%20sweep/runs/0cjt8hyo' target=\"_blank\">https://wandb.ai/spacehack100/Test%20sweep/runs/0cjt8hyo</a><br/>Synced 6 W&B file(s), 3 media file(s), 3 artifact file(s) and 0 other file(s)"
      ],
      "text/plain": [
       "<IPython.core.display.HTML object>"
      ]
     },
     "metadata": {},
     "output_type": "display_data"
    },
    {
     "data": {
      "text/html": [
       "Find logs at: <code>.\\wandb\\run-20230308_154437-0cjt8hyo\\logs</code>"
      ],
      "text/plain": [
       "<IPython.core.display.HTML object>"
      ]
     },
     "metadata": {},
     "output_type": "display_data"
    },
    {
     "name": "stderr",
     "output_type": "stream",
     "text": [
      "\u001b[34m\u001b[1mwandb\u001b[0m: Agent Starting Run: 6pbc0up4 with config:\n",
      "\u001b[34m\u001b[1mwandb\u001b[0m: \tlearning_rate: 5e-05\n",
      "\u001b[34m\u001b[1mwandb\u001b[0m: \tnum_train_epochs: 3\n",
      "\u001b[34m\u001b[1mwandb\u001b[0m: \ttrain_batch_size: 16\n"
     ]
    },
    {
     "data": {
      "text/html": [
       "wandb version 0.13.11 is available!  To upgrade, please run:\n",
       " $ pip install wandb --upgrade"
      ],
      "text/plain": [
       "<IPython.core.display.HTML object>"
      ]
     },
     "metadata": {},
     "output_type": "display_data"
    },
    {
     "data": {
      "text/html": [
       "Tracking run with wandb version 0.13.10"
      ],
      "text/plain": [
       "<IPython.core.display.HTML object>"
      ]
     },
     "metadata": {},
     "output_type": "display_data"
    },
    {
     "data": {
      "text/html": [
       "Run data is saved locally in <code>C:\\De Nayer 2022-2023\\Bachelorproef\\Jupyter notebook\\wandb\\run-20230308_154600-6pbc0up4</code>"
      ],
      "text/plain": [
       "<IPython.core.display.HTML object>"
      ]
     },
     "metadata": {},
     "output_type": "display_data"
    },
    {
     "data": {
      "text/html": [
       "Syncing run <strong><a href='https://wandb.ai/spacehack100/Test%20sweep/runs/6pbc0up4' target=\"_blank\">classic-sweep-7</a></strong> to <a href='https://wandb.ai/spacehack100/Test%20sweep' target=\"_blank\">Weights & Biases</a> (<a href='https://wandb.me/run' target=\"_blank\">docs</a>)<br/>Sweep page: <a href='https://wandb.ai/spacehack100/Test%20sweep/sweeps/ubozjgk2' target=\"_blank\">https://wandb.ai/spacehack100/Test%20sweep/sweeps/ubozjgk2</a>"
      ],
      "text/plain": [
       "<IPython.core.display.HTML object>"
      ]
     },
     "metadata": {},
     "output_type": "display_data"
    },
    {
     "data": {
      "text/html": [
       " View project at <a href='https://wandb.ai/spacehack100/Test%20sweep' target=\"_blank\">https://wandb.ai/spacehack100/Test%20sweep</a>"
      ],
      "text/plain": [
       "<IPython.core.display.HTML object>"
      ]
     },
     "metadata": {},
     "output_type": "display_data"
    },
    {
     "data": {
      "text/html": [
       " View sweep at <a href='https://wandb.ai/spacehack100/Test%20sweep/sweeps/ubozjgk2' target=\"_blank\">https://wandb.ai/spacehack100/Test%20sweep/sweeps/ubozjgk2</a>"
      ],
      "text/plain": [
       "<IPython.core.display.HTML object>"
      ]
     },
     "metadata": {},
     "output_type": "display_data"
    },
    {
     "data": {
      "text/html": [
       " View run at <a href='https://wandb.ai/spacehack100/Test%20sweep/runs/6pbc0up4' target=\"_blank\">https://wandb.ai/spacehack100/Test%20sweep/runs/6pbc0up4</a>"
      ],
      "text/plain": [
       "<IPython.core.display.HTML object>"
      ]
     },
     "metadata": {},
     "output_type": "display_data"
    },
    {
     "name": "stdout",
     "output_type": "stream",
     "text": [
      "[0.6052393857271906, 2.875536480686695]\n"
     ]
    },
    {
     "name": "stderr",
     "output_type": "stream",
     "text": [
      "Some weights of the model checkpoint at GroNLP/bert-base-dutch-cased were not used when initializing BertForSequenceClassification: ['cls.predictions.decoder.weight', 'cls.predictions.decoder.bias', 'cls.predictions.transform.dense.weight', 'cls.predictions.transform.LayerNorm.bias', 'cls.predictions.transform.dense.bias', 'cls.predictions.transform.LayerNorm.weight', 'cls.predictions.bias']\n",
      "- This IS expected if you are initializing BertForSequenceClassification from the checkpoint of a model trained on another task or with another architecture (e.g. initializing a BertForSequenceClassification model from a BertForPreTraining model).\n",
      "- This IS NOT expected if you are initializing BertForSequenceClassification from the checkpoint of a model that you expect to be exactly identical (initializing a BertForSequenceClassification model from a BertForSequenceClassification model).\n",
      "Some weights of BertForSequenceClassification were not initialized from the model checkpoint at GroNLP/bert-base-dutch-cased and are newly initialized: ['classifier.weight', 'bert.pooler.dense.weight', 'classifier.bias', 'bert.pooler.dense.bias']\n",
      "You should probably TRAIN this model on a down-stream task to be able to use it for predictions and inference.\n",
      "C:\\Users\\jensk\\miniconda3\\envs\\gpu\\lib\\site-packages\\simpletransformers\\classification\\classification_model.py:612: UserWarning: Dataframe headers not specified. Falling back to using column 0 as text and column 1 as labels.\n",
      "  warnings.warn(\n"
     ]
    },
    {
     "data": {
      "application/vnd.jupyter.widget-view+json": {
       "model_id": "6dadc3dd361245c0b0874a994940f1cf",
       "version_major": 2,
       "version_minor": 0
      },
      "text/plain": [
       "  0%|          | 0/1340 [00:00<?, ?it/s]"
      ]
     },
     "metadata": {},
     "output_type": "display_data"
    },
    {
     "data": {
      "application/vnd.jupyter.widget-view+json": {
       "model_id": "c885c34dcff24cd4ab9fadfcfd01e72d",
       "version_major": 2,
       "version_minor": 0
      },
      "text/plain": [
       "Epoch:   0%|          | 0/3 [00:00<?, ?it/s]"
      ]
     },
     "metadata": {},
     "output_type": "display_data"
    },
    {
     "data": {
      "application/vnd.jupyter.widget-view+json": {
       "model_id": "a57f012f44c942a787947184e6ff5b8b",
       "version_major": 2,
       "version_minor": 0
      },
      "text/plain": [
       "Running Epoch 0 of 3:   0%|          | 0/84 [00:00<?, ?it/s]"
      ]
     },
     "metadata": {},
     "output_type": "display_data"
    },
    {
     "data": {
      "application/vnd.jupyter.widget-view+json": {
       "model_id": "d4bc38464d8e48e8bb12a9eb3e12eca1",
       "version_major": 2,
       "version_minor": 0
      },
      "text/plain": [
       "Running Epoch 1 of 3:   0%|          | 0/84 [00:00<?, ?it/s]"
      ]
     },
     "metadata": {},
     "output_type": "display_data"
    },
    {
     "data": {
      "application/vnd.jupyter.widget-view+json": {
       "model_id": "0bd70ad9d5d344d8ba1588ea5cd51cf1",
       "version_major": 2,
       "version_minor": 0
      },
      "text/plain": [
       "Running Epoch 2 of 3:   0%|          | 0/84 [00:00<?, ?it/s]"
      ]
     },
     "metadata": {},
     "output_type": "display_data"
    },
    {
     "name": "stderr",
     "output_type": "stream",
     "text": [
      "C:\\Users\\jensk\\miniconda3\\envs\\gpu\\lib\\site-packages\\simpletransformers\\classification\\classification_model.py:1454: UserWarning: Dataframe headers not specified. Falling back to using column 0 as text and column 1 as labels.\n",
      "  warnings.warn(\n"
     ]
    },
    {
     "data": {
      "application/vnd.jupyter.widget-view+json": {
       "model_id": "359171bffdb947818711f9b941e7b4aa",
       "version_major": 2,
       "version_minor": 0
      },
      "text/plain": [
       "  0%|          | 0/149 [00:00<?, ?it/s]"
      ]
     },
     "metadata": {},
     "output_type": "display_data"
    },
    {
     "data": {
      "application/vnd.jupyter.widget-view+json": {
       "model_id": "e78fb180700d487f8514bfd5d4063f85",
       "version_major": 2,
       "version_minor": 0
      },
      "text/plain": [
       "Running Evaluation:   0%|          | 0/19 [00:00<?, ?it/s]"
      ]
     },
     "metadata": {},
     "output_type": "display_data"
    },
    {
     "data": {
      "text/html": [
       "Waiting for W&B process to finish... <strong style=\"color:green\">(success).</strong>"
      ],
      "text/plain": [
       "<IPython.core.display.HTML object>"
      ]
     },
     "metadata": {},
     "output_type": "display_data"
    },
    {
     "data": {
      "text/html": [
       "<style>\n",
       "    table.wandb td:nth-child(1) { padding: 0 10px; text-align: left ; width: auto;} td:nth-child(2) {text-align: left ; width: 100%}\n",
       "    .wandb-row { display: flex; flex-direction: row; flex-wrap: wrap; justify-content: flex-start; width: 100% }\n",
       "    .wandb-col { display: flex; flex-direction: column; flex-basis: 100%; flex: 1; padding: 10px; }\n",
       "    </style>\n",
       "<div class=\"wandb-row\"><div class=\"wandb-col\"><h3>Run history:</h3><br/><table class=\"wandb\"><tr><td>Training loss</td><td>█▅▃▁▁</td></tr><tr><td>f1</td><td>▁</td></tr><tr><td>global_step</td><td>▁▃▅▆█</td></tr><tr><td>lr</td><td>█▆▄▃▁</td></tr><tr><td>mcc</td><td>▁</td></tr></table><br/></div><div class=\"wandb-col\"><h3>Run summary:</h3><br/><table class=\"wandb\"><tr><td>Training loss</td><td>0.00166</td></tr><tr><td>f1</td><td>0.92617</td></tr><tr><td>global_step</td><td>250</td></tr><tr><td>lr</td><td>0.0</td></tr><tr><td>mcc</td><td>0.7335</td></tr></table><br/></div></div>"
      ],
      "text/plain": [
       "<IPython.core.display.HTML object>"
      ]
     },
     "metadata": {},
     "output_type": "display_data"
    },
    {
     "data": {
      "text/html": [
       " View run <strong style=\"color:#cdcd00\">classic-sweep-7</strong> at: <a href='https://wandb.ai/spacehack100/Test%20sweep/runs/6pbc0up4' target=\"_blank\">https://wandb.ai/spacehack100/Test%20sweep/runs/6pbc0up4</a><br/>Synced 6 W&B file(s), 3 media file(s), 3 artifact file(s) and 0 other file(s)"
      ],
      "text/plain": [
       "<IPython.core.display.HTML object>"
      ]
     },
     "metadata": {},
     "output_type": "display_data"
    },
    {
     "data": {
      "text/html": [
       "Find logs at: <code>.\\wandb\\run-20230308_154600-6pbc0up4\\logs</code>"
      ],
      "text/plain": [
       "<IPython.core.display.HTML object>"
      ]
     },
     "metadata": {},
     "output_type": "display_data"
    },
    {
     "name": "stderr",
     "output_type": "stream",
     "text": [
      "\u001b[34m\u001b[1mwandb\u001b[0m: Agent Starting Run: 7d3afrkt with config:\n",
      "\u001b[34m\u001b[1mwandb\u001b[0m: \tlearning_rate: 5e-05\n",
      "\u001b[34m\u001b[1mwandb\u001b[0m: \tnum_train_epochs: 3\n",
      "\u001b[34m\u001b[1mwandb\u001b[0m: \ttrain_batch_size: 32\n"
     ]
    },
    {
     "data": {
      "text/html": [
       "wandb version 0.13.11 is available!  To upgrade, please run:\n",
       " $ pip install wandb --upgrade"
      ],
      "text/plain": [
       "<IPython.core.display.HTML object>"
      ]
     },
     "metadata": {},
     "output_type": "display_data"
    },
    {
     "data": {
      "text/html": [
       "Tracking run with wandb version 0.13.10"
      ],
      "text/plain": [
       "<IPython.core.display.HTML object>"
      ]
     },
     "metadata": {},
     "output_type": "display_data"
    },
    {
     "data": {
      "text/html": [
       "Run data is saved locally in <code>C:\\De Nayer 2022-2023\\Bachelorproef\\Jupyter notebook\\wandb\\run-20230308_154719-7d3afrkt</code>"
      ],
      "text/plain": [
       "<IPython.core.display.HTML object>"
      ]
     },
     "metadata": {},
     "output_type": "display_data"
    },
    {
     "data": {
      "text/html": [
       "Syncing run <strong><a href='https://wandb.ai/spacehack100/Test%20sweep/runs/7d3afrkt' target=\"_blank\">frosty-sweep-8</a></strong> to <a href='https://wandb.ai/spacehack100/Test%20sweep' target=\"_blank\">Weights & Biases</a> (<a href='https://wandb.me/run' target=\"_blank\">docs</a>)<br/>Sweep page: <a href='https://wandb.ai/spacehack100/Test%20sweep/sweeps/ubozjgk2' target=\"_blank\">https://wandb.ai/spacehack100/Test%20sweep/sweeps/ubozjgk2</a>"
      ],
      "text/plain": [
       "<IPython.core.display.HTML object>"
      ]
     },
     "metadata": {},
     "output_type": "display_data"
    },
    {
     "data": {
      "text/html": [
       " View project at <a href='https://wandb.ai/spacehack100/Test%20sweep' target=\"_blank\">https://wandb.ai/spacehack100/Test%20sweep</a>"
      ],
      "text/plain": [
       "<IPython.core.display.HTML object>"
      ]
     },
     "metadata": {},
     "output_type": "display_data"
    },
    {
     "data": {
      "text/html": [
       " View sweep at <a href='https://wandb.ai/spacehack100/Test%20sweep/sweeps/ubozjgk2' target=\"_blank\">https://wandb.ai/spacehack100/Test%20sweep/sweeps/ubozjgk2</a>"
      ],
      "text/plain": [
       "<IPython.core.display.HTML object>"
      ]
     },
     "metadata": {},
     "output_type": "display_data"
    },
    {
     "data": {
      "text/html": [
       " View run at <a href='https://wandb.ai/spacehack100/Test%20sweep/runs/7d3afrkt' target=\"_blank\">https://wandb.ai/spacehack100/Test%20sweep/runs/7d3afrkt</a>"
      ],
      "text/plain": [
       "<IPython.core.display.HTML object>"
      ]
     },
     "metadata": {},
     "output_type": "display_data"
    },
    {
     "name": "stdout",
     "output_type": "stream",
     "text": [
      "[0.6052393857271906, 2.875536480686695]\n"
     ]
    },
    {
     "name": "stderr",
     "output_type": "stream",
     "text": [
      "Some weights of the model checkpoint at GroNLP/bert-base-dutch-cased were not used when initializing BertForSequenceClassification: ['cls.predictions.decoder.weight', 'cls.predictions.decoder.bias', 'cls.predictions.transform.dense.weight', 'cls.predictions.transform.LayerNorm.bias', 'cls.predictions.transform.dense.bias', 'cls.predictions.transform.LayerNorm.weight', 'cls.predictions.bias']\n",
      "- This IS expected if you are initializing BertForSequenceClassification from the checkpoint of a model trained on another task or with another architecture (e.g. initializing a BertForSequenceClassification model from a BertForPreTraining model).\n",
      "- This IS NOT expected if you are initializing BertForSequenceClassification from the checkpoint of a model that you expect to be exactly identical (initializing a BertForSequenceClassification model from a BertForSequenceClassification model).\n",
      "Some weights of BertForSequenceClassification were not initialized from the model checkpoint at GroNLP/bert-base-dutch-cased and are newly initialized: ['classifier.weight', 'bert.pooler.dense.weight', 'classifier.bias', 'bert.pooler.dense.bias']\n",
      "You should probably TRAIN this model on a down-stream task to be able to use it for predictions and inference.\n",
      "C:\\Users\\jensk\\miniconda3\\envs\\gpu\\lib\\site-packages\\simpletransformers\\classification\\classification_model.py:612: UserWarning: Dataframe headers not specified. Falling back to using column 0 as text and column 1 as labels.\n",
      "  warnings.warn(\n"
     ]
    },
    {
     "data": {
      "application/vnd.jupyter.widget-view+json": {
       "model_id": "ee8488131e0e42e786bad6f5686f2c2c",
       "version_major": 2,
       "version_minor": 0
      },
      "text/plain": [
       "  0%|          | 0/1340 [00:00<?, ?it/s]"
      ]
     },
     "metadata": {},
     "output_type": "display_data"
    },
    {
     "data": {
      "application/vnd.jupyter.widget-view+json": {
       "model_id": "faf01cbf5c6a46e4a61dc1857ed37032",
       "version_major": 2,
       "version_minor": 0
      },
      "text/plain": [
       "Epoch:   0%|          | 0/3 [00:00<?, ?it/s]"
      ]
     },
     "metadata": {},
     "output_type": "display_data"
    },
    {
     "data": {
      "application/vnd.jupyter.widget-view+json": {
       "model_id": "93f2c65424074509b4278a415ded054c",
       "version_major": 2,
       "version_minor": 0
      },
      "text/plain": [
       "Running Epoch 0 of 3:   0%|          | 0/42 [00:00<?, ?it/s]"
      ]
     },
     "metadata": {},
     "output_type": "display_data"
    },
    {
     "data": {
      "application/vnd.jupyter.widget-view+json": {
       "model_id": "769cb4a259294ce185062fe4c8eb3a26",
       "version_major": 2,
       "version_minor": 0
      },
      "text/plain": [
       "Running Epoch 1 of 3:   0%|          | 0/42 [00:00<?, ?it/s]"
      ]
     },
     "metadata": {},
     "output_type": "display_data"
    },
    {
     "data": {
      "application/vnd.jupyter.widget-view+json": {
       "model_id": "4f40f9c09c4147ef8acc4ad1fbebe86a",
       "version_major": 2,
       "version_minor": 0
      },
      "text/plain": [
       "Running Epoch 2 of 3:   0%|          | 0/42 [00:00<?, ?it/s]"
      ]
     },
     "metadata": {},
     "output_type": "display_data"
    },
    {
     "name": "stderr",
     "output_type": "stream",
     "text": [
      "C:\\Users\\jensk\\miniconda3\\envs\\gpu\\lib\\site-packages\\simpletransformers\\classification\\classification_model.py:1454: UserWarning: Dataframe headers not specified. Falling back to using column 0 as text and column 1 as labels.\n",
      "  warnings.warn(\n"
     ]
    },
    {
     "data": {
      "application/vnd.jupyter.widget-view+json": {
       "model_id": "50625a90839a497b977e80e52955469a",
       "version_major": 2,
       "version_minor": 0
      },
      "text/plain": [
       "  0%|          | 0/149 [00:00<?, ?it/s]"
      ]
     },
     "metadata": {},
     "output_type": "display_data"
    },
    {
     "data": {
      "application/vnd.jupyter.widget-view+json": {
       "model_id": "d7b54e085d1543aa899431ae49d41259",
       "version_major": 2,
       "version_minor": 0
      },
      "text/plain": [
       "Running Evaluation:   0%|          | 0/19 [00:00<?, ?it/s]"
      ]
     },
     "metadata": {},
     "output_type": "display_data"
    },
    {
     "data": {
      "text/html": [
       "Waiting for W&B process to finish... <strong style=\"color:green\">(success).</strong>"
      ],
      "text/plain": [
       "<IPython.core.display.HTML object>"
      ]
     },
     "metadata": {},
     "output_type": "display_data"
    },
    {
     "data": {
      "text/html": [
       "<style>\n",
       "    table.wandb td:nth-child(1) { padding: 0 10px; text-align: left ; width: auto;} td:nth-child(2) {text-align: left ; width: 100%}\n",
       "    .wandb-row { display: flex; flex-direction: row; flex-wrap: wrap; justify-content: flex-start; width: 100% }\n",
       "    .wandb-col { display: flex; flex-direction: column; flex-basis: 100%; flex: 1; padding: 10px; }\n",
       "    </style>\n",
       "<div class=\"wandb-row\"><div class=\"wandb-col\"><h3>Run history:</h3><br/><table class=\"wandb\"><tr><td>Training loss</td><td>█▁</td></tr><tr><td>f1</td><td>▁</td></tr><tr><td>global_step</td><td>▁█</td></tr><tr><td>lr</td><td>█▁</td></tr><tr><td>mcc</td><td>▁</td></tr></table><br/></div><div class=\"wandb-col\"><h3>Run summary:</h3><br/><table class=\"wandb\"><tr><td>Training loss</td><td>0.05132</td></tr><tr><td>f1</td><td>0.92617</td></tr><tr><td>global_step</td><td>100</td></tr><tr><td>lr</td><td>1e-05</td></tr><tr><td>mcc</td><td>0.74777</td></tr></table><br/></div></div>"
      ],
      "text/plain": [
       "<IPython.core.display.HTML object>"
      ]
     },
     "metadata": {},
     "output_type": "display_data"
    },
    {
     "data": {
      "text/html": [
       " View run <strong style=\"color:#cdcd00\">frosty-sweep-8</strong> at: <a href='https://wandb.ai/spacehack100/Test%20sweep/runs/7d3afrkt' target=\"_blank\">https://wandb.ai/spacehack100/Test%20sweep/runs/7d3afrkt</a><br/>Synced 6 W&B file(s), 3 media file(s), 3 artifact file(s) and 0 other file(s)"
      ],
      "text/plain": [
       "<IPython.core.display.HTML object>"
      ]
     },
     "metadata": {},
     "output_type": "display_data"
    },
    {
     "data": {
      "text/html": [
       "Find logs at: <code>.\\wandb\\run-20230308_154719-7d3afrkt\\logs</code>"
      ],
      "text/plain": [
       "<IPython.core.display.HTML object>"
      ]
     },
     "metadata": {},
     "output_type": "display_data"
    },
    {
     "name": "stderr",
     "output_type": "stream",
     "text": [
      "\u001b[34m\u001b[1mwandb\u001b[0m: Agent Starting Run: gj0zrurw with config:\n",
      "\u001b[34m\u001b[1mwandb\u001b[0m: \tlearning_rate: 5e-05\n",
      "\u001b[34m\u001b[1mwandb\u001b[0m: \tnum_train_epochs: 4\n",
      "\u001b[34m\u001b[1mwandb\u001b[0m: \ttrain_batch_size: 16\n"
     ]
    },
    {
     "data": {
      "text/html": [
       "wandb version 0.13.11 is available!  To upgrade, please run:\n",
       " $ pip install wandb --upgrade"
      ],
      "text/plain": [
       "<IPython.core.display.HTML object>"
      ]
     },
     "metadata": {},
     "output_type": "display_data"
    },
    {
     "data": {
      "text/html": [
       "Tracking run with wandb version 0.13.10"
      ],
      "text/plain": [
       "<IPython.core.display.HTML object>"
      ]
     },
     "metadata": {},
     "output_type": "display_data"
    },
    {
     "data": {
      "text/html": [
       "Run data is saved locally in <code>C:\\De Nayer 2022-2023\\Bachelorproef\\Jupyter notebook\\wandb\\run-20230308_154830-gj0zrurw</code>"
      ],
      "text/plain": [
       "<IPython.core.display.HTML object>"
      ]
     },
     "metadata": {},
     "output_type": "display_data"
    },
    {
     "data": {
      "text/html": [
       "Syncing run <strong><a href='https://wandb.ai/spacehack100/Test%20sweep/runs/gj0zrurw' target=\"_blank\">pious-sweep-9</a></strong> to <a href='https://wandb.ai/spacehack100/Test%20sweep' target=\"_blank\">Weights & Biases</a> (<a href='https://wandb.me/run' target=\"_blank\">docs</a>)<br/>Sweep page: <a href='https://wandb.ai/spacehack100/Test%20sweep/sweeps/ubozjgk2' target=\"_blank\">https://wandb.ai/spacehack100/Test%20sweep/sweeps/ubozjgk2</a>"
      ],
      "text/plain": [
       "<IPython.core.display.HTML object>"
      ]
     },
     "metadata": {},
     "output_type": "display_data"
    },
    {
     "data": {
      "text/html": [
       " View project at <a href='https://wandb.ai/spacehack100/Test%20sweep' target=\"_blank\">https://wandb.ai/spacehack100/Test%20sweep</a>"
      ],
      "text/plain": [
       "<IPython.core.display.HTML object>"
      ]
     },
     "metadata": {},
     "output_type": "display_data"
    },
    {
     "data": {
      "text/html": [
       " View sweep at <a href='https://wandb.ai/spacehack100/Test%20sweep/sweeps/ubozjgk2' target=\"_blank\">https://wandb.ai/spacehack100/Test%20sweep/sweeps/ubozjgk2</a>"
      ],
      "text/plain": [
       "<IPython.core.display.HTML object>"
      ]
     },
     "metadata": {},
     "output_type": "display_data"
    },
    {
     "data": {
      "text/html": [
       " View run at <a href='https://wandb.ai/spacehack100/Test%20sweep/runs/gj0zrurw' target=\"_blank\">https://wandb.ai/spacehack100/Test%20sweep/runs/gj0zrurw</a>"
      ],
      "text/plain": [
       "<IPython.core.display.HTML object>"
      ]
     },
     "metadata": {},
     "output_type": "display_data"
    },
    {
     "name": "stdout",
     "output_type": "stream",
     "text": [
      "[0.6052393857271906, 2.875536480686695]\n"
     ]
    },
    {
     "name": "stderr",
     "output_type": "stream",
     "text": [
      "Some weights of the model checkpoint at GroNLP/bert-base-dutch-cased were not used when initializing BertForSequenceClassification: ['cls.predictions.decoder.weight', 'cls.predictions.decoder.bias', 'cls.predictions.transform.dense.weight', 'cls.predictions.transform.LayerNorm.bias', 'cls.predictions.transform.dense.bias', 'cls.predictions.transform.LayerNorm.weight', 'cls.predictions.bias']\n",
      "- This IS expected if you are initializing BertForSequenceClassification from the checkpoint of a model trained on another task or with another architecture (e.g. initializing a BertForSequenceClassification model from a BertForPreTraining model).\n",
      "- This IS NOT expected if you are initializing BertForSequenceClassification from the checkpoint of a model that you expect to be exactly identical (initializing a BertForSequenceClassification model from a BertForSequenceClassification model).\n",
      "Some weights of BertForSequenceClassification were not initialized from the model checkpoint at GroNLP/bert-base-dutch-cased and are newly initialized: ['classifier.weight', 'bert.pooler.dense.weight', 'classifier.bias', 'bert.pooler.dense.bias']\n",
      "You should probably TRAIN this model on a down-stream task to be able to use it for predictions and inference.\n",
      "C:\\Users\\jensk\\miniconda3\\envs\\gpu\\lib\\site-packages\\simpletransformers\\classification\\classification_model.py:612: UserWarning: Dataframe headers not specified. Falling back to using column 0 as text and column 1 as labels.\n",
      "  warnings.warn(\n"
     ]
    },
    {
     "data": {
      "application/vnd.jupyter.widget-view+json": {
       "model_id": "705fe8a82d724d5bbada6d3d4c27b51b",
       "version_major": 2,
       "version_minor": 0
      },
      "text/plain": [
       "  0%|          | 0/1340 [00:00<?, ?it/s]"
      ]
     },
     "metadata": {},
     "output_type": "display_data"
    },
    {
     "data": {
      "application/vnd.jupyter.widget-view+json": {
       "model_id": "b033007c88374f8b93a01df86c7ce20f",
       "version_major": 2,
       "version_minor": 0
      },
      "text/plain": [
       "Epoch:   0%|          | 0/4 [00:00<?, ?it/s]"
      ]
     },
     "metadata": {},
     "output_type": "display_data"
    },
    {
     "data": {
      "application/vnd.jupyter.widget-view+json": {
       "model_id": "1af8bafba81747548df75d09f7952695",
       "version_major": 2,
       "version_minor": 0
      },
      "text/plain": [
       "Running Epoch 0 of 4:   0%|          | 0/84 [00:00<?, ?it/s]"
      ]
     },
     "metadata": {},
     "output_type": "display_data"
    },
    {
     "data": {
      "application/vnd.jupyter.widget-view+json": {
       "model_id": "c4f400f7a5904aedafc0169d46cba5b2",
       "version_major": 2,
       "version_minor": 0
      },
      "text/plain": [
       "Running Epoch 1 of 4:   0%|          | 0/84 [00:00<?, ?it/s]"
      ]
     },
     "metadata": {},
     "output_type": "display_data"
    },
    {
     "data": {
      "application/vnd.jupyter.widget-view+json": {
       "model_id": "8620d3d210a844fb8c51fd1cf86ee074",
       "version_major": 2,
       "version_minor": 0
      },
      "text/plain": [
       "Running Epoch 2 of 4:   0%|          | 0/84 [00:00<?, ?it/s]"
      ]
     },
     "metadata": {},
     "output_type": "display_data"
    },
    {
     "data": {
      "application/vnd.jupyter.widget-view+json": {
       "model_id": "155066230c894ae49dd46bbe0c2a1564",
       "version_major": 2,
       "version_minor": 0
      },
      "text/plain": [
       "Running Epoch 3 of 4:   0%|          | 0/84 [00:00<?, ?it/s]"
      ]
     },
     "metadata": {},
     "output_type": "display_data"
    },
    {
     "name": "stderr",
     "output_type": "stream",
     "text": [
      "C:\\Users\\jensk\\miniconda3\\envs\\gpu\\lib\\site-packages\\simpletransformers\\classification\\classification_model.py:1454: UserWarning: Dataframe headers not specified. Falling back to using column 0 as text and column 1 as labels.\n",
      "  warnings.warn(\n"
     ]
    },
    {
     "data": {
      "application/vnd.jupyter.widget-view+json": {
       "model_id": "1b97e70955654a1e807023f4e9239361",
       "version_major": 2,
       "version_minor": 0
      },
      "text/plain": [
       "  0%|          | 0/149 [00:00<?, ?it/s]"
      ]
     },
     "metadata": {},
     "output_type": "display_data"
    },
    {
     "data": {
      "application/vnd.jupyter.widget-view+json": {
       "model_id": "9d5814bbf3fd45e8b1f3b24a337a747f",
       "version_major": 2,
       "version_minor": 0
      },
      "text/plain": [
       "Running Evaluation:   0%|          | 0/19 [00:00<?, ?it/s]"
      ]
     },
     "metadata": {},
     "output_type": "display_data"
    },
    {
     "data": {
      "text/html": [
       "Waiting for W&B process to finish... <strong style=\"color:green\">(success).</strong>"
      ],
      "text/plain": [
       "<IPython.core.display.HTML object>"
      ]
     },
     "metadata": {},
     "output_type": "display_data"
    },
    {
     "data": {
      "text/html": [
       "<style>\n",
       "    table.wandb td:nth-child(1) { padding: 0 10px; text-align: left ; width: auto;} td:nth-child(2) {text-align: left ; width: 100%}\n",
       "    .wandb-row { display: flex; flex-direction: row; flex-wrap: wrap; justify-content: flex-start; width: 100% }\n",
       "    .wandb-col { display: flex; flex-direction: column; flex-basis: 100%; flex: 1; padding: 10px; }\n",
       "    </style>\n",
       "<div class=\"wandb-row\"><div class=\"wandb-col\"><h3>Run history:</h3><br/><table class=\"wandb\"><tr><td>Training loss</td><td>█▁▂▁▂▁</td></tr><tr><td>f1</td><td>▁</td></tr><tr><td>global_step</td><td>▁▂▄▅▇█</td></tr><tr><td>lr</td><td>█▇▅▄▂▁</td></tr><tr><td>mcc</td><td>▁</td></tr></table><br/></div><div class=\"wandb-col\"><h3>Run summary:</h3><br/><table class=\"wandb\"><tr><td>Training loss</td><td>0.00117</td></tr><tr><td>f1</td><td>0.93289</td></tr><tr><td>global_step</td><td>300</td></tr><tr><td>lr</td><td>1e-05</td></tr><tr><td>mcc</td><td>0.75267</td></tr></table><br/></div></div>"
      ],
      "text/plain": [
       "<IPython.core.display.HTML object>"
      ]
     },
     "metadata": {},
     "output_type": "display_data"
    },
    {
     "data": {
      "text/html": [
       " View run <strong style=\"color:#cdcd00\">pious-sweep-9</strong> at: <a href='https://wandb.ai/spacehack100/Test%20sweep/runs/gj0zrurw' target=\"_blank\">https://wandb.ai/spacehack100/Test%20sweep/runs/gj0zrurw</a><br/>Synced 6 W&B file(s), 3 media file(s), 3 artifact file(s) and 0 other file(s)"
      ],
      "text/plain": [
       "<IPython.core.display.HTML object>"
      ]
     },
     "metadata": {},
     "output_type": "display_data"
    },
    {
     "data": {
      "text/html": [
       "Find logs at: <code>.\\wandb\\run-20230308_154830-gj0zrurw\\logs</code>"
      ],
      "text/plain": [
       "<IPython.core.display.HTML object>"
      ]
     },
     "metadata": {},
     "output_type": "display_data"
    },
    {
     "name": "stderr",
     "output_type": "stream",
     "text": [
      "\u001b[34m\u001b[1mwandb\u001b[0m: Agent Starting Run: pyve8t1o with config:\n",
      "\u001b[34m\u001b[1mwandb\u001b[0m: \tlearning_rate: 5e-05\n",
      "\u001b[34m\u001b[1mwandb\u001b[0m: \tnum_train_epochs: 4\n",
      "\u001b[34m\u001b[1mwandb\u001b[0m: \ttrain_batch_size: 32\n"
     ]
    },
    {
     "data": {
      "text/html": [
       "wandb version 0.13.11 is available!  To upgrade, please run:\n",
       " $ pip install wandb --upgrade"
      ],
      "text/plain": [
       "<IPython.core.display.HTML object>"
      ]
     },
     "metadata": {},
     "output_type": "display_data"
    },
    {
     "data": {
      "text/html": [
       "Tracking run with wandb version 0.13.10"
      ],
      "text/plain": [
       "<IPython.core.display.HTML object>"
      ]
     },
     "metadata": {},
     "output_type": "display_data"
    },
    {
     "data": {
      "text/html": [
       "Run data is saved locally in <code>C:\\De Nayer 2022-2023\\Bachelorproef\\Jupyter notebook\\wandb\\run-20230308_154958-pyve8t1o</code>"
      ],
      "text/plain": [
       "<IPython.core.display.HTML object>"
      ]
     },
     "metadata": {},
     "output_type": "display_data"
    },
    {
     "data": {
      "text/html": [
       "Syncing run <strong><a href='https://wandb.ai/spacehack100/Test%20sweep/runs/pyve8t1o' target=\"_blank\">daily-sweep-10</a></strong> to <a href='https://wandb.ai/spacehack100/Test%20sweep' target=\"_blank\">Weights & Biases</a> (<a href='https://wandb.me/run' target=\"_blank\">docs</a>)<br/>Sweep page: <a href='https://wandb.ai/spacehack100/Test%20sweep/sweeps/ubozjgk2' target=\"_blank\">https://wandb.ai/spacehack100/Test%20sweep/sweeps/ubozjgk2</a>"
      ],
      "text/plain": [
       "<IPython.core.display.HTML object>"
      ]
     },
     "metadata": {},
     "output_type": "display_data"
    },
    {
     "data": {
      "text/html": [
       " View project at <a href='https://wandb.ai/spacehack100/Test%20sweep' target=\"_blank\">https://wandb.ai/spacehack100/Test%20sweep</a>"
      ],
      "text/plain": [
       "<IPython.core.display.HTML object>"
      ]
     },
     "metadata": {},
     "output_type": "display_data"
    },
    {
     "data": {
      "text/html": [
       " View sweep at <a href='https://wandb.ai/spacehack100/Test%20sweep/sweeps/ubozjgk2' target=\"_blank\">https://wandb.ai/spacehack100/Test%20sweep/sweeps/ubozjgk2</a>"
      ],
      "text/plain": [
       "<IPython.core.display.HTML object>"
      ]
     },
     "metadata": {},
     "output_type": "display_data"
    },
    {
     "data": {
      "text/html": [
       " View run at <a href='https://wandb.ai/spacehack100/Test%20sweep/runs/pyve8t1o' target=\"_blank\">https://wandb.ai/spacehack100/Test%20sweep/runs/pyve8t1o</a>"
      ],
      "text/plain": [
       "<IPython.core.display.HTML object>"
      ]
     },
     "metadata": {},
     "output_type": "display_data"
    },
    {
     "name": "stdout",
     "output_type": "stream",
     "text": [
      "[0.6052393857271906, 2.875536480686695]\n"
     ]
    },
    {
     "name": "stderr",
     "output_type": "stream",
     "text": [
      "Some weights of the model checkpoint at GroNLP/bert-base-dutch-cased were not used when initializing BertForSequenceClassification: ['cls.predictions.decoder.weight', 'cls.predictions.decoder.bias', 'cls.predictions.transform.dense.weight', 'cls.predictions.transform.LayerNorm.bias', 'cls.predictions.transform.dense.bias', 'cls.predictions.transform.LayerNorm.weight', 'cls.predictions.bias']\n",
      "- This IS expected if you are initializing BertForSequenceClassification from the checkpoint of a model trained on another task or with another architecture (e.g. initializing a BertForSequenceClassification model from a BertForPreTraining model).\n",
      "- This IS NOT expected if you are initializing BertForSequenceClassification from the checkpoint of a model that you expect to be exactly identical (initializing a BertForSequenceClassification model from a BertForSequenceClassification model).\n",
      "Some weights of BertForSequenceClassification were not initialized from the model checkpoint at GroNLP/bert-base-dutch-cased and are newly initialized: ['classifier.weight', 'bert.pooler.dense.weight', 'classifier.bias', 'bert.pooler.dense.bias']\n",
      "You should probably TRAIN this model on a down-stream task to be able to use it for predictions and inference.\n",
      "C:\\Users\\jensk\\miniconda3\\envs\\gpu\\lib\\site-packages\\simpletransformers\\classification\\classification_model.py:612: UserWarning: Dataframe headers not specified. Falling back to using column 0 as text and column 1 as labels.\n",
      "  warnings.warn(\n"
     ]
    },
    {
     "data": {
      "application/vnd.jupyter.widget-view+json": {
       "model_id": "35ef09dcc4eb4b3d86664c0fcb304521",
       "version_major": 2,
       "version_minor": 0
      },
      "text/plain": [
       "  0%|          | 0/1340 [00:00<?, ?it/s]"
      ]
     },
     "metadata": {},
     "output_type": "display_data"
    },
    {
     "data": {
      "application/vnd.jupyter.widget-view+json": {
       "model_id": "9f8d3271a4d74abf81a88a04dff97d58",
       "version_major": 2,
       "version_minor": 0
      },
      "text/plain": [
       "Epoch:   0%|          | 0/4 [00:00<?, ?it/s]"
      ]
     },
     "metadata": {},
     "output_type": "display_data"
    },
    {
     "data": {
      "application/vnd.jupyter.widget-view+json": {
       "model_id": "60a8740707cc47e2bc7eaebcf30bfadf",
       "version_major": 2,
       "version_minor": 0
      },
      "text/plain": [
       "Running Epoch 0 of 4:   0%|          | 0/42 [00:00<?, ?it/s]"
      ]
     },
     "metadata": {},
     "output_type": "display_data"
    },
    {
     "data": {
      "application/vnd.jupyter.widget-view+json": {
       "model_id": "38de5da3c06a4d709fe77224690e00c9",
       "version_major": 2,
       "version_minor": 0
      },
      "text/plain": [
       "Running Epoch 1 of 4:   0%|          | 0/42 [00:00<?, ?it/s]"
      ]
     },
     "metadata": {},
     "output_type": "display_data"
    },
    {
     "data": {
      "application/vnd.jupyter.widget-view+json": {
       "model_id": "15ec32854ccf48ad84b37d60845f0f2f",
       "version_major": 2,
       "version_minor": 0
      },
      "text/plain": [
       "Running Epoch 2 of 4:   0%|          | 0/42 [00:00<?, ?it/s]"
      ]
     },
     "metadata": {},
     "output_type": "display_data"
    },
    {
     "data": {
      "application/vnd.jupyter.widget-view+json": {
       "model_id": "cd0decf422894421bc37c80af836b94c",
       "version_major": 2,
       "version_minor": 0
      },
      "text/plain": [
       "Running Epoch 3 of 4:   0%|          | 0/42 [00:00<?, ?it/s]"
      ]
     },
     "metadata": {},
     "output_type": "display_data"
    },
    {
     "name": "stderr",
     "output_type": "stream",
     "text": [
      "C:\\Users\\jensk\\miniconda3\\envs\\gpu\\lib\\site-packages\\simpletransformers\\classification\\classification_model.py:1454: UserWarning: Dataframe headers not specified. Falling back to using column 0 as text and column 1 as labels.\n",
      "  warnings.warn(\n"
     ]
    },
    {
     "data": {
      "application/vnd.jupyter.widget-view+json": {
       "model_id": "476f074cbdae4f108f468d68d1031028",
       "version_major": 2,
       "version_minor": 0
      },
      "text/plain": [
       "  0%|          | 0/149 [00:00<?, ?it/s]"
      ]
     },
     "metadata": {},
     "output_type": "display_data"
    },
    {
     "data": {
      "application/vnd.jupyter.widget-view+json": {
       "model_id": "a6de5b5937bb4c3e8662165d73c6a0c6",
       "version_major": 2,
       "version_minor": 0
      },
      "text/plain": [
       "Running Evaluation:   0%|          | 0/19 [00:00<?, ?it/s]"
      ]
     },
     "metadata": {},
     "output_type": "display_data"
    },
    {
     "data": {
      "text/html": [
       "Waiting for W&B process to finish... <strong style=\"color:green\">(success).</strong>"
      ],
      "text/plain": [
       "<IPython.core.display.HTML object>"
      ]
     },
     "metadata": {},
     "output_type": "display_data"
    },
    {
     "data": {
      "text/html": [
       "<style>\n",
       "    table.wandb td:nth-child(1) { padding: 0 10px; text-align: left ; width: auto;} td:nth-child(2) {text-align: left ; width: 100%}\n",
       "    .wandb-row { display: flex; flex-direction: row; flex-wrap: wrap; justify-content: flex-start; width: 100% }\n",
       "    .wandb-col { display: flex; flex-direction: column; flex-basis: 100%; flex: 1; padding: 10px; }\n",
       "    </style>\n",
       "<div class=\"wandb-row\"><div class=\"wandb-col\"><h3>Run history:</h3><br/><table class=\"wandb\"><tr><td>Training loss</td><td>▄█▁</td></tr><tr><td>f1</td><td>▁</td></tr><tr><td>global_step</td><td>▁▅█</td></tr><tr><td>lr</td><td>█▄▁</td></tr><tr><td>mcc</td><td>▁</td></tr></table><br/></div><div class=\"wandb-col\"><h3>Run summary:</h3><br/><table class=\"wandb\"><tr><td>Training loss</td><td>0.00229</td></tr><tr><td>f1</td><td>0.91275</td></tr><tr><td>global_step</td><td>150</td></tr><tr><td>lr</td><td>1e-05</td></tr><tr><td>mcc</td><td>0.69268</td></tr></table><br/></div></div>"
      ],
      "text/plain": [
       "<IPython.core.display.HTML object>"
      ]
     },
     "metadata": {},
     "output_type": "display_data"
    },
    {
     "data": {
      "text/html": [
       " View run <strong style=\"color:#cdcd00\">daily-sweep-10</strong> at: <a href='https://wandb.ai/spacehack100/Test%20sweep/runs/pyve8t1o' target=\"_blank\">https://wandb.ai/spacehack100/Test%20sweep/runs/pyve8t1o</a><br/>Synced 6 W&B file(s), 3 media file(s), 3 artifact file(s) and 0 other file(s)"
      ],
      "text/plain": [
       "<IPython.core.display.HTML object>"
      ]
     },
     "metadata": {},
     "output_type": "display_data"
    },
    {
     "data": {
      "text/html": [
       "Find logs at: <code>.\\wandb\\run-20230308_154958-pyve8t1o\\logs</code>"
      ],
      "text/plain": [
       "<IPython.core.display.HTML object>"
      ]
     },
     "metadata": {},
     "output_type": "display_data"
    },
    {
     "name": "stderr",
     "output_type": "stream",
     "text": [
      "\u001b[34m\u001b[1mwandb\u001b[0m: Sweep Agent: Waiting for job.\n",
      "\u001b[34m\u001b[1mwandb\u001b[0m: Job received.\n",
      "\u001b[34m\u001b[1mwandb\u001b[0m: Agent Starting Run: zv3yxrhw with config:\n",
      "\u001b[34m\u001b[1mwandb\u001b[0m: \tlearning_rate: 5e-05\n",
      "\u001b[34m\u001b[1mwandb\u001b[0m: \tnum_train_epochs: 5\n",
      "\u001b[34m\u001b[1mwandb\u001b[0m: \ttrain_batch_size: 16\n"
     ]
    },
    {
     "data": {
      "text/html": [
       "wandb version 0.13.11 is available!  To upgrade, please run:\n",
       " $ pip install wandb --upgrade"
      ],
      "text/plain": [
       "<IPython.core.display.HTML object>"
      ]
     },
     "metadata": {},
     "output_type": "display_data"
    },
    {
     "data": {
      "text/html": [
       "Tracking run with wandb version 0.13.10"
      ],
      "text/plain": [
       "<IPython.core.display.HTML object>"
      ]
     },
     "metadata": {},
     "output_type": "display_data"
    },
    {
     "data": {
      "text/html": [
       "Run data is saved locally in <code>C:\\De Nayer 2022-2023\\Bachelorproef\\Jupyter notebook\\wandb\\run-20230308_155124-zv3yxrhw</code>"
      ],
      "text/plain": [
       "<IPython.core.display.HTML object>"
      ]
     },
     "metadata": {},
     "output_type": "display_data"
    },
    {
     "data": {
      "text/html": [
       "Syncing run <strong><a href='https://wandb.ai/spacehack100/Test%20sweep/runs/zv3yxrhw' target=\"_blank\">solar-sweep-11</a></strong> to <a href='https://wandb.ai/spacehack100/Test%20sweep' target=\"_blank\">Weights & Biases</a> (<a href='https://wandb.me/run' target=\"_blank\">docs</a>)<br/>Sweep page: <a href='https://wandb.ai/spacehack100/Test%20sweep/sweeps/ubozjgk2' target=\"_blank\">https://wandb.ai/spacehack100/Test%20sweep/sweeps/ubozjgk2</a>"
      ],
      "text/plain": [
       "<IPython.core.display.HTML object>"
      ]
     },
     "metadata": {},
     "output_type": "display_data"
    },
    {
     "data": {
      "text/html": [
       " View project at <a href='https://wandb.ai/spacehack100/Test%20sweep' target=\"_blank\">https://wandb.ai/spacehack100/Test%20sweep</a>"
      ],
      "text/plain": [
       "<IPython.core.display.HTML object>"
      ]
     },
     "metadata": {},
     "output_type": "display_data"
    },
    {
     "data": {
      "text/html": [
       " View sweep at <a href='https://wandb.ai/spacehack100/Test%20sweep/sweeps/ubozjgk2' target=\"_blank\">https://wandb.ai/spacehack100/Test%20sweep/sweeps/ubozjgk2</a>"
      ],
      "text/plain": [
       "<IPython.core.display.HTML object>"
      ]
     },
     "metadata": {},
     "output_type": "display_data"
    },
    {
     "data": {
      "text/html": [
       " View run at <a href='https://wandb.ai/spacehack100/Test%20sweep/runs/zv3yxrhw' target=\"_blank\">https://wandb.ai/spacehack100/Test%20sweep/runs/zv3yxrhw</a>"
      ],
      "text/plain": [
       "<IPython.core.display.HTML object>"
      ]
     },
     "metadata": {},
     "output_type": "display_data"
    },
    {
     "name": "stdout",
     "output_type": "stream",
     "text": [
      "[0.6052393857271906, 2.875536480686695]\n"
     ]
    },
    {
     "name": "stderr",
     "output_type": "stream",
     "text": [
      "Some weights of the model checkpoint at GroNLP/bert-base-dutch-cased were not used when initializing BertForSequenceClassification: ['cls.predictions.decoder.weight', 'cls.predictions.decoder.bias', 'cls.predictions.transform.dense.weight', 'cls.predictions.transform.LayerNorm.bias', 'cls.predictions.transform.dense.bias', 'cls.predictions.transform.LayerNorm.weight', 'cls.predictions.bias']\n",
      "- This IS expected if you are initializing BertForSequenceClassification from the checkpoint of a model trained on another task or with another architecture (e.g. initializing a BertForSequenceClassification model from a BertForPreTraining model).\n",
      "- This IS NOT expected if you are initializing BertForSequenceClassification from the checkpoint of a model that you expect to be exactly identical (initializing a BertForSequenceClassification model from a BertForSequenceClassification model).\n",
      "Some weights of BertForSequenceClassification were not initialized from the model checkpoint at GroNLP/bert-base-dutch-cased and are newly initialized: ['classifier.weight', 'bert.pooler.dense.weight', 'classifier.bias', 'bert.pooler.dense.bias']\n",
      "You should probably TRAIN this model on a down-stream task to be able to use it for predictions and inference.\n",
      "C:\\Users\\jensk\\miniconda3\\envs\\gpu\\lib\\site-packages\\simpletransformers\\classification\\classification_model.py:612: UserWarning: Dataframe headers not specified. Falling back to using column 0 as text and column 1 as labels.\n",
      "  warnings.warn(\n"
     ]
    },
    {
     "data": {
      "application/vnd.jupyter.widget-view+json": {
       "model_id": "a767bd585b9b43fc942ac7c940d2a52f",
       "version_major": 2,
       "version_minor": 0
      },
      "text/plain": [
       "  0%|          | 0/1340 [00:00<?, ?it/s]"
      ]
     },
     "metadata": {},
     "output_type": "display_data"
    },
    {
     "data": {
      "application/vnd.jupyter.widget-view+json": {
       "model_id": "d3f4ccb421cc4c31ad266abdcc1ab374",
       "version_major": 2,
       "version_minor": 0
      },
      "text/plain": [
       "Epoch:   0%|          | 0/5 [00:00<?, ?it/s]"
      ]
     },
     "metadata": {},
     "output_type": "display_data"
    },
    {
     "data": {
      "application/vnd.jupyter.widget-view+json": {
       "model_id": "91074bd2474f4b13abd60fb0e2c75593",
       "version_major": 2,
       "version_minor": 0
      },
      "text/plain": [
       "Running Epoch 0 of 5:   0%|          | 0/84 [00:00<?, ?it/s]"
      ]
     },
     "metadata": {},
     "output_type": "display_data"
    },
    {
     "data": {
      "application/vnd.jupyter.widget-view+json": {
       "model_id": "b176827c2f354bb9accb7df1450ff736",
       "version_major": 2,
       "version_minor": 0
      },
      "text/plain": [
       "Running Epoch 1 of 5:   0%|          | 0/84 [00:00<?, ?it/s]"
      ]
     },
     "metadata": {},
     "output_type": "display_data"
    },
    {
     "data": {
      "application/vnd.jupyter.widget-view+json": {
       "model_id": "2abaed1e0709464c8d1436ee4255bca6",
       "version_major": 2,
       "version_minor": 0
      },
      "text/plain": [
       "Running Epoch 2 of 5:   0%|          | 0/84 [00:00<?, ?it/s]"
      ]
     },
     "metadata": {},
     "output_type": "display_data"
    },
    {
     "data": {
      "application/vnd.jupyter.widget-view+json": {
       "model_id": "ac84c31fabca4339b77747503facb599",
       "version_major": 2,
       "version_minor": 0
      },
      "text/plain": [
       "Running Epoch 3 of 5:   0%|          | 0/84 [00:00<?, ?it/s]"
      ]
     },
     "metadata": {},
     "output_type": "display_data"
    },
    {
     "data": {
      "application/vnd.jupyter.widget-view+json": {
       "model_id": "d871054730334be4a5151636fcd5c9c3",
       "version_major": 2,
       "version_minor": 0
      },
      "text/plain": [
       "Running Epoch 4 of 5:   0%|          | 0/84 [00:00<?, ?it/s]"
      ]
     },
     "metadata": {},
     "output_type": "display_data"
    },
    {
     "name": "stderr",
     "output_type": "stream",
     "text": [
      "C:\\Users\\jensk\\miniconda3\\envs\\gpu\\lib\\site-packages\\simpletransformers\\classification\\classification_model.py:1454: UserWarning: Dataframe headers not specified. Falling back to using column 0 as text and column 1 as labels.\n",
      "  warnings.warn(\n"
     ]
    },
    {
     "data": {
      "application/vnd.jupyter.widget-view+json": {
       "model_id": "8e4fbcc6989143258b823efc02edac73",
       "version_major": 2,
       "version_minor": 0
      },
      "text/plain": [
       "  0%|          | 0/149 [00:00<?, ?it/s]"
      ]
     },
     "metadata": {},
     "output_type": "display_data"
    },
    {
     "data": {
      "application/vnd.jupyter.widget-view+json": {
       "model_id": "f4415024932843f092ffeeb35a00d8fd",
       "version_major": 2,
       "version_minor": 0
      },
      "text/plain": [
       "Running Evaluation:   0%|          | 0/19 [00:00<?, ?it/s]"
      ]
     },
     "metadata": {},
     "output_type": "display_data"
    },
    {
     "data": {
      "text/html": [
       "Waiting for W&B process to finish... <strong style=\"color:green\">(success).</strong>"
      ],
      "text/plain": [
       "<IPython.core.display.HTML object>"
      ]
     },
     "metadata": {},
     "output_type": "display_data"
    },
    {
     "data": {
      "text/html": [
       "<style>\n",
       "    table.wandb td:nth-child(1) { padding: 0 10px; text-align: left ; width: auto;} td:nth-child(2) {text-align: left ; width: 100%}\n",
       "    .wandb-row { display: flex; flex-direction: row; flex-wrap: wrap; justify-content: flex-start; width: 100% }\n",
       "    .wandb-col { display: flex; flex-direction: column; flex-basis: 100%; flex: 1; padding: 10px; }\n",
       "    </style>\n",
       "<div class=\"wandb-row\"><div class=\"wandb-col\"><h3>Run history:</h3><br/><table class=\"wandb\"><tr><td>Training loss</td><td>█▂▃▁▁▆▁▁</td></tr><tr><td>f1</td><td>▁</td></tr><tr><td>global_step</td><td>▁▂▃▄▅▆▇█</td></tr><tr><td>lr</td><td>█▇▆▅▄▃▂▁</td></tr><tr><td>mcc</td><td>▁</td></tr></table><br/></div><div class=\"wandb-col\"><h3>Run summary:</h3><br/><table class=\"wandb\"><tr><td>Training loss</td><td>0.0008</td></tr><tr><td>f1</td><td>0.93289</td></tr><tr><td>global_step</td><td>400</td></tr><tr><td>lr</td><td>0.0</td></tr><tr><td>mcc</td><td>0.75573</td></tr></table><br/></div></div>"
      ],
      "text/plain": [
       "<IPython.core.display.HTML object>"
      ]
     },
     "metadata": {},
     "output_type": "display_data"
    },
    {
     "data": {
      "text/html": [
       " View run <strong style=\"color:#cdcd00\">solar-sweep-11</strong> at: <a href='https://wandb.ai/spacehack100/Test%20sweep/runs/zv3yxrhw' target=\"_blank\">https://wandb.ai/spacehack100/Test%20sweep/runs/zv3yxrhw</a><br/>Synced 6 W&B file(s), 3 media file(s), 3 artifact file(s) and 0 other file(s)"
      ],
      "text/plain": [
       "<IPython.core.display.HTML object>"
      ]
     },
     "metadata": {},
     "output_type": "display_data"
    },
    {
     "data": {
      "text/html": [
       "Find logs at: <code>.\\wandb\\run-20230308_155124-zv3yxrhw\\logs</code>"
      ],
      "text/plain": [
       "<IPython.core.display.HTML object>"
      ]
     },
     "metadata": {},
     "output_type": "display_data"
    },
    {
     "name": "stderr",
     "output_type": "stream",
     "text": [
      "\u001b[34m\u001b[1mwandb\u001b[0m: Agent Starting Run: x9vfe0pa with config:\n",
      "\u001b[34m\u001b[1mwandb\u001b[0m: \tlearning_rate: 5e-05\n",
      "\u001b[34m\u001b[1mwandb\u001b[0m: \tnum_train_epochs: 5\n",
      "\u001b[34m\u001b[1mwandb\u001b[0m: \ttrain_batch_size: 32\n"
     ]
    },
    {
     "data": {
      "text/html": [
       "wandb version 0.13.11 is available!  To upgrade, please run:\n",
       " $ pip install wandb --upgrade"
      ],
      "text/plain": [
       "<IPython.core.display.HTML object>"
      ]
     },
     "metadata": {},
     "output_type": "display_data"
    },
    {
     "data": {
      "text/html": [
       "Tracking run with wandb version 0.13.10"
      ],
      "text/plain": [
       "<IPython.core.display.HTML object>"
      ]
     },
     "metadata": {},
     "output_type": "display_data"
    },
    {
     "data": {
      "text/html": [
       "Run data is saved locally in <code>C:\\De Nayer 2022-2023\\Bachelorproef\\Jupyter notebook\\wandb\\run-20230308_155306-x9vfe0pa</code>"
      ],
      "text/plain": [
       "<IPython.core.display.HTML object>"
      ]
     },
     "metadata": {},
     "output_type": "display_data"
    },
    {
     "data": {
      "text/html": [
       "Syncing run <strong><a href='https://wandb.ai/spacehack100/Test%20sweep/runs/x9vfe0pa' target=\"_blank\">feasible-sweep-12</a></strong> to <a href='https://wandb.ai/spacehack100/Test%20sweep' target=\"_blank\">Weights & Biases</a> (<a href='https://wandb.me/run' target=\"_blank\">docs</a>)<br/>Sweep page: <a href='https://wandb.ai/spacehack100/Test%20sweep/sweeps/ubozjgk2' target=\"_blank\">https://wandb.ai/spacehack100/Test%20sweep/sweeps/ubozjgk2</a>"
      ],
      "text/plain": [
       "<IPython.core.display.HTML object>"
      ]
     },
     "metadata": {},
     "output_type": "display_data"
    },
    {
     "data": {
      "text/html": [
       " View project at <a href='https://wandb.ai/spacehack100/Test%20sweep' target=\"_blank\">https://wandb.ai/spacehack100/Test%20sweep</a>"
      ],
      "text/plain": [
       "<IPython.core.display.HTML object>"
      ]
     },
     "metadata": {},
     "output_type": "display_data"
    },
    {
     "data": {
      "text/html": [
       " View sweep at <a href='https://wandb.ai/spacehack100/Test%20sweep/sweeps/ubozjgk2' target=\"_blank\">https://wandb.ai/spacehack100/Test%20sweep/sweeps/ubozjgk2</a>"
      ],
      "text/plain": [
       "<IPython.core.display.HTML object>"
      ]
     },
     "metadata": {},
     "output_type": "display_data"
    },
    {
     "data": {
      "text/html": [
       " View run at <a href='https://wandb.ai/spacehack100/Test%20sweep/runs/x9vfe0pa' target=\"_blank\">https://wandb.ai/spacehack100/Test%20sweep/runs/x9vfe0pa</a>"
      ],
      "text/plain": [
       "<IPython.core.display.HTML object>"
      ]
     },
     "metadata": {},
     "output_type": "display_data"
    },
    {
     "name": "stdout",
     "output_type": "stream",
     "text": [
      "[0.6052393857271906, 2.875536480686695]\n"
     ]
    },
    {
     "name": "stderr",
     "output_type": "stream",
     "text": [
      "Some weights of the model checkpoint at GroNLP/bert-base-dutch-cased were not used when initializing BertForSequenceClassification: ['cls.predictions.decoder.weight', 'cls.predictions.decoder.bias', 'cls.predictions.transform.dense.weight', 'cls.predictions.transform.LayerNorm.bias', 'cls.predictions.transform.dense.bias', 'cls.predictions.transform.LayerNorm.weight', 'cls.predictions.bias']\n",
      "- This IS expected if you are initializing BertForSequenceClassification from the checkpoint of a model trained on another task or with another architecture (e.g. initializing a BertForSequenceClassification model from a BertForPreTraining model).\n",
      "- This IS NOT expected if you are initializing BertForSequenceClassification from the checkpoint of a model that you expect to be exactly identical (initializing a BertForSequenceClassification model from a BertForSequenceClassification model).\n",
      "Some weights of BertForSequenceClassification were not initialized from the model checkpoint at GroNLP/bert-base-dutch-cased and are newly initialized: ['classifier.weight', 'bert.pooler.dense.weight', 'classifier.bias', 'bert.pooler.dense.bias']\n",
      "You should probably TRAIN this model on a down-stream task to be able to use it for predictions and inference.\n",
      "C:\\Users\\jensk\\miniconda3\\envs\\gpu\\lib\\site-packages\\simpletransformers\\classification\\classification_model.py:612: UserWarning: Dataframe headers not specified. Falling back to using column 0 as text and column 1 as labels.\n",
      "  warnings.warn(\n"
     ]
    },
    {
     "data": {
      "application/vnd.jupyter.widget-view+json": {
       "model_id": "fbbdc2b749cb4f58838df16219c20ad6",
       "version_major": 2,
       "version_minor": 0
      },
      "text/plain": [
       "  0%|          | 0/1340 [00:00<?, ?it/s]"
      ]
     },
     "metadata": {},
     "output_type": "display_data"
    },
    {
     "data": {
      "application/vnd.jupyter.widget-view+json": {
       "model_id": "fc947170769e457baea3d4fb8ad77981",
       "version_major": 2,
       "version_minor": 0
      },
      "text/plain": [
       "Epoch:   0%|          | 0/5 [00:00<?, ?it/s]"
      ]
     },
     "metadata": {},
     "output_type": "display_data"
    },
    {
     "data": {
      "application/vnd.jupyter.widget-view+json": {
       "model_id": "8ed4c11376244b1eb639576f9c5fc5f8",
       "version_major": 2,
       "version_minor": 0
      },
      "text/plain": [
       "Running Epoch 0 of 5:   0%|          | 0/42 [00:00<?, ?it/s]"
      ]
     },
     "metadata": {},
     "output_type": "display_data"
    },
    {
     "data": {
      "application/vnd.jupyter.widget-view+json": {
       "model_id": "bf3ca88a1f014d3abd779723f0656643",
       "version_major": 2,
       "version_minor": 0
      },
      "text/plain": [
       "Running Epoch 1 of 5:   0%|          | 0/42 [00:00<?, ?it/s]"
      ]
     },
     "metadata": {},
     "output_type": "display_data"
    },
    {
     "data": {
      "application/vnd.jupyter.widget-view+json": {
       "model_id": "f6a68e0795724d17b49b7014a8bb2990",
       "version_major": 2,
       "version_minor": 0
      },
      "text/plain": [
       "Running Epoch 2 of 5:   0%|          | 0/42 [00:00<?, ?it/s]"
      ]
     },
     "metadata": {},
     "output_type": "display_data"
    },
    {
     "data": {
      "application/vnd.jupyter.widget-view+json": {
       "model_id": "94c7da70838f47f6812d63d0c65d078d",
       "version_major": 2,
       "version_minor": 0
      },
      "text/plain": [
       "Running Epoch 3 of 5:   0%|          | 0/42 [00:00<?, ?it/s]"
      ]
     },
     "metadata": {},
     "output_type": "display_data"
    },
    {
     "data": {
      "application/vnd.jupyter.widget-view+json": {
       "model_id": "d4ce3f8916d64252bd3f5c19165d4775",
       "version_major": 2,
       "version_minor": 0
      },
      "text/plain": [
       "Running Epoch 4 of 5:   0%|          | 0/42 [00:00<?, ?it/s]"
      ]
     },
     "metadata": {},
     "output_type": "display_data"
    },
    {
     "name": "stderr",
     "output_type": "stream",
     "text": [
      "C:\\Users\\jensk\\miniconda3\\envs\\gpu\\lib\\site-packages\\simpletransformers\\classification\\classification_model.py:1454: UserWarning: Dataframe headers not specified. Falling back to using column 0 as text and column 1 as labels.\n",
      "  warnings.warn(\n"
     ]
    },
    {
     "data": {
      "application/vnd.jupyter.widget-view+json": {
       "model_id": "f434265ce76f48c3b50ea20919135d85",
       "version_major": 2,
       "version_minor": 0
      },
      "text/plain": [
       "  0%|          | 0/149 [00:00<?, ?it/s]"
      ]
     },
     "metadata": {},
     "output_type": "display_data"
    },
    {
     "data": {
      "application/vnd.jupyter.widget-view+json": {
       "model_id": "0cc95cfe7f7b4e6bbf40c177ba604db7",
       "version_major": 2,
       "version_minor": 0
      },
      "text/plain": [
       "Running Evaluation:   0%|          | 0/19 [00:00<?, ?it/s]"
      ]
     },
     "metadata": {},
     "output_type": "display_data"
    },
    {
     "data": {
      "text/html": [
       "Waiting for W&B process to finish... <strong style=\"color:green\">(success).</strong>"
      ],
      "text/plain": [
       "<IPython.core.display.HTML object>"
      ]
     },
     "metadata": {},
     "output_type": "display_data"
    },
    {
     "data": {
      "text/html": [
       "<style>\n",
       "    table.wandb td:nth-child(1) { padding: 0 10px; text-align: left ; width: auto;} td:nth-child(2) {text-align: left ; width: 100%}\n",
       "    .wandb-row { display: flex; flex-direction: row; flex-wrap: wrap; justify-content: flex-start; width: 100% }\n",
       "    .wandb-col { display: flex; flex-direction: column; flex-basis: 100%; flex: 1; padding: 10px; }\n",
       "    </style>\n",
       "<div class=\"wandb-row\"><div class=\"wandb-col\"><h3>Run history:</h3><br/><table class=\"wandb\"><tr><td>Training loss</td><td>▅▁▁█</td></tr><tr><td>f1</td><td>▁</td></tr><tr><td>global_step</td><td>▁▃▆█</td></tr><tr><td>lr</td><td>█▆▃▁</td></tr><tr><td>mcc</td><td>▁</td></tr></table><br/></div><div class=\"wandb-col\"><h3>Run summary:</h3><br/><table class=\"wandb\"><tr><td>Training loss</td><td>0.12352</td></tr><tr><td>f1</td><td>0.94631</td></tr><tr><td>global_step</td><td>200</td></tr><tr><td>lr</td><td>0.0</td></tr><tr><td>mcc</td><td>0.80557</td></tr></table><br/></div></div>"
      ],
      "text/plain": [
       "<IPython.core.display.HTML object>"
      ]
     },
     "metadata": {},
     "output_type": "display_data"
    },
    {
     "data": {
      "text/html": [
       " View run <strong style=\"color:#cdcd00\">feasible-sweep-12</strong> at: <a href='https://wandb.ai/spacehack100/Test%20sweep/runs/x9vfe0pa' target=\"_blank\">https://wandb.ai/spacehack100/Test%20sweep/runs/x9vfe0pa</a><br/>Synced 6 W&B file(s), 3 media file(s), 3 artifact file(s) and 0 other file(s)"
      ],
      "text/plain": [
       "<IPython.core.display.HTML object>"
      ]
     },
     "metadata": {},
     "output_type": "display_data"
    },
    {
     "data": {
      "text/html": [
       "Find logs at: <code>.\\wandb\\run-20230308_155306-x9vfe0pa\\logs</code>"
      ],
      "text/plain": [
       "<IPython.core.display.HTML object>"
      ]
     },
     "metadata": {},
     "output_type": "display_data"
    },
    {
     "name": "stderr",
     "output_type": "stream",
     "text": [
      "\u001b[34m\u001b[1mwandb\u001b[0m: Agent Starting Run: uyo9o78v with config:\n",
      "\u001b[34m\u001b[1mwandb\u001b[0m: \tlearning_rate: 6e-05\n",
      "\u001b[34m\u001b[1mwandb\u001b[0m: \tnum_train_epochs: 3\n",
      "\u001b[34m\u001b[1mwandb\u001b[0m: \ttrain_batch_size: 16\n"
     ]
    },
    {
     "data": {
      "text/html": [
       "wandb version 0.13.11 is available!  To upgrade, please run:\n",
       " $ pip install wandb --upgrade"
      ],
      "text/plain": [
       "<IPython.core.display.HTML object>"
      ]
     },
     "metadata": {},
     "output_type": "display_data"
    },
    {
     "data": {
      "text/html": [
       "Tracking run with wandb version 0.13.10"
      ],
      "text/plain": [
       "<IPython.core.display.HTML object>"
      ]
     },
     "metadata": {},
     "output_type": "display_data"
    },
    {
     "data": {
      "text/html": [
       "Run data is saved locally in <code>C:\\De Nayer 2022-2023\\Bachelorproef\\Jupyter notebook\\wandb\\run-20230308_155440-uyo9o78v</code>"
      ],
      "text/plain": [
       "<IPython.core.display.HTML object>"
      ]
     },
     "metadata": {},
     "output_type": "display_data"
    },
    {
     "data": {
      "text/html": [
       "Syncing run <strong><a href='https://wandb.ai/spacehack100/Test%20sweep/runs/uyo9o78v' target=\"_blank\">glorious-sweep-13</a></strong> to <a href='https://wandb.ai/spacehack100/Test%20sweep' target=\"_blank\">Weights & Biases</a> (<a href='https://wandb.me/run' target=\"_blank\">docs</a>)<br/>Sweep page: <a href='https://wandb.ai/spacehack100/Test%20sweep/sweeps/ubozjgk2' target=\"_blank\">https://wandb.ai/spacehack100/Test%20sweep/sweeps/ubozjgk2</a>"
      ],
      "text/plain": [
       "<IPython.core.display.HTML object>"
      ]
     },
     "metadata": {},
     "output_type": "display_data"
    },
    {
     "data": {
      "text/html": [
       " View project at <a href='https://wandb.ai/spacehack100/Test%20sweep' target=\"_blank\">https://wandb.ai/spacehack100/Test%20sweep</a>"
      ],
      "text/plain": [
       "<IPython.core.display.HTML object>"
      ]
     },
     "metadata": {},
     "output_type": "display_data"
    },
    {
     "data": {
      "text/html": [
       " View sweep at <a href='https://wandb.ai/spacehack100/Test%20sweep/sweeps/ubozjgk2' target=\"_blank\">https://wandb.ai/spacehack100/Test%20sweep/sweeps/ubozjgk2</a>"
      ],
      "text/plain": [
       "<IPython.core.display.HTML object>"
      ]
     },
     "metadata": {},
     "output_type": "display_data"
    },
    {
     "data": {
      "text/html": [
       " View run at <a href='https://wandb.ai/spacehack100/Test%20sweep/runs/uyo9o78v' target=\"_blank\">https://wandb.ai/spacehack100/Test%20sweep/runs/uyo9o78v</a>"
      ],
      "text/plain": [
       "<IPython.core.display.HTML object>"
      ]
     },
     "metadata": {},
     "output_type": "display_data"
    },
    {
     "name": "stdout",
     "output_type": "stream",
     "text": [
      "[0.6052393857271906, 2.875536480686695]\n"
     ]
    },
    {
     "name": "stderr",
     "output_type": "stream",
     "text": [
      "Some weights of the model checkpoint at GroNLP/bert-base-dutch-cased were not used when initializing BertForSequenceClassification: ['cls.predictions.decoder.weight', 'cls.predictions.decoder.bias', 'cls.predictions.transform.dense.weight', 'cls.predictions.transform.LayerNorm.bias', 'cls.predictions.transform.dense.bias', 'cls.predictions.transform.LayerNorm.weight', 'cls.predictions.bias']\n",
      "- This IS expected if you are initializing BertForSequenceClassification from the checkpoint of a model trained on another task or with another architecture (e.g. initializing a BertForSequenceClassification model from a BertForPreTraining model).\n",
      "- This IS NOT expected if you are initializing BertForSequenceClassification from the checkpoint of a model that you expect to be exactly identical (initializing a BertForSequenceClassification model from a BertForSequenceClassification model).\n",
      "Some weights of BertForSequenceClassification were not initialized from the model checkpoint at GroNLP/bert-base-dutch-cased and are newly initialized: ['classifier.weight', 'bert.pooler.dense.weight', 'classifier.bias', 'bert.pooler.dense.bias']\n",
      "You should probably TRAIN this model on a down-stream task to be able to use it for predictions and inference.\n",
      "C:\\Users\\jensk\\miniconda3\\envs\\gpu\\lib\\site-packages\\simpletransformers\\classification\\classification_model.py:612: UserWarning: Dataframe headers not specified. Falling back to using column 0 as text and column 1 as labels.\n",
      "  warnings.warn(\n"
     ]
    },
    {
     "data": {
      "application/vnd.jupyter.widget-view+json": {
       "model_id": "7a3c70375b904ea9b1f9b90066f44773",
       "version_major": 2,
       "version_minor": 0
      },
      "text/plain": [
       "  0%|          | 0/1340 [00:00<?, ?it/s]"
      ]
     },
     "metadata": {},
     "output_type": "display_data"
    },
    {
     "data": {
      "application/vnd.jupyter.widget-view+json": {
       "model_id": "08ffdf8d774945aca9ca93cc6ba9ef19",
       "version_major": 2,
       "version_minor": 0
      },
      "text/plain": [
       "Epoch:   0%|          | 0/3 [00:00<?, ?it/s]"
      ]
     },
     "metadata": {},
     "output_type": "display_data"
    },
    {
     "data": {
      "application/vnd.jupyter.widget-view+json": {
       "model_id": "e546f2ae5ee5427db9ba1888552fd962",
       "version_major": 2,
       "version_minor": 0
      },
      "text/plain": [
       "Running Epoch 0 of 3:   0%|          | 0/84 [00:00<?, ?it/s]"
      ]
     },
     "metadata": {},
     "output_type": "display_data"
    },
    {
     "data": {
      "application/vnd.jupyter.widget-view+json": {
       "model_id": "2ddd9646eb424e1ea65362724b9fa74f",
       "version_major": 2,
       "version_minor": 0
      },
      "text/plain": [
       "Running Epoch 1 of 3:   0%|          | 0/84 [00:00<?, ?it/s]"
      ]
     },
     "metadata": {},
     "output_type": "display_data"
    },
    {
     "data": {
      "application/vnd.jupyter.widget-view+json": {
       "model_id": "e84671f8f50941e7bbefa55595b4b21b",
       "version_major": 2,
       "version_minor": 0
      },
      "text/plain": [
       "Running Epoch 2 of 3:   0%|          | 0/84 [00:00<?, ?it/s]"
      ]
     },
     "metadata": {},
     "output_type": "display_data"
    },
    {
     "name": "stderr",
     "output_type": "stream",
     "text": [
      "C:\\Users\\jensk\\miniconda3\\envs\\gpu\\lib\\site-packages\\simpletransformers\\classification\\classification_model.py:1454: UserWarning: Dataframe headers not specified. Falling back to using column 0 as text and column 1 as labels.\n",
      "  warnings.warn(\n"
     ]
    },
    {
     "data": {
      "application/vnd.jupyter.widget-view+json": {
       "model_id": "bae47c0acb334a77bd186de45d577c21",
       "version_major": 2,
       "version_minor": 0
      },
      "text/plain": [
       "  0%|          | 0/149 [00:00<?, ?it/s]"
      ]
     },
     "metadata": {},
     "output_type": "display_data"
    },
    {
     "data": {
      "application/vnd.jupyter.widget-view+json": {
       "model_id": "4f81c62be81b41c094905423d8b45bb6",
       "version_major": 2,
       "version_minor": 0
      },
      "text/plain": [
       "Running Evaluation:   0%|          | 0/19 [00:00<?, ?it/s]"
      ]
     },
     "metadata": {},
     "output_type": "display_data"
    },
    {
     "data": {
      "text/html": [
       "Waiting for W&B process to finish... <strong style=\"color:green\">(success).</strong>"
      ],
      "text/plain": [
       "<IPython.core.display.HTML object>"
      ]
     },
     "metadata": {},
     "output_type": "display_data"
    },
    {
     "data": {
      "text/html": [
       "<style>\n",
       "    table.wandb td:nth-child(1) { padding: 0 10px; text-align: left ; width: auto;} td:nth-child(2) {text-align: left ; width: 100%}\n",
       "    .wandb-row { display: flex; flex-direction: row; flex-wrap: wrap; justify-content: flex-start; width: 100% }\n",
       "    .wandb-col { display: flex; flex-direction: column; flex-basis: 100%; flex: 1; padding: 10px; }\n",
       "    </style>\n",
       "<div class=\"wandb-row\"><div class=\"wandb-col\"><h3>Run history:</h3><br/><table class=\"wandb\"><tr><td>Training loss</td><td>█▇▁▁▁</td></tr><tr><td>f1</td><td>▁</td></tr><tr><td>global_step</td><td>▁▃▅▆█</td></tr><tr><td>lr</td><td>█▆▅▃▁</td></tr><tr><td>mcc</td><td>▁</td></tr></table><br/></div><div class=\"wandb-col\"><h3>Run summary:</h3><br/><table class=\"wandb\"><tr><td>Training loss</td><td>0.00201</td></tr><tr><td>f1</td><td>0.95302</td></tr><tr><td>global_step</td><td>250</td></tr><tr><td>lr</td><td>0.0</td></tr><tr><td>mcc</td><td>0.83139</td></tr></table><br/></div></div>"
      ],
      "text/plain": [
       "<IPython.core.display.HTML object>"
      ]
     },
     "metadata": {},
     "output_type": "display_data"
    },
    {
     "data": {
      "text/html": [
       " View run <strong style=\"color:#cdcd00\">glorious-sweep-13</strong> at: <a href='https://wandb.ai/spacehack100/Test%20sweep/runs/uyo9o78v' target=\"_blank\">https://wandb.ai/spacehack100/Test%20sweep/runs/uyo9o78v</a><br/>Synced 6 W&B file(s), 3 media file(s), 3 artifact file(s) and 0 other file(s)"
      ],
      "text/plain": [
       "<IPython.core.display.HTML object>"
      ]
     },
     "metadata": {},
     "output_type": "display_data"
    },
    {
     "data": {
      "text/html": [
       "Find logs at: <code>.\\wandb\\run-20230308_155440-uyo9o78v\\logs</code>"
      ],
      "text/plain": [
       "<IPython.core.display.HTML object>"
      ]
     },
     "metadata": {},
     "output_type": "display_data"
    },
    {
     "name": "stderr",
     "output_type": "stream",
     "text": [
      "\u001b[34m\u001b[1mwandb\u001b[0m: Agent Starting Run: 8rjxlt40 with config:\n",
      "\u001b[34m\u001b[1mwandb\u001b[0m: \tlearning_rate: 6e-05\n",
      "\u001b[34m\u001b[1mwandb\u001b[0m: \tnum_train_epochs: 3\n",
      "\u001b[34m\u001b[1mwandb\u001b[0m: \ttrain_batch_size: 32\n"
     ]
    },
    {
     "data": {
      "text/html": [
       "wandb version 0.13.11 is available!  To upgrade, please run:\n",
       " $ pip install wandb --upgrade"
      ],
      "text/plain": [
       "<IPython.core.display.HTML object>"
      ]
     },
     "metadata": {},
     "output_type": "display_data"
    },
    {
     "data": {
      "text/html": [
       "Tracking run with wandb version 0.13.10"
      ],
      "text/plain": [
       "<IPython.core.display.HTML object>"
      ]
     },
     "metadata": {},
     "output_type": "display_data"
    },
    {
     "data": {
      "text/html": [
       "Run data is saved locally in <code>C:\\De Nayer 2022-2023\\Bachelorproef\\Jupyter notebook\\wandb\\run-20230308_155559-8rjxlt40</code>"
      ],
      "text/plain": [
       "<IPython.core.display.HTML object>"
      ]
     },
     "metadata": {},
     "output_type": "display_data"
    },
    {
     "data": {
      "text/html": [
       "Syncing run <strong><a href='https://wandb.ai/spacehack100/Test%20sweep/runs/8rjxlt40' target=\"_blank\">autumn-sweep-14</a></strong> to <a href='https://wandb.ai/spacehack100/Test%20sweep' target=\"_blank\">Weights & Biases</a> (<a href='https://wandb.me/run' target=\"_blank\">docs</a>)<br/>Sweep page: <a href='https://wandb.ai/spacehack100/Test%20sweep/sweeps/ubozjgk2' target=\"_blank\">https://wandb.ai/spacehack100/Test%20sweep/sweeps/ubozjgk2</a>"
      ],
      "text/plain": [
       "<IPython.core.display.HTML object>"
      ]
     },
     "metadata": {},
     "output_type": "display_data"
    },
    {
     "data": {
      "text/html": [
       " View project at <a href='https://wandb.ai/spacehack100/Test%20sweep' target=\"_blank\">https://wandb.ai/spacehack100/Test%20sweep</a>"
      ],
      "text/plain": [
       "<IPython.core.display.HTML object>"
      ]
     },
     "metadata": {},
     "output_type": "display_data"
    },
    {
     "data": {
      "text/html": [
       " View sweep at <a href='https://wandb.ai/spacehack100/Test%20sweep/sweeps/ubozjgk2' target=\"_blank\">https://wandb.ai/spacehack100/Test%20sweep/sweeps/ubozjgk2</a>"
      ],
      "text/plain": [
       "<IPython.core.display.HTML object>"
      ]
     },
     "metadata": {},
     "output_type": "display_data"
    },
    {
     "data": {
      "text/html": [
       " View run at <a href='https://wandb.ai/spacehack100/Test%20sweep/runs/8rjxlt40' target=\"_blank\">https://wandb.ai/spacehack100/Test%20sweep/runs/8rjxlt40</a>"
      ],
      "text/plain": [
       "<IPython.core.display.HTML object>"
      ]
     },
     "metadata": {},
     "output_type": "display_data"
    },
    {
     "name": "stdout",
     "output_type": "stream",
     "text": [
      "[0.6052393857271906, 2.875536480686695]\n"
     ]
    },
    {
     "name": "stderr",
     "output_type": "stream",
     "text": [
      "Some weights of the model checkpoint at GroNLP/bert-base-dutch-cased were not used when initializing BertForSequenceClassification: ['cls.predictions.decoder.weight', 'cls.predictions.decoder.bias', 'cls.predictions.transform.dense.weight', 'cls.predictions.transform.LayerNorm.bias', 'cls.predictions.transform.dense.bias', 'cls.predictions.transform.LayerNorm.weight', 'cls.predictions.bias']\n",
      "- This IS expected if you are initializing BertForSequenceClassification from the checkpoint of a model trained on another task or with another architecture (e.g. initializing a BertForSequenceClassification model from a BertForPreTraining model).\n",
      "- This IS NOT expected if you are initializing BertForSequenceClassification from the checkpoint of a model that you expect to be exactly identical (initializing a BertForSequenceClassification model from a BertForSequenceClassification model).\n",
      "Some weights of BertForSequenceClassification were not initialized from the model checkpoint at GroNLP/bert-base-dutch-cased and are newly initialized: ['classifier.weight', 'bert.pooler.dense.weight', 'classifier.bias', 'bert.pooler.dense.bias']\n",
      "You should probably TRAIN this model on a down-stream task to be able to use it for predictions and inference.\n",
      "C:\\Users\\jensk\\miniconda3\\envs\\gpu\\lib\\site-packages\\simpletransformers\\classification\\classification_model.py:612: UserWarning: Dataframe headers not specified. Falling back to using column 0 as text and column 1 as labels.\n",
      "  warnings.warn(\n"
     ]
    },
    {
     "data": {
      "application/vnd.jupyter.widget-view+json": {
       "model_id": "6166732457a948f19012d9413cf1690e",
       "version_major": 2,
       "version_minor": 0
      },
      "text/plain": [
       "  0%|          | 0/1340 [00:00<?, ?it/s]"
      ]
     },
     "metadata": {},
     "output_type": "display_data"
    },
    {
     "data": {
      "application/vnd.jupyter.widget-view+json": {
       "model_id": "de4c8e06399140ebbde4799c99794fd5",
       "version_major": 2,
       "version_minor": 0
      },
      "text/plain": [
       "Epoch:   0%|          | 0/3 [00:00<?, ?it/s]"
      ]
     },
     "metadata": {},
     "output_type": "display_data"
    },
    {
     "data": {
      "application/vnd.jupyter.widget-view+json": {
       "model_id": "e5ef737a34354ed6aea27f0d0f857ff3",
       "version_major": 2,
       "version_minor": 0
      },
      "text/plain": [
       "Running Epoch 0 of 3:   0%|          | 0/42 [00:00<?, ?it/s]"
      ]
     },
     "metadata": {},
     "output_type": "display_data"
    },
    {
     "data": {
      "application/vnd.jupyter.widget-view+json": {
       "model_id": "83973adcf63c4ff89bab7d03f33ebc3f",
       "version_major": 2,
       "version_minor": 0
      },
      "text/plain": [
       "Running Epoch 1 of 3:   0%|          | 0/42 [00:00<?, ?it/s]"
      ]
     },
     "metadata": {},
     "output_type": "display_data"
    },
    {
     "data": {
      "application/vnd.jupyter.widget-view+json": {
       "model_id": "29e27c86a86b4bb9a8d2fd221b33c122",
       "version_major": 2,
       "version_minor": 0
      },
      "text/plain": [
       "Running Epoch 2 of 3:   0%|          | 0/42 [00:00<?, ?it/s]"
      ]
     },
     "metadata": {},
     "output_type": "display_data"
    },
    {
     "name": "stderr",
     "output_type": "stream",
     "text": [
      "C:\\Users\\jensk\\miniconda3\\envs\\gpu\\lib\\site-packages\\simpletransformers\\classification\\classification_model.py:1454: UserWarning: Dataframe headers not specified. Falling back to using column 0 as text and column 1 as labels.\n",
      "  warnings.warn(\n"
     ]
    },
    {
     "data": {
      "application/vnd.jupyter.widget-view+json": {
       "model_id": "519c2c612ad341f0a04133d40d55abea",
       "version_major": 2,
       "version_minor": 0
      },
      "text/plain": [
       "  0%|          | 0/149 [00:00<?, ?it/s]"
      ]
     },
     "metadata": {},
     "output_type": "display_data"
    },
    {
     "data": {
      "application/vnd.jupyter.widget-view+json": {
       "model_id": "4c0c8eef45b6432f824c628c4be85b3d",
       "version_major": 2,
       "version_minor": 0
      },
      "text/plain": [
       "Running Evaluation:   0%|          | 0/19 [00:00<?, ?it/s]"
      ]
     },
     "metadata": {},
     "output_type": "display_data"
    },
    {
     "data": {
      "text/html": [
       "Waiting for W&B process to finish... <strong style=\"color:green\">(success).</strong>"
      ],
      "text/plain": [
       "<IPython.core.display.HTML object>"
      ]
     },
     "metadata": {},
     "output_type": "display_data"
    },
    {
     "data": {
      "text/html": [
       "<style>\n",
       "    table.wandb td:nth-child(1) { padding: 0 10px; text-align: left ; width: auto;} td:nth-child(2) {text-align: left ; width: 100%}\n",
       "    .wandb-row { display: flex; flex-direction: row; flex-wrap: wrap; justify-content: flex-start; width: 100% }\n",
       "    .wandb-col { display: flex; flex-direction: column; flex-basis: 100%; flex: 1; padding: 10px; }\n",
       "    </style>\n",
       "<div class=\"wandb-row\"><div class=\"wandb-col\"><h3>Run history:</h3><br/><table class=\"wandb\"><tr><td>Training loss</td><td>█▁</td></tr><tr><td>f1</td><td>▁</td></tr><tr><td>global_step</td><td>▁█</td></tr><tr><td>lr</td><td>█▁</td></tr><tr><td>mcc</td><td>▁</td></tr></table><br/></div><div class=\"wandb-col\"><h3>Run summary:</h3><br/><table class=\"wandb\"><tr><td>Training loss</td><td>0.03543</td></tr><tr><td>f1</td><td>0.93289</td></tr><tr><td>global_step</td><td>100</td></tr><tr><td>lr</td><td>1e-05</td></tr><tr><td>mcc</td><td>0.76704</td></tr></table><br/></div></div>"
      ],
      "text/plain": [
       "<IPython.core.display.HTML object>"
      ]
     },
     "metadata": {},
     "output_type": "display_data"
    },
    {
     "data": {
      "text/html": [
       " View run <strong style=\"color:#cdcd00\">autumn-sweep-14</strong> at: <a href='https://wandb.ai/spacehack100/Test%20sweep/runs/8rjxlt40' target=\"_blank\">https://wandb.ai/spacehack100/Test%20sweep/runs/8rjxlt40</a><br/>Synced 6 W&B file(s), 3 media file(s), 3 artifact file(s) and 0 other file(s)"
      ],
      "text/plain": [
       "<IPython.core.display.HTML object>"
      ]
     },
     "metadata": {},
     "output_type": "display_data"
    },
    {
     "data": {
      "text/html": [
       "Find logs at: <code>.\\wandb\\run-20230308_155559-8rjxlt40\\logs</code>"
      ],
      "text/plain": [
       "<IPython.core.display.HTML object>"
      ]
     },
     "metadata": {},
     "output_type": "display_data"
    },
    {
     "name": "stderr",
     "output_type": "stream",
     "text": [
      "\u001b[34m\u001b[1mwandb\u001b[0m: Agent Starting Run: qxs68y9d with config:\n",
      "\u001b[34m\u001b[1mwandb\u001b[0m: \tlearning_rate: 6e-05\n",
      "\u001b[34m\u001b[1mwandb\u001b[0m: \tnum_train_epochs: 4\n",
      "\u001b[34m\u001b[1mwandb\u001b[0m: \ttrain_batch_size: 16\n"
     ]
    },
    {
     "data": {
      "text/html": [
       "wandb version 0.13.11 is available!  To upgrade, please run:\n",
       " $ pip install wandb --upgrade"
      ],
      "text/plain": [
       "<IPython.core.display.HTML object>"
      ]
     },
     "metadata": {},
     "output_type": "display_data"
    },
    {
     "data": {
      "text/html": [
       "Tracking run with wandb version 0.13.10"
      ],
      "text/plain": [
       "<IPython.core.display.HTML object>"
      ]
     },
     "metadata": {},
     "output_type": "display_data"
    },
    {
     "data": {
      "text/html": [
       "Run data is saved locally in <code>C:\\De Nayer 2022-2023\\Bachelorproef\\Jupyter notebook\\wandb\\run-20230308_155707-qxs68y9d</code>"
      ],
      "text/plain": [
       "<IPython.core.display.HTML object>"
      ]
     },
     "metadata": {},
     "output_type": "display_data"
    },
    {
     "data": {
      "text/html": [
       "Syncing run <strong><a href='https://wandb.ai/spacehack100/Test%20sweep/runs/qxs68y9d' target=\"_blank\">wobbly-sweep-15</a></strong> to <a href='https://wandb.ai/spacehack100/Test%20sweep' target=\"_blank\">Weights & Biases</a> (<a href='https://wandb.me/run' target=\"_blank\">docs</a>)<br/>Sweep page: <a href='https://wandb.ai/spacehack100/Test%20sweep/sweeps/ubozjgk2' target=\"_blank\">https://wandb.ai/spacehack100/Test%20sweep/sweeps/ubozjgk2</a>"
      ],
      "text/plain": [
       "<IPython.core.display.HTML object>"
      ]
     },
     "metadata": {},
     "output_type": "display_data"
    },
    {
     "data": {
      "text/html": [
       " View project at <a href='https://wandb.ai/spacehack100/Test%20sweep' target=\"_blank\">https://wandb.ai/spacehack100/Test%20sweep</a>"
      ],
      "text/plain": [
       "<IPython.core.display.HTML object>"
      ]
     },
     "metadata": {},
     "output_type": "display_data"
    },
    {
     "data": {
      "text/html": [
       " View sweep at <a href='https://wandb.ai/spacehack100/Test%20sweep/sweeps/ubozjgk2' target=\"_blank\">https://wandb.ai/spacehack100/Test%20sweep/sweeps/ubozjgk2</a>"
      ],
      "text/plain": [
       "<IPython.core.display.HTML object>"
      ]
     },
     "metadata": {},
     "output_type": "display_data"
    },
    {
     "data": {
      "text/html": [
       " View run at <a href='https://wandb.ai/spacehack100/Test%20sweep/runs/qxs68y9d' target=\"_blank\">https://wandb.ai/spacehack100/Test%20sweep/runs/qxs68y9d</a>"
      ],
      "text/plain": [
       "<IPython.core.display.HTML object>"
      ]
     },
     "metadata": {},
     "output_type": "display_data"
    },
    {
     "name": "stdout",
     "output_type": "stream",
     "text": [
      "[0.6052393857271906, 2.875536480686695]\n"
     ]
    },
    {
     "name": "stderr",
     "output_type": "stream",
     "text": [
      "Some weights of the model checkpoint at GroNLP/bert-base-dutch-cased were not used when initializing BertForSequenceClassification: ['cls.predictions.decoder.weight', 'cls.predictions.decoder.bias', 'cls.predictions.transform.dense.weight', 'cls.predictions.transform.LayerNorm.bias', 'cls.predictions.transform.dense.bias', 'cls.predictions.transform.LayerNorm.weight', 'cls.predictions.bias']\n",
      "- This IS expected if you are initializing BertForSequenceClassification from the checkpoint of a model trained on another task or with another architecture (e.g. initializing a BertForSequenceClassification model from a BertForPreTraining model).\n",
      "- This IS NOT expected if you are initializing BertForSequenceClassification from the checkpoint of a model that you expect to be exactly identical (initializing a BertForSequenceClassification model from a BertForSequenceClassification model).\n",
      "Some weights of BertForSequenceClassification were not initialized from the model checkpoint at GroNLP/bert-base-dutch-cased and are newly initialized: ['classifier.weight', 'bert.pooler.dense.weight', 'classifier.bias', 'bert.pooler.dense.bias']\n",
      "You should probably TRAIN this model on a down-stream task to be able to use it for predictions and inference.\n",
      "C:\\Users\\jensk\\miniconda3\\envs\\gpu\\lib\\site-packages\\simpletransformers\\classification\\classification_model.py:612: UserWarning: Dataframe headers not specified. Falling back to using column 0 as text and column 1 as labels.\n",
      "  warnings.warn(\n"
     ]
    },
    {
     "data": {
      "application/vnd.jupyter.widget-view+json": {
       "model_id": "fb476e4b427c4b19a955d8712ade435b",
       "version_major": 2,
       "version_minor": 0
      },
      "text/plain": [
       "  0%|          | 0/1340 [00:00<?, ?it/s]"
      ]
     },
     "metadata": {},
     "output_type": "display_data"
    },
    {
     "data": {
      "application/vnd.jupyter.widget-view+json": {
       "model_id": "89ef714d87ce4bd5a9ce84ae70f3a376",
       "version_major": 2,
       "version_minor": 0
      },
      "text/plain": [
       "Epoch:   0%|          | 0/4 [00:00<?, ?it/s]"
      ]
     },
     "metadata": {},
     "output_type": "display_data"
    },
    {
     "data": {
      "application/vnd.jupyter.widget-view+json": {
       "model_id": "f09d7d4870f64dd5a3b1d68241141499",
       "version_major": 2,
       "version_minor": 0
      },
      "text/plain": [
       "Running Epoch 0 of 4:   0%|          | 0/84 [00:00<?, ?it/s]"
      ]
     },
     "metadata": {},
     "output_type": "display_data"
    },
    {
     "data": {
      "application/vnd.jupyter.widget-view+json": {
       "model_id": "ad90d2aa46c942308000f4ec19f45042",
       "version_major": 2,
       "version_minor": 0
      },
      "text/plain": [
       "Running Epoch 1 of 4:   0%|          | 0/84 [00:00<?, ?it/s]"
      ]
     },
     "metadata": {},
     "output_type": "display_data"
    },
    {
     "data": {
      "application/vnd.jupyter.widget-view+json": {
       "model_id": "39addd81e2044569bf9c7f4d593b7089",
       "version_major": 2,
       "version_minor": 0
      },
      "text/plain": [
       "Running Epoch 2 of 4:   0%|          | 0/84 [00:00<?, ?it/s]"
      ]
     },
     "metadata": {},
     "output_type": "display_data"
    },
    {
     "data": {
      "application/vnd.jupyter.widget-view+json": {
       "model_id": "cd5d3615a88841968b10d5bcb2ca62b5",
       "version_major": 2,
       "version_minor": 0
      },
      "text/plain": [
       "Running Epoch 3 of 4:   0%|          | 0/84 [00:00<?, ?it/s]"
      ]
     },
     "metadata": {},
     "output_type": "display_data"
    },
    {
     "name": "stderr",
     "output_type": "stream",
     "text": [
      "C:\\Users\\jensk\\miniconda3\\envs\\gpu\\lib\\site-packages\\simpletransformers\\classification\\classification_model.py:1454: UserWarning: Dataframe headers not specified. Falling back to using column 0 as text and column 1 as labels.\n",
      "  warnings.warn(\n"
     ]
    },
    {
     "data": {
      "application/vnd.jupyter.widget-view+json": {
       "model_id": "fc61a40880864cc99f871a14577ee0da",
       "version_major": 2,
       "version_minor": 0
      },
      "text/plain": [
       "  0%|          | 0/149 [00:00<?, ?it/s]"
      ]
     },
     "metadata": {},
     "output_type": "display_data"
    },
    {
     "data": {
      "application/vnd.jupyter.widget-view+json": {
       "model_id": "d74678a3de234332982bc8156c46da31",
       "version_major": 2,
       "version_minor": 0
      },
      "text/plain": [
       "Running Evaluation:   0%|          | 0/19 [00:00<?, ?it/s]"
      ]
     },
     "metadata": {},
     "output_type": "display_data"
    },
    {
     "data": {
      "text/html": [
       "Waiting for W&B process to finish... <strong style=\"color:green\">(success).</strong>"
      ],
      "text/plain": [
       "<IPython.core.display.HTML object>"
      ]
     },
     "metadata": {},
     "output_type": "display_data"
    },
    {
     "data": {
      "text/html": [
       "<style>\n",
       "    table.wandb td:nth-child(1) { padding: 0 10px; text-align: left ; width: auto;} td:nth-child(2) {text-align: left ; width: 100%}\n",
       "    .wandb-row { display: flex; flex-direction: row; flex-wrap: wrap; justify-content: flex-start; width: 100% }\n",
       "    .wandb-col { display: flex; flex-direction: column; flex-basis: 100%; flex: 1; padding: 10px; }\n",
       "    </style>\n",
       "<div class=\"wandb-row\"><div class=\"wandb-col\"><h3>Run history:</h3><br/><table class=\"wandb\"><tr><td>Training loss</td><td>▅█▁▁▁▁</td></tr><tr><td>f1</td><td>▁</td></tr><tr><td>global_step</td><td>▁▂▄▅▇█</td></tr><tr><td>lr</td><td>█▇▅▄▂▁</td></tr><tr><td>mcc</td><td>▁</td></tr></table><br/></div><div class=\"wandb-col\"><h3>Run summary:</h3><br/><table class=\"wandb\"><tr><td>Training loss</td><td>0.00279</td></tr><tr><td>f1</td><td>0.95302</td></tr><tr><td>global_step</td><td>300</td></tr><tr><td>lr</td><td>1e-05</td></tr><tr><td>mcc</td><td>0.83017</td></tr></table><br/></div></div>"
      ],
      "text/plain": [
       "<IPython.core.display.HTML object>"
      ]
     },
     "metadata": {},
     "output_type": "display_data"
    },
    {
     "data": {
      "text/html": [
       " View run <strong style=\"color:#cdcd00\">wobbly-sweep-15</strong> at: <a href='https://wandb.ai/spacehack100/Test%20sweep/runs/qxs68y9d' target=\"_blank\">https://wandb.ai/spacehack100/Test%20sweep/runs/qxs68y9d</a><br/>Synced 6 W&B file(s), 3 media file(s), 3 artifact file(s) and 0 other file(s)"
      ],
      "text/plain": [
       "<IPython.core.display.HTML object>"
      ]
     },
     "metadata": {},
     "output_type": "display_data"
    },
    {
     "data": {
      "text/html": [
       "Find logs at: <code>.\\wandb\\run-20230308_155707-qxs68y9d\\logs</code>"
      ],
      "text/plain": [
       "<IPython.core.display.HTML object>"
      ]
     },
     "metadata": {},
     "output_type": "display_data"
    },
    {
     "name": "stderr",
     "output_type": "stream",
     "text": [
      "\u001b[34m\u001b[1mwandb\u001b[0m: Agent Starting Run: yedej7ik with config:\n",
      "\u001b[34m\u001b[1mwandb\u001b[0m: \tlearning_rate: 6e-05\n",
      "\u001b[34m\u001b[1mwandb\u001b[0m: \tnum_train_epochs: 4\n",
      "\u001b[34m\u001b[1mwandb\u001b[0m: \ttrain_batch_size: 32\n"
     ]
    },
    {
     "data": {
      "text/html": [
       "wandb version 0.13.11 is available!  To upgrade, please run:\n",
       " $ pip install wandb --upgrade"
      ],
      "text/plain": [
       "<IPython.core.display.HTML object>"
      ]
     },
     "metadata": {},
     "output_type": "display_data"
    },
    {
     "data": {
      "text/html": [
       "Tracking run with wandb version 0.13.10"
      ],
      "text/plain": [
       "<IPython.core.display.HTML object>"
      ]
     },
     "metadata": {},
     "output_type": "display_data"
    },
    {
     "data": {
      "text/html": [
       "Run data is saved locally in <code>C:\\De Nayer 2022-2023\\Bachelorproef\\Jupyter notebook\\wandb\\run-20230308_155832-yedej7ik</code>"
      ],
      "text/plain": [
       "<IPython.core.display.HTML object>"
      ]
     },
     "metadata": {},
     "output_type": "display_data"
    },
    {
     "data": {
      "text/html": [
       "Syncing run <strong><a href='https://wandb.ai/spacehack100/Test%20sweep/runs/yedej7ik' target=\"_blank\">smooth-sweep-16</a></strong> to <a href='https://wandb.ai/spacehack100/Test%20sweep' target=\"_blank\">Weights & Biases</a> (<a href='https://wandb.me/run' target=\"_blank\">docs</a>)<br/>Sweep page: <a href='https://wandb.ai/spacehack100/Test%20sweep/sweeps/ubozjgk2' target=\"_blank\">https://wandb.ai/spacehack100/Test%20sweep/sweeps/ubozjgk2</a>"
      ],
      "text/plain": [
       "<IPython.core.display.HTML object>"
      ]
     },
     "metadata": {},
     "output_type": "display_data"
    },
    {
     "data": {
      "text/html": [
       " View project at <a href='https://wandb.ai/spacehack100/Test%20sweep' target=\"_blank\">https://wandb.ai/spacehack100/Test%20sweep</a>"
      ],
      "text/plain": [
       "<IPython.core.display.HTML object>"
      ]
     },
     "metadata": {},
     "output_type": "display_data"
    },
    {
     "data": {
      "text/html": [
       " View sweep at <a href='https://wandb.ai/spacehack100/Test%20sweep/sweeps/ubozjgk2' target=\"_blank\">https://wandb.ai/spacehack100/Test%20sweep/sweeps/ubozjgk2</a>"
      ],
      "text/plain": [
       "<IPython.core.display.HTML object>"
      ]
     },
     "metadata": {},
     "output_type": "display_data"
    },
    {
     "data": {
      "text/html": [
       " View run at <a href='https://wandb.ai/spacehack100/Test%20sweep/runs/yedej7ik' target=\"_blank\">https://wandb.ai/spacehack100/Test%20sweep/runs/yedej7ik</a>"
      ],
      "text/plain": [
       "<IPython.core.display.HTML object>"
      ]
     },
     "metadata": {},
     "output_type": "display_data"
    },
    {
     "name": "stdout",
     "output_type": "stream",
     "text": [
      "[0.6052393857271906, 2.875536480686695]\n"
     ]
    },
    {
     "name": "stderr",
     "output_type": "stream",
     "text": [
      "Some weights of the model checkpoint at GroNLP/bert-base-dutch-cased were not used when initializing BertForSequenceClassification: ['cls.predictions.decoder.weight', 'cls.predictions.decoder.bias', 'cls.predictions.transform.dense.weight', 'cls.predictions.transform.LayerNorm.bias', 'cls.predictions.transform.dense.bias', 'cls.predictions.transform.LayerNorm.weight', 'cls.predictions.bias']\n",
      "- This IS expected if you are initializing BertForSequenceClassification from the checkpoint of a model trained on another task or with another architecture (e.g. initializing a BertForSequenceClassification model from a BertForPreTraining model).\n",
      "- This IS NOT expected if you are initializing BertForSequenceClassification from the checkpoint of a model that you expect to be exactly identical (initializing a BertForSequenceClassification model from a BertForSequenceClassification model).\n",
      "Some weights of BertForSequenceClassification were not initialized from the model checkpoint at GroNLP/bert-base-dutch-cased and are newly initialized: ['classifier.weight', 'bert.pooler.dense.weight', 'classifier.bias', 'bert.pooler.dense.bias']\n",
      "You should probably TRAIN this model on a down-stream task to be able to use it for predictions and inference.\n",
      "C:\\Users\\jensk\\miniconda3\\envs\\gpu\\lib\\site-packages\\simpletransformers\\classification\\classification_model.py:612: UserWarning: Dataframe headers not specified. Falling back to using column 0 as text and column 1 as labels.\n",
      "  warnings.warn(\n"
     ]
    },
    {
     "data": {
      "application/vnd.jupyter.widget-view+json": {
       "model_id": "076087e08d134c4bb8b0bafc2d013ceb",
       "version_major": 2,
       "version_minor": 0
      },
      "text/plain": [
       "  0%|          | 0/1340 [00:00<?, ?it/s]"
      ]
     },
     "metadata": {},
     "output_type": "display_data"
    },
    {
     "data": {
      "application/vnd.jupyter.widget-view+json": {
       "model_id": "4e3566f1f45540aaaefe29406f371821",
       "version_major": 2,
       "version_minor": 0
      },
      "text/plain": [
       "Epoch:   0%|          | 0/4 [00:00<?, ?it/s]"
      ]
     },
     "metadata": {},
     "output_type": "display_data"
    },
    {
     "data": {
      "application/vnd.jupyter.widget-view+json": {
       "model_id": "4b9a939c569f42b0ac3d3ee3bc0869a6",
       "version_major": 2,
       "version_minor": 0
      },
      "text/plain": [
       "Running Epoch 0 of 4:   0%|          | 0/42 [00:00<?, ?it/s]"
      ]
     },
     "metadata": {},
     "output_type": "display_data"
    },
    {
     "data": {
      "application/vnd.jupyter.widget-view+json": {
       "model_id": "bc676b54c81543f18988d2dd9e4da199",
       "version_major": 2,
       "version_minor": 0
      },
      "text/plain": [
       "Running Epoch 1 of 4:   0%|          | 0/42 [00:00<?, ?it/s]"
      ]
     },
     "metadata": {},
     "output_type": "display_data"
    },
    {
     "data": {
      "application/vnd.jupyter.widget-view+json": {
       "model_id": "6dffec11db384624b486e3959afdbd65",
       "version_major": 2,
       "version_minor": 0
      },
      "text/plain": [
       "Running Epoch 2 of 4:   0%|          | 0/42 [00:00<?, ?it/s]"
      ]
     },
     "metadata": {},
     "output_type": "display_data"
    },
    {
     "data": {
      "application/vnd.jupyter.widget-view+json": {
       "model_id": "efbbdbdbdb904e24bccfa21ccde14b30",
       "version_major": 2,
       "version_minor": 0
      },
      "text/plain": [
       "Running Epoch 3 of 4:   0%|          | 0/42 [00:00<?, ?it/s]"
      ]
     },
     "metadata": {},
     "output_type": "display_data"
    },
    {
     "name": "stderr",
     "output_type": "stream",
     "text": [
      "C:\\Users\\jensk\\miniconda3\\envs\\gpu\\lib\\site-packages\\simpletransformers\\classification\\classification_model.py:1454: UserWarning: Dataframe headers not specified. Falling back to using column 0 as text and column 1 as labels.\n",
      "  warnings.warn(\n"
     ]
    },
    {
     "data": {
      "application/vnd.jupyter.widget-view+json": {
       "model_id": "c687e37425b04b51862f29f0d11f1686",
       "version_major": 2,
       "version_minor": 0
      },
      "text/plain": [
       "  0%|          | 0/149 [00:00<?, ?it/s]"
      ]
     },
     "metadata": {},
     "output_type": "display_data"
    },
    {
     "data": {
      "application/vnd.jupyter.widget-view+json": {
       "model_id": "69061e93ab424a2a9779c53b689761c6",
       "version_major": 2,
       "version_minor": 0
      },
      "text/plain": [
       "Running Evaluation:   0%|          | 0/19 [00:00<?, ?it/s]"
      ]
     },
     "metadata": {},
     "output_type": "display_data"
    },
    {
     "data": {
      "text/html": [
       "Waiting for W&B process to finish... <strong style=\"color:green\">(success).</strong>"
      ],
      "text/plain": [
       "<IPython.core.display.HTML object>"
      ]
     },
     "metadata": {},
     "output_type": "display_data"
    },
    {
     "data": {
      "text/html": [
       "<style>\n",
       "    table.wandb td:nth-child(1) { padding: 0 10px; text-align: left ; width: auto;} td:nth-child(2) {text-align: left ; width: 100%}\n",
       "    .wandb-row { display: flex; flex-direction: row; flex-wrap: wrap; justify-content: flex-start; width: 100% }\n",
       "    .wandb-col { display: flex; flex-direction: column; flex-basis: 100%; flex: 1; padding: 10px; }\n",
       "    </style>\n",
       "<div class=\"wandb-row\"><div class=\"wandb-col\"><h3>Run history:</h3><br/><table class=\"wandb\"><tr><td>Training loss</td><td>▇█▁</td></tr><tr><td>f1</td><td>▁</td></tr><tr><td>global_step</td><td>▁▅█</td></tr><tr><td>lr</td><td>█▅▁</td></tr><tr><td>mcc</td><td>▁</td></tr></table><br/></div><div class=\"wandb-col\"><h3>Run summary:</h3><br/><table class=\"wandb\"><tr><td>Training loss</td><td>0.17103</td></tr><tr><td>f1</td><td>0.94631</td></tr><tr><td>global_step</td><td>150</td></tr><tr><td>lr</td><td>1e-05</td></tr><tr><td>mcc</td><td>0.80557</td></tr></table><br/></div></div>"
      ],
      "text/plain": [
       "<IPython.core.display.HTML object>"
      ]
     },
     "metadata": {},
     "output_type": "display_data"
    },
    {
     "data": {
      "text/html": [
       " View run <strong style=\"color:#cdcd00\">smooth-sweep-16</strong> at: <a href='https://wandb.ai/spacehack100/Test%20sweep/runs/yedej7ik' target=\"_blank\">https://wandb.ai/spacehack100/Test%20sweep/runs/yedej7ik</a><br/>Synced 6 W&B file(s), 3 media file(s), 3 artifact file(s) and 0 other file(s)"
      ],
      "text/plain": [
       "<IPython.core.display.HTML object>"
      ]
     },
     "metadata": {},
     "output_type": "display_data"
    },
    {
     "data": {
      "text/html": [
       "Find logs at: <code>.\\wandb\\run-20230308_155832-yedej7ik\\logs</code>"
      ],
      "text/plain": [
       "<IPython.core.display.HTML object>"
      ]
     },
     "metadata": {},
     "output_type": "display_data"
    },
    {
     "name": "stderr",
     "output_type": "stream",
     "text": [
      "\u001b[34m\u001b[1mwandb\u001b[0m: Agent Starting Run: 5m4umfck with config:\n",
      "\u001b[34m\u001b[1mwandb\u001b[0m: \tlearning_rate: 6e-05\n",
      "\u001b[34m\u001b[1mwandb\u001b[0m: \tnum_train_epochs: 5\n",
      "\u001b[34m\u001b[1mwandb\u001b[0m: \ttrain_batch_size: 16\n"
     ]
    },
    {
     "data": {
      "text/html": [
       "wandb version 0.13.11 is available!  To upgrade, please run:\n",
       " $ pip install wandb --upgrade"
      ],
      "text/plain": [
       "<IPython.core.display.HTML object>"
      ]
     },
     "metadata": {},
     "output_type": "display_data"
    },
    {
     "data": {
      "text/html": [
       "Tracking run with wandb version 0.13.10"
      ],
      "text/plain": [
       "<IPython.core.display.HTML object>"
      ]
     },
     "metadata": {},
     "output_type": "display_data"
    },
    {
     "data": {
      "text/html": [
       "Run data is saved locally in <code>C:\\De Nayer 2022-2023\\Bachelorproef\\Jupyter notebook\\wandb\\run-20230308_155950-5m4umfck</code>"
      ],
      "text/plain": [
       "<IPython.core.display.HTML object>"
      ]
     },
     "metadata": {},
     "output_type": "display_data"
    },
    {
     "data": {
      "text/html": [
       "Syncing run <strong><a href='https://wandb.ai/spacehack100/Test%20sweep/runs/5m4umfck' target=\"_blank\">atomic-sweep-17</a></strong> to <a href='https://wandb.ai/spacehack100/Test%20sweep' target=\"_blank\">Weights & Biases</a> (<a href='https://wandb.me/run' target=\"_blank\">docs</a>)<br/>Sweep page: <a href='https://wandb.ai/spacehack100/Test%20sweep/sweeps/ubozjgk2' target=\"_blank\">https://wandb.ai/spacehack100/Test%20sweep/sweeps/ubozjgk2</a>"
      ],
      "text/plain": [
       "<IPython.core.display.HTML object>"
      ]
     },
     "metadata": {},
     "output_type": "display_data"
    },
    {
     "data": {
      "text/html": [
       " View project at <a href='https://wandb.ai/spacehack100/Test%20sweep' target=\"_blank\">https://wandb.ai/spacehack100/Test%20sweep</a>"
      ],
      "text/plain": [
       "<IPython.core.display.HTML object>"
      ]
     },
     "metadata": {},
     "output_type": "display_data"
    },
    {
     "data": {
      "text/html": [
       " View sweep at <a href='https://wandb.ai/spacehack100/Test%20sweep/sweeps/ubozjgk2' target=\"_blank\">https://wandb.ai/spacehack100/Test%20sweep/sweeps/ubozjgk2</a>"
      ],
      "text/plain": [
       "<IPython.core.display.HTML object>"
      ]
     },
     "metadata": {},
     "output_type": "display_data"
    },
    {
     "data": {
      "text/html": [
       " View run at <a href='https://wandb.ai/spacehack100/Test%20sweep/runs/5m4umfck' target=\"_blank\">https://wandb.ai/spacehack100/Test%20sweep/runs/5m4umfck</a>"
      ],
      "text/plain": [
       "<IPython.core.display.HTML object>"
      ]
     },
     "metadata": {},
     "output_type": "display_data"
    },
    {
     "name": "stdout",
     "output_type": "stream",
     "text": [
      "[0.6052393857271906, 2.875536480686695]\n"
     ]
    },
    {
     "name": "stderr",
     "output_type": "stream",
     "text": [
      "Some weights of the model checkpoint at GroNLP/bert-base-dutch-cased were not used when initializing BertForSequenceClassification: ['cls.predictions.decoder.weight', 'cls.predictions.decoder.bias', 'cls.predictions.transform.dense.weight', 'cls.predictions.transform.LayerNorm.bias', 'cls.predictions.transform.dense.bias', 'cls.predictions.transform.LayerNorm.weight', 'cls.predictions.bias']\n",
      "- This IS expected if you are initializing BertForSequenceClassification from the checkpoint of a model trained on another task or with another architecture (e.g. initializing a BertForSequenceClassification model from a BertForPreTraining model).\n",
      "- This IS NOT expected if you are initializing BertForSequenceClassification from the checkpoint of a model that you expect to be exactly identical (initializing a BertForSequenceClassification model from a BertForSequenceClassification model).\n",
      "Some weights of BertForSequenceClassification were not initialized from the model checkpoint at GroNLP/bert-base-dutch-cased and are newly initialized: ['classifier.weight', 'bert.pooler.dense.weight', 'classifier.bias', 'bert.pooler.dense.bias']\n",
      "You should probably TRAIN this model on a down-stream task to be able to use it for predictions and inference.\n",
      "C:\\Users\\jensk\\miniconda3\\envs\\gpu\\lib\\site-packages\\simpletransformers\\classification\\classification_model.py:612: UserWarning: Dataframe headers not specified. Falling back to using column 0 as text and column 1 as labels.\n",
      "  warnings.warn(\n"
     ]
    },
    {
     "data": {
      "application/vnd.jupyter.widget-view+json": {
       "model_id": "1a65cee609a545818e12c869be4c9d8d",
       "version_major": 2,
       "version_minor": 0
      },
      "text/plain": [
       "  0%|          | 0/1340 [00:00<?, ?it/s]"
      ]
     },
     "metadata": {},
     "output_type": "display_data"
    },
    {
     "data": {
      "application/vnd.jupyter.widget-view+json": {
       "model_id": "c94623c8cdb54daa804f9f2808712aff",
       "version_major": 2,
       "version_minor": 0
      },
      "text/plain": [
       "Epoch:   0%|          | 0/5 [00:00<?, ?it/s]"
      ]
     },
     "metadata": {},
     "output_type": "display_data"
    },
    {
     "data": {
      "application/vnd.jupyter.widget-view+json": {
       "model_id": "e86be4aa62794e4d87852090799dc9e3",
       "version_major": 2,
       "version_minor": 0
      },
      "text/plain": [
       "Running Epoch 0 of 5:   0%|          | 0/84 [00:00<?, ?it/s]"
      ]
     },
     "metadata": {},
     "output_type": "display_data"
    },
    {
     "data": {
      "application/vnd.jupyter.widget-view+json": {
       "model_id": "620170afe2af49c497f0761d49e4376b",
       "version_major": 2,
       "version_minor": 0
      },
      "text/plain": [
       "Running Epoch 1 of 5:   0%|          | 0/84 [00:00<?, ?it/s]"
      ]
     },
     "metadata": {},
     "output_type": "display_data"
    },
    {
     "data": {
      "application/vnd.jupyter.widget-view+json": {
       "model_id": "6640ca603a644e41bd1a16241a49477c",
       "version_major": 2,
       "version_minor": 0
      },
      "text/plain": [
       "Running Epoch 2 of 5:   0%|          | 0/84 [00:00<?, ?it/s]"
      ]
     },
     "metadata": {},
     "output_type": "display_data"
    },
    {
     "data": {
      "application/vnd.jupyter.widget-view+json": {
       "model_id": "ec0c686a6dcf4607a23f17648eecd91d",
       "version_major": 2,
       "version_minor": 0
      },
      "text/plain": [
       "Running Epoch 3 of 5:   0%|          | 0/84 [00:00<?, ?it/s]"
      ]
     },
     "metadata": {},
     "output_type": "display_data"
    },
    {
     "data": {
      "application/vnd.jupyter.widget-view+json": {
       "model_id": "102957d6aa424e1fa08b7ea4652d32b3",
       "version_major": 2,
       "version_minor": 0
      },
      "text/plain": [
       "Running Epoch 4 of 5:   0%|          | 0/84 [00:00<?, ?it/s]"
      ]
     },
     "metadata": {},
     "output_type": "display_data"
    },
    {
     "name": "stderr",
     "output_type": "stream",
     "text": [
      "C:\\Users\\jensk\\miniconda3\\envs\\gpu\\lib\\site-packages\\simpletransformers\\classification\\classification_model.py:1454: UserWarning: Dataframe headers not specified. Falling back to using column 0 as text and column 1 as labels.\n",
      "  warnings.warn(\n"
     ]
    },
    {
     "data": {
      "application/vnd.jupyter.widget-view+json": {
       "model_id": "19744bb870004d42a6ab4323396d36b6",
       "version_major": 2,
       "version_minor": 0
      },
      "text/plain": [
       "  0%|          | 0/149 [00:00<?, ?it/s]"
      ]
     },
     "metadata": {},
     "output_type": "display_data"
    },
    {
     "data": {
      "application/vnd.jupyter.widget-view+json": {
       "model_id": "fc54acdf05c147ebad49efa20e14d0dc",
       "version_major": 2,
       "version_minor": 0
      },
      "text/plain": [
       "Running Evaluation:   0%|          | 0/19 [00:00<?, ?it/s]"
      ]
     },
     "metadata": {},
     "output_type": "display_data"
    },
    {
     "data": {
      "text/html": [
       "Waiting for W&B process to finish... <strong style=\"color:green\">(success).</strong>"
      ],
      "text/plain": [
       "<IPython.core.display.HTML object>"
      ]
     },
     "metadata": {},
     "output_type": "display_data"
    },
    {
     "data": {
      "text/html": [
       "<style>\n",
       "    table.wandb td:nth-child(1) { padding: 0 10px; text-align: left ; width: auto;} td:nth-child(2) {text-align: left ; width: 100%}\n",
       "    .wandb-row { display: flex; flex-direction: row; flex-wrap: wrap; justify-content: flex-start; width: 100% }\n",
       "    .wandb-col { display: flex; flex-direction: column; flex-basis: 100%; flex: 1; padding: 10px; }\n",
       "    </style>\n",
       "<div class=\"wandb-row\"><div class=\"wandb-col\"><h3>Run history:</h3><br/><table class=\"wandb\"><tr><td>Training loss</td><td>█▁▂▁▁▃▁▁</td></tr><tr><td>f1</td><td>▁</td></tr><tr><td>global_step</td><td>▁▂▃▄▅▆▇█</td></tr><tr><td>lr</td><td>█▇▆▅▄▃▂▁</td></tr><tr><td>mcc</td><td>▁</td></tr></table><br/></div><div class=\"wandb-col\"><h3>Run summary:</h3><br/><table class=\"wandb\"><tr><td>Training loss</td><td>0.00038</td></tr><tr><td>f1</td><td>0.95302</td></tr><tr><td>global_step</td><td>400</td></tr><tr><td>lr</td><td>0.0</td></tr><tr><td>mcc</td><td>0.83017</td></tr></table><br/></div></div>"
      ],
      "text/plain": [
       "<IPython.core.display.HTML object>"
      ]
     },
     "metadata": {},
     "output_type": "display_data"
    },
    {
     "data": {
      "text/html": [
       " View run <strong style=\"color:#cdcd00\">atomic-sweep-17</strong> at: <a href='https://wandb.ai/spacehack100/Test%20sweep/runs/5m4umfck' target=\"_blank\">https://wandb.ai/spacehack100/Test%20sweep/runs/5m4umfck</a><br/>Synced 6 W&B file(s), 3 media file(s), 3 artifact file(s) and 0 other file(s)"
      ],
      "text/plain": [
       "<IPython.core.display.HTML object>"
      ]
     },
     "metadata": {},
     "output_type": "display_data"
    },
    {
     "data": {
      "text/html": [
       "Find logs at: <code>.\\wandb\\run-20230308_155950-5m4umfck\\logs</code>"
      ],
      "text/plain": [
       "<IPython.core.display.HTML object>"
      ]
     },
     "metadata": {},
     "output_type": "display_data"
    },
    {
     "name": "stderr",
     "output_type": "stream",
     "text": [
      "\u001b[34m\u001b[1mwandb\u001b[0m: Agent Starting Run: ipjgiz5c with config:\n",
      "\u001b[34m\u001b[1mwandb\u001b[0m: \tlearning_rate: 6e-05\n",
      "\u001b[34m\u001b[1mwandb\u001b[0m: \tnum_train_epochs: 5\n",
      "\u001b[34m\u001b[1mwandb\u001b[0m: \ttrain_batch_size: 32\n"
     ]
    },
    {
     "data": {
      "text/html": [
       "wandb version 0.13.11 is available!  To upgrade, please run:\n",
       " $ pip install wandb --upgrade"
      ],
      "text/plain": [
       "<IPython.core.display.HTML object>"
      ]
     },
     "metadata": {},
     "output_type": "display_data"
    },
    {
     "data": {
      "text/html": [
       "Tracking run with wandb version 0.13.10"
      ],
      "text/plain": [
       "<IPython.core.display.HTML object>"
      ]
     },
     "metadata": {},
     "output_type": "display_data"
    },
    {
     "data": {
      "text/html": [
       "Run data is saved locally in <code>C:\\De Nayer 2022-2023\\Bachelorproef\\Jupyter notebook\\wandb\\run-20230308_160131-ipjgiz5c</code>"
      ],
      "text/plain": [
       "<IPython.core.display.HTML object>"
      ]
     },
     "metadata": {},
     "output_type": "display_data"
    },
    {
     "data": {
      "text/html": [
       "Syncing run <strong><a href='https://wandb.ai/spacehack100/Test%20sweep/runs/ipjgiz5c' target=\"_blank\">snowy-sweep-18</a></strong> to <a href='https://wandb.ai/spacehack100/Test%20sweep' target=\"_blank\">Weights & Biases</a> (<a href='https://wandb.me/run' target=\"_blank\">docs</a>)<br/>Sweep page: <a href='https://wandb.ai/spacehack100/Test%20sweep/sweeps/ubozjgk2' target=\"_blank\">https://wandb.ai/spacehack100/Test%20sweep/sweeps/ubozjgk2</a>"
      ],
      "text/plain": [
       "<IPython.core.display.HTML object>"
      ]
     },
     "metadata": {},
     "output_type": "display_data"
    },
    {
     "data": {
      "text/html": [
       " View project at <a href='https://wandb.ai/spacehack100/Test%20sweep' target=\"_blank\">https://wandb.ai/spacehack100/Test%20sweep</a>"
      ],
      "text/plain": [
       "<IPython.core.display.HTML object>"
      ]
     },
     "metadata": {},
     "output_type": "display_data"
    },
    {
     "data": {
      "text/html": [
       " View sweep at <a href='https://wandb.ai/spacehack100/Test%20sweep/sweeps/ubozjgk2' target=\"_blank\">https://wandb.ai/spacehack100/Test%20sweep/sweeps/ubozjgk2</a>"
      ],
      "text/plain": [
       "<IPython.core.display.HTML object>"
      ]
     },
     "metadata": {},
     "output_type": "display_data"
    },
    {
     "data": {
      "text/html": [
       " View run at <a href='https://wandb.ai/spacehack100/Test%20sweep/runs/ipjgiz5c' target=\"_blank\">https://wandb.ai/spacehack100/Test%20sweep/runs/ipjgiz5c</a>"
      ],
      "text/plain": [
       "<IPython.core.display.HTML object>"
      ]
     },
     "metadata": {},
     "output_type": "display_data"
    },
    {
     "name": "stdout",
     "output_type": "stream",
     "text": [
      "[0.6052393857271906, 2.875536480686695]\n"
     ]
    },
    {
     "name": "stderr",
     "output_type": "stream",
     "text": [
      "Some weights of the model checkpoint at GroNLP/bert-base-dutch-cased were not used when initializing BertForSequenceClassification: ['cls.predictions.decoder.weight', 'cls.predictions.decoder.bias', 'cls.predictions.transform.dense.weight', 'cls.predictions.transform.LayerNorm.bias', 'cls.predictions.transform.dense.bias', 'cls.predictions.transform.LayerNorm.weight', 'cls.predictions.bias']\n",
      "- This IS expected if you are initializing BertForSequenceClassification from the checkpoint of a model trained on another task or with another architecture (e.g. initializing a BertForSequenceClassification model from a BertForPreTraining model).\n",
      "- This IS NOT expected if you are initializing BertForSequenceClassification from the checkpoint of a model that you expect to be exactly identical (initializing a BertForSequenceClassification model from a BertForSequenceClassification model).\n",
      "Some weights of BertForSequenceClassification were not initialized from the model checkpoint at GroNLP/bert-base-dutch-cased and are newly initialized: ['classifier.weight', 'bert.pooler.dense.weight', 'classifier.bias', 'bert.pooler.dense.bias']\n",
      "You should probably TRAIN this model on a down-stream task to be able to use it for predictions and inference.\n",
      "C:\\Users\\jensk\\miniconda3\\envs\\gpu\\lib\\site-packages\\simpletransformers\\classification\\classification_model.py:612: UserWarning: Dataframe headers not specified. Falling back to using column 0 as text and column 1 as labels.\n",
      "  warnings.warn(\n"
     ]
    },
    {
     "data": {
      "application/vnd.jupyter.widget-view+json": {
       "model_id": "265dec6a13fd485a8b348996eda69675",
       "version_major": 2,
       "version_minor": 0
      },
      "text/plain": [
       "  0%|          | 0/1340 [00:00<?, ?it/s]"
      ]
     },
     "metadata": {},
     "output_type": "display_data"
    },
    {
     "data": {
      "application/vnd.jupyter.widget-view+json": {
       "model_id": "519bf19fe9484ba2874a41fc3d6eda74",
       "version_major": 2,
       "version_minor": 0
      },
      "text/plain": [
       "Epoch:   0%|          | 0/5 [00:00<?, ?it/s]"
      ]
     },
     "metadata": {},
     "output_type": "display_data"
    },
    {
     "data": {
      "application/vnd.jupyter.widget-view+json": {
       "model_id": "d1044799af8346a5b154e62f98ec2acc",
       "version_major": 2,
       "version_minor": 0
      },
      "text/plain": [
       "Running Epoch 0 of 5:   0%|          | 0/42 [00:00<?, ?it/s]"
      ]
     },
     "metadata": {},
     "output_type": "display_data"
    },
    {
     "data": {
      "application/vnd.jupyter.widget-view+json": {
       "model_id": "ddb4139fb49f47998217c0cd13a52cae",
       "version_major": 2,
       "version_minor": 0
      },
      "text/plain": [
       "Running Epoch 1 of 5:   0%|          | 0/42 [00:00<?, ?it/s]"
      ]
     },
     "metadata": {},
     "output_type": "display_data"
    },
    {
     "data": {
      "application/vnd.jupyter.widget-view+json": {
       "model_id": "63068ff8c3f0456fa5369f2e20afc16a",
       "version_major": 2,
       "version_minor": 0
      },
      "text/plain": [
       "Running Epoch 2 of 5:   0%|          | 0/42 [00:00<?, ?it/s]"
      ]
     },
     "metadata": {},
     "output_type": "display_data"
    },
    {
     "data": {
      "application/vnd.jupyter.widget-view+json": {
       "model_id": "ad70e67325754591bede4a216ec60c6d",
       "version_major": 2,
       "version_minor": 0
      },
      "text/plain": [
       "Running Epoch 3 of 5:   0%|          | 0/42 [00:00<?, ?it/s]"
      ]
     },
     "metadata": {},
     "output_type": "display_data"
    },
    {
     "data": {
      "application/vnd.jupyter.widget-view+json": {
       "model_id": "2bb5f888d75c4aceb397e93b8c142c05",
       "version_major": 2,
       "version_minor": 0
      },
      "text/plain": [
       "Running Epoch 4 of 5:   0%|          | 0/42 [00:00<?, ?it/s]"
      ]
     },
     "metadata": {},
     "output_type": "display_data"
    },
    {
     "name": "stderr",
     "output_type": "stream",
     "text": [
      "C:\\Users\\jensk\\miniconda3\\envs\\gpu\\lib\\site-packages\\simpletransformers\\classification\\classification_model.py:1454: UserWarning: Dataframe headers not specified. Falling back to using column 0 as text and column 1 as labels.\n",
      "  warnings.warn(\n"
     ]
    },
    {
     "data": {
      "application/vnd.jupyter.widget-view+json": {
       "model_id": "2dbecc386f404e9285d96a1e1f6f12cd",
       "version_major": 2,
       "version_minor": 0
      },
      "text/plain": [
       "  0%|          | 0/149 [00:00<?, ?it/s]"
      ]
     },
     "metadata": {},
     "output_type": "display_data"
    },
    {
     "data": {
      "application/vnd.jupyter.widget-view+json": {
       "model_id": "9f62b421a54a423fb793b6ebc4cdc4cd",
       "version_major": 2,
       "version_minor": 0
      },
      "text/plain": [
       "Running Evaluation:   0%|          | 0/19 [00:00<?, ?it/s]"
      ]
     },
     "metadata": {},
     "output_type": "display_data"
    },
    {
     "data": {
      "text/html": [
       "Waiting for W&B process to finish... <strong style=\"color:green\">(success).</strong>"
      ],
      "text/plain": [
       "<IPython.core.display.HTML object>"
      ]
     },
     "metadata": {},
     "output_type": "display_data"
    },
    {
     "data": {
      "text/html": [
       "<style>\n",
       "    table.wandb td:nth-child(1) { padding: 0 10px; text-align: left ; width: auto;} td:nth-child(2) {text-align: left ; width: 100%}\n",
       "    .wandb-row { display: flex; flex-direction: row; flex-wrap: wrap; justify-content: flex-start; width: 100% }\n",
       "    .wandb-col { display: flex; flex-direction: column; flex-basis: 100%; flex: 1; padding: 10px; }\n",
       "    </style>\n",
       "<div class=\"wandb-row\"><div class=\"wandb-col\"><h3>Run history:</h3><br/><table class=\"wandb\"><tr><td>Training loss</td><td>▆▁▅█</td></tr><tr><td>f1</td><td>▁</td></tr><tr><td>global_step</td><td>▁▃▆█</td></tr><tr><td>lr</td><td>█▆▃▁</td></tr><tr><td>mcc</td><td>▁</td></tr></table><br/></div><div class=\"wandb-col\"><h3>Run summary:</h3><br/><table class=\"wandb\"><tr><td>Training loss</td><td>0.12713</td></tr><tr><td>f1</td><td>0.9396</td></tr><tr><td>global_step</td><td>200</td></tr><tr><td>lr</td><td>0.0</td></tr><tr><td>mcc</td><td>0.77935</td></tr></table><br/></div></div>"
      ],
      "text/plain": [
       "<IPython.core.display.HTML object>"
      ]
     },
     "metadata": {},
     "output_type": "display_data"
    },
    {
     "data": {
      "text/html": [
       " View run <strong style=\"color:#cdcd00\">snowy-sweep-18</strong> at: <a href='https://wandb.ai/spacehack100/Test%20sweep/runs/ipjgiz5c' target=\"_blank\">https://wandb.ai/spacehack100/Test%20sweep/runs/ipjgiz5c</a><br/>Synced 6 W&B file(s), 3 media file(s), 3 artifact file(s) and 0 other file(s)"
      ],
      "text/plain": [
       "<IPython.core.display.HTML object>"
      ]
     },
     "metadata": {},
     "output_type": "display_data"
    },
    {
     "data": {
      "text/html": [
       "Find logs at: <code>.\\wandb\\run-20230308_160131-ipjgiz5c\\logs</code>"
      ],
      "text/plain": [
       "<IPython.core.display.HTML object>"
      ]
     },
     "metadata": {},
     "output_type": "display_data"
    },
    {
     "name": "stderr",
     "output_type": "stream",
     "text": [
      "\u001b[34m\u001b[1mwandb\u001b[0m: Sweep Agent: Waiting for job.\n",
      "\u001b[34m\u001b[1mwandb\u001b[0m: Sweep Agent: Exiting.\n"
     ]
    }
   ],
   "source": [
    "sweepConfig = {'method' : 'grid', 'parameters' : {'num_train_epochs' : {'min' : 3, 'max' : 5}, 'learning_rate' : {'values' : [4e-5,5e-5,6e-5]}, 'train_batch_size' : {'values' : [16,32]}}}\n",
    "sweepID = wandb.sweep(sweepConfig, project='Test sweep')\n",
    "\n",
    "def f1_multiclass(labels, preds):\n",
    "    return f1_score(labels, preds, average='micro')\n",
    "\n",
    "def train():\n",
    "    wandb.init()\n",
    "    trainArgumentsSweep = {'reprocess_input_data' : True, 'use_multiprocessing' : True, 'overwrite_output_dir' : True, 'use_early_stopping' : True, 'early_stopping_consider_epochs' : True, 'optimizer' : 'AdamW', 'save_model_every_epoch' : False, 'wandb_project' : 'Test sweep'}\n",
    "    classifierSweep = ClassificationModel(\"bert\",\"GroNLP/bert-base-dutch-cased\", num_labels=len(trainSet['classIndex'].unique()),args=trainArgumentsSweep, use_cuda=True, weight=calculate_class_weights(trainSet), sweep_config=wandb.config)\n",
    "    classifierSweep.train_model(trainSet)\n",
    "    result, model_outputs, wrong_predictions = classifierSweep.eval_model(testSet, f1=f1_multiclass, confusionMatrix=confusion_matrix)\n",
    "    wandb.log({'mcc' : result['mcc'], 'f1' : result['f1'], 'confusion_matrix' : result['confusionMatrix']})\n",
    "    wandb.join()\n",
    "    \n",
    "wandb.agent(sweepID, train)"
   ]
  },
  {
   "cell_type": "markdown",
   "id": "81af7691",
   "metadata": {},
   "source": [
    "### Move best result into sepperate model"
   ]
  },
  {
   "cell_type": "code",
   "execution_count": 5,
   "id": "c3a37df0",
   "metadata": {
    "scrolled": true
   },
   "outputs": [
    {
     "name": "stderr",
     "output_type": "stream",
     "text": [
      "\u001b[34m\u001b[1mwandb\u001b[0m: Currently logged in as: \u001b[33mspacehack100\u001b[0m. Use \u001b[1m`wandb login --relogin`\u001b[0m to force relogin\n"
     ]
    },
    {
     "data": {
      "text/html": [
       "wandb version 0.15.1 is available!  To upgrade, please run:\n",
       " $ pip install wandb --upgrade"
      ],
      "text/plain": [
       "<IPython.core.display.HTML object>"
      ]
     },
     "metadata": {},
     "output_type": "display_data"
    },
    {
     "data": {
      "text/html": [
       "Tracking run with wandb version 0.13.10"
      ],
      "text/plain": [
       "<IPython.core.display.HTML object>"
      ]
     },
     "metadata": {},
     "output_type": "display_data"
    },
    {
     "data": {
      "text/html": [
       "Run data is saved locally in <code>C:\\De Nayer 2022-2023\\Bachelorproef\\Jupyter notebook\\wandb\\run-20230503_164252-tx06do8g</code>"
      ],
      "text/plain": [
       "<IPython.core.display.HTML object>"
      ]
     },
     "metadata": {},
     "output_type": "display_data"
    },
    {
     "data": {
      "text/html": [
       "Syncing run <strong><a href='https://wandb.ai/spacehack100/uncategorized/runs/tx06do8g' target=\"_blank\">devout-silence-1</a></strong> to <a href='https://wandb.ai/spacehack100/uncategorized' target=\"_blank\">Weights & Biases</a> (<a href='https://wandb.me/run' target=\"_blank\">docs</a>)<br/>"
      ],
      "text/plain": [
       "<IPython.core.display.HTML object>"
      ]
     },
     "metadata": {},
     "output_type": "display_data"
    },
    {
     "data": {
      "text/html": [
       " View project at <a href='https://wandb.ai/spacehack100/uncategorized' target=\"_blank\">https://wandb.ai/spacehack100/uncategorized</a>"
      ],
      "text/plain": [
       "<IPython.core.display.HTML object>"
      ]
     },
     "metadata": {},
     "output_type": "display_data"
    },
    {
     "data": {
      "text/html": [
       " View run at <a href='https://wandb.ai/spacehack100/uncategorized/runs/tx06do8g' target=\"_blank\">https://wandb.ai/spacehack100/uncategorized/runs/tx06do8g</a>"
      ],
      "text/plain": [
       "<IPython.core.display.HTML object>"
      ]
     },
     "metadata": {},
     "output_type": "display_data"
    },
    {
     "name": "stdout",
     "output_type": "stream",
     "text": [
      "[1.686060606060606, 0.5028922631959508, 2.3900343642611683]\n"
     ]
    },
    {
     "name": "stderr",
     "output_type": "stream",
     "text": [
      "Some weights of the model checkpoint at GroNLP/bert-base-dutch-cased were not used when initializing BertForSequenceClassification: ['cls.predictions.decoder.weight', 'cls.predictions.transform.LayerNorm.weight', 'cls.predictions.transform.LayerNorm.bias', 'cls.predictions.bias', 'cls.predictions.transform.dense.weight', 'cls.predictions.transform.dense.bias', 'cls.predictions.decoder.bias']\n",
      "- This IS expected if you are initializing BertForSequenceClassification from the checkpoint of a model trained on another task or with another architecture (e.g. initializing a BertForSequenceClassification model from a BertForPreTraining model).\n",
      "- This IS NOT expected if you are initializing BertForSequenceClassification from the checkpoint of a model that you expect to be exactly identical (initializing a BertForSequenceClassification model from a BertForSequenceClassification model).\n",
      "Some weights of BertForSequenceClassification were not initialized from the model checkpoint at GroNLP/bert-base-dutch-cased and are newly initialized: ['classifier.bias', 'bert.pooler.dense.bias', 'classifier.weight', 'bert.pooler.dense.weight']\n",
      "You should probably TRAIN this model on a down-stream task to be able to use it for predictions and inference.\n",
      "C:\\Users\\jensk\\miniconda3\\envs\\gpu\\lib\\site-packages\\simpletransformers\\classification\\classification_model.py:612: UserWarning: Dataframe headers not specified. Falling back to using column 0 as text and column 1 as labels.\n",
      "  warnings.warn(\n"
     ]
    },
    {
     "data": {
      "application/vnd.jupyter.widget-view+json": {
       "model_id": "c76a00a8dc264a1cbc9d8f5509007ad8",
       "version_major": 2,
       "version_minor": 0
      },
      "text/plain": [
       "  0%|          | 0/1391 [00:00<?, ?it/s]"
      ]
     },
     "metadata": {},
     "output_type": "display_data"
    },
    {
     "data": {
      "application/vnd.jupyter.widget-view+json": {
       "model_id": "b7f80f3d02d54bf89a7e92e619b26de4",
       "version_major": 2,
       "version_minor": 0
      },
      "text/plain": [
       "Epoch:   0%|          | 0/3 [00:00<?, ?it/s]"
      ]
     },
     "metadata": {},
     "output_type": "display_data"
    },
    {
     "data": {
      "text/html": [
       "Finishing last run (ID:tx06do8g) before initializing another..."
      ],
      "text/plain": [
       "<IPython.core.display.HTML object>"
      ]
     },
     "metadata": {},
     "output_type": "display_data"
    },
    {
     "data": {
      "text/html": [
       "Waiting for W&B process to finish... <strong style=\"color:green\">(success).</strong>"
      ],
      "text/plain": [
       "<IPython.core.display.HTML object>"
      ]
     },
     "metadata": {},
     "output_type": "display_data"
    },
    {
     "data": {
      "text/html": [
       " View run <strong style=\"color:#cdcd00\">devout-silence-1</strong> at: <a href='https://wandb.ai/spacehack100/uncategorized/runs/tx06do8g' target=\"_blank\">https://wandb.ai/spacehack100/uncategorized/runs/tx06do8g</a><br/>Synced 6 W&B file(s), 0 media file(s), 0 artifact file(s) and 0 other file(s)"
      ],
      "text/plain": [
       "<IPython.core.display.HTML object>"
      ]
     },
     "metadata": {},
     "output_type": "display_data"
    },
    {
     "data": {
      "text/html": [
       "Find logs at: <code>.\\wandb\\run-20230503_164252-tx06do8g\\logs</code>"
      ],
      "text/plain": [
       "<IPython.core.display.HTML object>"
      ]
     },
     "metadata": {},
     "output_type": "display_data"
    },
    {
     "data": {
      "text/html": [
       "Successfully finished last run (ID:tx06do8g). Initializing new run:<br/>"
      ],
      "text/plain": [
       "<IPython.core.display.HTML object>"
      ]
     },
     "metadata": {},
     "output_type": "display_data"
    },
    {
     "data": {
      "application/vnd.jupyter.widget-view+json": {
       "model_id": "3c2db09a552f41f2a32a9be14845d8a6",
       "version_major": 2,
       "version_minor": 0
      },
      "text/plain": [
       "VBox(children=(Label(value='Waiting for wandb.init()...\\r'), FloatProgress(value=0.016666666666666666, max=1.0…"
      ]
     },
     "metadata": {},
     "output_type": "display_data"
    },
    {
     "data": {
      "text/html": [
       "wandb version 0.15.1 is available!  To upgrade, please run:\n",
       " $ pip install wandb --upgrade"
      ],
      "text/plain": [
       "<IPython.core.display.HTML object>"
      ]
     },
     "metadata": {},
     "output_type": "display_data"
    },
    {
     "data": {
      "text/html": [
       "Tracking run with wandb version 0.13.10"
      ],
      "text/plain": [
       "<IPython.core.display.HTML object>"
      ]
     },
     "metadata": {},
     "output_type": "display_data"
    },
    {
     "data": {
      "text/html": [
       "Run data is saved locally in <code>C:\\De Nayer 2022-2023\\Bachelorproef\\Jupyter notebook\\wandb\\run-20230503_164317-2onp0v3d</code>"
      ],
      "text/plain": [
       "<IPython.core.display.HTML object>"
      ]
     },
     "metadata": {},
     "output_type": "display_data"
    },
    {
     "data": {
      "text/html": [
       "Syncing run <strong><a href='https://wandb.ai/spacehack100/Test%20seperate%20reduced/runs/2onp0v3d' target=\"_blank\">easy-glade-4</a></strong> to <a href='https://wandb.ai/spacehack100/Test%20seperate%20reduced' target=\"_blank\">Weights & Biases</a> (<a href='https://wandb.me/run' target=\"_blank\">docs</a>)<br/>"
      ],
      "text/plain": [
       "<IPython.core.display.HTML object>"
      ]
     },
     "metadata": {},
     "output_type": "display_data"
    },
    {
     "data": {
      "text/html": [
       " View project at <a href='https://wandb.ai/spacehack100/Test%20seperate%20reduced' target=\"_blank\">https://wandb.ai/spacehack100/Test%20seperate%20reduced</a>"
      ],
      "text/plain": [
       "<IPython.core.display.HTML object>"
      ]
     },
     "metadata": {},
     "output_type": "display_data"
    },
    {
     "data": {
      "text/html": [
       " View run at <a href='https://wandb.ai/spacehack100/Test%20seperate%20reduced/runs/2onp0v3d' target=\"_blank\">https://wandb.ai/spacehack100/Test%20seperate%20reduced/runs/2onp0v3d</a>"
      ],
      "text/plain": [
       "<IPython.core.display.HTML object>"
      ]
     },
     "metadata": {},
     "output_type": "display_data"
    },
    {
     "data": {
      "text/html": [
       "Finishing last run (ID:2onp0v3d) before initializing another..."
      ],
      "text/plain": [
       "<IPython.core.display.HTML object>"
      ]
     },
     "metadata": {},
     "output_type": "display_data"
    },
    {
     "data": {
      "text/html": [
       "Waiting for W&B process to finish... <strong style=\"color:green\">(success).</strong>"
      ],
      "text/plain": [
       "<IPython.core.display.HTML object>"
      ]
     },
     "metadata": {},
     "output_type": "display_data"
    },
    {
     "data": {
      "application/vnd.jupyter.widget-view+json": {
       "model_id": "8227617a2eb64ee196b42446e28d486b",
       "version_major": 2,
       "version_minor": 0
      },
      "text/plain": [
       "VBox(children=(Label(value='0.001 MB of 0.024 MB uploaded (0.000 MB deduped)\\r'), FloatProgress(value=0.048224…"
      ]
     },
     "metadata": {},
     "output_type": "display_data"
    },
    {
     "data": {
      "text/html": [
       " View run <strong style=\"color:#cdcd00\">easy-glade-4</strong> at: <a href='https://wandb.ai/spacehack100/Test%20seperate%20reduced/runs/2onp0v3d' target=\"_blank\">https://wandb.ai/spacehack100/Test%20seperate%20reduced/runs/2onp0v3d</a><br/>Synced 5 W&B file(s), 0 media file(s), 0 artifact file(s) and 0 other file(s)"
      ],
      "text/plain": [
       "<IPython.core.display.HTML object>"
      ]
     },
     "metadata": {},
     "output_type": "display_data"
    },
    {
     "data": {
      "text/html": [
       "Find logs at: <code>.\\wandb\\run-20230503_164317-2onp0v3d\\logs</code>"
      ],
      "text/plain": [
       "<IPython.core.display.HTML object>"
      ]
     },
     "metadata": {},
     "output_type": "display_data"
    },
    {
     "data": {
      "text/html": [
       "Successfully finished last run (ID:2onp0v3d). Initializing new run:<br/>"
      ],
      "text/plain": [
       "<IPython.core.display.HTML object>"
      ]
     },
     "metadata": {},
     "output_type": "display_data"
    },
    {
     "data": {
      "application/vnd.jupyter.widget-view+json": {
       "model_id": "84b66ae975a54e878c0e82d7ccfa6bea",
       "version_major": 2,
       "version_minor": 0
      },
      "text/plain": [
       "VBox(children=(Label(value='Waiting for wandb.init()...\\r'), FloatProgress(value=0.016666666666666666, max=1.0…"
      ]
     },
     "metadata": {},
     "output_type": "display_data"
    },
    {
     "data": {
      "text/html": [
       "wandb version 0.15.1 is available!  To upgrade, please run:\n",
       " $ pip install wandb --upgrade"
      ],
      "text/plain": [
       "<IPython.core.display.HTML object>"
      ]
     },
     "metadata": {},
     "output_type": "display_data"
    },
    {
     "data": {
      "text/html": [
       "Tracking run with wandb version 0.13.10"
      ],
      "text/plain": [
       "<IPython.core.display.HTML object>"
      ]
     },
     "metadata": {},
     "output_type": "display_data"
    },
    {
     "data": {
      "text/html": [
       "Run data is saved locally in <code>C:\\De Nayer 2022-2023\\Bachelorproef\\Jupyter notebook\\wandb\\run-20230503_164340-v0pne5vi</code>"
      ],
      "text/plain": [
       "<IPython.core.display.HTML object>"
      ]
     },
     "metadata": {},
     "output_type": "display_data"
    },
    {
     "data": {
      "text/html": [
       "Syncing run <strong><a href='https://wandb.ai/spacehack100/Test%20seperate%20reduced/runs/v0pne5vi' target=\"_blank\">exalted-sun-5</a></strong> to <a href='https://wandb.ai/spacehack100/Test%20seperate%20reduced' target=\"_blank\">Weights & Biases</a> (<a href='https://wandb.me/run' target=\"_blank\">docs</a>)<br/>"
      ],
      "text/plain": [
       "<IPython.core.display.HTML object>"
      ]
     },
     "metadata": {},
     "output_type": "display_data"
    },
    {
     "data": {
      "text/html": [
       " View project at <a href='https://wandb.ai/spacehack100/Test%20seperate%20reduced' target=\"_blank\">https://wandb.ai/spacehack100/Test%20seperate%20reduced</a>"
      ],
      "text/plain": [
       "<IPython.core.display.HTML object>"
      ]
     },
     "metadata": {},
     "output_type": "display_data"
    },
    {
     "data": {
      "text/html": [
       " View run at <a href='https://wandb.ai/spacehack100/Test%20seperate%20reduced/runs/v0pne5vi' target=\"_blank\">https://wandb.ai/spacehack100/Test%20seperate%20reduced/runs/v0pne5vi</a>"
      ],
      "text/plain": [
       "<IPython.core.display.HTML object>"
      ]
     },
     "metadata": {},
     "output_type": "display_data"
    },
    {
     "data": {
      "application/vnd.jupyter.widget-view+json": {
       "model_id": "f8ecc5aab86e49ca9374e1ee658a9b3e",
       "version_major": 2,
       "version_minor": 0
      },
      "text/plain": [
       "Running Epoch 0 of 3:   0%|          | 0/87 [00:00<?, ?it/s]"
      ]
     },
     "metadata": {},
     "output_type": "display_data"
    },
    {
     "data": {
      "application/vnd.jupyter.widget-view+json": {
       "model_id": "97c54bda33ae4df09fe4e3df2eb7e5bd",
       "version_major": 2,
       "version_minor": 0
      },
      "text/plain": [
       "Running Epoch 1 of 3:   0%|          | 0/87 [00:00<?, ?it/s]"
      ]
     },
     "metadata": {},
     "output_type": "display_data"
    },
    {
     "data": {
      "application/vnd.jupyter.widget-view+json": {
       "model_id": "d3e75d13dd194b93939bc862d2494032",
       "version_major": 2,
       "version_minor": 0
      },
      "text/plain": [
       "Running Epoch 2 of 3:   0%|          | 0/87 [00:00<?, ?it/s]"
      ]
     },
     "metadata": {},
     "output_type": "display_data"
    },
    {
     "data": {
      "text/plain": [
       "(261, 0.401064336496152)"
      ]
     },
     "execution_count": 5,
     "metadata": {},
     "output_type": "execute_result"
    }
   ],
   "source": [
    "wandb.init()\n",
    "trainArguments = {'reprocess_input_data' : True, 'use_multiprocessing' : True, 'num_train_epochs' : 3, 'overwrite_output_dir' : True, 'use_early_stopping' : True, 'early_stopping_consider_epochs' : True, 'train_batch_size' : 16, 'optimizer' : 'AdamW', 'save_model_every_epoch' : False, 'logging_steps' : 25, 'learning_rate' : 6e-5, 'wandb_project' : 'Test seperate reduced', 'wandb_kwargs' : {'magic' : True}}\n",
    "classifier = ClassificationModel(\"bert\",\"GroNLP/bert-base-dutch-cased\", num_labels=len(trainSet['classIndex'].unique()),args=trainArguments, use_cuda=True, weight=calculate_class_weights(trainSet))\n",
    "classifier.train_model(trainSet)"
   ]
  },
  {
   "cell_type": "markdown",
   "id": "ee596767",
   "metadata": {},
   "source": [
    "### Evaluate the resulting model against validation set"
   ]
  },
  {
   "cell_type": "code",
   "execution_count": 6,
   "id": "393d7027",
   "metadata": {
    "scrolled": true
   },
   "outputs": [
    {
     "name": "stderr",
     "output_type": "stream",
     "text": [
      "C:\\Users\\jensk\\miniconda3\\envs\\gpu\\lib\\site-packages\\simpletransformers\\classification\\classification_model.py:1454: UserWarning: Dataframe headers not specified. Falling back to using column 0 as text and column 1 as labels.\n",
      "  warnings.warn(\n"
     ]
    },
    {
     "data": {
      "application/vnd.jupyter.widget-view+json": {
       "model_id": "5948ffd23f3044488cf653f8d734be46",
       "version_major": 2,
       "version_minor": 0
      },
      "text/plain": [
       "  0%|          | 0/278 [00:00<?, ?it/s]"
      ]
     },
     "metadata": {},
     "output_type": "display_data"
    },
    {
     "data": {
      "application/vnd.jupyter.widget-view+json": {
       "model_id": "0e45ff3b0eac44a9ab74605f37dfd963",
       "version_major": 2,
       "version_minor": 0
      },
      "text/plain": [
       "Running Evaluation:   0%|          | 0/35 [00:00<?, ?it/s]"
      ]
     },
     "metadata": {},
     "output_type": "display_data"
    },
    {
     "data": {
      "text/html": [
       "Finishing last run (ID:v0pne5vi) before initializing another..."
      ],
      "text/plain": [
       "<IPython.core.display.HTML object>"
      ]
     },
     "metadata": {},
     "output_type": "display_data"
    },
    {
     "data": {
      "text/html": [
       "Waiting for W&B process to finish... <strong style=\"color:green\">(success).</strong>"
      ],
      "text/plain": [
       "<IPython.core.display.HTML object>"
      ]
     },
     "metadata": {},
     "output_type": "display_data"
    },
    {
     "data": {
      "text/html": [
       "<style>\n",
       "    table.wandb td:nth-child(1) { padding: 0 10px; text-align: left ; width: auto;} td:nth-child(2) {text-align: left ; width: 100%}\n",
       "    .wandb-row { display: flex; flex-direction: row; flex-wrap: wrap; justify-content: flex-start; width: 100% }\n",
       "    .wandb-col { display: flex; flex-direction: column; flex-basis: 100%; flex: 1; padding: 10px; }\n",
       "    </style>\n",
       "<div class=\"wandb-row\"><div class=\"wandb-col\"><h3>Run history:</h3><br/><table class=\"wandb\"><tr><td>Training loss</td><td>▄▆█▂▃▃▁▂▁▁</td></tr><tr><td>global_step</td><td>▁▂▃▃▄▅▆▆▇█</td></tr><tr><td>lr</td><td>█▇▆▆▅▄▃▃▂▁</td></tr></table><br/></div><div class=\"wandb-col\"><h3>Run summary:</h3><br/><table class=\"wandb\"><tr><td>Training loss</td><td>0.01098</td></tr><tr><td>global_step</td><td>250</td></tr><tr><td>lr</td><td>0.0</td></tr></table><br/></div></div>"
      ],
      "text/plain": [
       "<IPython.core.display.HTML object>"
      ]
     },
     "metadata": {},
     "output_type": "display_data"
    },
    {
     "data": {
      "text/html": [
       " View run <strong style=\"color:#cdcd00\">exalted-sun-5</strong> at: <a href='https://wandb.ai/spacehack100/Test%20seperate%20reduced/runs/v0pne5vi' target=\"_blank\">https://wandb.ai/spacehack100/Test%20seperate%20reduced/runs/v0pne5vi</a><br/>Synced 6 W&B file(s), 0 media file(s), 0 artifact file(s) and 0 other file(s)"
      ],
      "text/plain": [
       "<IPython.core.display.HTML object>"
      ]
     },
     "metadata": {},
     "output_type": "display_data"
    },
    {
     "data": {
      "text/html": [
       "Find logs at: <code>.\\wandb\\run-20230503_164340-v0pne5vi\\logs</code>"
      ],
      "text/plain": [
       "<IPython.core.display.HTML object>"
      ]
     },
     "metadata": {},
     "output_type": "display_data"
    },
    {
     "data": {
      "text/html": [
       "Successfully finished last run (ID:v0pne5vi). Initializing new run:<br/>"
      ],
      "text/plain": [
       "<IPython.core.display.HTML object>"
      ]
     },
     "metadata": {},
     "output_type": "display_data"
    },
    {
     "data": {
      "application/vnd.jupyter.widget-view+json": {
       "model_id": "1f8853cc24c744d5acb5303376e7ee3f",
       "version_major": 2,
       "version_minor": 0
      },
      "text/plain": [
       "VBox(children=(Label(value='Waiting for wandb.init()...\\r'), FloatProgress(value=0.016666666666666666, max=1.0…"
      ]
     },
     "metadata": {},
     "output_type": "display_data"
    },
    {
     "data": {
      "text/html": [
       "wandb version 0.15.1 is available!  To upgrade, please run:\n",
       " $ pip install wandb --upgrade"
      ],
      "text/plain": [
       "<IPython.core.display.HTML object>"
      ]
     },
     "metadata": {},
     "output_type": "display_data"
    },
    {
     "data": {
      "text/html": [
       "Tracking run with wandb version 0.13.10"
      ],
      "text/plain": [
       "<IPython.core.display.HTML object>"
      ]
     },
     "metadata": {},
     "output_type": "display_data"
    },
    {
     "data": {
      "text/html": [
       "Run data is saved locally in <code>C:\\De Nayer 2022-2023\\Bachelorproef\\Jupyter notebook\\wandb\\run-20230503_164447-5j7jjtch</code>"
      ],
      "text/plain": [
       "<IPython.core.display.HTML object>"
      ]
     },
     "metadata": {},
     "output_type": "display_data"
    },
    {
     "data": {
      "text/html": [
       "Syncing run <strong><a href='https://wandb.ai/spacehack100/Test%20seperate%20reduced/runs/5j7jjtch' target=\"_blank\">faithful-planet-6</a></strong> to <a href='https://wandb.ai/spacehack100/Test%20seperate%20reduced' target=\"_blank\">Weights & Biases</a> (<a href='https://wandb.me/run' target=\"_blank\">docs</a>)<br/>"
      ],
      "text/plain": [
       "<IPython.core.display.HTML object>"
      ]
     },
     "metadata": {},
     "output_type": "display_data"
    },
    {
     "data": {
      "text/html": [
       " View project at <a href='https://wandb.ai/spacehack100/Test%20seperate%20reduced' target=\"_blank\">https://wandb.ai/spacehack100/Test%20seperate%20reduced</a>"
      ],
      "text/plain": [
       "<IPython.core.display.HTML object>"
      ]
     },
     "metadata": {},
     "output_type": "display_data"
    },
    {
     "data": {
      "text/html": [
       " View run at <a href='https://wandb.ai/spacehack100/Test%20seperate%20reduced/runs/5j7jjtch' target=\"_blank\">https://wandb.ai/spacehack100/Test%20seperate%20reduced/runs/5j7jjtch</a>"
      ],
      "text/plain": [
       "<IPython.core.display.HTML object>"
      ]
     },
     "metadata": {},
     "output_type": "display_data"
    },
    {
     "name": "stderr",
     "output_type": "stream",
     "text": [
      "\u001b[34m\u001b[1mwandb\u001b[0m: \u001b[33mWARNING\u001b[0m wandb.plots.* functions are deprecated and will be removed in a future release. Please use wandb.plot.* instead.\n"
     ]
    },
    {
     "name": "stdout",
     "output_type": "stream",
     "text": [
      "{'mcc': 0.7127332602194065, 'f1': 0.8597122302158273, 'confusionMatrix': array([[ 40,  11,   3],\n",
      "       [  3, 173,   9],\n",
      "       [  4,   9,  26]], dtype=int64), 'eval_loss': 0.7471776382332401}\n"
     ]
    }
   ],
   "source": [
    "def f1_multiclass(labels, preds):\n",
    "    return f1_score(labels, preds, average='micro')\n",
    "\n",
    "result, model_outputs, wrong_predictions = classifier.eval_model(valSet, f1=f1_multiclass, confusionMatrix=confusion_matrix)\n",
    "print(result)"
   ]
  },
  {
   "cell_type": "code",
   "execution_count": 7,
   "id": "8a96b795",
   "metadata": {
    "scrolled": true
   },
   "outputs": [
    {
     "name": "stdout",
     "output_type": "stream",
     "text": [
      "<class 'simpletransformers.classification.classification_utils.InputExample'>\n",
      "<class 'str'>\n",
      "{'guid': 4, 'text_a': 'Met bijlage EVI DE GREVE BVBA LEO DE BETHUNELAAN AALST evidegrevegmailcom BTW Op ma sep om schreef Evi De Greve In bijlage Thomas zit jij vandaag nog achter de veren van de goedkeurders voor mijn eerdere facturen alsjeblieft Mijn laatst betaalde werkdag voor jullie is juli betaald op augustus maar sindsdien niks meer Evi EVI DE GREVE BVBA LEO DE BETHUNELAAN AALST evidegrevegmailcom BTW', 'text_b': None, 'label': 1}\n",
      "<class 'dict'>\n"
     ]
    },
    {
     "data": {
      "text/html": [
       "<div>\n",
       "<style scoped>\n",
       "    .dataframe tbody tr th:only-of-type {\n",
       "        vertical-align: middle;\n",
       "    }\n",
       "\n",
       "    .dataframe tbody tr th {\n",
       "        vertical-align: top;\n",
       "    }\n",
       "\n",
       "    .dataframe thead th {\n",
       "        text-align: right;\n",
       "    }\n",
       "</style>\n",
       "<table border=\"1\" class=\"dataframe\">\n",
       "  <thead>\n",
       "    <tr style=\"text-align: right;\">\n",
       "      <th></th>\n",
       "      <th>testSet_id</th>\n",
       "      <th>text</th>\n",
       "      <th>pred_label</th>\n",
       "      <th>true_label</th>\n",
       "    </tr>\n",
       "  </thead>\n",
       "  <tbody>\n",
       "    <tr>\n",
       "      <th>0</th>\n",
       "      <td>4</td>\n",
       "      <td>Met bijlage EVI DE GREVE BVBA LEO DE BETHUNELAAN AALST evidegrevegmailcom BTW Op ma sep om schreef Evi De Greve In bijlage Thomas zit jij vandaag nog achter de veren van de goedkeurders voor mijn eerdere facturen alsjeblieft Mijn laatst betaalde werkdag voor jullie is juli betaald op augustus maar sindsdien niks meer Evi EVI DE GREVE BVBA LEO DE BETHUNELAAN AALST evidegrevegmailcom BTW</td>\n",
       "      <td>2</td>\n",
       "      <td>1</td>\n",
       "    </tr>\n",
       "    <tr>\n",
       "      <th>1</th>\n",
       "      <td>6</td>\n",
       "      <td>Bedankt voor uw reservatie Dit is een definitieve reservatie Voltooi volgende stappen voor de ophaling van het materiaal STAP CONTRACT Controleer uw contract nauwkeurig en onderteken het digitaal via deze link STAP ID Klik hieronder op uw naam om uw identiteit te verifiren Zijn er meerdere contacten Dan verifieert de hoofdverantwoordelijke Sam Haeghens Staat uw naam in het groen Dan hoeft u niets meer te doen STAP BETALING U betaalt op factuur met een termijn van dagen Nuttige info Komt u zelf niet ophalen Stuur deze mail door naar de ophaler als bewijs U kan uw materiaal oppikken in Gent volgens de uren aangeduid in het contract Alle stappen moeten voltooid zijn De factuur ontvangt u per mail na inlevering en controle van het materiaal Bedankt Ostron Team Dit is een definitieve reservatie Annuleren kan enkel kosteloos binnen de na verzending van deze mail Daarna zijn er kosten aan verbonden zie onze algemene voorwaarden voor meer details To change your email preferences when comments are added to this discussion click here Sent from</td>\n",
       "      <td>1</td>\n",
       "      <td>0</td>\n",
       "    </tr>\n",
       "    <tr>\n",
       "      <th>2</th>\n",
       "      <td>10</td>\n",
       "      <td>en willen jullie deze creditnota bezorgen via Everest groetjes Sofie Forwarded message Van Kris Spaepen Date ma aug om Subject Fwd CREDITNOTA DPG MEDIA NVSANPEWI BV MVG To Sofie Verhoeven Hi Sofie Hier ook de creditnota van de schilderwerken Kan jij die ook in het systeem invoeren Dat maakt dat de schilderkosten voor ons nu exact EUR zijn ex BTW Thanks K Forwarded message From Date Mon Aug at Subject Fwd CREDITNOTA DPG MEDIA NVSANPEWI BV MVG To Kris Spaepen suppliers suppliersdpgmediabe Dag Kris Hierbij alvast de CN van Sanpewi ivm de schilderwerken bij Regi Groet Steven Doorgestuurd bericht Van wimverhaert Aan stevendemedts Cc wimverhaert Verzonden Maandag augustus Onderwerp CREDITNOTA DPG MEDIA NVSANPEWI BV MVG Kris Spaepen image DPG Media Medialaan Vilvoorde M krisspaependpgmediabe dpgmediabe</td>\n",
       "      <td>0</td>\n",
       "      <td>2</td>\n",
       "    </tr>\n",
       "    <tr>\n",
       "      <th>3</th>\n",
       "      <td>16</td>\n",
       "      <td>Sehr geehrte Damen und Herren als Anhang senden wir Ihnen Mahnung Nr Mit freundlichen Gren Anke Eberhardt Buchhaltung Dear Sir or Madam Please find attached our reminder no Best regards Anke Eberhardt Accounting GBZ Mannheim GmbH Co KG AdamOpelStrae Frankenthal Tel Fax email aeberhardtgbzde Web wwwgbzde Persnlich haftende Gesellschafterin GBZ Mannheim Verwaltungs GmbH HRB Nr Geschftsfhrer Reinhold Born Thomas Corell Gnter Riedl Gnther Walter Amtsgericht Ludwigshafen HRA UstIdNr SteuerNr To frankgoossenspersgroepbe Cc cbeckergbzde ujessbergergbzde</td>\n",
       "      <td>2</td>\n",
       "      <td>1</td>\n",
       "    </tr>\n",
       "    <tr>\n",
       "      <th>4</th>\n",
       "      <td>19</td>\n",
       "      <td>From Benoit Materne RingRing Sent vendredi juillet To suppliersdpgmediabe Subject HERINNERING Facture factuur FactVente From Accounting RingRing Sent jeudi mai To suppliersdpgmediabe Subject Facture factuur FactVente N de Client Socit DPG Media Document FactVente Cher client Veuillez trouver cijoint le document portant le numro nous vous en souhaitons bonne rception Si cette adresse mail nest pas la bonne merci de nous le communiquer par retour de mail sur billingringringbe Vous pouvez utiliser la mme adresse pour toute question ou commentaire ventuel sur lun de ces documents Cordialement Lquipe RingRing Ce mail est un message automatique Beste klant Gelieve in bijlage het document met nummer te willen vinden wij wensen er u een goede ontvangst van Indien dit emailadres niet het juiste is gelieve ons dat dan per omgaande email te signaleren op het volgende emailadres billingringringbe U kan datzelfde emailadres gebruiken voor eventuele vragen of opmerkingen omtrent de ontvangen documenten Met vriendelijke groeten Het RingRingteam Ce mail est un message automatique Dear Customer Please find enclosed the document bearing the number If that email address is not good please let us know by returning this email at billingringringbe You can use the same address for any questions or comments on one of these documents Kind Regards The RingRing team This is an automatic email The Ring Ring Company Culliganlaan Diegem</td>\n",
       "      <td>1</td>\n",
       "      <td>2</td>\n",
       "    </tr>\n",
       "    <tr>\n",
       "      <th>5</th>\n",
       "      <td>24</td>\n",
       "      <td>Geachte heermevrouw Bijgaand treft u onze factuuren aangaande onze recente prestaties in bovenvermelde dossiers De details in deze werden aan mevrouw Anita Coremans bezorgd Wij danken u voor uw betalingen Met vriendelijke groeten Martine Claes Office Manager TILLEMAN VANHOOGENBEMT Advocaten Arbeidsrecht Antwerpen Meir bus Antwerpen t f Brussel Koloninstraat Brussel t wwwtvhadvocatenbe MartineClaestvhlawbe</td>\n",
       "      <td>2</td>\n",
       "      <td>1</td>\n",
       "    </tr>\n",
       "    <tr>\n",
       "      <th>6</th>\n",
       "      <td>50</td>\n",
       "      <td>Dag collegas De factuur niet deze van incasso staat nog steeds on hold in mijn flow Mag ik deze rejecten Normaa gezien diende enkel het factuur van incasso betaald te worden Groet Pas Pascale Jaecques Assistente hoofdredactie magazines showbizz image DPG Media Mediaplein Antwerpen T M pascalejaecquesdpgmediabe dpgmediabe Op vr aug om schreef Pascale Jaecques pascalejaecquesdpgmediabe Reject ik dan het factuur van Van Dale Want het is het bedrag van euro van Incasso dat we moeten betalen Groet Pas Pascale Jaecques Assistente hoofdredactie magazines showbizz image DPG Media Mediaplein Antwerpen T M pascalejaecquesdpgmediabe dpgmediabe Op do aug om schreef Pascale Jaecques pascalejaecquesdpgmediabe Dag Pascale Volledig mits het al bij incasso ligt Enkel het factuur van incasso dienen we dus uit te voeren Groet Pas Pascale Jaecques Assistente hoofdredactie magazines showbizz image DPG Media Mediaplein Antwerpen T M pascalejaecquesdpgmediabe dpgmediabe Op do aug om schreef Pascale Segers pascalesegersdpgmediabe Hallo Tamara Moeten deze kosten volledig betaald worden of enkel het factuurbedrag Grtjes Pascale Pascale Segers Accounts payable image DPG Media Mediaplein Antwerpen Pascalesegersdpgmediabe dpgmediabe Op do aug om schreef Tamara Roos Dag Pascale Wil jij dit betalen aan Advius Advocatenkantoor De factuur van Van Dale was nog niet verwerkt Ik heb dit bij deze wel gedaan en de factuur de flow ingestuurd ze staat op CASH groetjes Tamara Forwarded message Van Pascale Jaecques Date do aug om Subject Fwd FW Re T RE Re T RE Re T RE Fwd T Re Re T Fwd Factuur To Tamara Roos Kevin Van Caelenberg KevinVanCaelenbergdpgmediabe Goedemorgen collegas Geen idee of deze ondertussen al betaald is Dank om te checken Groet Pas Pascale Jaecques Assistente hoofdredactie magazines showbizz image DPG Media Mediaplein Antwerpen T M pascalejaecquesdpgmediabe dpgmediabe Forwarded message Van DaanounJamina Date wo aug om Subject RE FW Re T RE Re T RE Re T RE Fwd T Re Re T Fwd Factuur To pascalejaecquesdpgmediabe Beste Hierbij de kopie factuur Van Pascale Jaecques Verzonden woensdag augustus Aan DaanounJamina Onderwerp Re FW Re T RE Re T RE Re T RE Fwd T Re Re T Fwd Factuur Beste Kan u ons wel nog even een details sturen van dit factuur Dit is nl nodig om deze hier intern op de juiste kostenplaats te zetten Wij vermoeden dat dit wederom voor De Morgen gaat zijn maar we moeten dit kunnen voorleggen Dank Pascale Pascale Jaecques Assistente hoofdredactie magazines showbizz image DPG Media Mediaplein Antwerpen T M pascalejaecquesdpgmediabe dpgmediabe Op wo aug om schreef DaanounJamina Beste Wij hebben nu de naam aangepast de factuur is nu uit handen gegeven aan Advia incasso Bureau Het adres is het zelfde gebleven Willen jullie het bedrag overmaken naar het Incasso Bureau Advia Doorgestuurd bericht van Pascale Jaecques pascalejaecquesdpgmediabe Van Pascale Jaecques Aan Helpdesk Van Dale ReplyTo pascalejaecquesdpgmediabe Onderwerp Re Re T Fwd Factuur Datum Beste Wij hebben enkel deze ontvangen Groet mevrouw Pascale Jaecques Pascale Jaecques Assistente hoofdredactie magazines showbizz image DPG Media Mediaplein Antwerpen T M pascalejaecquesdpgmediabe dpgmediabe Op ma aug om schreef Helpdesk Van Dale helpdeskvandalenl Geachte heer Jaecques Kunt u het factuurnummer zenden en als het kan de herinnering scannen en deze mee zenden Wij kunnen dan nakijken wat er misgaat Met vriendelijke groet Van Dale Uitgevers Maurice Verstege Klantcontactcentrum VBKmedia Postbus LG Utrecht E helpdeskvandalenl T Pascale Jaecques schreef Beste Wij krijgen onderstaande betalingsherrinering op naam van Goed Gevoel Kan u ons aub het desbetreffende factuur bezorgen en ook de details hieromtrent In het verleden zie eerdere mails waren deze facturen steeds voor De Morgen en werd er ook gevraagd om dit niet meer tav Goed Gevoel te versturen Dank voor een snelle feedback Pascale Pascale Jaecques Assistente hoofdredactie magazines showbizz image DPG Media Mediaplein Antwerpen T M pascalejaecquesdpgmediabe dpgmediabe Forwarded message Van Pascale Jaecques Date di dec om Subject Re Factuur To Van Dale Helpdesk Nederland Beste Hebt u dit ondertussen kunnen bekijken Groet Pascale Pascale Jaecques Assistente hoofdredactie magazines image DPG Media Mediaplein Antwerpen T M pascalejaecquesdpgmediabe dpgmediabe Op vr nov om schreef Pascale Jaecques pascalejaecquesdpgmediabe Beste Wij ontvingen deze factuur Zoals u reeds van vorig jaar weet dienen de meeste facturen op De Morgen te komen Verlengingen worden sinds vorig jaar gewoon online betaald Dank om de huidige facturen aan te passen en in de toekomst rekening mee te houden Groet Pascale Pascale Jaecques Assistente hoofdredactie magazines image DPG Media Mediaplein Antwerpen T M pascalejaecquesdpgmediabe dpgmediabe Einde doorgestuurd bericht</td>\n",
       "      <td>0</td>\n",
       "      <td>2</td>\n",
       "    </tr>\n",
       "    <tr>\n",
       "      <th>7</th>\n",
       "      <td>51</td>\n",
       "      <td>Beste klant Gelieve in bijlage een herinnering te vinden Aarzel niet om ons te contacteren voor bijkomende vragen op met vermelding van uw referentie Indien dit schrijven uw betaling zou gekruist hebben verzoeken wij u geen rekening te houden met deze herinnering Uw dossierbeheerder DIeteren Lease At DIeteren we work in a flexible way Even if I send an email now I do not expect a response nor action outside your own working hours Otherwise I will call you or send you a SMSIM DISCLAIMER The content of this email message does not constitute a commitment of DIeteren Automotive SANV BE or its subsidiariesaffiliates This email and any attachments thereto may contain information which is confidential andor protected by intellectual property rights and are intended for the intended recipient only Any use of the information contained herein including but not limited to total or partial reproduction communication or distribution in any form by persons other than the designated recipients is prohibited If an addressing or transmission error has misdirected this email please notify the author either by telephone or by email and delete the material from any computer</td>\n",
       "      <td>2</td>\n",
       "      <td>1</td>\n",
       "    </tr>\n",
       "    <tr>\n",
       "      <th>8</th>\n",
       "      <td>55</td>\n",
       "      <td>Beste Jasper Enkele tijd geleden heb jevan ons een factuur ontvangen met factuurnummer Helaas hebben wij het verschuldigde bedrag ter hoogte van tot op heden niet ontvangen Wij verzoeken jedaarom vriendelijk om het verschuldigde bedrag alsnog binnen over te maken op onze rekening tnv TripService BV Met vriendelijke groet Monique Tijdeman</td>\n",
       "      <td>1</td>\n",
       "      <td>2</td>\n",
       "    </tr>\n",
       "    <tr>\n",
       "      <th>9</th>\n",
       "      <td>83</td>\n",
       "      <td>Dear Xandr Client Xandr will withhold the amount listed from your next seller payment in relation to invalid traffic purchased by Google during the applicable period Google withholds payment from Xandr based on Googles invalid traffic detection and filtration methodology as part of DoubleClick Bid Managers refund program for invalid traffic Member Name Member ID Amount Withheld Applicable Period DPG Media NV EUR July Activity Please reach out to your Account Manager with any questions Best Xandr Finance</td>\n",
       "      <td>0</td>\n",
       "      <td>1</td>\n",
       "    </tr>\n",
       "    <tr>\n",
       "      <th>10</th>\n",
       "      <td>86</td>\n",
       "      <td>Good afternoon The invoices listed below are currently overdue in our system for days Document Debit Credit Date Due date DD EUR EUR Total EUR Despite our reminders we still havent received any feedback from youCould you please confirm the payment date If you have any questions please contact us by email at collectionsinsitesconsultingcom Should the amount have been paid in the meantime please ignore this notice Kind regards Accounts Receivable Team Email Tel Please do not remove this line References mailtoFinanceClientsinsitesconsultingcom</td>\n",
       "      <td>1</td>\n",
       "      <td>2</td>\n",
       "    </tr>\n",
       "    <tr>\n",
       "      <th>11</th>\n",
       "      <td>88</td>\n",
       "      <td>Beste Zoals telefonisch besproken bevestig ik hierbij de wijziging van ons adres en bankrekeningnummer De huidige correcte gegevens zijn The QBranch BV Balansstraat Antwerpen VAT IBAN BIC JVBA Beste groeten Quentin Van Damme Mobile LinkedIn quentinvandamme Facebook quentinvandamme Instagram quentinvandamme</td>\n",
       "      <td>1</td>\n",
       "      <td>0</td>\n",
       "    </tr>\n",
       "    <tr>\n",
       "      <th>12</th>\n",
       "      <td>90</td>\n",
       "      <td>Vriendelijke groeten GLENN DE MULDER REGIONAL SALES MANAGER gdmbelgianpostersbe</td>\n",
       "      <td>1</td>\n",
       "      <td>0</td>\n",
       "    </tr>\n",
       "    <tr>\n",
       "      <th>13</th>\n",
       "      <td>98</td>\n",
       "      <td>Hi Deze factuur is superdringend Ivm uitzending op moeten we betaald hebben om tijdig materialen te kunnen ontvangen Kunnen jullie mij laten weten wanneer deze wordt betaald Dank Esther Forwarded message Van Benjamin Szabo Date wo sep om Subject RE FW Beyond Rights Limited Sales Invoice Contract To esthervandenbrinkdpgmediabe Cc Leona Bonny suppliersdpgmediabe suppliersdpgmediabe Hello again Just a note it is not a legal requirement to quote accounting information on invoices apart from a purchase order The responsibility of coding invoice correctly is not your clients but it is an internal matter so DPG should be handling this internally We have of clients and no one is expecting us to do the accounting for them Trust all is now in order we are expecting the payment in due course Best Benjamin From Esther Van den Brink Sent September To Benjamin Szabo Subject Re FW Beyond Rights Limited Sales Invoice Contract HI Benjamin I think the VAT number is still missing Thanks Esther Op wo sep om schreef Benjamin Szabo Hello Esther I have already resent this Is there still a problem Ben From Esther Van den Brink Sent September To Benjamin Szabo Cc Leona Bonny Lenneke de Jong lennekebeyondrightstv Subject Re FW Beyond Rights Limited Sales Invoice Contract Hi Benjamin thank you for your email As we have moved to a new admin tool we need the following codes to be included on the invoices Purchase number Brand Cost centre And could you also include our VAT number Could you please revise the invoices and resend to suppliersdpgmediabe Many thanks Esther Op wo sep om schreef Benjamin Szabo Dear Valued Customer Attached is a copy of your current Tax Invoices Please ensure payment is actioned within the agreed payment terms If you have any questions or would like to request further information please reply to this email and we will respond as soon as possible Best Regards Accounts Receivable Beyond Rights Limited Beyond Rights Limited is a limited liability company registered in England and Wales company number Registered address Floor Wardour Street London United Kingdom Notice The information contained in this email and any attachments may be legally privileged and confidential If you are not an intended recipient you are hereby notified that any dissemination distribution or copying of this email is strictly prohibited If you have received this email in error please notify the sender and permanently delete all copies of this email and any attachments immediately from your computer system You should not retain copy or use this email or any attachment for any purpose nor disclose all or any part of the contents to any other person The contents of this message may contain personal views which are not the views of Beyond Rights Limited Thank you Beyond Rights Limited is a limited liability company registered in England and Wales company number Registered address Floor Wardour Street London United Kingdom Notice The information contained in this email and any attachments may be legally privileged and confidential If you are not an intended recipient you are hereby notified that any dissemination distribution or copying of this email is strictly prohibited If you have received this email in error please notify the sender and permanently delete all copies of this email and any attachments immediately from your computer system You should not retain copy or use this email or any attachment for any purpose nor disclose all or any part of the contents to any other person The contents of this message may contain personal views which are not the views of Beyond Rights Limited Thank you Beyond Rights Limited is a limited liability company registered in England and Wales company number Registered address Floor Wardour Street London United Kingdom Notice The information contained in this email and any attachments may be legally privileged and confidential If you are not an intended recipient you are hereby notified that any dissemination distribution or copying of this email is strictly prohibited If you have received this email in error please notify the sender and permanently delete all copies of this email and any attachments immediately from your computer system You should not retain copy or use this email or any attachment for any purpose nor disclose all or any part of the contents to any other person The contents of this message may contain personal views which are not the views of Beyond Rights Limited Thank you</td>\n",
       "      <td>2</td>\n",
       "      <td>1</td>\n",
       "    </tr>\n",
       "    <tr>\n",
       "      <th>14</th>\n",
       "      <td>111</td>\n",
       "      <td>Hallo Pascale De oorspronkelijke factuur dient goedgekeurd te worden want deze moet verwerkt worden in de boekhouding Deze wordt dan afgepunt met het bedrag welke betaald werd aan adviusincasso Grtjes Pascale Pascale Segers Accounts payable image DPG Media Mediaplein Antwerpen Pascalesegersdpgmediabe dpgmediabe Op do aug om schreef Pascale Jaecques pascalejaecquesdpgmediabe Dag collegas De factuur niet deze van incasso staat nog steeds on hold in mijn flow Mag ik deze rejecten Normaa gezien diende enkel het factuur van incasso betaald te worden Groet Pas Pascale Jaecques Assistente hoofdredactie magazines showbizz image DPG Media Mediaplein Antwerpen T M pascalejaecquesdpgmediabe dpgmediabe Op vr aug om schreef Pascale Jaecques pascalejaecquesdpgmediabe Reject ik dan het factuur van Van Dale Want het is het bedrag van euro van Incasso dat we moeten betalen Groet Pas Pascale Jaecques Assistente hoofdredactie magazines showbizz image DPG Media Mediaplein Antwerpen T M pascalejaecquesdpgmediabe dpgmediabe Op do aug om schreef Pascale Jaecques pascalejaecquesdpgmediabe Dag Pascale Volledig mits het al bij incasso ligt Enkel het factuur van incasso dienen we dus uit te voeren Groet Pas Pascale Jaecques Assistente hoofdredactie magazines showbizz image DPG Media Mediaplein Antwerpen T M pascalejaecquesdpgmediabe dpgmediabe Op do aug om schreef Pascale Segers pascalesegersdpgmediabe Hallo Tamara Moeten deze kosten volledig betaald worden of enkel het factuurbedrag Grtjes Pascale Pascale Segers Accounts payable image DPG Media Mediaplein Antwerpen Pascalesegersdpgmediabe dpgmediabe Op do aug om schreef Tamara Roos tamararoosdpgmediabe Dag Pascale Wil jij dit betalen aan Advius Advocatenkantoor De factuur van Van Dale was nog niet verwerkt Ik heb dit bij deze wel gedaan en de factuur de flow ingestuurd ze staat op CASH groetjes Tamara Forwarded message Van Pascale Jaecques Date do aug om Subject Fwd FW Re T RE Re T RE Re T RE Fwd T Re Re T Fwd Factuur To Tamara Roos Kevin Van Caelenberg KevinVanCaelenbergdpgmediabe Goedemorgen collegas Geen idee of deze ondertussen al betaald is Dank om te checken Groet Pas Pascale Jaecques Assistente hoofdredactie magazines showbizz image DPG Media Mediaplein Antwerpen T M pascalejaecquesdpgmediabe dpgmediabe Forwarded message Van DaanounJamina Date wo aug om Subject RE FW Re T RE Re T RE Re T RE Fwd T Re Re T Fwd Factuur To pascalejaecquesdpgmediabe Beste Hierbij de kopie factuur Van Pascale Jaecques Verzonden woensdag augustus Aan DaanounJamina Onderwerp Re FW Re T RE Re T RE Re T RE Fwd T Re Re T Fwd Factuur Beste Kan u ons wel nog even een details sturen van dit factuur Dit is nl nodig om deze hier intern op de juiste kostenplaats te zetten Wij vermoeden dat dit wederom voor De Morgen gaat zijn maar we moeten dit kunnen voorleggen Dank Pascale Pascale Jaecques Assistente hoofdredactie magazines showbizz image DPG Media Mediaplein Antwerpen T M pascalejaecquesdpgmediabe dpgmediabe Op wo aug om schreef DaanounJamina Beste Wij hebben nu de naam aangepast de factuur is nu uit handen gegeven aan Advia incasso Bureau Het adres is het zelfde gebleven Willen jullie het bedrag overmaken naar het Incasso Bureau Advia Doorgestuurd bericht van Pascale Jaecques pascalejaecquesdpgmediabe Van Pascale Jaecques Aan Helpdesk Van Dale ReplyTo pascalejaecquesdpgmediabe Onderwerp Re Re T Fwd Factuur Datum Beste Wij hebben enkel deze ontvangen Groet mevrouw Pascale Jaecques Pascale Jaecques Assistente hoofdredactie magazines showbizz image DPG Media Mediaplein Antwerpen T M pascalejaecquesdpgmediabe dpgmediabe Op ma aug om schreef Helpdesk Van Dale helpdeskvandalenl Geachte heer Jaecques Kunt u het factuurnummer zenden en als het kan de herinnering scannen en deze mee zenden Wij kunnen dan nakijken wat er misgaat Met vriendelijke groet Van Dale Uitgevers Maurice Verstege Klantcontactcentrum VBKmedia Postbus LG Utrecht E helpdeskvandalenl T Pascale Jaecques schreef Beste Wij krijgen onderstaande betalingsherrinering op naam van Goed Gevoel Kan u ons aub het desbetreffende factuur bezorgen en ook de details hieromtrent In het verleden zie eerdere mails waren deze facturen steeds voor De Morgen en werd er ook gevraagd om dit niet meer tav Goed Gevoel te versturen Dank voor een snelle feedback Pascale Pascale Jaecques Assistente hoofdredactie magazines showbizz image DPG Media Mediaplein Antwerpen T M pascalejaecquesdpgmediabe dpgmediabe Forwarded message Van Pascale Jaecques Date di dec om Subject Re Factuur To Van Dale Helpdesk Nederland Beste Hebt u dit ondertussen kunnen bekijken Groet Pascale Pascale Jaecques Assistente hoofdredactie magazines image DPG Media Mediaplein Antwerpen T M pascalejaecquesdpgmediabe dpgmediabe Op vr nov om schreef Pascale Jaecques pascalejaecquesdpgmediabe Beste Wij ontvingen deze factuur Zoals u reeds van vorig jaar weet dienen de meeste facturen op De Morgen te komen Verlengingen worden sinds vorig jaar gewoon online betaald Dank om de huidige facturen aan te passen en in de toekomst rekening mee te houden Groet Pascale Pascale Jaecques Assistente hoofdredactie magazines image DPG Media Mediaplein Antwerpen T M pascalejaecquesdpgmediabe dpgmediabe Einde doorgestuurd bericht</td>\n",
       "      <td>0</td>\n",
       "      <td>2</td>\n",
       "    </tr>\n",
       "    <tr>\n",
       "      <th>15</th>\n",
       "      <td>113</td>\n",
       "      <td>Typ uw reactie boven deze regel Evi Wijnant sep CEST Dear Clare Today weve did a payment for the invoices Were sorry for the inconvenience Kind regards Evi Wijnant Finance Clare Devlin sep CEST This is a followup to your previous request Flint CPS Inks Germany DP Hi Evi Please could you confirm the payment date of the below Note orders will be held whilst the account is overdue Thanks Clare Clare Devlin Credit Manager Flint CPS Office Mobile email claredevlinflintgrpcom wwwflintgrpcom FB ln tw inst We would like to kindly inform that personal data included or mentioned by parties in the correspondence may be subject to processing by Flint Group Full information on the protection of personal data can be found in our privacy statement In any case related to the processing of personal data you can contact us at dataprotectionflintgrpcom Flint CPS INKS UK Ltd Company Registration No Registered in England Registered office PO Box Old Heath Road Wolverhampton Telephone The information in this email from Flint Group or its business units is confidential and intended solely for the addressee If you are not the intended recipient then disclosure reproduction or distribution of this email is prohibited and may be unlawful If you believe you have received this email in error then please inform the sender immediately and permanently delete all copies of the message Thank you From Evi Wijnant DPG Media Belgi Finance Squad To Clare Devlin Cc Matthew PrestonLoader Date Subject Flint CPS Inks Germany DPG Media Services NV Bijlagen Dit emailbericht is een service van Finance DPG Media Belgi</td>\n",
       "      <td>2</td>\n",
       "      <td>0</td>\n",
       "    </tr>\n",
       "    <tr>\n",
       "      <th>16</th>\n",
       "      <td>118</td>\n",
       "      <td>Beste Van de bijgevoegde factuur van vinden wij in de boekhouding geen betaling terug Kan u ons meedelen wanneer deze factuur door u betaald werd Ik dank u daarvoor bij voorbaat van harte Met vriendelijke groet Koen Huygebaert Van canonscanhvcobe Verzonden dinsdag augustus Aan Koen Huygebaert HVCO Onderwerp Attached Image</td>\n",
       "      <td>2</td>\n",
       "      <td>1</td>\n",
       "    </tr>\n",
       "    <tr>\n",
       "      <th>17</th>\n",
       "      <td>142</td>\n",
       "      <td>Beste Hebben jullie onderstaand mailtje goed ontvangen Kunnen jullie ons zo snel mogelijk een nieuwe PO bezorgen Bedankt Gr From Isabeau Libens Sent Tuesday August PM To suppliersdpgmediabe Subject FW Een nieuwe bestelling van DPG Media Services NV Beste Net zoals bij de PO van Jurgen Deschepper zie ik dat ook deze het oude tarief heeft Er werd afgesproken om een nieuw tarief te hanteren vanaf Namelijk euro Zouden jullie ons een nieuwe PO contract kunnen bezorgen Vriendelijke groeten From Annelies Schepers Sent Monday August AM To Isabeau Libens Subject FW Een nieuwe bestelling van DPG Media Services NV FYI From DPG Media Services NV Sent Monday August To Annelies Schepers Subject Een nieuwe bestelling van DPG Media Services NV This is an incoming mail from an EXTERNAL DOMAIN Please verify sender before you open attachments or access links Finance Bestelbon Beste leverancier In bijlage bezorgen wij u de bestelbon voor de consultancykost van de voorbije maand Mogen wij u vriendelijk verzoeken op uw factuur te verwijzen naar deze bestelbon De factuur mag u sturen naar volgend emailadres suppliersdpgmediabe Gelieve er rekening mee te houden dat facturen die afwijken van de bestelbon niet worden aanvaard Als u merkt dat op de bestelbon onjuiste informatie staat verzoeken wij u de consultant te vragen om via ons timetrackingsysteem een correctie uit te voeren en dit vr de de van de maand Rond de de van de maand ontvangt u van ons een bijkomende bestelbon hiervoor Eventuele onkostennotas dienen apart gefactureerd te worden gestaafd met de daarbij horende bewijsstukken Aarzel niet ons te contacteren indien u nog bijkomende vragen heeft Met vriendelijke groet Isabelle De Lentdecker Management assistant ICT Tel</td>\n",
       "      <td>2</td>\n",
       "      <td>0</td>\n",
       "    </tr>\n",
       "    <tr>\n",
       "      <th>18</th>\n",
       "      <td>149</td>\n",
       "      <td>To Whom it May Concern This is a reminder that the invoices below will be due for settlement in days Please advise if the payment will not be made within the agreed contractual terms If payment has already been made please send the remittance advice to the email address mentioned at the bottom of this notice Account Name Invoice Currency Open Amount Due Date DPG Media NV EUR Invoice Total Remittance information is included on the attached invoices Please contact us at creditcontrolnlmorningstarcom if you have any questions Kind Regards Morningstar Finance</td>\n",
       "      <td>1</td>\n",
       "      <td>2</td>\n",
       "    </tr>\n",
       "    <tr>\n",
       "      <th>19</th>\n",
       "      <td>150</td>\n",
       "      <td>Dag Seppe Komt er dan nog een creditnota en een nieuwe factuur ter vervanging van Want de factuur die nu in bijlage zit is Groeten Wim Op wo aug om schreef seppeseppenobelsbe seppeseppenobelsbe Beste Wim zoals gevraagd heb ik de kosten apart naar Geronimo verzonden Kan jij het factuur van dat ik de eerste keer verzond op laten afhandelen dat zou geweldig zijn Hierbij het finale en juiste factuur Suppliers staat in cc om snel te kunne handelen Best regards Seppe Nobels Chef de cuisine Instroom Antwerp Chateau de la Chapelle Anthisnes wwwseppenobelsbe Be green keep it on the screen Wim Van de Voorde Executive Producer TV image DPG Media Medialaan Vilvoorde T M wimvandevoordedpgmediabe dpgmediabe</td>\n",
       "      <td>1</td>\n",
       "      <td>0</td>\n",
       "    </tr>\n",
       "    <tr>\n",
       "      <th>20</th>\n",
       "      <td>162</td>\n",
       "      <td>From Benoit Materne RingRing Sent vendredi juillet To suppliersdpgmediabe Subject HERINNERING Facture factuur FactVente From Accounting RingRing Sent mardi juin To suppliersdpgmediabe Subject Facture factuur FactVente N de Client Socit DPG Media Document FactVente Cher client Veuillez trouver cijoint le document portant le numro nous vous en souhaitons bonne rception Si cette adresse mail nest pas la bonne merci de nous le communiquer par retour de mail sur billingringringbe Vous pouvez utiliser la mme adresse pour toute question ou commentaire ventuel sur lun de ces documents Cordialement Lquipe RingRing Ce mail est un message automatique Beste klant Gelieve in bijlage het document met nummer te willen vinden wij wensen er u een goede ontvangst van Indien dit emailadres niet het juiste is gelieve ons dat dan per omgaande email te signaleren op het volgende emailadres billingringringbe U kan datzelfde emailadres gebruiken voor eventuele vragen of opmerkingen omtrent de ontvangen documenten Met vriendelijke groeten Het RingRingteam Ce mail est un message automatique Dear Customer Please find enclosed the document bearing the number If that email address is not good please let us know by returning this email at billingringringbe You can use the same address for any questions or comments on one of these documents Kind Regards The RingRing team This is an automatic email The Ring Ring Company Culliganlaan Diegem</td>\n",
       "      <td>1</td>\n",
       "      <td>2</td>\n",
       "    </tr>\n",
       "    <tr>\n",
       "      <th>21</th>\n",
       "      <td>167</td>\n",
       "      <td>Dear Accounts Payable This is a courtesy notice that MongoDB will reach its EndOfLife as of April MongoDB released in June will reach its End of Life EOL on April in accordance with our Support Policy If you have any questions about the EOL policy please email supportoperationsmongodbcom Do not reply directly to this email as it is sent from a noreply email address While most upgrades require no application changes we recommend that you test your applications against MongoDB before upgrading Please review the resources listed below to learn about best practices on how to upgrade your MongoDB instances With the upgrade you will be able to take advantage of the many improvements to the database including With version Transactions for sharded clusters Transactions larger than Enhanced ondisk data compression Zstandard compression support Nodowntime replacement of certificates and key files Faster Initial Sync Wildcard indexes Ondemand materialized views Clientside fieldlevel encryption With version Custom Aggregation expressions Compound hashed and refinable shard keys Hedged and mirrored reads Resumable initial sync AWS IAM authentication With version Versioned API designed to preserve application behavior through upgrades Native time series collections and clustered indexing Window functions and new temporal operators Live resharding Schema validation diagnostics certificate rotation Resumable index builds Next Steps Find your current version Run your mongod binary with the mongod version argument Find the latest stable releases MongoDB downloads page Upgrade to MongoDB Note that upgrading from version to will first require intermediate upgrades to and Upgrade Procedures from to Upgrade Procedures from to Upgrade Procedures from to For further help Support please open a case in our Support Portal Professional Services If you would like handson assistance with your upgrade our professional services team offers Major Version Upgrade Services Please reply to this email if you would like additional information Thank You MongoDB Team Share on Twitter Share on Facebook Share on Twitch Share on LinkedIn MongoDB Inc All rights reserved Broadway Floor New York NY Unsubscribe or change your email preferences View in browser</td>\n",
       "      <td>1</td>\n",
       "      <td>0</td>\n",
       "    </tr>\n",
       "    <tr>\n",
       "      <th>22</th>\n",
       "      <td>172</td>\n",
       "      <td>Goeiemiddag Sarah in bijlage vind je de slotfactuur voor de workshop gisteren met Mark Gallagher Vriendelijke groeten Griet Griet Hemeryck Lets connect on LinkedIn twitteryellow Van Sarah Coolkens Verzonden dinsdag mei Aan Griet Hemeryck nexxworks Onderwerp Re Workshop Mark Gallagher voorschotfactuur Dag Griet Dat is DPG Media NV Mediaplein Antwerpen BTW nr BE Referentie Sarah Coolkens Kostenplaats Brand Dank je Sarah Op ma mei om schreef Griet Hemeryck nexxworks Goeiemorgen Sarah fijn kennismaken Ik contacteer je even mbt de voorschotfactuur van ter bevestiging van de workshop dit najaar met Mark Gallagher Welke facturatiegegevens mag ik hiervoor gebruiken en wensen jullie een bepaald POnummer of referentie op de factuur Bedankt alvast Griet Griet Hemeryck Lets connect on LinkedIn twitteryellow</td>\n",
       "      <td>0</td>\n",
       "      <td>1</td>\n",
       "    </tr>\n",
       "    <tr>\n",
       "      <th>23</th>\n",
       "      <td>185</td>\n",
       "      <td>Dag Hilde Goed ontvangen Factuur zal verwerkt worden in het systeem Grtjs Gitte Gitte Nuyens Head of Scripted image DPG Media Medialaan Vilvoorde M gittenuyensdpgmediabe dpgmediabe Op ma aug om schreef Hilde De Laere Geachte Gelieve hierbij onze factuur te willen vinden voor Schijf van de productie ZILLION Vriendelijke groeten Hilde De Laere</td>\n",
       "      <td>1</td>\n",
       "      <td>0</td>\n",
       "    </tr>\n",
       "    <tr>\n",
       "      <th>24</th>\n",
       "      <td>187</td>\n",
       "      <td>Beste Zoals overeengekomen stuur ik u hierbij de Kostenstaat van de door ons uitgevoerde preventieve hulpactie Wij hopen te mogen rekenen op een correcte betaling Wij danken u voor de prettige samenwerking en hopen dat u tevreden was over de inzet van onze vrijwilligers Mocht u in de toekomst nogmaals een beroep op het Rode Kruis willen doen aarzel dan niet om ons een aanvraag te sturen U mag ons steeds contacteren mocht u nog vragen hebben Met vriendelijke groeten Peter Schepens Afdelingsvoorzitter Rode Kruis Middelkerke</td>\n",
       "      <td>2</td>\n",
       "      <td>1</td>\n",
       "    </tr>\n",
       "    <tr>\n",
       "      <th>25</th>\n",
       "      <td>193</td>\n",
       "      <td>Dag Yves Bezorg je de factuur zelf ook nog even Bedankt Jan Op ma aug om schreef Yves Melis Beste Op aanvraag van Fremantle zal de factuur voor de audities naar DPG gaan kunnen wij voor de goede orde Uw akkoord krijgen voor volgende factuur aub Aanrekening BGT Factureren VTM Main Job Extra Rook Extra Riggers Totaal exc btw Graag confirmatie van volgende specificaties op de factuur image PRG Logo Yves Melis Account Manager Production Resource Group BV Phone Mobile Fax Email ymelisprgcom Web wwwprgcombe Industriezone Hambos Vaartdijk BE Tildonk This email may contain confidential andor privileged information If you are not the intended recipient or have received this email by error please notify the sender immediately and destroy this email Any unauthorised copying disclosure or distribution of the material in this email is strictly forbidden Please consider the environment before printing this email</td>\n",
       "      <td>1</td>\n",
       "      <td>0</td>\n",
       "    </tr>\n",
       "    <tr>\n",
       "      <th>26</th>\n",
       "      <td>195</td>\n",
       "      <td>body margin padding table td tr verticalalign top bordercollapse collapse lineheight inherit axappledatadetectorstrue color inherit important textdecoration none important media maxwidth blockgrid col minwidth important maxwidth important display block important blockgrid width important col width important colcont margin auto imgfullwidth imgfullwidthOnMobile maxwidth important nostack col minwidth important display tablecell important nostacktwoup col width important nostack width important nostack width important nostack width important nostack width important nostack width important nostack width important nostack width important nostack width important nostack width important videoblock maxwidth none important mobilehide minheight maxheight maxwidth display none overflow hidden fontsize desktophide display block important maxheight none important Senior VOF Overdue invoice This is a friendly reminder you have an invoice to pay Balance due View invoice Already Paid Notify the business This automated reminder was sent by Inc All Rights Reserved Bryant St Palo Alto California United States Support Center Privacy Policy Subscription Center Unsubscribe</td>\n",
       "      <td>0</td>\n",
       "      <td>2</td>\n",
       "    </tr>\n",
       "    <tr>\n",
       "      <th>27</th>\n",
       "      <td>201</td>\n",
       "      <td>om in te scannen ICSYV RO Forwarded message Van Yorick Van der Elst Date vr aug om Subject Re ICSYV Facturatie Bewaking To Liebie Wellens Hey Liebie Bij deze de nieuwe factuur voor bewakers Groetjes Yorick Op di aug om schreef Yorick Van der Elst yorickvanderelstpersgroepnet Hey Liebie Als bijlage kan je de facturatie van de bewaking terugvinden Er komt op alle draaidagen bewaker aangezien het publiek niet overlapt Groetjes Yorick Y O R I C K V A N D E R E L S T PRODUCTIECORDINATOR image VTM Medialaan Vilvoorde M yorickvanderelstdpgmediabe dpgmediabe image DPG Media Y O R I C K V A N D E R E L S T PRODUCTIECORDINATOR image VTM Medialaan Vilvoorde M yorickvanderelstdpgmediabe dpgmediabe image DPG Media Liebie Wellens Sr Executive producer TV image DPG Media Mediaplein Antwerpen M liebiewellensdpgmediabe dpgmediabe image DPG Media dots image DPG Media dots</td>\n",
       "      <td>1</td>\n",
       "      <td>0</td>\n",
       "    </tr>\n",
       "    <tr>\n",
       "      <th>28</th>\n",
       "      <td>206</td>\n",
       "      <td>Typ uw reactie boven deze regel Tamara Roos sep CEST Beste Stefanie Dit is een ontbrekende factuur Ik heb ze bij deze verwerkt Vrijdag zal ze opgenomen worden in onze wekelijkse betalingsrun Met vriendelijke groeten Tamara Roos Team Lead Accounts Payable Mediaplein Antwerpen suppliersdpgmediabe RPA Suppliers sep CEST Forwarded message From Stefanie van Vliet Date Mon Sept at Subject Openstaande factuur To suppliersdpgmediabe Geachte heermevrouw Hierbij stuur ik u een factuur die volgens onze administratie nog open staat Kunt u nagaan wat de status hiervan is Met vriendelijke groet Stefanie van VlietPost Polteq Back Office stefanievanvlietpolteqcom wwwpolteqcom Passion for testing Amersfoort Amsterdam Deventer Eindhoven Groningen Rotterdam Leuven Bijlagen Dit emailbericht is een service van Finance DPG Media Belgi</td>\n",
       "      <td>1</td>\n",
       "      <td>0</td>\n",
       "    </tr>\n",
       "    <tr>\n",
       "      <th>29</th>\n",
       "      <td>218</td>\n",
       "      <td>Ceci est un message automatique Cher client chre cliente Nous vous remercions davoir choisi la facturation lectronique Vous trouverez votre facture en pice jointe Nom du client Mobile Vikings nv Numro de client Numro du document Date du document Date dchance Montant TVA incluse La rfrence de paiement Vous avez reu un mot de passe temporaire par un courrier lectronique Si ncessaire vous pouvez toujours demander un nouveau mot de passe en cliquant sur Ce mot de passe vous permet de vous inscrire sur le portail de facturation lectronique de Belgium Vous serez immdiatement invit dfinir un nouveau mot de passe Aprs avoir termin votre inscription vous pouvez trouver tous vos documents via Si vous avez des questions concernant le portail de facturation lectronique vous pouvez toujours consulter la page daide Cordialement Billing team Disclaimer Le contenu de cet email et des fichiers joints est strictement confidentiel et contient des informations provenant de Belgium et est uniquement destin aux personnes ou aux entits susmentionnes Si vous ntes pas le destinataire voulu ou si vous avez reu cet email par erreur merci den avertir immdiatement lexpditeur par email ladresse suivante et de dtruire ce message et ses pices jointes Toute divulgation utilisation reproduction de ce message non conforme sa destination toute diffusion ou toute publication totale ou partielle est strictement interdite Belgium Tous droits rservs</td>\n",
       "      <td>0</td>\n",
       "      <td>1</td>\n",
       "    </tr>\n",
       "    <tr>\n",
       "      <th>30</th>\n",
       "      <td>220</td>\n",
       "      <td>Dear all Your bill for was due on Aug To view your bill visit Please arrange for payment of the invoice at your earliest convenience to ensure that your access to Echobox remains unaffected If you have any questions please email financeechoboxcom Thank you Echobox Download invoice as a PDF</td>\n",
       "      <td>1</td>\n",
       "      <td>2</td>\n",
       "    </tr>\n",
       "    <tr>\n",
       "      <th>31</th>\n",
       "      <td>222</td>\n",
       "      <td>Ann gelieve alle vragen betreffende facturatie steeds te sturen naar onze leveranciersboekhouding suppliersdpgmediabe groeten Indra Sarono Cordinator Gebouwenbeheer image DPG Media Medialaan Vilvoorde T M IndraSaronodpgmediabe dpgmediabe Forwarded message Van Ann Jonk Date do sep om Subject Herinnering tot betaling F To indrasaronodpgmediabe Geachte Gelieve in bijlage een herinnering tot betaling terug te vinden Met vriendelijke groeten Ann Jonk INTERHAUS bvba TOTAALINRICHTING Luitenant Coppenskazerne Ruiterijschool Brasschaat Email infointerhausbe wwwinterhausbe This email message may contain privileged andor confidential information and is intended to be received only by persons entitled to receive such information If you have received this email in error please notify the sender immediately Please delete it and all attachments from any servers hard drives or any other media Other use of this email by you is strictly prohibited All emails and attachments sent and received are subject to monitoring reading and archival by Interhaus including its subsidiaries The recipient of this email is solely responsible for checking for the presence of Viruses or other Malware Interhaus along with its subsidiaries accepts no liability for any damage caused by any such code transmitted by or accompanying this email or any attachment</td>\n",
       "      <td>1</td>\n",
       "      <td>2</td>\n",
       "    </tr>\n",
       "    <tr>\n",
       "      <th>32</th>\n",
       "      <td>225</td>\n",
       "      <td>Hierbij de premieafrekeningen van Vivium voor Met vriendelijke groeten Sabine Gissem HR Payroll Benefits Officer image DPG Media Medialaan Vilvoorde T sabinegissemedpgmediab dpgmediabe</td>\n",
       "      <td>1</td>\n",
       "      <td>0</td>\n",
       "    </tr>\n",
       "    <tr>\n",
       "      <th>33</th>\n",
       "      <td>231</td>\n",
       "      <td>Collegas Graag de bijgevoegde invoice in behandeling nemen Graag even een check of deze niet al via een ander kanaal in Everest terecht gekomen is Vriendelijke groet Marco Schraven ICT Contractmanager image DPG Media Jacob Bontiusplaats LL Amsterdam M MarcoSchravenDPGMedianl dpgmedianl Forwarded message Van Tom Bruyninckx Date di jul om Subject Fwd Renewal Notification Plauti BV To Marco Schraven Cc Maarten Witteman Dag Marco kan jij deze betaling regelen of heb je nog extra info nodig van ons hiervoor Gr Tom Forwarded message Van John De Mars Date vr jul om Subject Fwd Renewal Notification Plauti BV To Tom Bruyninckx Forwarded message From Administration Plauti BV Date Thu Jul at Subject Renewal Notification Plauti BV To johndemarsdpgmediabe image Image Renewal Notification Hi John Thank you for being a loyal customer over the last period We are happy to let you know that we have automatically renewed your subscription for Salesforce Organization for the period July till July Your Subscription image Image Advanced Edition Records Your Invoice The invoice for this renewal can be found via the following link The invoice can be paid with Credit Card or via a wire transfer and should be paid within days Thank you for your trust in us let us know if you have any questions or remark Sten Ebenau CEO Plauti BV Plauti BV Jansbuitensingel AA ARNHEM The Netherlands wwwplauticom infoplauticom John De Mars CRM Dashboard Specialist image DPG Media Medialaan Vilvoorde T M johndemarsdpgmediabe dpgmediabe image DPG Media dots</td>\n",
       "      <td>2</td>\n",
       "      <td>1</td>\n",
       "    </tr>\n",
       "    <tr>\n",
       "      <th>34</th>\n",
       "      <td>248</td>\n",
       "      <td>Hello Our records indicate that the invoice listed below is currently overdue Document Debit Credit Date Due date DD EUR Total EUR It would be greatly appreciated if you could confirm receipt of this invoice and advise if the payment has been scheduled If you have any questions please contact us by email at collectionsinsitesconsultingcom Should the amount have been paid in the meantime please ignore this notice Kind regards Accounts Receivable Accounts Receivable Team Email Tel Please do not remove this line References mailtoFinanceClientsinsitesconsultingcom</td>\n",
       "      <td>1</td>\n",
       "      <td>2</td>\n",
       "    </tr>\n",
       "    <tr>\n",
       "      <th>35</th>\n",
       "      <td>258</td>\n",
       "      <td>Beste Wij kregen van jullie een betaling binnen van waarvoor dank Maar dit bedrag komt niet helemaal overeen met het totale bedrag dat betaald moest worden nl Is het mogelijk om even na te kijken hoe jullie aan het bedrag van komen Of gaat het om een vergissing Alvast bedankt om het na te kijken Groetjes Lenni Overloop For all emails regarding invoices and payments financeoptionmediatv</td>\n",
       "      <td>2</td>\n",
       "      <td>1</td>\n",
       "    </tr>\n",
       "    <tr>\n",
       "      <th>36</th>\n",
       "      <td>261</td>\n",
       "      <td>Wij mogen deze factuur niet opnemen in onze boekhouding daar ons Belgisch BTW nummer ontbreekt En daaruit vloeit dan onmiddellijk dat de BTW moet verlegd worden Vraag jij een correcte factuur On Mon Sept at Isabelle De Lentdecker isabelledelentdeckerdpgmediabe wrote Hey Deze factuur staat op DPG media services dus voor suppliers Gelieve te boeken op door te boeken naar DPG Media NV op HR BE Ik vermoed door te boeken op DPG Media BV op HR NL Alvast bedankt Met vriendelijk groeten Isabelle De Lentdecker Management assistant ICT image DPG Media Mediaplein Antwerpen T isabelledelentdeckerdpgmediabe dpgmediabe image DPG Media dots Op ma sep om schreef Sara Tonino DPG Media saratoninodpgmedianl Hi Collegas Bij deze mijn akkoord om deze factuur te betalen vanuit IT Kleine notitie van deze factuur zal Jacomine de Visser en Sarah Coolkens ieder euro betalen De rest dus euro is voor IT Lukt het zo om dit in jullie administratie te verwerken Hoor graag let me know thanks Mvg Sara Tonino Forwarded message Van Egotribe BV Subject Factuur To Sara Tonino Cc Geachte heermevrouw Bijgaand de factuur met nummer voor de diensten zoals beschreven als besproken met Zoe Lammers cc We zien betaling graag binnen de gestelde termijn tegemoet Graag bij de betaling factuur en projectnummer vermelden Alvast bedankt Hartelijke groet Egotribe BV Sara Tonino Communication DPG Media IT Jacob Bontiusplaats LL Amsterdam M saratoninodpgmedianl dpgmedianl</td>\n",
       "      <td>1</td>\n",
       "      <td>0</td>\n",
       "    </tr>\n",
       "    <tr>\n",
       "      <th>37</th>\n",
       "      <td>269</td>\n",
       "      <td>Hallo Kunnen jullie dit bekijken Bedankt en groetjes Sabine Forwarded message Van Chan Man Ki Date ma aug om Subject RE Uw Vivium groepsverzekeringen DPG Media nv en DPG Media Services nv betalingen afrekeningen To INFOHRDPGMEDIABE Geachte mevrouw Vlasschaert Wij hebben kunnen achterhalen waarom er teveel werd betaald Jullie hebben de totaalbedragen van de dekking levenoverlijden betaald in plaats van de totaalbedragen van de premieafrekeningen met alle dekkingen Polisnummer Premies Leven overlijden EUR Totaal bedrag Premieafrekening EUR Teveel betaald EUR Wij hebben de terugbetalingen van de teveel betaalde bedragen vandaag ingegeven in onze systeem De bedragen zullen op n van de komende werkdagen op jullie bankrekeningen DPG Media nv en DPG Media Services nv staan Met vriendelijke groeten Man Ki CHAN Employee Benefits Financieel Beheer Teamleader T E mankichanviviumbe VIVIUM Desguinlei Antwerpen Surf naar wwwebconnectbe d website met alle info over groepsverzekeringen van VIVIUM U vindt hier een antwoord op al uw vragen u ontdekt hoe we optimaal samenwerken n u kunt snel en gemakkelijk uw personeelswijzigingen doorgeven Denk aan het milieu voordat u dit bericht afdrukt From Chan Man Ki Sent To INFOHRDPGMEDIABE Subject Uw Vivium groepsverzekeringen DPG media nv en DPG Meida Services nv betalingen afrekeningen Geachte mevrouw Vlasschaert Wij hebben op twee betalingen van jullie ontvangen voor de afrekeningen van de groepsverzekering van DPG Media nv en DPG Media Services nv EUR EUR Jullie betaling van EUR is volgens de mededeling van jullie overschrijving bestemd voor de volgende afrekeningen Polisnummer Uitgiftedatum Vervaldatum Bedrag EUR Totaal Jullie betaling komt niet overeen met het totaal van de afrekeningen Jullie betaling van is volgens de mededeling van jullie overschrijving bestemd voor de volgende afrekening Polisnummer Uitgiftedatum Vervaldatum Bedrag EUR Ook deze betaling komt niet overeen met de afrekening Is het mogelijk om meer informatie mee te delen over jullie twee betalingen zodat wij ze juist kunnen verwerken Bedankt Met vriendelijke groeten Man Ki CHAN Employee Benefits Financieel Beheer Teamleader T E mankichanviviumbe VIVIUM Desguinlei Antwerpen Surf naar wwwebconnectbe d website met alle info over groepsverzekeringen van VIVIUM U vindt hier een antwoord op al uw vragen u ontdekt hoe we optimaal samenwerken n u kunt snel en gemakkelijk uw personeelswijzigingen doorgeven Denk aan het milieu voordat u dit bericht afdrukt HR Team image DPG Media Mediaplein Antwerpen Medialaan Vilvoorde tel infoHRdpgmediabe</td>\n",
       "      <td>2</td>\n",
       "      <td>0</td>\n",
       "    </tr>\n",
       "    <tr>\n",
       "      <th>38</th>\n",
       "      <td>273</td>\n",
       "      <td>Beste Er staat nog een factuur van jullie open die op ten laatste had moeten betaald zijn Kan U dit aub in orde maken In bijlage nogmaals de factuur Met vriendelijke groeten Raf Van Hoof Ears Eyes entertainment GCV Ears Eyes entertainment GCV Merksplassebaan Oostmalle Gsm Email rafvanhoofmecom Ondernemingsnummer BTW BE KBC IBAN Op jun om heeft Raf Van Hoof het volgende geschreven Geachte Hierbij onze Factuur Nr Bij vragen of opmerkingen kan je mij altijd contacteren Mvg Raf Van Hoof Joe NV Online communicatie Sven Coolspdf</td>\n",
       "      <td>1</td>\n",
       "      <td>2</td>\n",
       "    </tr>\n",
       "  </tbody>\n",
       "</table>\n",
       "</div>"
      ],
      "text/plain": [
       "    testSet_id  \\\n",
       "0            4   \n",
       "1            6   \n",
       "2           10   \n",
       "3           16   \n",
       "4           19   \n",
       "5           24   \n",
       "6           50   \n",
       "7           51   \n",
       "8           55   \n",
       "9           83   \n",
       "10          86   \n",
       "11          88   \n",
       "12          90   \n",
       "13          98   \n",
       "14         111   \n",
       "15         113   \n",
       "16         118   \n",
       "17         142   \n",
       "18         149   \n",
       "19         150   \n",
       "20         162   \n",
       "21         167   \n",
       "22         172   \n",
       "23         185   \n",
       "24         187   \n",
       "25         193   \n",
       "26         195   \n",
       "27         201   \n",
       "28         206   \n",
       "29         218   \n",
       "30         220   \n",
       "31         222   \n",
       "32         225   \n",
       "33         231   \n",
       "34         248   \n",
       "35         258   \n",
       "36         261   \n",
       "37         269   \n",
       "38         273   \n",
       "\n",
       "                                                                                                                                                                                                                                                                                                                                                                                                                                                                                                                                                                                                                                                                                                                                                                                                                                                                                                                                                                                                                                                                                                                                                                                                                                                                                                                                                                                                                                                                                                                                                                                                                                                                                                                                                                                                                                                                                                                                                                                                                                                                                                                                                                                                                                                                                                                                                                                                                                                                                                                                                                                                                                                                                                                                                                                                                                                                                                                                                                                                                                                                                                                                                                                                                                                                                                                                                                                                                                                                                                                                                                                                                                                                                                                                                                                                                                                                                                                                                                                                                                                                                                                                                                                                                                                                                                                                                                                                                                                                                                                                                                                                                                                                                                                                                                                                                                                                                                                                                                                                                                                                                                                                                                                                                                                                                                                                                                                                                        text  \\\n",
       "0                                                                                                                                                                                                                                                                                                                                                                                                                                                                                                                                                                                                                                                                                                                                                                                                                                                                                                                                                                                                                                                                                                                                                                                                                                                                                                                                                                                                                                                                                                                                                                                                                                                                                                                                                                                                                                                                                                                                                                                                                                                                                                                                                                                                                                                                                                                                                                                                                                                                                                                                                                                                                                                                                                                                                                                                                                                                                                                                                                                                                                                                                                                                                                                                                                                                                                                                                                                                                                                                                                                                                                                                                                                                                                                                                                                                                                                                                                                                                                                                                                                                                                                                                                                                                                                                                                                                                                                                                                                                                                                                                                                                                                                                                                                                                                                                                                                                                                                                                                                                                       Met bijlage EVI DE GREVE BVBA LEO DE BETHUNELAAN AALST evidegrevegmailcom BTW Op ma sep om schreef Evi De Greve In bijlage Thomas zit jij vandaag nog achter de veren van de goedkeurders voor mijn eerdere facturen alsjeblieft Mijn laatst betaalde werkdag voor jullie is juli betaald op augustus maar sindsdien niks meer Evi EVI DE GREVE BVBA LEO DE BETHUNELAAN AALST evidegrevegmailcom BTW   \n",
       "1                                                                                                                                                                                                                                                                                                                                                                                                                                                                                                                                                                                                                                                                                                                                                                                                                                                                                                                                                                                                                                                                                                                                                                                                                                                                                                                                                                                                                                                                                                                                                                                                                                                                                                                                                                                                                                                                                                                                                                                                                                                                                                                                                                                                                                                                                                                                                                                                                                                                                                                                                                                                                                                                                                                                                                                                                                                                                                                                                                                                                                                                                                                                                                                                                                                                                                                                                                                                                                                                                                                                                                                                                                                                                                                                                                                                                                                                                                                                                                                                                                                                                                                                                                                                                                                                                                                                  Bedankt voor uw reservatie Dit is een definitieve reservatie Voltooi volgende stappen voor de ophaling van het materiaal STAP CONTRACT Controleer uw contract nauwkeurig en onderteken het digitaal via deze link STAP ID Klik hieronder op uw naam om uw identiteit te verifiren Zijn er meerdere contacten Dan verifieert de hoofdverantwoordelijke Sam Haeghens Staat uw naam in het groen Dan hoeft u niets meer te doen STAP BETALING U betaalt op factuur met een termijn van dagen Nuttige info Komt u zelf niet ophalen Stuur deze mail door naar de ophaler als bewijs U kan uw materiaal oppikken in Gent volgens de uren aangeduid in het contract Alle stappen moeten voltooid zijn De factuur ontvangt u per mail na inlevering en controle van het materiaal Bedankt Ostron Team Dit is een definitieve reservatie Annuleren kan enkel kosteloos binnen de na verzending van deze mail Daarna zijn er kosten aan verbonden zie onze algemene voorwaarden voor meer details To change your email preferences when comments are added to this discussion click here Sent from   \n",
       "2                                                                                                                                                                                                                                                                                                                                                                                                                                                                                                                                                                                                                                                                                                                                                                                                                                                                                                                                                                                                                                                                                                                                                                                                                                                                                                                                                                                                                                                                                                                                                                                                                                                                                                                                                                                                                                                                                                                                                                                                                                                                                                                                                                                                                                                                                                                                                                                                                                                                                                                                                                                                                                                                                                                                                                                                                                                                                                                                                                                                                                                                                                                                                                                                                                                                                                                                                                                                                                                                                                                                                                                                                                                                                                                                                                                                                                                                                                                                                                                                                                                                                                                                                                                                                                                                                                                                                                                                                                                                                                                                                                                     en willen jullie deze creditnota bezorgen via Everest groetjes Sofie Forwarded message Van Kris Spaepen Date ma aug om Subject Fwd CREDITNOTA DPG MEDIA NVSANPEWI BV MVG To Sofie Verhoeven Hi Sofie Hier ook de creditnota van de schilderwerken Kan jij die ook in het systeem invoeren Dat maakt dat de schilderkosten voor ons nu exact EUR zijn ex BTW Thanks K Forwarded message From Date Mon Aug at Subject Fwd CREDITNOTA DPG MEDIA NVSANPEWI BV MVG To Kris Spaepen suppliers suppliersdpgmediabe Dag Kris Hierbij alvast de CN van Sanpewi ivm de schilderwerken bij Regi Groet Steven Doorgestuurd bericht Van wimverhaert Aan stevendemedts Cc wimverhaert Verzonden Maandag augustus Onderwerp CREDITNOTA DPG MEDIA NVSANPEWI BV MVG Kris Spaepen image DPG Media Medialaan Vilvoorde M krisspaependpgmediabe dpgmediabe   \n",
       "3                                                                                                                                                                                                                                                                                                                                                                                                                                                                                                                                                                                                                                                                                                                                                                                                                                                                                                                                                                                                                                                                                                                                                                                                                                                                                                                                                                                                                                                                                                                                                                                                                                                                                                                                                                                                                                                                                                                                                                                                                                                                                                                                                                                                                                                                                                                                                                                                                                                                                                                                                                                                                                                                                                                                                                                                                                                                                                                                                                                                                                                                                                                                                                                                                                                                                                                                                                                                                                                                                                                                                                                                                                                                                                                                                                                                                                                                                                                                                                                                                                                                                                                                                                                                                                                                                                                                                                                                                                                                                                                                                                                                                                                                                                                                                                                                                                                   Sehr geehrte Damen und Herren als Anhang senden wir Ihnen Mahnung Nr Mit freundlichen Gren Anke Eberhardt Buchhaltung Dear Sir or Madam Please find attached our reminder no Best regards Anke Eberhardt Accounting GBZ Mannheim GmbH Co KG AdamOpelStrae Frankenthal Tel Fax email aeberhardtgbzde Web wwwgbzde Persnlich haftende Gesellschafterin GBZ Mannheim Verwaltungs GmbH HRB Nr Geschftsfhrer Reinhold Born Thomas Corell Gnter Riedl Gnther Walter Amtsgericht Ludwigshafen HRA UstIdNr SteuerNr To frankgoossenspersgroepbe Cc cbeckergbzde ujessbergergbzde   \n",
       "4                                                                                                                                                                                                                                                                                                                                                                                                                                                                                                                                                                                                                                                                                                                                                                                                                                                                                                                                                                                                                                                                                                                                                                                                                                                                                                                                                                                                                                                                                                                                                                                                                                                                                                                                                                                                                                                                                                                                                                                                                                                                                                                                                                                                                                                                                                                                                                                                                                                                                                                                                                                                                                                                                                                                                                                                                                                                                                                                                                                                                                                                                                                                                                                                                                                                                                                                                                                                                                                                                                                                                                                                                                                                                                                                                                                                                                                                                                                                     From Benoit Materne RingRing Sent vendredi juillet To suppliersdpgmediabe Subject HERINNERING Facture factuur FactVente From Accounting RingRing Sent jeudi mai To suppliersdpgmediabe Subject Facture factuur FactVente N de Client Socit DPG Media Document FactVente Cher client Veuillez trouver cijoint le document portant le numro nous vous en souhaitons bonne rception Si cette adresse mail nest pas la bonne merci de nous le communiquer par retour de mail sur billingringringbe Vous pouvez utiliser la mme adresse pour toute question ou commentaire ventuel sur lun de ces documents Cordialement Lquipe RingRing Ce mail est un message automatique Beste klant Gelieve in bijlage het document met nummer te willen vinden wij wensen er u een goede ontvangst van Indien dit emailadres niet het juiste is gelieve ons dat dan per omgaande email te signaleren op het volgende emailadres billingringringbe U kan datzelfde emailadres gebruiken voor eventuele vragen of opmerkingen omtrent de ontvangen documenten Met vriendelijke groeten Het RingRingteam Ce mail est un message automatique Dear Customer Please find enclosed the document bearing the number If that email address is not good please let us know by returning this email at billingringringbe You can use the same address for any questions or comments on one of these documents Kind Regards The RingRing team This is an automatic email The Ring Ring Company Culliganlaan Diegem   \n",
       "5                                                                                                                                                                                                                                                                                                                                                                                                                                                                                                                                                                                                                                                                                                                                                                                                                                                                                                                                                                                                                                                                                                                                                                                                                                                                                                                                                                                                                                                                                                                                                                                                                                                                                                                                                                                                                                                                                                                                                                                                                                                                                                                                                                                                                                                                                                                                                                                                                                                                                                                                                                                                                                                                                                                                                                                                                                                                                                                                                                                                                                                                                                                                                                                                                                                                                                                                                                                                                                                                                                                                                                                                                                                                                                                                                                                                                                                                                                                                                                                                                                                                                                                                                                                                                                                                                                                                                                                                                                                                                                                                                                                                                                                                                                                                                                                                                                                                                                                                                                                                   Geachte heermevrouw Bijgaand treft u onze factuuren aangaande onze recente prestaties in bovenvermelde dossiers De details in deze werden aan mevrouw Anita Coremans bezorgd Wij danken u voor uw betalingen Met vriendelijke groeten Martine Claes Office Manager TILLEMAN VANHOOGENBEMT Advocaten Arbeidsrecht Antwerpen Meir bus Antwerpen t f Brussel Koloninstraat Brussel t wwwtvhadvocatenbe MartineClaestvhlawbe   \n",
       "6                                                                                                                                                                                                                                                                                                                                                                                                                 Dag collegas De factuur niet deze van incasso staat nog steeds on hold in mijn flow Mag ik deze rejecten Normaa gezien diende enkel het factuur van incasso betaald te worden Groet Pas Pascale Jaecques Assistente hoofdredactie magazines showbizz image DPG Media Mediaplein Antwerpen T M pascalejaecquesdpgmediabe dpgmediabe Op vr aug om schreef Pascale Jaecques pascalejaecquesdpgmediabe Reject ik dan het factuur van Van Dale Want het is het bedrag van euro van Incasso dat we moeten betalen Groet Pas Pascale Jaecques Assistente hoofdredactie magazines showbizz image DPG Media Mediaplein Antwerpen T M pascalejaecquesdpgmediabe dpgmediabe Op do aug om schreef Pascale Jaecques pascalejaecquesdpgmediabe Dag Pascale Volledig mits het al bij incasso ligt Enkel het factuur van incasso dienen we dus uit te voeren Groet Pas Pascale Jaecques Assistente hoofdredactie magazines showbizz image DPG Media Mediaplein Antwerpen T M pascalejaecquesdpgmediabe dpgmediabe Op do aug om schreef Pascale Segers pascalesegersdpgmediabe Hallo Tamara Moeten deze kosten volledig betaald worden of enkel het factuurbedrag Grtjes Pascale Pascale Segers Accounts payable image DPG Media Mediaplein Antwerpen Pascalesegersdpgmediabe dpgmediabe Op do aug om schreef Tamara Roos Dag Pascale Wil jij dit betalen aan Advius Advocatenkantoor De factuur van Van Dale was nog niet verwerkt Ik heb dit bij deze wel gedaan en de factuur de flow ingestuurd ze staat op CASH groetjes Tamara Forwarded message Van Pascale Jaecques Date do aug om Subject Fwd FW Re T RE Re T RE Re T RE Fwd T Re Re T Fwd Factuur To Tamara Roos Kevin Van Caelenberg KevinVanCaelenbergdpgmediabe Goedemorgen collegas Geen idee of deze ondertussen al betaald is Dank om te checken Groet Pas Pascale Jaecques Assistente hoofdredactie magazines showbizz image DPG Media Mediaplein Antwerpen T M pascalejaecquesdpgmediabe dpgmediabe Forwarded message Van DaanounJamina Date wo aug om Subject RE FW Re T RE Re T RE Re T RE Fwd T Re Re T Fwd Factuur To pascalejaecquesdpgmediabe Beste Hierbij de kopie factuur Van Pascale Jaecques Verzonden woensdag augustus Aan DaanounJamina Onderwerp Re FW Re T RE Re T RE Re T RE Fwd T Re Re T Fwd Factuur Beste Kan u ons wel nog even een details sturen van dit factuur Dit is nl nodig om deze hier intern op de juiste kostenplaats te zetten Wij vermoeden dat dit wederom voor De Morgen gaat zijn maar we moeten dit kunnen voorleggen Dank Pascale Pascale Jaecques Assistente hoofdredactie magazines showbizz image DPG Media Mediaplein Antwerpen T M pascalejaecquesdpgmediabe dpgmediabe Op wo aug om schreef DaanounJamina Beste Wij hebben nu de naam aangepast de factuur is nu uit handen gegeven aan Advia incasso Bureau Het adres is het zelfde gebleven Willen jullie het bedrag overmaken naar het Incasso Bureau Advia Doorgestuurd bericht van Pascale Jaecques pascalejaecquesdpgmediabe Van Pascale Jaecques Aan Helpdesk Van Dale ReplyTo pascalejaecquesdpgmediabe Onderwerp Re Re T Fwd Factuur Datum Beste Wij hebben enkel deze ontvangen Groet mevrouw Pascale Jaecques Pascale Jaecques Assistente hoofdredactie magazines showbizz image DPG Media Mediaplein Antwerpen T M pascalejaecquesdpgmediabe dpgmediabe Op ma aug om schreef Helpdesk Van Dale helpdeskvandalenl Geachte heer Jaecques Kunt u het factuurnummer zenden en als het kan de herinnering scannen en deze mee zenden Wij kunnen dan nakijken wat er misgaat Met vriendelijke groet Van Dale Uitgevers Maurice Verstege Klantcontactcentrum VBKmedia Postbus LG Utrecht E helpdeskvandalenl T Pascale Jaecques schreef Beste Wij krijgen onderstaande betalingsherrinering op naam van Goed Gevoel Kan u ons aub het desbetreffende factuur bezorgen en ook de details hieromtrent In het verleden zie eerdere mails waren deze facturen steeds voor De Morgen en werd er ook gevraagd om dit niet meer tav Goed Gevoel te versturen Dank voor een snelle feedback Pascale Pascale Jaecques Assistente hoofdredactie magazines showbizz image DPG Media Mediaplein Antwerpen T M pascalejaecquesdpgmediabe dpgmediabe Forwarded message Van Pascale Jaecques Date di dec om Subject Re Factuur To Van Dale Helpdesk Nederland Beste Hebt u dit ondertussen kunnen bekijken Groet Pascale Pascale Jaecques Assistente hoofdredactie magazines image DPG Media Mediaplein Antwerpen T M pascalejaecquesdpgmediabe dpgmediabe Op vr nov om schreef Pascale Jaecques pascalejaecquesdpgmediabe Beste Wij ontvingen deze factuur Zoals u reeds van vorig jaar weet dienen de meeste facturen op De Morgen te komen Verlengingen worden sinds vorig jaar gewoon online betaald Dank om de huidige facturen aan te passen en in de toekomst rekening mee te houden Groet Pascale Pascale Jaecques Assistente hoofdredactie magazines image DPG Media Mediaplein Antwerpen T M pascalejaecquesdpgmediabe dpgmediabe Einde doorgestuurd bericht   \n",
       "7                                                                                                                                                                                                                                                                                                                                                                                                                                                                                                                                                                                                                                                                                                                                                                                                                                                                                                                                                                                                                                                                                                                                                                                                                                                                                                                                                                                                                                                                                                                                                                                                                                                                                                                                                                                                                                                                                                                                                                                                                                                                                                                                                                                                                                                                                                                                                                                                                                                                                                                                                                                                                                                                                                                                                                                                                                                                                                                                                                                                                                                                                                                                                                                                                                                                                                                                                                                                                                                                                                                                                                                                                                                                                                                                                                                                                                                                                                                                                                                                                                                                                                                                                                                                       Beste klant Gelieve in bijlage een herinnering te vinden Aarzel niet om ons te contacteren voor bijkomende vragen op met vermelding van uw referentie Indien dit schrijven uw betaling zou gekruist hebben verzoeken wij u geen rekening te houden met deze herinnering Uw dossierbeheerder DIeteren Lease At DIeteren we work in a flexible way Even if I send an email now I do not expect a response nor action outside your own working hours Otherwise I will call you or send you a SMSIM DISCLAIMER The content of this email message does not constitute a commitment of DIeteren Automotive SANV BE or its subsidiariesaffiliates This email and any attachments thereto may contain information which is confidential andor protected by intellectual property rights and are intended for the intended recipient only Any use of the information contained herein including but not limited to total or partial reproduction communication or distribution in any form by persons other than the designated recipients is prohibited If an addressing or transmission error has misdirected this email please notify the author either by telephone or by email and delete the material from any computer   \n",
       "8                                                                                                                                                                                                                                                                                                                                                                                                                                                                                                                                                                                                                                                                                                                                                                                                                                                                                                                                                                                                                                                                                                                                                                                                                                                                                                                                                                                                                                                                                                                                                                                                                                                                                                                                                                                                                                                                                                                                                                                                                                                                                                                                                                                                                                                                                                                                                                                                                                                                                                                                                                                                                                                                                                                                                                                                                                                                                                                                                                                                                                                                                                                                                                                                                                                                                                                                                                                                                                                                                                                                                                                                                                                                                                                                                                                                                                                                                                                                                                                                                                                                                                                                                                                                                                                                                                                                                                                                                                                                                                                                                                                                                                                                                                                                                                                                                                                                                                                                                                                                                                                                        Beste Jasper Enkele tijd geleden heb jevan ons een factuur ontvangen met factuurnummer Helaas hebben wij het verschuldigde bedrag ter hoogte van tot op heden niet ontvangen Wij verzoeken jedaarom vriendelijk om het verschuldigde bedrag alsnog binnen over te maken op onze rekening tnv TripService BV Met vriendelijke groet Monique Tijdeman   \n",
       "9                                                                                                                                                                                                                                                                                                                                                                                                                                                                                                                                                                                                                                                                                                                                                                                                                                                                                                                                                                                                                                                                                                                                                                                                                                                                                                                                                                                                                                                                                                                                                                                                                                                                                                                                                                                                                                                                                                                                                                                                                                                                                                                                                                                                                                                                                                                                                                                                                                                                                                                                                                                                                                                                                                                                                                                                                                                                                                                                                                                                                                                                                                                                                                                                                                                                                                                                                                                                                                                                                                                                                                                                                                                                                                                                                                                                                                                                                                                                                                                                                                                                                                                                                                                                                                                                                                                                                                                                                                                                                                                                                                                                                                                                                                                                                                                                                                                                                               Dear Xandr Client Xandr will withhold the amount listed from your next seller payment in relation to invalid traffic purchased by Google during the applicable period Google withholds payment from Xandr based on Googles invalid traffic detection and filtration methodology as part of DoubleClick Bid Managers refund program for invalid traffic Member Name Member ID Amount Withheld Applicable Period DPG Media NV EUR July Activity Please reach out to your Account Manager with any questions Best Xandr Finance   \n",
       "10                                                                                                                                                                                                                                                                                                                                                                                                                                                                                                                                                                                                                                                                                                                                                                                                                                                                                                                                                                                                                                                                                                                                                                                                                                                                                                                                                                                                                                                                                                                                                                                                                                                                                                                                                                                                                                                                                                                                                                                                                                                                                                                                                                                                                                                                                                                                                                                                                                                                                                                                                                                                                                                                                                                                                                                                                                                                                                                                                                                                                                                                                                                                                                                                                                                                                                                                                                                                                                                                                                                                                                                                                                                                                                                                                                                                                                                                                                                                                                                                                                                                                                                                                                                                                                                                                                                                                                                                                                                                                                                                                                                                                                                                                                                                                                                                                                                        Good afternoon The invoices listed below are currently overdue in our system for days Document Debit Credit Date Due date DD EUR EUR Total EUR Despite our reminders we still havent received any feedback from youCould you please confirm the payment date If you have any questions please contact us by email at collectionsinsitesconsultingcom Should the amount have been paid in the meantime please ignore this notice Kind regards Accounts Receivable Team Email Tel Please do not remove this line References mailtoFinanceClientsinsitesconsultingcom   \n",
       "11                                                                                                                                                                                                                                                                                                                                                                                                                                                                                                                                                                                                                                                                                                                                                                                                                                                                                                                                                                                                                                                                                                                                                                                                                                                                                                                                                                                                                                                                                                                                                                                                                                                                                                                                                                                                                                                                                                                                                                                                                                                                                                                                                                                                                                                                                                                                                                                                                                                                                                                                                                                                                                                                                                                                                                                                                                                                                                                                                                                                                                                                                                                                                                                                                                                                                                                                                                                                                                                                                                                                                                                                                                                                                                                                                                                                                                                                                                                                                                                                                                                                                                                                                                                                                                                                                                                                                                                                                                                                                                                                                                                                                                                                                                                                                                                                                                                                                                                                                                                                                                                                                                       Beste Zoals telefonisch besproken bevestig ik hierbij de wijziging van ons adres en bankrekeningnummer De huidige correcte gegevens zijn The QBranch BV Balansstraat Antwerpen VAT IBAN BIC JVBA Beste groeten Quentin Van Damme Mobile LinkedIn quentinvandamme Facebook quentinvandamme Instagram quentinvandamme   \n",
       "12                                                                                                                                                                                                                                                                                                                                                                                                                                                                                                                                                                                                                                                                                                                                                                                                                                                                                                                                                                                                                                                                                                                                                                                                                                                                                                                                                                                                                                                                                                                                                                                                                                                                                                                                                                                                                                                                                                                                                                                                                                                                                                                                                                                                                                                                                                                                                                                                                                                                                                                                                                                                                                                                                                                                                                                                                                                                                                                                                                                                                                                                                                                                                                                                                                                                                                                                                                                                                                                                                                                                                                                                                                                                                                                                                                                                                                                                                                                                                                                                                                                                                                                                                                                                                                                                                                                                                                                                                                                                                                                                                                                                                                                                                                                                                                                                                                                                                                                                                                                                                                                                                                                                                                                                                                                                                                                                           Vriendelijke groeten GLENN DE MULDER REGIONAL SALES MANAGER gdmbelgianpostersbe   \n",
       "13                                                                                                                                                                                                                                                                                                                                                                                                                                                                                                                                                                                                                                                                                                                                                                  Hi Deze factuur is superdringend Ivm uitzending op moeten we betaald hebben om tijdig materialen te kunnen ontvangen Kunnen jullie mij laten weten wanneer deze wordt betaald Dank Esther Forwarded message Van Benjamin Szabo Date wo sep om Subject RE FW Beyond Rights Limited Sales Invoice Contract To esthervandenbrinkdpgmediabe Cc Leona Bonny suppliersdpgmediabe suppliersdpgmediabe Hello again Just a note it is not a legal requirement to quote accounting information on invoices apart from a purchase order The responsibility of coding invoice correctly is not your clients but it is an internal matter so DPG should be handling this internally We have of clients and no one is expecting us to do the accounting for them Trust all is now in order we are expecting the payment in due course Best Benjamin From Esther Van den Brink Sent September To Benjamin Szabo Subject Re FW Beyond Rights Limited Sales Invoice Contract HI Benjamin I think the VAT number is still missing Thanks Esther Op wo sep om schreef Benjamin Szabo Hello Esther I have already resent this Is there still a problem Ben From Esther Van den Brink Sent September To Benjamin Szabo Cc Leona Bonny Lenneke de Jong lennekebeyondrightstv Subject Re FW Beyond Rights Limited Sales Invoice Contract Hi Benjamin thank you for your email As we have moved to a new admin tool we need the following codes to be included on the invoices Purchase number Brand Cost centre And could you also include our VAT number Could you please revise the invoices and resend to suppliersdpgmediabe Many thanks Esther Op wo sep om schreef Benjamin Szabo Dear Valued Customer Attached is a copy of your current Tax Invoices Please ensure payment is actioned within the agreed payment terms If you have any questions or would like to request further information please reply to this email and we will respond as soon as possible Best Regards Accounts Receivable Beyond Rights Limited Beyond Rights Limited is a limited liability company registered in England and Wales company number Registered address Floor Wardour Street London United Kingdom Notice The information contained in this email and any attachments may be legally privileged and confidential If you are not an intended recipient you are hereby notified that any dissemination distribution or copying of this email is strictly prohibited If you have received this email in error please notify the sender and permanently delete all copies of this email and any attachments immediately from your computer system You should not retain copy or use this email or any attachment for any purpose nor disclose all or any part of the contents to any other person The contents of this message may contain personal views which are not the views of Beyond Rights Limited Thank you Beyond Rights Limited is a limited liability company registered in England and Wales company number Registered address Floor Wardour Street London United Kingdom Notice The information contained in this email and any attachments may be legally privileged and confidential If you are not an intended recipient you are hereby notified that any dissemination distribution or copying of this email is strictly prohibited If you have received this email in error please notify the sender and permanently delete all copies of this email and any attachments immediately from your computer system You should not retain copy or use this email or any attachment for any purpose nor disclose all or any part of the contents to any other person The contents of this message may contain personal views which are not the views of Beyond Rights Limited Thank you Beyond Rights Limited is a limited liability company registered in England and Wales company number Registered address Floor Wardour Street London United Kingdom Notice The information contained in this email and any attachments may be legally privileged and confidential If you are not an intended recipient you are hereby notified that any dissemination distribution or copying of this email is strictly prohibited If you have received this email in error please notify the sender and permanently delete all copies of this email and any attachments immediately from your computer system You should not retain copy or use this email or any attachment for any purpose nor disclose all or any part of the contents to any other person The contents of this message may contain personal views which are not the views of Beyond Rights Limited Thank you   \n",
       "14  Hallo Pascale De oorspronkelijke factuur dient goedgekeurd te worden want deze moet verwerkt worden in de boekhouding Deze wordt dan afgepunt met het bedrag welke betaald werd aan adviusincasso Grtjes Pascale Pascale Segers Accounts payable image DPG Media Mediaplein Antwerpen Pascalesegersdpgmediabe dpgmediabe Op do aug om schreef Pascale Jaecques pascalejaecquesdpgmediabe Dag collegas De factuur niet deze van incasso staat nog steeds on hold in mijn flow Mag ik deze rejecten Normaa gezien diende enkel het factuur van incasso betaald te worden Groet Pas Pascale Jaecques Assistente hoofdredactie magazines showbizz image DPG Media Mediaplein Antwerpen T M pascalejaecquesdpgmediabe dpgmediabe Op vr aug om schreef Pascale Jaecques pascalejaecquesdpgmediabe Reject ik dan het factuur van Van Dale Want het is het bedrag van euro van Incasso dat we moeten betalen Groet Pas Pascale Jaecques Assistente hoofdredactie magazines showbizz image DPG Media Mediaplein Antwerpen T M pascalejaecquesdpgmediabe dpgmediabe Op do aug om schreef Pascale Jaecques pascalejaecquesdpgmediabe Dag Pascale Volledig mits het al bij incasso ligt Enkel het factuur van incasso dienen we dus uit te voeren Groet Pas Pascale Jaecques Assistente hoofdredactie magazines showbizz image DPG Media Mediaplein Antwerpen T M pascalejaecquesdpgmediabe dpgmediabe Op do aug om schreef Pascale Segers pascalesegersdpgmediabe Hallo Tamara Moeten deze kosten volledig betaald worden of enkel het factuurbedrag Grtjes Pascale Pascale Segers Accounts payable image DPG Media Mediaplein Antwerpen Pascalesegersdpgmediabe dpgmediabe Op do aug om schreef Tamara Roos tamararoosdpgmediabe Dag Pascale Wil jij dit betalen aan Advius Advocatenkantoor De factuur van Van Dale was nog niet verwerkt Ik heb dit bij deze wel gedaan en de factuur de flow ingestuurd ze staat op CASH groetjes Tamara Forwarded message Van Pascale Jaecques Date do aug om Subject Fwd FW Re T RE Re T RE Re T RE Fwd T Re Re T Fwd Factuur To Tamara Roos Kevin Van Caelenberg KevinVanCaelenbergdpgmediabe Goedemorgen collegas Geen idee of deze ondertussen al betaald is Dank om te checken Groet Pas Pascale Jaecques Assistente hoofdredactie magazines showbizz image DPG Media Mediaplein Antwerpen T M pascalejaecquesdpgmediabe dpgmediabe Forwarded message Van DaanounJamina Date wo aug om Subject RE FW Re T RE Re T RE Re T RE Fwd T Re Re T Fwd Factuur To pascalejaecquesdpgmediabe Beste Hierbij de kopie factuur Van Pascale Jaecques Verzonden woensdag augustus Aan DaanounJamina Onderwerp Re FW Re T RE Re T RE Re T RE Fwd T Re Re T Fwd Factuur Beste Kan u ons wel nog even een details sturen van dit factuur Dit is nl nodig om deze hier intern op de juiste kostenplaats te zetten Wij vermoeden dat dit wederom voor De Morgen gaat zijn maar we moeten dit kunnen voorleggen Dank Pascale Pascale Jaecques Assistente hoofdredactie magazines showbizz image DPG Media Mediaplein Antwerpen T M pascalejaecquesdpgmediabe dpgmediabe Op wo aug om schreef DaanounJamina Beste Wij hebben nu de naam aangepast de factuur is nu uit handen gegeven aan Advia incasso Bureau Het adres is het zelfde gebleven Willen jullie het bedrag overmaken naar het Incasso Bureau Advia Doorgestuurd bericht van Pascale Jaecques pascalejaecquesdpgmediabe Van Pascale Jaecques Aan Helpdesk Van Dale ReplyTo pascalejaecquesdpgmediabe Onderwerp Re Re T Fwd Factuur Datum Beste Wij hebben enkel deze ontvangen Groet mevrouw Pascale Jaecques Pascale Jaecques Assistente hoofdredactie magazines showbizz image DPG Media Mediaplein Antwerpen T M pascalejaecquesdpgmediabe dpgmediabe Op ma aug om schreef Helpdesk Van Dale helpdeskvandalenl Geachte heer Jaecques Kunt u het factuurnummer zenden en als het kan de herinnering scannen en deze mee zenden Wij kunnen dan nakijken wat er misgaat Met vriendelijke groet Van Dale Uitgevers Maurice Verstege Klantcontactcentrum VBKmedia Postbus LG Utrecht E helpdeskvandalenl T Pascale Jaecques schreef Beste Wij krijgen onderstaande betalingsherrinering op naam van Goed Gevoel Kan u ons aub het desbetreffende factuur bezorgen en ook de details hieromtrent In het verleden zie eerdere mails waren deze facturen steeds voor De Morgen en werd er ook gevraagd om dit niet meer tav Goed Gevoel te versturen Dank voor een snelle feedback Pascale Pascale Jaecques Assistente hoofdredactie magazines showbizz image DPG Media Mediaplein Antwerpen T M pascalejaecquesdpgmediabe dpgmediabe Forwarded message Van Pascale Jaecques Date di dec om Subject Re Factuur To Van Dale Helpdesk Nederland Beste Hebt u dit ondertussen kunnen bekijken Groet Pascale Pascale Jaecques Assistente hoofdredactie magazines image DPG Media Mediaplein Antwerpen T M pascalejaecquesdpgmediabe dpgmediabe Op vr nov om schreef Pascale Jaecques pascalejaecquesdpgmediabe Beste Wij ontvingen deze factuur Zoals u reeds van vorig jaar weet dienen de meeste facturen op De Morgen te komen Verlengingen worden sinds vorig jaar gewoon online betaald Dank om de huidige facturen aan te passen en in de toekomst rekening mee te houden Groet Pascale Pascale Jaecques Assistente hoofdredactie magazines image DPG Media Mediaplein Antwerpen T M pascalejaecquesdpgmediabe dpgmediabe Einde doorgestuurd bericht   \n",
       "15                                                                                                                                                                                                                                                                                                                                                                                                                                                                                                                                                                                                                                                                                                                                                                                                                                                                                                                                                                                                                                                                                                                                                                                                                                                                                                                                                                                                                                                                                                                                                                                                                                                                                                                                                                                                                                                                                                                                                                                                                                                                                                                                                                                                                                                                                                                                                                                                                                                                                                                                                                                                                                                                                                                                                                                                                                                                                                                                                                                                                                                                                                                                                                                                                                                                                                                                                                                                                                                                                                                                                                                                                                                                                                                                                          Typ uw reactie boven deze regel Evi Wijnant sep CEST Dear Clare Today weve did a payment for the invoices Were sorry for the inconvenience Kind regards Evi Wijnant Finance Clare Devlin sep CEST This is a followup to your previous request Flint CPS Inks Germany DP Hi Evi Please could you confirm the payment date of the below Note orders will be held whilst the account is overdue Thanks Clare Clare Devlin Credit Manager Flint CPS Office Mobile email claredevlinflintgrpcom wwwflintgrpcom FB ln tw inst We would like to kindly inform that personal data included or mentioned by parties in the correspondence may be subject to processing by Flint Group Full information on the protection of personal data can be found in our privacy statement In any case related to the processing of personal data you can contact us at dataprotectionflintgrpcom Flint CPS INKS UK Ltd Company Registration No Registered in England Registered office PO Box Old Heath Road Wolverhampton Telephone The information in this email from Flint Group or its business units is confidential and intended solely for the addressee If you are not the intended recipient then disclosure reproduction or distribution of this email is prohibited and may be unlawful If you believe you have received this email in error then please inform the sender immediately and permanently delete all copies of the message Thank you From Evi Wijnant DPG Media Belgi Finance Squad To Clare Devlin Cc Matthew PrestonLoader Date Subject Flint CPS Inks Germany DPG Media Services NV Bijlagen Dit emailbericht is een service van Finance DPG Media Belgi   \n",
       "16                                                                                                                                                                                                                                                                                                                                                                                                                                                                                                                                                                                                                                                                                                                                                                                                                                                                                                                                                                                                                                                                                                                                                                                                                                                                                                                                                                                                                                                                                                                                                                                                                                                                                                                                                                                                                                                                                                                                                                                                                                                                                                                                                                                                                                                                                                                                                                                                                                                                                                                                                                                                                                                                                                                                                                                                                                                                                                                                                                                                                                                                                                                                                                                                                                                                                                                                                                                                                                                                                                                                                                                                                                                                                                                                                                                                                                                                                                                                                                                                                                                                                                                                                                                                                                                                                                                                                                                                                                                                                                                                                                                                                                                                                                                                                                                                                                                                                                                                                                                                                                                                                       Beste Van de bijgevoegde factuur van vinden wij in de boekhouding geen betaling terug Kan u ons meedelen wanneer deze factuur door u betaald werd Ik dank u daarvoor bij voorbaat van harte Met vriendelijke groet Koen Huygebaert Van canonscanhvcobe Verzonden dinsdag augustus Aan Koen Huygebaert HVCO Onderwerp Attached Image   \n",
       "17                                                                                                                                                                                                                                                                                                                                                                                                                                                                                                                                                                                                                                                                                                                                                                                                                                                                                                                                                                                                                                                                                                                                                                                                                                                                                                                                                                                                                                                                                                                                                                                                                                                                                                                                                                                                                                                                                                                                                                                                                                                                                                                                                                                                                                                                                                                                                                                                                                                                                                                                                                                                                                                                                                                                                                                                                                                                                                                                                                                                                                                                                                                                                                                                                                                                                                                                                                                                                                                                                                                                                                                                                       Beste Hebben jullie onderstaand mailtje goed ontvangen Kunnen jullie ons zo snel mogelijk een nieuwe PO bezorgen Bedankt Gr From Isabeau Libens Sent Tuesday August PM To suppliersdpgmediabe Subject FW Een nieuwe bestelling van DPG Media Services NV Beste Net zoals bij de PO van Jurgen Deschepper zie ik dat ook deze het oude tarief heeft Er werd afgesproken om een nieuw tarief te hanteren vanaf Namelijk euro Zouden jullie ons een nieuwe PO contract kunnen bezorgen Vriendelijke groeten From Annelies Schepers Sent Monday August AM To Isabeau Libens Subject FW Een nieuwe bestelling van DPG Media Services NV FYI From DPG Media Services NV Sent Monday August To Annelies Schepers Subject Een nieuwe bestelling van DPG Media Services NV This is an incoming mail from an EXTERNAL DOMAIN Please verify sender before you open attachments or access links Finance Bestelbon Beste leverancier In bijlage bezorgen wij u de bestelbon voor de consultancykost van de voorbije maand Mogen wij u vriendelijk verzoeken op uw factuur te verwijzen naar deze bestelbon De factuur mag u sturen naar volgend emailadres suppliersdpgmediabe Gelieve er rekening mee te houden dat facturen die afwijken van de bestelbon niet worden aanvaard Als u merkt dat op de bestelbon onjuiste informatie staat verzoeken wij u de consultant te vragen om via ons timetrackingsysteem een correctie uit te voeren en dit vr de de van de maand Rond de de van de maand ontvangt u van ons een bijkomende bestelbon hiervoor Eventuele onkostennotas dienen apart gefactureerd te worden gestaafd met de daarbij horende bewijsstukken Aarzel niet ons te contacteren indien u nog bijkomende vragen heeft Met vriendelijke groet Isabelle De Lentdecker Management assistant ICT Tel   \n",
       "18                                                                                                                                                                                                                                                                                                                                                                                                                                                                                                                                                                                                                                                                                                                                                                                                                                                                                                                                                                                                                                                                                                                                                                                                                                                                                                                                                                                                                                                                                                                                                                                                                                                                                                                                                                                                                                                                                                                                                                                                                                                                                                                                                                                                                                                                                                                                                                                                                                                                                                                                                                                                                                                                                                                                                                                                                                                                                                                                                                                                                                                                                                                                                                                                                                                                                                                                                                                                                                                                                                                                                                                                                                                                                                                                                                                                                                                                                                                                                                                                                                                                                                                                                                                                                                                                                                                                                                                                                                                                                                                                                                                                                                                                                                                                                                                                                                         To Whom it May Concern This is a reminder that the invoices below will be due for settlement in days Please advise if the payment will not be made within the agreed contractual terms If payment has already been made please send the remittance advice to the email address mentioned at the bottom of this notice Account Name Invoice Currency Open Amount Due Date DPG Media NV EUR Invoice Total Remittance information is included on the attached invoices Please contact us at creditcontrolnlmorningstarcom if you have any questions Kind Regards Morningstar Finance   \n",
       "19                                                                                                                                                                                                                                                                                                                                                                                                                                                                                                                                                                                                                                                                                                                                                                                                                                                                                                                                                                                                                                                                                                                                                                                                                                                                                                                                                                                                                                                                                                                                                                                                                                                                                                                                                                                                                                                                                                                                                                                                                                                                                                                                                                                                                                                                                                                                                                                                                                                                                                                                                                                                                                                                                                                                                                                                                                                                                                                                                                                                                                                                                                                                                                                                                                                                                                                                                                                                                                                                                                                                                                                                                                                                                                                                                                                                                                                                                                                                                                                                                                                                                                                                                                                                                                                                                                                                                                                                                                                                                                                                                                                                                                                                                            Dag Seppe Komt er dan nog een creditnota en een nieuwe factuur ter vervanging van Want de factuur die nu in bijlage zit is Groeten Wim Op wo aug om schreef seppeseppenobelsbe seppeseppenobelsbe Beste Wim zoals gevraagd heb ik de kosten apart naar Geronimo verzonden Kan jij het factuur van dat ik de eerste keer verzond op laten afhandelen dat zou geweldig zijn Hierbij het finale en juiste factuur Suppliers staat in cc om snel te kunne handelen Best regards Seppe Nobels Chef de cuisine Instroom Antwerp Chateau de la Chapelle Anthisnes wwwseppenobelsbe Be green keep it on the screen Wim Van de Voorde Executive Producer TV image DPG Media Medialaan Vilvoorde T M wimvandevoordedpgmediabe dpgmediabe   \n",
       "20                                                                                                                                                                                                                                                                                                                                                                                                                                                                                                                                                                                                                                                                                                                                                                                                                                                                                                                                                                                                                                                                                                                                                                                                                                                                                                                                                                                                                                                                                                                                                                                                                                                                                                                                                                                                                                                                                                                                                                                                                                                                                                                                                                                                                                                                                                                                                                                                                                                                                                                                                                                                                                                                                                                                                                                                                                                                                                                                                                                                                                                                                                                                                                                                                                                                                                                                                                                                                                                                                                                                                                                                                                                                                                                                                                                                                                                                                                                                   From Benoit Materne RingRing Sent vendredi juillet To suppliersdpgmediabe Subject HERINNERING Facture factuur FactVente From Accounting RingRing Sent mardi juin To suppliersdpgmediabe Subject Facture factuur FactVente N de Client Socit DPG Media Document FactVente Cher client Veuillez trouver cijoint le document portant le numro nous vous en souhaitons bonne rception Si cette adresse mail nest pas la bonne merci de nous le communiquer par retour de mail sur billingringringbe Vous pouvez utiliser la mme adresse pour toute question ou commentaire ventuel sur lun de ces documents Cordialement Lquipe RingRing Ce mail est un message automatique Beste klant Gelieve in bijlage het document met nummer te willen vinden wij wensen er u een goede ontvangst van Indien dit emailadres niet het juiste is gelieve ons dat dan per omgaande email te signaleren op het volgende emailadres billingringringbe U kan datzelfde emailadres gebruiken voor eventuele vragen of opmerkingen omtrent de ontvangen documenten Met vriendelijke groeten Het RingRingteam Ce mail est un message automatique Dear Customer Please find enclosed the document bearing the number If that email address is not good please let us know by returning this email at billingringringbe You can use the same address for any questions or comments on one of these documents Kind Regards The RingRing team This is an automatic email The Ring Ring Company Culliganlaan Diegem   \n",
       "21                                                                                                                                                                                                                                                                                                                                                                                                                                                                                                                                                                                                                                                                                                                                                                                                                                                                                                                                                                                                                                                                                                                                                                                                                                                                                                                                                                                                                                                                                                                                                                                                                                                                                                                                                                                                                                                                                                                                                                                                                                                                                                                                                                                                                                                                                                                                                                                                                                                                                                                                                                                                                                                                                                                                                                                                                                                                                                                                                                                                                                                                              Dear Accounts Payable This is a courtesy notice that MongoDB will reach its EndOfLife as of April MongoDB released in June will reach its End of Life EOL on April in accordance with our Support Policy If you have any questions about the EOL policy please email supportoperationsmongodbcom Do not reply directly to this email as it is sent from a noreply email address While most upgrades require no application changes we recommend that you test your applications against MongoDB before upgrading Please review the resources listed below to learn about best practices on how to upgrade your MongoDB instances With the upgrade you will be able to take advantage of the many improvements to the database including With version Transactions for sharded clusters Transactions larger than Enhanced ondisk data compression Zstandard compression support Nodowntime replacement of certificates and key files Faster Initial Sync Wildcard indexes Ondemand materialized views Clientside fieldlevel encryption With version Custom Aggregation expressions Compound hashed and refinable shard keys Hedged and mirrored reads Resumable initial sync AWS IAM authentication With version Versioned API designed to preserve application behavior through upgrades Native time series collections and clustered indexing Window functions and new temporal operators Live resharding Schema validation diagnostics certificate rotation Resumable index builds Next Steps Find your current version Run your mongod binary with the mongod version argument Find the latest stable releases MongoDB downloads page Upgrade to MongoDB Note that upgrading from version to will first require intermediate upgrades to and Upgrade Procedures from to Upgrade Procedures from to Upgrade Procedures from to For further help Support please open a case in our Support Portal Professional Services If you would like handson assistance with your upgrade our professional services team offers Major Version Upgrade Services Please reply to this email if you would like additional information Thank You MongoDB Team Share on Twitter Share on Facebook Share on Twitch Share on LinkedIn MongoDB Inc All rights reserved Broadway Floor New York NY Unsubscribe or change your email preferences View in browser   \n",
       "22                                                                                                                                                                                                                                                                                                                                                                                                                                                                                                                                                                                                                                                                                                                                                                                                                                                                                                                                                                                                                                                                                                                                                                                                                                                                                                                                                                                                                                                                                                                                                                                                                                                                                                                                                                                                                                                                                                                                                                                                                                                                                                                                                                                                                                                                                                                                                                                                                                                                                                                                                                                                                                                                                                                                                                                                                                                                                                                                                                                                                                                                                                                                                                                                                                                                                                                                                                                                                                                                                                                                                                                                                                                                                                                                                                                                                                                                                                                                                                                                                                                                                                                                                                                                                                                                                                                                                                                                                                                                                                                                                                                    Goeiemiddag Sarah in bijlage vind je de slotfactuur voor de workshop gisteren met Mark Gallagher Vriendelijke groeten Griet Griet Hemeryck Lets connect on LinkedIn twitteryellow Van Sarah Coolkens Verzonden dinsdag mei Aan Griet Hemeryck nexxworks Onderwerp Re Workshop Mark Gallagher voorschotfactuur Dag Griet Dat is DPG Media NV Mediaplein Antwerpen BTW nr BE Referentie Sarah Coolkens Kostenplaats Brand Dank je Sarah Op ma mei om schreef Griet Hemeryck nexxworks Goeiemorgen Sarah fijn kennismaken Ik contacteer je even mbt de voorschotfactuur van ter bevestiging van de workshop dit najaar met Mark Gallagher Welke facturatiegegevens mag ik hiervoor gebruiken en wensen jullie een bepaald POnummer of referentie op de factuur Bedankt alvast Griet Griet Hemeryck Lets connect on LinkedIn twitteryellow   \n",
       "23                                                                                                                                                                                                                                                                                                                                                                                                                                                                                                                                                                                                                                                                                                                                                                                                                                                                                                                                                                                                                                                                                                                                                                                                                                                                                                                                                                                                                                                                                                                                                                                                                                                                                                                                                                                                                                                                                                                                                                                                                                                                                                                                                                                                                                                                                                                                                                                                                                                                                                                                                                                                                                                                                                                                                                                                                                                                                                                                                                                                                                                                                                                                                                                                                                                                                                                                                                                                                                                                                                                                                                                                                                                                                                                                                                                                                                                                                                                                                                                                                                                                                                                                                                                                                                                                                                                                                                                                                                                                                                                                                                                                                                                                                                                                                                                                                                                                                                                                                                                                                                                                   Dag Hilde Goed ontvangen Factuur zal verwerkt worden in het systeem Grtjs Gitte Gitte Nuyens Head of Scripted image DPG Media Medialaan Vilvoorde M gittenuyensdpgmediabe dpgmediabe Op ma aug om schreef Hilde De Laere Geachte Gelieve hierbij onze factuur te willen vinden voor Schijf van de productie ZILLION Vriendelijke groeten Hilde De Laere   \n",
       "24                                                                                                                                                                                                                                                                                                                                                                                                                                                                                                                                                                                                                                                                                                                                                                                                                                                                                                                                                                                                                                                                                                                                                                                                                                                                                                                                                                                                                                                                                                                                                                                                                                                                                                                                                                                                                                                                                                                                                                                                                                                                                                                                                                                                                                                                                                                                                                                                                                                                                                                                                                                                                                                                                                                                                                                                                                                                                                                                                                                                                                                                                                                                                                                                                                                                                                                                                                                                                                                                                                                                                                                                                                                                                                                                                                                                                                                                                                                                                                                                                                                                                                                                                                                                                                                                                                                                                                                                                                                                                                                                                                                                                                                                                                                                                                                                                                                                           Beste Zoals overeengekomen stuur ik u hierbij de Kostenstaat van de door ons uitgevoerde preventieve hulpactie Wij hopen te mogen rekenen op een correcte betaling Wij danken u voor de prettige samenwerking en hopen dat u tevreden was over de inzet van onze vrijwilligers Mocht u in de toekomst nogmaals een beroep op het Rode Kruis willen doen aarzel dan niet om ons een aanvraag te sturen U mag ons steeds contacteren mocht u nog vragen hebben Met vriendelijke groeten Peter Schepens Afdelingsvoorzitter Rode Kruis Middelkerke   \n",
       "25                                                                                                                                                                                                                                                                                                                                                                                                                                                                                                                                                                                                                                                                                                                                                                                                                                                                                                                                                                                                                                                                                                                                                                                                                                                                                                                                                                                                                                                                                                                                                                                                                                                                                                                                                                                                                                                                                                                                                                                                                                                                                                                                                                                                                                                                                                                                                                                                                                                                                                                                                                                                                                                                                                                                                                                                                                                                                                                                                                                                                                                                                                                                                                                                                                                                                                                                                                                                                                                                                                                                                                                                                                                                                                                                                                                                                                                                                                                                                                                                                                                                                                                                                                                                                                                                                                                                                                                                                                                                           Dag Yves Bezorg je de factuur zelf ook nog even Bedankt Jan Op ma aug om schreef Yves Melis Beste Op aanvraag van Fremantle zal de factuur voor de audities naar DPG gaan kunnen wij voor de goede orde Uw akkoord krijgen voor volgende factuur aub Aanrekening BGT Factureren VTM Main Job Extra Rook Extra Riggers Totaal exc btw Graag confirmatie van volgende specificaties op de factuur image PRG Logo Yves Melis Account Manager Production Resource Group BV Phone Mobile Fax Email ymelisprgcom Web wwwprgcombe Industriezone Hambos Vaartdijk BE Tildonk This email may contain confidential andor privileged information If you are not the intended recipient or have received this email by error please notify the sender immediately and destroy this email Any unauthorised copying disclosure or distribution of the material in this email is strictly forbidden Please consider the environment before printing this email   \n",
       "26                                                                                                                                                                                                                                                                                                                                                                                                                                                                                                                                                                                                                                                                                                                                                                                                                                                                                                                                                                                                                                                                                                                                                                                                                                                                                                                                                                                                                                                                                                                                                                                                                                                                                                                                                                                                                                                                                                                                                                                                                                                                                                                                                                                                                                                                                                                                                                                                                                                                                                                                                                                                                                                                                                                                                                                                                                                                                                                                                                                                                                                                                                                                                                                                                                                                                                                                                                                                                                                                                                                                                                                                                                                                                                                                                                                                                                                                                                                                                                                                                                                                                                                                                                                                        body margin padding table td tr verticalalign top bordercollapse collapse lineheight inherit axappledatadetectorstrue color inherit important textdecoration none important media maxwidth blockgrid col minwidth important maxwidth important display block important blockgrid width important col width important colcont margin auto imgfullwidth imgfullwidthOnMobile maxwidth important nostack col minwidth important display tablecell important nostacktwoup col width important nostack width important nostack width important nostack width important nostack width important nostack width important nostack width important nostack width important nostack width important nostack width important videoblock maxwidth none important mobilehide minheight maxheight maxwidth display none overflow hidden fontsize desktophide display block important maxheight none important Senior VOF Overdue invoice This is a friendly reminder you have an invoice to pay Balance due View invoice Already Paid Notify the business This automated reminder was sent by Inc All Rights Reserved Bryant St Palo Alto California United States Support Center Privacy Policy Subscription Center Unsubscribe   \n",
       "27                                                                                                                                                                                                                                                                                                                                                                                                                                                                                                                                                                                                                                                                                                                                                                                                                                                                                                                                                                                                                                                                                                                                                                                                                                                                                                                                                                                                                                                                                                                                                                                                                                                                                                                                                                                                                                                                                                                                                                                                                                                                                                                                                                                                                                                                                                                                                                                                                                                                                                                                                                                                                                                                                                                                                                                                                                                                                                                                                                                                                                                                                                                                                                                                                                                                                                                                                                                                                                                                                                                                                                                                                                                                                                                                                                                                                                                                                                                                                                                                                                                                                                                                                                                                                                                                                                                                                                                                                                                                                                                        om in te scannen ICSYV RO Forwarded message Van Yorick Van der Elst Date vr aug om Subject Re ICSYV Facturatie Bewaking To Liebie Wellens Hey Liebie Bij deze de nieuwe factuur voor bewakers Groetjes Yorick Op di aug om schreef Yorick Van der Elst yorickvanderelstpersgroepnet Hey Liebie Als bijlage kan je de facturatie van de bewaking terugvinden Er komt op alle draaidagen bewaker aangezien het publiek niet overlapt Groetjes Yorick Y O R I C K V A N D E R E L S T PRODUCTIECORDINATOR image VTM Medialaan Vilvoorde M yorickvanderelstdpgmediabe dpgmediabe image DPG Media Y O R I C K V A N D E R E L S T PRODUCTIECORDINATOR image VTM Medialaan Vilvoorde M yorickvanderelstdpgmediabe dpgmediabe image DPG Media Liebie Wellens Sr Executive producer TV image DPG Media Mediaplein Antwerpen M liebiewellensdpgmediabe dpgmediabe image DPG Media dots image DPG Media dots   \n",
       "28                                                                                                                                                                                                                                                                                                                                                                                                                                                                                                                                                                                                                                                                                                                                                                                                                                                                                                                                                                                                                                                                                                                                                                                                                                                                                                                                                                                                                                                                                                                                                                                                                                                                                                                                                                                                                                                                                                                                                                                                                                                                                                                                                                                                                                                                                                                                                                                                                                                                                                                                                                                                                                                                                                                                                                                                                                                                                                                                                                                                                                                                                                                                                                                                                                                                                                                                                                                                                                                                                                                                                                                                                                                                                                                                                                                                                                                                                                                                                                                                                                                                                                                                                                                                                                                                                                                                                                                                                                                                                                                                                                  Typ uw reactie boven deze regel Tamara Roos sep CEST Beste Stefanie Dit is een ontbrekende factuur Ik heb ze bij deze verwerkt Vrijdag zal ze opgenomen worden in onze wekelijkse betalingsrun Met vriendelijke groeten Tamara Roos Team Lead Accounts Payable Mediaplein Antwerpen suppliersdpgmediabe RPA Suppliers sep CEST Forwarded message From Stefanie van Vliet Date Mon Sept at Subject Openstaande factuur To suppliersdpgmediabe Geachte heermevrouw Hierbij stuur ik u een factuur die volgens onze administratie nog open staat Kunt u nagaan wat de status hiervan is Met vriendelijke groet Stefanie van VlietPost Polteq Back Office stefanievanvlietpolteqcom wwwpolteqcom Passion for testing Amersfoort Amsterdam Deventer Eindhoven Groningen Rotterdam Leuven Bijlagen Dit emailbericht is een service van Finance DPG Media Belgi   \n",
       "29                                                                                                                                                                                                                                                                                                                                                                                                                                                                                                                                                                                                                                                                                                                                                                                                                                                                                                                                                                                                                                                                                                                                                                                                                                                                                                                                                                                                                                                                                                                                                                                                                                                                                                                                                                                                                                                                                                                                                                                                                                                                                                                                                                                                                                                                                                                                                                                                                                                                                                                                                                                                                                                                                                                                                                                                                                                                                                                                                                                                                                                                                                                                                                                                                                                                                                                                                                                                                                                                                                                                                                                                                                                                                                                                                                                                                                                                                                                                 Ceci est un message automatique Cher client chre cliente Nous vous remercions davoir choisi la facturation lectronique Vous trouverez votre facture en pice jointe Nom du client Mobile Vikings nv Numro de client Numro du document Date du document Date dchance Montant TVA incluse La rfrence de paiement Vous avez reu un mot de passe temporaire par un courrier lectronique Si ncessaire vous pouvez toujours demander un nouveau mot de passe en cliquant sur Ce mot de passe vous permet de vous inscrire sur le portail de facturation lectronique de Belgium Vous serez immdiatement invit dfinir un nouveau mot de passe Aprs avoir termin votre inscription vous pouvez trouver tous vos documents via Si vous avez des questions concernant le portail de facturation lectronique vous pouvez toujours consulter la page daide Cordialement Billing team Disclaimer Le contenu de cet email et des fichiers joints est strictement confidentiel et contient des informations provenant de Belgium et est uniquement destin aux personnes ou aux entits susmentionnes Si vous ntes pas le destinataire voulu ou si vous avez reu cet email par erreur merci den avertir immdiatement lexpditeur par email ladresse suivante et de dtruire ce message et ses pices jointes Toute divulgation utilisation reproduction de ce message non conforme sa destination toute diffusion ou toute publication totale ou partielle est strictement interdite Belgium Tous droits rservs   \n",
       "30                                                                                                                                                                                                                                                                                                                                                                                                                                                                                                                                                                                                                                                                                                                                                                                                                                                                                                                                                                                                                                                                                                                                                                                                                                                                                                                                                                                                                                                                                                                                                                                                                                                                                                                                                                                                                                                                                                                                                                                                                                                                                                                                                                                                                                                                                                                                                                                                                                                                                                                                                                                                                                                                                                                                                                                                                                                                                                                                                                                                                                                                                                                                                                                                                                                                                                                                                                                                                                                                                                                                                                                                                                                                                                                                                                                                                                                                                                                                                                                                                                                                                                                                                                                                                                                                                                                                                                                                                                                                                                                                                                                                                                                                                                                                                                                                                                                                                                                                                                                                                                                                                                                        Dear all Your bill for was due on Aug To view your bill visit Please arrange for payment of the invoice at your earliest convenience to ensure that your access to Echobox remains unaffected If you have any questions please email financeechoboxcom Thank you Echobox Download invoice as a PDF   \n",
       "31                                                                                                                                                                                                                                                                                                                                                                                                                                                                                                                                                                                                                                                                                                                                                                                                                                                                                                                                                                                                                                                                                                                                                                                                                                                                                                                                                                                                                                                                                                                                                                                                                                                                                                                                                                                                                                                                                                                                                                                                                                                                                                                                                                                                                                                                                                                                                                                                                                                                                                                                                                                                                                                                                                                                                                                                                                                                                                                                                                                                                                                                                                                                                                                                                                                                                                                                                                                                                                                                                                                                                                                                                                                                                                                                                                                                                                                                                                                                                                                                                             Ann gelieve alle vragen betreffende facturatie steeds te sturen naar onze leveranciersboekhouding suppliersdpgmediabe groeten Indra Sarono Cordinator Gebouwenbeheer image DPG Media Medialaan Vilvoorde T M IndraSaronodpgmediabe dpgmediabe Forwarded message Van Ann Jonk Date do sep om Subject Herinnering tot betaling F To indrasaronodpgmediabe Geachte Gelieve in bijlage een herinnering tot betaling terug te vinden Met vriendelijke groeten Ann Jonk INTERHAUS bvba TOTAALINRICHTING Luitenant Coppenskazerne Ruiterijschool Brasschaat Email infointerhausbe wwwinterhausbe This email message may contain privileged andor confidential information and is intended to be received only by persons entitled to receive such information If you have received this email in error please notify the sender immediately Please delete it and all attachments from any servers hard drives or any other media Other use of this email by you is strictly prohibited All emails and attachments sent and received are subject to monitoring reading and archival by Interhaus including its subsidiaries The recipient of this email is solely responsible for checking for the presence of Viruses or other Malware Interhaus along with its subsidiaries accepts no liability for any damage caused by any such code transmitted by or accompanying this email or any attachment   \n",
       "32                                                                                                                                                                                                                                                                                                                                                                                                                                                                                                                                                                                                                                                                                                                                                                                                                                                                                                                                                                                                                                                                                                                                                                                                                                                                                                                                                                                                                                                                                                                                                                                                                                                                                                                                                                                                                                                                                                                                                                                                                                                                                                                                                                                                                                                                                                                                                                                                                                                                                                                                                                                                                                                                                                                                                                                                                                                                                                                                                                                                                                                                                                                                                                                                                                                                                                                                                                                                                                                                                                                                                                                                                                                                                                                                                                                                                                                                                                                                                                                                                                                                                                                                                                                                                                                                                                                                                                                                                                                                                                                                                                                                                                                                                                                                                                                                                                                                                                                                                                                                                                                                                                                                                                                                                                  Hierbij de premieafrekeningen van Vivium voor Met vriendelijke groeten Sabine Gissem HR Payroll Benefits Officer image DPG Media Medialaan Vilvoorde T sabinegissemedpgmediab dpgmediabe   \n",
       "33                                                                                                                                                                                                                                                                                                                                                                                                                                                                                                                                                                                                                                                                                                                                                                                                                                                                                                                                                                                                                                                                                                                                                                                                                                                                                                                                                                                                                                                                                                                                                                                                                                                                                                                                                                                                                                                                                                                                                                                                                                                                                                                                                                                                                                                                                                                                                                                                                                                                                                                                                                                                                                                                                                                                                                                                                                                                                                                                                                                                                                                                                                                                                                                                                                                                                                                                                                                                                                                                                                                                                                                                                                                                                                                                                                                                                           Collegas Graag de bijgevoegde invoice in behandeling nemen Graag even een check of deze niet al via een ander kanaal in Everest terecht gekomen is Vriendelijke groet Marco Schraven ICT Contractmanager image DPG Media Jacob Bontiusplaats LL Amsterdam M MarcoSchravenDPGMedianl dpgmedianl Forwarded message Van Tom Bruyninckx Date di jul om Subject Fwd Renewal Notification Plauti BV To Marco Schraven Cc Maarten Witteman Dag Marco kan jij deze betaling regelen of heb je nog extra info nodig van ons hiervoor Gr Tom Forwarded message Van John De Mars Date vr jul om Subject Fwd Renewal Notification Plauti BV To Tom Bruyninckx Forwarded message From Administration Plauti BV Date Thu Jul at Subject Renewal Notification Plauti BV To johndemarsdpgmediabe image Image Renewal Notification Hi John Thank you for being a loyal customer over the last period We are happy to let you know that we have automatically renewed your subscription for Salesforce Organization for the period July till July Your Subscription image Image Advanced Edition Records Your Invoice The invoice for this renewal can be found via the following link The invoice can be paid with Credit Card or via a wire transfer and should be paid within days Thank you for your trust in us let us know if you have any questions or remark Sten Ebenau CEO Plauti BV Plauti BV Jansbuitensingel AA ARNHEM The Netherlands wwwplauticom infoplauticom John De Mars CRM Dashboard Specialist image DPG Media Medialaan Vilvoorde T M johndemarsdpgmediabe dpgmediabe image DPG Media dots   \n",
       "34                                                                                                                                                                                                                                                                                                                                                                                                                                                                                                                                                                                                                                                                                                                                                                                                                                                                                                                                                                                                                                                                                                                                                                                                                                                                                                                                                                                                                                                                                                                                                                                                                                                                                                                                                                                                                                                                                                                                                                                                                                                                                                                                                                                                                                                                                                                                                                                                                                                                                                                                                                                                                                                                                                                                                                                                                                                                                                                                                                                                                                                                                                                                                                                                                                                                                                                                                                                                                                                                                                                                                                                                                                                                                                                                                                                                                                                                                                                                                                                                                                                                                                                                                                                                                                                                                                                                                                                                                                                                                                                                                                                                                                                                                                                                                                                                                                    Hello Our records indicate that the invoice listed below is currently overdue Document Debit Credit Date Due date DD EUR Total EUR It would be greatly appreciated if you could confirm receipt of this invoice and advise if the payment has been scheduled If you have any questions please contact us by email at collectionsinsitesconsultingcom Should the amount have been paid in the meantime please ignore this notice Kind regards Accounts Receivable Accounts Receivable Team Email Tel Please do not remove this line References mailtoFinanceClientsinsitesconsultingcom   \n",
       "35                                                                                                                                                                                                                                                                                                                                                                                                                                                                                                                                                                                                                                                                                                                                                                                                                                                                                                                                                                                                                                                                                                                                                                                                                                                                                                                                                                                                                                                                                                                                                                                                                                                                                                                                                                                                                                                                                                                                                                                                                                                                                                                                                                                                                                                                                                                                                                                                                                                                                                                                                                                                                                                                                                                                                                                                                                                                                                                                                                                                                                                                                                                                                                                                                                                                                                                                                                                                                                                                                                                                                                                                                                                                                                                                                                                                                                                                                                                                                                                                                                                                                                                                                                                                                                                                                                                                                                                                                                                                                                                                                                                                                                                                                                                                                                                                                                                                                                                                                                                                                      Beste Wij kregen van jullie een betaling binnen van waarvoor dank Maar dit bedrag komt niet helemaal overeen met het totale bedrag dat betaald moest worden nl Is het mogelijk om even na te kijken hoe jullie aan het bedrag van komen Of gaat het om een vergissing Alvast bedankt om het na te kijken Groetjes Lenni Overloop For all emails regarding invoices and payments financeoptionmediatv   \n",
       "36                                                                                                                                                                                                                                                                                                                                                                                                                                                                                                                                                                                                                                                                                                                                                                                                                                                                                                                                                                                                                                                                                                                                                                                                                                                                                                                                                                                                                                                                                                                                                                                                                                                                                                                                                                                                                                                                                                                                                                                                                                                                                                                                                                                                                                                                                                                                                                                                                                                                                                                                                                                                                                                                                                                                                                                                                                                                                                                                                                                                                                                                                                                                                                                                                                                                                                                                                                                                                                                                                                                                                                                                                                                                                                                                                                                                                                                                                                                        Wij mogen deze factuur niet opnemen in onze boekhouding daar ons Belgisch BTW nummer ontbreekt En daaruit vloeit dan onmiddellijk dat de BTW moet verlegd worden Vraag jij een correcte factuur On Mon Sept at Isabelle De Lentdecker isabelledelentdeckerdpgmediabe wrote Hey Deze factuur staat op DPG media services dus voor suppliers Gelieve te boeken op door te boeken naar DPG Media NV op HR BE Ik vermoed door te boeken op DPG Media BV op HR NL Alvast bedankt Met vriendelijk groeten Isabelle De Lentdecker Management assistant ICT image DPG Media Mediaplein Antwerpen T isabelledelentdeckerdpgmediabe dpgmediabe image DPG Media dots Op ma sep om schreef Sara Tonino DPG Media saratoninodpgmedianl Hi Collegas Bij deze mijn akkoord om deze factuur te betalen vanuit IT Kleine notitie van deze factuur zal Jacomine de Visser en Sarah Coolkens ieder euro betalen De rest dus euro is voor IT Lukt het zo om dit in jullie administratie te verwerken Hoor graag let me know thanks Mvg Sara Tonino Forwarded message Van Egotribe BV Subject Factuur To Sara Tonino Cc Geachte heermevrouw Bijgaand de factuur met nummer voor de diensten zoals beschreven als besproken met Zoe Lammers cc We zien betaling graag binnen de gestelde termijn tegemoet Graag bij de betaling factuur en projectnummer vermelden Alvast bedankt Hartelijke groet Egotribe BV Sara Tonino Communication DPG Media IT Jacob Bontiusplaats LL Amsterdam M saratoninodpgmedianl dpgmedianl   \n",
       "37                                                                                                                                                                                                                                                                                                                                                                                                                                                                                                                                                                                                                                                                                                                                                                                                                                                                                                                                                                                                                                                                                                                                                                                                                                                                                                                                                                                                                                                                                                                                                                                                                                                                                                                                                                                                                                                                                                                                                                                                                                                                                                                                                                                                                                                                                                                                                                                                                                                                                                                                                                                                                                                                                                                                             Hallo Kunnen jullie dit bekijken Bedankt en groetjes Sabine Forwarded message Van Chan Man Ki Date ma aug om Subject RE Uw Vivium groepsverzekeringen DPG Media nv en DPG Media Services nv betalingen afrekeningen To INFOHRDPGMEDIABE Geachte mevrouw Vlasschaert Wij hebben kunnen achterhalen waarom er teveel werd betaald Jullie hebben de totaalbedragen van de dekking levenoverlijden betaald in plaats van de totaalbedragen van de premieafrekeningen met alle dekkingen Polisnummer Premies Leven overlijden EUR Totaal bedrag Premieafrekening EUR Teveel betaald EUR Wij hebben de terugbetalingen van de teveel betaalde bedragen vandaag ingegeven in onze systeem De bedragen zullen op n van de komende werkdagen op jullie bankrekeningen DPG Media nv en DPG Media Services nv staan Met vriendelijke groeten Man Ki CHAN Employee Benefits Financieel Beheer Teamleader T E mankichanviviumbe VIVIUM Desguinlei Antwerpen Surf naar wwwebconnectbe d website met alle info over groepsverzekeringen van VIVIUM U vindt hier een antwoord op al uw vragen u ontdekt hoe we optimaal samenwerken n u kunt snel en gemakkelijk uw personeelswijzigingen doorgeven Denk aan het milieu voordat u dit bericht afdrukt From Chan Man Ki Sent To INFOHRDPGMEDIABE Subject Uw Vivium groepsverzekeringen DPG media nv en DPG Meida Services nv betalingen afrekeningen Geachte mevrouw Vlasschaert Wij hebben op twee betalingen van jullie ontvangen voor de afrekeningen van de groepsverzekering van DPG Media nv en DPG Media Services nv EUR EUR Jullie betaling van EUR is volgens de mededeling van jullie overschrijving bestemd voor de volgende afrekeningen Polisnummer Uitgiftedatum Vervaldatum Bedrag EUR Totaal Jullie betaling komt niet overeen met het totaal van de afrekeningen Jullie betaling van is volgens de mededeling van jullie overschrijving bestemd voor de volgende afrekening Polisnummer Uitgiftedatum Vervaldatum Bedrag EUR Ook deze betaling komt niet overeen met de afrekening Is het mogelijk om meer informatie mee te delen over jullie twee betalingen zodat wij ze juist kunnen verwerken Bedankt Met vriendelijke groeten Man Ki CHAN Employee Benefits Financieel Beheer Teamleader T E mankichanviviumbe VIVIUM Desguinlei Antwerpen Surf naar wwwebconnectbe d website met alle info over groepsverzekeringen van VIVIUM U vindt hier een antwoord op al uw vragen u ontdekt hoe we optimaal samenwerken n u kunt snel en gemakkelijk uw personeelswijzigingen doorgeven Denk aan het milieu voordat u dit bericht afdrukt HR Team image DPG Media Mediaplein Antwerpen Medialaan Vilvoorde tel infoHRdpgmediabe   \n",
       "38                                                                                                                                                                                                                                                                                                                                                                                                                                                                                                                                                                                                                                                                                                                                                                                                                                                                                                                                                                                                                                                                                                                                                                                                                                                                                                                                                                                                                                                                                                                                                                                                                                                                                                                                                                                                                                                                                                                                                                                                                                                                                                                                                                                                                                                                                                                                                                                                                                                                                                                                                                                                                                                                                                                                                                                                                                                                                                                                                                                                                                                                                                                                                                                                                                                                                                                                                                                                                                                                                                                                                                                                                                                                                                                                                                                                                                                                                                                                                                                                                                                                                                                                                                                                                                                                                                                                                                                                                                                                                                                                                                                                                                                                                                                                                                                                                                                                          Beste Er staat nog een factuur van jullie open die op ten laatste had moeten betaald zijn Kan U dit aub in orde maken In bijlage nogmaals de factuur Met vriendelijke groeten Raf Van Hoof Ears Eyes entertainment GCV Ears Eyes entertainment GCV Merksplassebaan Oostmalle Gsm Email rafvanhoofmecom Ondernemingsnummer BTW BE KBC IBAN Op jun om heeft Raf Van Hoof het volgende geschreven Geachte Hierbij onze Factuur Nr Bij vragen of opmerkingen kan je mij altijd contacteren Mvg Raf Van Hoof Joe NV Online communicatie Sven Coolspdf   \n",
       "\n",
       "   pred_label  true_label  \n",
       "0           2           1  \n",
       "1           1           0  \n",
       "2           0           2  \n",
       "3           2           1  \n",
       "4           1           2  \n",
       "5           2           1  \n",
       "6           0           2  \n",
       "7           2           1  \n",
       "8           1           2  \n",
       "9           0           1  \n",
       "10          1           2  \n",
       "11          1           0  \n",
       "12          1           0  \n",
       "13          2           1  \n",
       "14          0           2  \n",
       "15          2           0  \n",
       "16          2           1  \n",
       "17          2           0  \n",
       "18          1           2  \n",
       "19          1           0  \n",
       "20          1           2  \n",
       "21          1           0  \n",
       "22          0           1  \n",
       "23          1           0  \n",
       "24          2           1  \n",
       "25          1           0  \n",
       "26          0           2  \n",
       "27          1           0  \n",
       "28          1           0  \n",
       "29          0           1  \n",
       "30          1           2  \n",
       "31          1           2  \n",
       "32          1           0  \n",
       "33          2           1  \n",
       "34          1           2  \n",
       "35          2           1  \n",
       "36          1           0  \n",
       "37          2           0  \n",
       "38          1           2  "
      ]
     },
     "execution_count": 7,
     "metadata": {},
     "output_type": "execute_result"
    }
   ],
   "source": [
    "print(type(wrong_predictions[0]))\n",
    "for i, x in enumerate(wrong_predictions):\n",
    "    wrong_predictions[i] = str(wrong_predictions[i])\n",
    "    #wrong_predictions[i] = re.sub(\"'\",\"\\\"\",wrong_predictions[i])\n",
    "print(type(wrong_predictions[0]))\n",
    "print(wrong_predictions[0])\n",
    "for i, x in enumerate(wrong_predictions):\n",
    "    wrong_predictions[i] = ast.literal_eval(wrong_predictions[i])\n",
    "print(type(wrong_predictions[0]))\n",
    "wrong_predictions_df = pd.DataFrame(wrong_predictions)\n",
    "wrong_predictions_df = wrong_predictions_df.rename(columns={'guid' : 'testSet_id', 'text_a' : 'text', 'text_b' : 'pred_label', 'label' : 'true_label'})\n",
    "for i, row in wrong_predictions_df.iterrows():   \n",
    "    wrong_predictions_df.iloc[i,2] = np.argmax(model_outputs[int(row['testSet_id'])])\n",
    "wrong_predictions_df"
   ]
  },
  {
   "cell_type": "markdown",
   "id": "e41f0923",
   "metadata": {},
   "source": [
    "### Evaluate the resulting model against test set"
   ]
  },
  {
   "cell_type": "code",
   "execution_count": 8,
   "id": "a3e50752",
   "metadata": {
    "scrolled": false
   },
   "outputs": [
    {
     "name": "stderr",
     "output_type": "stream",
     "text": [
      "C:\\Users\\jensk\\miniconda3\\envs\\gpu\\lib\\site-packages\\simpletransformers\\classification\\classification_model.py:1454: UserWarning: Dataframe headers not specified. Falling back to using column 0 as text and column 1 as labels.\n",
      "  warnings.warn(\n"
     ]
    },
    {
     "data": {
      "application/vnd.jupyter.widget-view+json": {
       "model_id": "9a03ce65622b4149a6cf4de738ccec0c",
       "version_major": 2,
       "version_minor": 0
      },
      "text/plain": [
       "  0%|          | 0/186 [00:00<?, ?it/s]"
      ]
     },
     "metadata": {},
     "output_type": "display_data"
    },
    {
     "data": {
      "application/vnd.jupyter.widget-view+json": {
       "model_id": "71ce8b42590c4b4cac36fcd1d721a5e8",
       "version_major": 2,
       "version_minor": 0
      },
      "text/plain": [
       "Running Evaluation:   0%|          | 0/24 [00:00<?, ?it/s]"
      ]
     },
     "metadata": {},
     "output_type": "display_data"
    },
    {
     "data": {
      "text/html": [
       "Finishing last run (ID:5j7jjtch) before initializing another..."
      ],
      "text/plain": [
       "<IPython.core.display.HTML object>"
      ]
     },
     "metadata": {},
     "output_type": "display_data"
    },
    {
     "data": {
      "text/html": [
       "Waiting for W&B process to finish... <strong style=\"color:green\">(success).</strong>"
      ],
      "text/plain": [
       "<IPython.core.display.HTML object>"
      ]
     },
     "metadata": {},
     "output_type": "display_data"
    },
    {
     "data": {
      "application/vnd.jupyter.widget-view+json": {
       "model_id": "891454a4d2d04b189285b00e4f06e3fb",
       "version_major": 2,
       "version_minor": 0
      },
      "text/plain": [
       "VBox(children=(Label(value='0.012 MB of 0.013 MB uploaded (0.000 MB deduped)\\r'), FloatProgress(value=0.918872…"
      ]
     },
     "metadata": {},
     "output_type": "display_data"
    },
    {
     "data": {
      "text/html": [
       " View run <strong style=\"color:#cdcd00\">faithful-planet-6</strong> at: <a href='https://wandb.ai/spacehack100/Test%20seperate%20reduced/runs/5j7jjtch' target=\"_blank\">https://wandb.ai/spacehack100/Test%20seperate%20reduced/runs/5j7jjtch</a><br/>Synced 6 W&B file(s), 3 media file(s), 3 artifact file(s) and 0 other file(s)"
      ],
      "text/plain": [
       "<IPython.core.display.HTML object>"
      ]
     },
     "metadata": {},
     "output_type": "display_data"
    },
    {
     "data": {
      "text/html": [
       "Find logs at: <code>.\\wandb\\run-20230503_164447-5j7jjtch\\logs</code>"
      ],
      "text/plain": [
       "<IPython.core.display.HTML object>"
      ]
     },
     "metadata": {},
     "output_type": "display_data"
    },
    {
     "data": {
      "text/html": [
       "Successfully finished last run (ID:5j7jjtch). Initializing new run:<br/>"
      ],
      "text/plain": [
       "<IPython.core.display.HTML object>"
      ]
     },
     "metadata": {},
     "output_type": "display_data"
    },
    {
     "data": {
      "application/vnd.jupyter.widget-view+json": {
       "model_id": "35574519fb8745d7a86e2d620f7da95b",
       "version_major": 2,
       "version_minor": 0
      },
      "text/plain": [
       "VBox(children=(Label(value='Waiting for wandb.init()...\\r'), FloatProgress(value=0.016666666666666666, max=1.0…"
      ]
     },
     "metadata": {},
     "output_type": "display_data"
    },
    {
     "data": {
      "text/html": [
       "wandb version 0.15.1 is available!  To upgrade, please run:\n",
       " $ pip install wandb --upgrade"
      ],
      "text/plain": [
       "<IPython.core.display.HTML object>"
      ]
     },
     "metadata": {},
     "output_type": "display_data"
    },
    {
     "data": {
      "text/html": [
       "Tracking run with wandb version 0.13.10"
      ],
      "text/plain": [
       "<IPython.core.display.HTML object>"
      ]
     },
     "metadata": {},
     "output_type": "display_data"
    },
    {
     "data": {
      "text/html": [
       "Run data is saved locally in <code>C:\\De Nayer 2022-2023\\Bachelorproef\\Jupyter notebook\\wandb\\run-20230503_164520-cdulpb6s</code>"
      ],
      "text/plain": [
       "<IPython.core.display.HTML object>"
      ]
     },
     "metadata": {},
     "output_type": "display_data"
    },
    {
     "data": {
      "text/html": [
       "Syncing run <strong><a href='https://wandb.ai/spacehack100/Test%20seperate%20reduced/runs/cdulpb6s' target=\"_blank\">azure-moon-7</a></strong> to <a href='https://wandb.ai/spacehack100/Test%20seperate%20reduced' target=\"_blank\">Weights & Biases</a> (<a href='https://wandb.me/run' target=\"_blank\">docs</a>)<br/>"
      ],
      "text/plain": [
       "<IPython.core.display.HTML object>"
      ]
     },
     "metadata": {},
     "output_type": "display_data"
    },
    {
     "data": {
      "text/html": [
       " View project at <a href='https://wandb.ai/spacehack100/Test%20seperate%20reduced' target=\"_blank\">https://wandb.ai/spacehack100/Test%20seperate%20reduced</a>"
      ],
      "text/plain": [
       "<IPython.core.display.HTML object>"
      ]
     },
     "metadata": {},
     "output_type": "display_data"
    },
    {
     "data": {
      "text/html": [
       " View run at <a href='https://wandb.ai/spacehack100/Test%20seperate%20reduced/runs/cdulpb6s' target=\"_blank\">https://wandb.ai/spacehack100/Test%20seperate%20reduced/runs/cdulpb6s</a>"
      ],
      "text/plain": [
       "<IPython.core.display.HTML object>"
      ]
     },
     "metadata": {},
     "output_type": "display_data"
    },
    {
     "name": "stdout",
     "output_type": "stream",
     "text": [
      "{'mcc': 0.711435488130277, 'f1': 0.8602150537634409, 'confusionMatrix': array([[ 26,  10,   1],\n",
      "       [  6, 116,   1],\n",
      "       [  1,   7,  18]], dtype=int64), 'eval_loss': 0.7474528474073546}\n"
     ]
    }
   ],
   "source": [
    "def f1_multiclass(labels, preds):\n",
    "    return f1_score(labels, preds, average='micro')\n",
    "\n",
    "result, model_outputs, wrong_predictions = classifier.eval_model(testSet, f1=f1_multiclass, confusionMatrix=confusion_matrix)\n",
    "print(result)"
   ]
  },
  {
   "cell_type": "code",
   "execution_count": 9,
   "id": "e4480395",
   "metadata": {
    "scrolled": true
   },
   "outputs": [
    {
     "name": "stdout",
     "output_type": "stream",
     "text": [
      "<class 'simpletransformers.classification.classification_utils.InputExample'>\n",
      "<class 'str'>\n",
      "{'guid': 1, 'text_a': 'Geachte Heer Mevrouw In de bijlage vindt u een rekeningoverzicht vanaf Mocht u vragen hebben of heeft u kopien nodig van uw facturen u kunt ons altijd contacteren op het volgende adres cashbeneluxsappicom Wij willen u vriendelijk verzoeken alle reeds vervallen facturen zo spoedig mogelijk te betalen Met vriendelijke groeten Afdeling Credit Control Johan ZwaanSenior Accounts Receivable SpecialistSappi Europe Sappi Europe Polska Sp z oo Shared Service Center CracowOrange Office Park ul Klimeckiego Cracow PolandTel wpisana do Krajowego Rejestru Sdowego prowadzonego przez Sd Rejonowy dla M St Warszawy w Warszawie XII Wydzia Gospodarczy KRS pod numerem KRS Kapita zakadowy PLN siedziba ul Bonifraterska Warszawa NIP Please recycle all printed documents sappicomThis email is subject to the Sappi email legal notice available at sappicom', 'text_b': None, 'label': 0}\n",
      "<class 'dict'>\n"
     ]
    },
    {
     "data": {
      "text/html": [
       "<div>\n",
       "<style scoped>\n",
       "    .dataframe tbody tr th:only-of-type {\n",
       "        vertical-align: middle;\n",
       "    }\n",
       "\n",
       "    .dataframe tbody tr th {\n",
       "        vertical-align: top;\n",
       "    }\n",
       "\n",
       "    .dataframe thead th {\n",
       "        text-align: right;\n",
       "    }\n",
       "</style>\n",
       "<table border=\"1\" class=\"dataframe\">\n",
       "  <thead>\n",
       "    <tr style=\"text-align: right;\">\n",
       "      <th></th>\n",
       "      <th>testSet_id</th>\n",
       "      <th>text</th>\n",
       "      <th>pred_label</th>\n",
       "      <th>true_label</th>\n",
       "    </tr>\n",
       "  </thead>\n",
       "  <tbody>\n",
       "    <tr>\n",
       "      <th>0</th>\n",
       "      <td>1</td>\n",
       "      <td>Geachte Heer Mevrouw In de bijlage vindt u een rekeningoverzicht vanaf Mocht u vragen hebben of heeft u kopien nodig van uw facturen u kunt ons altijd contacteren op het volgende adres cashbeneluxsappicom Wij willen u vriendelijk verzoeken alle reeds vervallen facturen zo spoedig mogelijk te betalen Met vriendelijke groeten Afdeling Credit Control Johan ZwaanSenior Accounts Receivable SpecialistSappi Europe Sappi Europe Polska Sp z oo Shared Service Center CracowOrange Office Park ul Klimeckiego Cracow PolandTel wpisana do Krajowego Rejestru Sdowego prowadzonego przez Sd Rejonowy dla M St Warszawy w Warszawie XII Wydzia Gospodarczy KRS pod numerem KRS Kapita zakadowy PLN siedziba ul Bonifraterska Warszawa NIP Please recycle all printed documents sappicomThis email is subject to the Sappi email legal notice available at sappicom</td>\n",
       "      <td>2</td>\n",
       "      <td>0</td>\n",
       "    </tr>\n",
       "    <tr>\n",
       "      <th>1</th>\n",
       "      <td>17</td>\n",
       "      <td>Beste Blijkbaar hebben wij een factuur betaald Graag terugstorten aub Met vriendelijke groeten Bart De Witte De Witte Communicatie De Witte Communicatie Wijerstraat Zonhoven T wwwdewittebe Facebook LinkedIn YouTube Pinterest Officile Google Partner</td>\n",
       "      <td>1</td>\n",
       "      <td>2</td>\n",
       "    </tr>\n",
       "    <tr>\n",
       "      <th>2</th>\n",
       "      <td>25</td>\n",
       "      <td>Your document OFFERTE has been accepted To change your email preferences when comments are added to this discussion click here Sent from</td>\n",
       "      <td>1</td>\n",
       "      <td>0</td>\n",
       "    </tr>\n",
       "    <tr>\n",
       "      <th>3</th>\n",
       "      <td>32</td>\n",
       "      <td>Hi Filip It is likely that the same invoice has been processed internally by yourselves twice by mistake We cannot provide you with a credit note for it as there is nothing for us to credit against on our end Instead we have allocated the duplicate payment to the invoice that followed and as such all subsequent payments were allocated to invoices that followed Your most recent payment on September which had the reference was allocated to Please see the attached statement accounts for your reference Also attached are the invoices which are currently outstanding although not due has been prorated and is the final invoice on the old contract is the first invoice on the new contract I hope this makes sense but if you have any further questions please let me know Best Adam Adam Patel Finance Assistant Snowplow Analytics Snowplowanalyticscom Floor Bevis Marks London Hello We work flexibly at Snowplow I am sending this message now but I dont expect you to read respond or action outside of your regular working hours image twitter image linkedin On Tue Sept at Lalsa Budhwar wrote Hi Filip Thanks for this I have added Adam CC from our accounts team to clarify this with you and your team All the best Lalsa On Mon Sept at Filip Beslic wrote Hi Lalsa Ive put Tamara Roos in cc from our financial department according to what I see there are two invoices with both the amount of for March paid in April with the following name MRT Snowplow Insight Growth MRT Snowplow insight growth Notice the subtle difference invoicedate for both Is this correct that we have two invoices How come we have this mismatch Regards Filip Beslic acting Area manager data image DPG Media Mediaplein Antwerpen T M filipbeslicdpgmediabe dpgmediabe On Tue Aug at Lalsa Budhwar wrote Hi Isabelle Filip I have spoken to the accounts team about this and the have informed me that they cant issue a credit note as there isnt an incorrect invoice to issue against I believe DPG have just paid the same invoice twice It is my understanding that you should be able to reconcile this in your accounting system To help you with this I have attached a statement of accounts from April to date I hope this makes sense please let me know if you would like to talk to our accounts team further about this All the best Lalsa On Thu Aug at Lalsa Budhwar wrote Hi Isabelle Thanks for providing this I have now passed it onto our accounts team who will be able to action this I will keep you updated with the progress Thanks Lalsa On Thu Aug at Isabelle De Lentdecker isabelledelentdeckerdpgmediabe wrote Hi Lalsa Please find information beneath for the transfer Beneficiary name DPG Media Services NV Beneficiary address Medialaan Antwerpen Bank name KBC Bank Account number SWIFT code KREDBEBB Reference CN invoice number Many thanks and kind regards Met vriendelijk groeten Isabelle De Lentdecker Management assistant ICT image DPG Media Mediaplein Antwerpen T isabelledelentdeckerdpgmediabe dpgmediabe image DPG Media dots Op wo aug om schreef Lalsa Budhwar lalsasnowplowanalyticscom Hi Filip Thanks for flagging this I am following this up with the accounts team to ensure that a credit note is issued as soon as possible I believe that we need your bank details in order to issue this so if you could send those over that would be appreciated All the best Lalsa On Wed Aug at Filip Beslic wrote Hi Lalsa Rebecca Previously youve spoken with Wannes about an invoice which charged an excessive amount see below Weve paid instead of the agreed amount of for April It seems we still have not received a creditnote for this yet can you please quickly take care of this and send it to suppliersdpgmediabe Kind regards Filip Filip Beslic acting Area manager data image DPG Media Mediaplein Antwerpen T M filipbeslicdpgmediabe dpgmediabe Forwarded message From Wannes Rosiers Date Wed Aug at Subject Fwd Snowplow facturen voor maart To Filip Beslic FYI Begin doorgestuurd bericht Van Lalsa Budhwar Onderwerp Antw Snowplow facturen voor maart Datum mei om CEST Aan Wannes Rosiers Kopie Rebecca Lane Hi Wannes Ok great I have passed this onto the accounts team so they will take the relevant actions on their end All the best Lalsa On Mon May at Wannes Rosiers wannesrosierspersgroepnet wrote Laisa Change of plan could you offset the amount on our next invoice Probably way easier Thanks in advance Wannes Op mei om heeft Lalsa Budhwar lalsasnowplowanalyticscom het volgende geschreven Hi Wannes Yes of course would you be able to provide bank details so we can send this to you Thanks Lalsa On Fri May at Wannes Rosiers wannesrosierspersgroepnet wrote Laisa I would prefer a creditnote Thanks in advance Wannes Op vr mei schreef Lalsa Budhwar lalsasnowplowanalyticscom Hi Wannes I have spoken to the account team about this and it seems that the invoice was just paid twice We will be able to either Offset this amount on your next invoice Provide a credit note for the amount Please do let me know what you would prefer and I will get this actioned All the best Lalsa On Wed May at Rebecca Lane rebeccasnowplowanalyticscom wrote Hi Wannes Im looking into it with the finance team on our end and will loop back with you ASAP Kind regards Rebecca Lane Head of Customer Success Snowplow Analytics snowplowanalyticscom Floor Bevis Marks London image twitter image linkedin On Wed May at Wannes Rosiers wannesrosierspersgroepnet wrote Rebecca For March we have received the invoice up to the invoice number Both even have the same invoice number but both are as well processed and paid Is it possible to receive a credit note Thanks Wannes RosiersArea manager data Mediaplein Antwerpen M wannesrosiersdpgmediabe dpgmediabe Lalsa Budhwar Customer Success Specialist Customer Success Snowplow Analytics lalsasnowplowanalyticscom wwwsnowplowanalyticscom Floor Bevis Marks London Book a slot in my calendar Join the data discussion at our online event series image twitter image linkedin Lalsa Budhwar Customer Success Specialist Customer Success Snowplow Analytics lalsasnowplowanalyticscom wwwsnowplowanalyticscom Floor Bevis Marks London Book a slot in my calendar Join the data discussion at our online event series image twitter image linkedin Lalsa Budhwar Customer Success Specialist Customer Success Snowplow Analytics lalsasnowplowanalyticscom wwwsnowplowanalyticscom Floor Bevis Marks London Book a slot in my calendar Join the data discussion at our online event series image twitter image linkedin Lalsa Budhwar SheHer Customer Success Specialist Customer Success Snowplow Analytics lalsasnowplowanalyticscom wwwsnowplowanalyticscom Floor Bevis Marks London Book a slot in my calendar Join the data discussion at our online event series image twitter image linkedin Lalsa Budhwar SheHer Customer Success Specialist Customer Success Snowplow Analytics lalsasnowplowanalyticscom wwwsnowplowanalyticscom Floor Bevis Marks London Book a slot in my calendar Join the data discussion at our online event series image twitter image linkedin Lalsa Budhwar SheHer Customer Success Specialist Customer Success Snowplow Analytics lalsasnowplowanalyticscom wwwsnowplowanalyticscom Floor Bevis Marks London Book a slot in my calendar Join the data discussion at our online event series image twitter image linkedin Lalsa Budhwar SheHer Customer Success Specialist Customer Success Snowplow Analytics lalsasnowplowanalyticscom wwwsnowplowanalyticscom Floor Bevis Marks London Book a slot in my calendar Join the data discussion at our online event series image twitter image linkedin</td>\n",
       "      <td>1</td>\n",
       "      <td>2</td>\n",
       "    </tr>\n",
       "    <tr>\n",
       "      <th>4</th>\n",
       "      <td>33</td>\n",
       "      <td>Beste In bijlage vindt u onze betalingsherinnering Gelieve dit per kerende te vereffenen of ons duiding te geven Indien deze mail uw bestaling kruiste gelieve deze dan te negeren Met vriendelijk groeten Marijke Vercammen T M E marijkeicometbe Heeft u al kennis gemaakt met de afdelingen van de ICOMETgroep Bezoek onze website wwwicometbe Marijke Vercammen Financial Assistant marijkevcicometgroupcom icometgroupcom Deinze Pruwelz Paris Doors gates windows Security Metalworks Projects Products Service</td>\n",
       "      <td>1</td>\n",
       "      <td>2</td>\n",
       "    </tr>\n",
       "    <tr>\n",
       "      <th>5</th>\n",
       "      <td>45</td>\n",
       "      <td>Beste Zie bijlage Met vriendelijke groeten Hoe gaat KBC om met uw persoonsgegevens Klik hier voor meer informatie Mark De Temmerman Financieel medewerker vastgoed Inspiring tailormade real estate solutions Tel fax intern KBC Real Estate Havenlaan Brussels wwwkbcrealestatecom F IN T YT KBC Bank NV Havenlaan Brussels Belgium VAT BE RLP Brussels Be green keep it on the screen Please think before you print this email Disclaimer</td>\n",
       "      <td>0</td>\n",
       "      <td>1</td>\n",
       "    </tr>\n",
       "    <tr>\n",
       "      <th>6</th>\n",
       "      <td>68</td>\n",
       "      <td>Good Afternoon Please can I have a response to my email below also now confirming payment date Thank you Kind Regards Ruzma Butt Group Credit Control Executive Phone Direct Number Email RuzmaButtarrowsgroupcom The technology talent experts for the hypergrowth era Arrows Group Wootton St London wwwarrowsgroupcom Follow us Arrows Group is proud to be GDPR ready and compliant We acknowledge our responsibilities when handling your data and ensure it is respected valued and protected For further information on your rights please review our privacy policy The information in this email and any attachment is confidential and is intended for the named recipients The email may not be disclosed or used by any person other than the addressee nor may it be copied in any way If you are not a named recipient please notify the sender immediately and delete copies from this message Any unauthorised copying disclosure or distribution of the material in this email is strictly forbidden Any view or opinions presented are solely those of the author and do not necessarily represent those of Arrows Group Please consider the environment before printing this email From Ruzma Butt Sent August To suppliersdpgmediabe Subject DPG MEDIA SERVICES NV Balance on Account Good Afternoon Team I hope you are well Please can you con receipt of the invoice listed below that has a due date of Please do let me know if you have any queries Thank you Kind Regards Ruzma Butt Group Credit Control Executive Phone Direct Number Email RuzmaButtarrowsgroupcom The technology talent experts for the hypergrowth era Arrows Group Wootton St London wwwarrowsgroupcom Follow us Arrows Group is proud to be GDPR ready and compliant We acknowledge our responsibilities when handling your data and ensure it is respected valued and protected For further information on your rights please review our privacy policy The information in this email and any attachment is confidential and is intended for the named recipients The email may not be disclosed or used by any person other than the addressee nor may it be copied in any way If you are not a named recipient please notify the sender immediately and delete copies from this message Any unauthorised copying disclosure or distribution of the material in this email is strictly forbidden Any view or opinions presented are solely those of the author and do not necessarily represent those of Arrows Group Please consider the environment before printing this email</td>\n",
       "      <td>0</td>\n",
       "      <td>2</td>\n",
       "    </tr>\n",
       "    <tr>\n",
       "      <th>7</th>\n",
       "      <td>69</td>\n",
       "      <td>NEWSLETTER Did you know ControlUp is now generally available GA Thats right the latest and greatest ControlUp ever is now available to help you deliver the Contact our sales team ULTIMATE digital employee experience so your endusers can stay productive and frustrationfree and keep your stress level in check too Ready to upgrade to ControlUp Ultimate Increase your ControlUp IQ Once youve upgraded to ControlUp Ultimate raise your game with Introduction to ControlUp Ultimate at ControlUp Academy Available at no extra cost its the ultimate educational tool for unleashing the power of ControlUp Get started today ControlUp named by Gartner in its latest Hype Cycles We are EXCITED Why might you ask Because Gartner has recognized ControlUp as a Digital Employee Experience vendor in four of their latest Hype Cycles Hype Cycle for the Digital Workplace Hype Cycle for Digital Workplace Infrastructure and Operations Hype Cycle for ITSM Hype Cycle for Monitoring Observability and Cloud Operations What can we say When you know you know Solve Custom Dashboards are here You asked for them now weve got them The custom dashboards widgets provide ample opportunity to create visualizations that contain multiple metrics in a single chart for quick data correlation Yeah we think theyre pretty cool tooWed love to have you participate in the beta Interested Contact our sales team Get to know ControlUp Scoutbees With Scoutbees you can test and report the availability of your EUC virtual apps VDI desktops your web and networkbased resources all from a single place so your endusers can stay productive and never miss a beat Weve got brandnew integrations with ServiceNow and Microsoft Teams And now you can have access to Honeycombthe Scoutbees API so you can deliver a richer digital experience Stay tuned for lots more exciting updates from the Scoutbees team Check out The Upload with ControlUp Take control of your digital workspace environment endtoend AND make your endusers happy with their digital experience In our latest episode Pete Jeff and Eugenia catch up on all things ControlUp EUC have a great interview with Tom Fenton about ControlUp VMware and his journey we discuss DEX what it is is it subjective or objective and how ControlUp can help plus a whole lot more Listen to it wherever you get your podcasts No one tells our story better than our customers Check out our latest case study get to know our friends at Florida Cancer Specialists and hear their ControlUp story Team ControlUp is Vaccinated Ready for Summer As Pete Townshend once said Rock n roll might not solve your problems but it does let you dance all over them With that in mind after a longwho are we kidding seemingly our vaccinated Israeli team got to blow off some muchneeded steam at our Summer Fling which included a ripper of a performance by the ControlUp Band featuring Lior Shub RD Yosi Hasid RD Tal Green Automation Engineer Dudi Grinstin CSE and Michael Nahmias ControlUp Academy Manager At ControlUp we work hard and play hard too Learn what ControlUp life is all about Check out all thats new on the ControlUp Blog What is Digital Employee Experience Management DEX by Joel Stocker Deliver a great digital employee experience with ControlUp Remote DX by Trentent Tye From the Field Episode II The PoC Awakens by Chris Rogers Join ControlUp for HIMMS either in person or virtually Were thrilled to be joining our friends at IGEL for taking place in Las Vegas August Stop by our booth in the IGEL Ready Pavilion to see how ControlUp and its integration with Epic can deliver a bestinclass digital employee experience for healthcare And if youre there dont miss our HIMMS kickoff happy hour at Rockhouse at the Venetian Well be going digital too taking part in the Citrix HIMMS Virtual Citrix Ready Partner Pavilion August Read all about it on the Citrix blog This email was sent to suppliersdpgmediabe If you no longer wish to receive these emails you may unsubscribe here</td>\n",
       "      <td>1</td>\n",
       "      <td>0</td>\n",
       "    </tr>\n",
       "    <tr>\n",
       "      <th>8</th>\n",
       "      <td>81</td>\n",
       "      <td>Hi Filip Thanks for flagging this I am following this up with the accounts team to ensure that a credit note is issued as soon as possible I believe that we need your bank details in order to issue this so if you could send those over that would be appreciated All the best Lalsa On Wed Aug at Filip Beslic wrote Hi Lalsa Rebecca Previously youve spoken with Wannes about an invoice which charged an excessive amount see below Weve paid instead of the agreed amount of for April It seems we still have not received a creditnote for this yet can you please quickly take care of this and send it to suppliersdpgmediabe Kind regards Filip Filip Beslic acting Area manager data image DPG Media Mediaplein Antwerpen T M filipbeslicdpgmediabe dpgmediabe Forwarded message From Wannes Rosiers Date Wed Aug at Subject Fwd Snowplow facturen voor maart To Filip Beslic FYI Begin doorgestuurd bericht Van Lalsa Budhwar Onderwerp Antw Snowplow facturen voor maart Datum mei om CEST Aan Wannes Rosiers Kopie Rebecca Lane Hi Wannes Ok great I have passed this onto the accounts team so they will take the relevant actions on their end All the best Lalsa On Mon May at Wannes Rosiers wrote Laisa Change of plan could you offset the amount on our next invoice Probably way easier Thanks in advance Wannes Op mei om heeft Lalsa Budhwar het volgende geschreven Hi Wannes Yes of course would you be able to provide bank details so we can send this to you Thanks Lalsa On Fri May at Wannes Rosiers wrote Laisa I would prefer a creditnote Thanks in advance Wannes Op vr mei schreef Lalsa Budhwar lalsasnowplowanalyticscom Hi Wannes I have spoken to the account team about this and it seems that the invoice was just paid twice We will be able to either Offset this amount on your next invoice Provide a credit note for the amount Please do let me know what you would prefer and I will get this actioned All the best Lalsa On Wed May at Rebecca Lane rebeccasnowplowanalyticscom wrote Hi Wannes Im looking into it with the finance team on our end and will loop back with you ASAP Kind regards Rebecca Lane Head of Customer Success Snowplow Analytics snowplowanalyticscom Floor Bevis Marks London image twitter image linkedin On Wed May at Wannes Rosiers wannesrosierspersgroepnet wrote Rebecca For March we have received the invoice up to the invoice number Both even have the same invoice number but both are as well processed and paid Is it possible to receive a credit note Thanks Wannes RosiersArea manager data Mediaplein Antwerpen M wannesrosiersdpgmediabe dpgmediabe Lalsa Budhwar Customer Success Specialist Customer Success Snowplow Analytics lalsasnowplowanalyticscom wwwsnowplowanalyticscom Floor Bevis Marks London Book a slot in my calendar Join the data discussion at our online event series image twitter image linkedin Lalsa Budhwar Customer Success Specialist Customer Success Snowplow Analytics lalsasnowplowanalyticscom wwwsnowplowanalyticscom Floor Bevis Marks London Book a slot in my calendar Join the data discussion at our online event series image twitter image linkedin Lalsa Budhwar Customer Success Specialist Customer Success Snowplow Analytics lalsasnowplowanalyticscom wwwsnowplowanalyticscom Floor Bevis Marks London Book a slot in my calendar Join the data discussion at our online event series image twitter image linkedin Lalsa Budhwar SheHer Customer Success Specialist Customer Success Snowplow Analytics lalsasnowplowanalyticscom wwwsnowplowanalyticscom Floor Bevis Marks London Book a slot in my calendar Join the data discussion at our online event series image twitter image linkedin</td>\n",
       "      <td>0</td>\n",
       "      <td>1</td>\n",
       "    </tr>\n",
       "    <tr>\n",
       "      <th>9</th>\n",
       "      <td>87</td>\n",
       "      <td>Beste Gelieve in bijlage fiches te willen vinden op naam van Delphine Lecompte Mogen wij vragen om ons een detail te willen mailen van deze fiches Alvast bedankt Marnix MMC Co Accountancy Tax Marnix Voet Bestuurder Fiscaal accountant Sassevaartstraat Gent dido Stadionlaan Deinze mawovr T GSM Dit bericht werd gescand op virussen en werd verzonden door MMC Co De verzonden informatie is enkel bestemd voor de persoon of entiteit aan wie het geadresseerd is en anderen die toestemming hebben deze te mogen ontvangen Dit bericht kan vertrouwelijke of geprivilegieerde informatie bevatten Als u niet de beoogde ontvanger bent wordt u hierbij op de hoogte gesteld dat elke openbaarmaking herverzending verspreiding of gebruik of elke actie in verband met deze informatie verboden is Als u dit bericht per vergissing ontvangen heeft brengt u ons onmiddellijk op de hoogte door op dit bericht te reageren en verwijder het uit uw systeem MMC Co is niet verantwoordelijk voor het correct of volledig versturen van de informatie in dit bericht noch voor enige vertraging bij de ontvangst ervan</td>\n",
       "      <td>1</td>\n",
       "      <td>0</td>\n",
       "    </tr>\n",
       "    <tr>\n",
       "      <th>10</th>\n",
       "      <td>88</td>\n",
       "      <td>Collegas Pascale is met verlof tot Kunnen jullie aub zorgen voor onderstaande uitbetalingen van het prijzengeld Gouden Vuelta Van der Aerschot Junior Project Manager Commerce Mediaplein Antwerpen M benvanderaerschotdpgmediabe dpgmediabe Van Ben Van der AerschotVerzonden donderdag september pascalesegersdpgmediabeCC Damien DuboisOnderwerp Uitbetalingsfile Gouden Vuelta Pascale In bijlage kan je uitbetalingsfile Gouden Vuelta vinden Enkel van de eindwinnaar peloton ontbreek ik nog de nodige gegevens Deze bezorg ik van zodra de winnaar ze mij bezorgd Ook nog de adresgegevens van de grote euro Janneau GordeijnsAdres Liesbosdreef JL Prinsenbeek euro Mireille de royAdresExterkenstraat MoorselBevestig je even de uitbetaling aub GroetjesBen Van der Aerschot Junior Project Manager Commerce Mediaplein Antwerpen M benvanderaerschotdpgmediabe dpgmediabe</td>\n",
       "      <td>0</td>\n",
       "      <td>1</td>\n",
       "    </tr>\n",
       "    <tr>\n",
       "      <th>11</th>\n",
       "      <td>106</td>\n",
       "      <td>Geachte Ik stuur deze mail om te informeren of mijn factuur van vorige maand goed toegekomen is Vriendelijke groet Hendrik vandeput Op ma jul schreef Hendrik Vandeput vandeputhendrikgmailcom Geachte In bijlage vindt u de factuur voor de muzikale opluistering van de opnames van Ze zeggen dat juli Vriendelijke groeten Hendrik Vandeput</td>\n",
       "      <td>1</td>\n",
       "      <td>2</td>\n",
       "    </tr>\n",
       "    <tr>\n",
       "      <th>12</th>\n",
       "      <td>112</td>\n",
       "      <td>Forwarded message Van seppeseppenobelsbe Date vr sep om Subject Seppe Nobels Factuur To Wim Van de Voorde Beste Wim beste verantwoordelijke van afdeling suppliersdpg In bijlage vind je de creditnota CN en de aangepaste factuur F Laten jullie weten of die nu klaar is voor betaling fijn weekend Wim Van de Voorde Executive Producer TV image DPG Media Medialaan Vilvoorde T M wimvandevoordedpgmediabe dpgmediabe</td>\n",
       "      <td>1</td>\n",
       "      <td>0</td>\n",
       "    </tr>\n",
       "    <tr>\n",
       "      <th>13</th>\n",
       "      <td>117</td>\n",
       "      <td>Ah its already provided thanks Isabelle De Lentdecker Regards Filip Filip Beslic acting Area manager data image DPG Media Mediaplein Antwerpen T M filipbeslicdpgmediabe dpgmediabe On Thu Aug at Filip Beslic wrote Hi Isabelle Can you please provide the necessary information for a Snowplow Analytics needs for a creditnote Regards Filip Filip Beslic acting Area manager data image DPG Media Mediaplein Antwerpen T M filipbeslicdpgmediabe dpgmediabe On Wed Aug at Lalsa Budhwar wrote Hi Filip Thanks for flagging this I am following this up with the accounts team to ensure that a credit note is issued as soon as possible I believe that we need your bank details in order to issue this so if you could send those over that would be appreciated All the best Lalsa On Wed Aug at Filip Beslic wrote Hi Lalsa Rebecca Previously youve spoken with Wannes about an invoice which charged an excessive amount see below Weve paid instead of the agreed amount of for April It seems we still have not received a creditnote for this yet can you please quickly take care of this and send it to suppliersdpgmediabe Kind regards Filip Filip Beslic acting Area manager data image DPG Media Mediaplein Antwerpen T M filipbeslicdpgmediabe dpgmediabe Forwarded message From Wannes Rosiers Date Wed Aug at Subject Fwd Snowplow facturen voor maart To Filip Beslic FYI Begin doorgestuurd bericht Van Lalsa Budhwar Onderwerp Antw Snowplow facturen voor maart Datum mei om CEST Aan Wannes Rosiers Kopie Rebecca Lane Hi Wannes Ok great I have passed this onto the accounts team so they will take the relevant actions on their end All the best Lalsa On Mon May at Wannes Rosiers wannesrosierspersgroepnet wrote Laisa Change of plan could you offset the amount on our next invoice Probably way easier Thanks in advance Wannes Op mei om heeft Lalsa Budhwar lalsasnowplowanalyticscom het volgende geschreven Hi Wannes Yes of course would you be able to provide bank details so we can send this to you Thanks Lalsa On Fri May at Wannes Rosiers wannesrosierspersgroepnet wrote Laisa I would prefer a creditnote Thanks in advance Wannes Op vr mei schreef Lalsa Budhwar lalsasnowplowanalyticscom Hi Wannes I have spoken to the account team about this and it seems that the invoice was just paid twice We will be able to either Offset this amount on your next invoice Provide a credit note for the amount Please do let me know what you would prefer and I will get this actioned All the best Lalsa On Wed May at Rebecca Lane rebeccasnowplowanalyticscom wrote Hi Wannes Im looking into it with the finance team on our end and will loop back with you ASAP Kind regards Rebecca Lane Head of Customer Success Snowplow Analytics snowplowanalyticscom Floor Bevis Marks London image twitter image linkedin On Wed May at Wannes Rosiers wannesrosierspersgroepnet wrote Rebecca For March we have received the invoice up to the invoice number Both even have the same invoice number but both are as well processed and paid Is it possible to receive a credit note Thanks Wannes RosiersArea manager data Mediaplein Antwerpen M wannesrosiersdpgmediabe dpgmediabe Lalsa Budhwar Customer Success Specialist Customer Success Snowplow Analytics lalsasnowplowanalyticscom wwwsnowplowanalyticscom Floor Bevis Marks London Book a slot in my calendar Join the data discussion at our online event series image twitter image linkedin Lalsa Budhwar Customer Success Specialist Customer Success Snowplow Analytics lalsasnowplowanalyticscom wwwsnowplowanalyticscom Floor Bevis Marks London Book a slot in my calendar Join the data discussion at our online event series image twitter image linkedin Lalsa Budhwar Customer Success Specialist Customer Success Snowplow Analytics lalsasnowplowanalyticscom wwwsnowplowanalyticscom Floor Bevis Marks London Book a slot in my calendar Join the data discussion at our online event series image twitter image linkedin Lalsa Budhwar SheHer Customer Success Specialist Customer Success Snowplow Analytics lalsasnowplowanalyticscom wwwsnowplowanalyticscom Floor Bevis Marks London Book a slot in my calendar Join the data discussion at our online event series image twitter image linkedin</td>\n",
       "      <td>1</td>\n",
       "      <td>0</td>\n",
       "    </tr>\n",
       "    <tr>\n",
       "      <th>14</th>\n",
       "      <td>119</td>\n",
       "      <td>Dag collegas kunnen jullie deze verwerken op Dank je Joris Joris Bensch Technical Event Manager image DPG Media Medialaan Vilvoorde M jorisbenschdpgmediabe dpgmediabe</td>\n",
       "      <td>1</td>\n",
       "      <td>0</td>\n",
       "    </tr>\n",
       "    <tr>\n",
       "      <th>15</th>\n",
       "      <td>120</td>\n",
       "      <td>Dear DPG MEDIA SERVICES NV Please find attached the following documents from News UK ZSYFFD These documents are also available to view online by visiting Your username is You should already have your password but if you have forgotten it please click here If you have a question and would like to contact News UK please phone Regards News UK</td>\n",
       "      <td>1</td>\n",
       "      <td>2</td>\n",
       "    </tr>\n",
       "    <tr>\n",
       "      <th>16</th>\n",
       "      <td>122</td>\n",
       "      <td>Hallo is het mogelijk onderstaande factuur in de flow te krijgen opdat ze dringend betaald kan worden Alvast bedankt Groeten Tijl Tijl Sacr Director Integreate image Integreate Creative HUB DPG Media Advertising Medialaan Vilvoorde M tijlsacredpgmediabe dpgmediabe image DPG Media Forwarded message Van Marika Miserez Date wo aug om Subject lefaccom Benelux Factuur tweede herinnering To Tijl Sacr Geachte We hopen dat alles goed gaat met u en uw team We komen bij u terug omdat we op u een herinnering stuurden ivm de onbetaalde factuur zie bijlage Voor onze verleende diensten vragen wij u zo snel mogelijk de volgende betaling te voldoen Met vriendelijke groeten Marika Miserez Administrative Assistant TBS group Belgium Avenue Louise Louizalaan Brussels Tel wwwtbsgroupeuropecom wwwlefaccom</td>\n",
       "      <td>2</td>\n",
       "      <td>1</td>\n",
       "    </tr>\n",
       "    <tr>\n",
       "      <th>17</th>\n",
       "      <td>124</td>\n",
       "      <td>Beste Op aanvraag van Fremantle zal de factuur voor de audities naar DPG gaan kunnen wij voor de goede orde Uw akkoord krijgen voor volgende factuur aub Aanrekening BGT Factureren VTM Main Job Extra Rook Extra Riggers Totaal exc btw Graag confirmatie van volgende specificaties op de factuur PRG Logo Yves Melis Account Manager Production Resource Group BV Phone Mobile Fax Email ymelisprgcom Web wwwprgcombe Industriezone Hambos Vaartdijk BE Tildonk This email may contain confidential andor privileged information If you are not the intended recipient or have received this email by error please notify the sender immediately and destroy this email Any unauthorised copying disclosure or distribution of the material in this email is strictly forbidden Please consider the environment before printing this email</td>\n",
       "      <td>1</td>\n",
       "      <td>0</td>\n",
       "    </tr>\n",
       "    <tr>\n",
       "      <th>18</th>\n",
       "      <td>132</td>\n",
       "      <td>Deze factuur kan online bekeken en gedownload worden Bekijk de factuur Geachte heermevrouw We hebben zojuist uw betaling van EUR verwerkt Hiermee komt het openstaande bedrag van factuur op EUR Hartelijk dank voor uw betaling Voor vragen kanu contact opnemen met ons Met vriendelijke groeten Peter Jan Van Mieghem Capture CV Leningstraat BE Borgerhout financecapturebe wwwcapturebe</td>\n",
       "      <td>1</td>\n",
       "      <td>0</td>\n",
       "    </tr>\n",
       "    <tr>\n",
       "      <th>19</th>\n",
       "      <td>141</td>\n",
       "      <td>Your document ContractMET has been accepted To change your email preferences when comments are added to this discussion click here Sent from</td>\n",
       "      <td>1</td>\n",
       "      <td>0</td>\n",
       "    </tr>\n",
       "    <tr>\n",
       "      <th>20</th>\n",
       "      <td>147</td>\n",
       "      <td>nan</td>\n",
       "      <td>1</td>\n",
       "      <td>2</td>\n",
       "    </tr>\n",
       "    <tr>\n",
       "      <th>21</th>\n",
       "      <td>150</td>\n",
       "      <td>FYI Onkosten formulier voor TOTZ Groetjes Miek De Fruytier Producer image PIT Medialaan Vilvoorde M miekdefruytierdpgmediabe dpgmediabe image DPG Media Forwarded message Van Date vr sep om Subject Scan verzonden via een DPG Media printer To Dit document werd ingescand en verzonden via een Lexmark</td>\n",
       "      <td>1</td>\n",
       "      <td>0</td>\n",
       "    </tr>\n",
       "    <tr>\n",
       "      <th>22</th>\n",
       "      <td>151</td>\n",
       "      <td>Van Ellen Jacobs CMcom Verzonden woensdag augustus Aan Vincent Coessens Ilse Klep CMcom Wholesale Billing Finance Onderwerp RE invoice for interconnection services july Beste Vincent Ik zag dat het statementnummer ontbrak op de pdf Bij deze het document met het statementnummer erop vermeld Met vriendelijke groet Ellen Jacobs CMcom Finance Professional cmcom Follow CMcom on LinkedIn for the latest updates on conversational commerce Van Ellen Jacobs CMcom Verzonden woensdag augustus Aan Vincent Coessens Ilse Klep CMcom Wholesale Billing Finance Onderwerp RE invoice for interconnection services july Beste Vincent Hierbij het statement met verzoek tot uitbetaling Met vriendelijke groet Ellen Jacobs CMcom Finance Professional cmcom Follow CMcom on LinkedIn for the latest updates on conversational commerce Van Vincent Coessens Verzonden donderdag augustus Aan Ellen Jacobs CMcom Ilse Klep CMcom Wholesale Billing Finance Invoice Onderwerp invoice for interconnection services july EXTERNAL EMAIL Hallo Ilse In bijlage factuur en usage report Prettige vakantie Vincent Coessens TPO Wholesale Billing and Fraud Mobile Vikings Kempische Steenweg Hasselt M vincentcoessensmobilevikingsbe</td>\n",
       "      <td>1</td>\n",
       "      <td>2</td>\n",
       "    </tr>\n",
       "    <tr>\n",
       "      <th>23</th>\n",
       "      <td>152</td>\n",
       "      <td>Mit freundlichen Gren Best regards i A Lisa ZundelVersand T M lisazundelkoenigbauercom Koenig Bauer Industrial AG Co KG FriedrichKoenigStr Wrzburg Deutschland koenigbauercom Koenig Bauer Industrial AG Co KG GeschftsfhrerCEO DiplIng FH Gnter Drossel Sitz der GesellschaftRegistered Office Wrzburg AmtsgerichtLocal Court Wrzburg HandelsregisterTrade Register A KomplementrinGeneral Partner Koenig Bauer AG AufsichtsratSupervisory Board Prof DrIng Raimund Klinkner VorsitzenderChairman VorstandExecutive Board Dr Andreas Pleke Sprecherspokesman Dr Stephen Kimmich DiplBetriebswirt Christoph Mller DiplIng Ralf Sammeck DiplIng Michael Ulverich Sitz der GesellschaftRegistered Office Wrzburg Germany AmtsgerichtLocal Court Wrzburg HandelsregisterTrade Register B Der Inhalt dieser Email und etwaiger Anhnge ist vertraulich und ausschlielich fr den bezeichneten Adressaten bestimmt Jede unbefugte Kenntnisnahme Verffentlichung Vervielfltigung oder Weitergabe ist unzulssig Sollten Sie nicht der vorgesehene Empfnger sein bitten wir Sie sich mit uns in Verbindung zu setzen und die Email zu lschen sowie alle Kopien zu vernichten This email message including any attachments is for the sole use of the intended recipients and is privileged or confidential information Any unauthorized review use disclosure or distribution is prohibited If you are not the intended recipient please immediately contact us by reply email and delete the message and destroy all copies thereof</td>\n",
       "      <td>0</td>\n",
       "      <td>1</td>\n",
       "    </tr>\n",
       "    <tr>\n",
       "      <th>24</th>\n",
       "      <td>168</td>\n",
       "      <td>Mit freundlichen Gren Best regards i A Lisa ZundelVersand T M lisazundelkoenigbauercom Koenig Bauer Industrial AG Co KG FriedrichKoenigStr Wrzburg Deutschland koenigbauercom Koenig Bauer Industrial AG Co KG GeschftsfhrerCEO DiplIng FH Gnter Drossel Sitz der GesellschaftRegistered Office Wrzburg AmtsgerichtLocal Court Wrzburg HandelsregisterTrade Register A KomplementrinGeneral Partner Koenig Bauer AG AufsichtsratSupervisory Board Prof DrIng Raimund Klinkner VorsitzenderChairman VorstandExecutive Board Dr Andreas Pleke Sprecherspokesman Dr Stephen Kimmich DiplBetriebswirt Christoph Mller DiplIng Ralf Sammeck DiplIng Michael Ulverich Sitz der GesellschaftRegistered Office Wrzburg Germany AmtsgerichtLocal Court Wrzburg HandelsregisterTrade Register B Der Inhalt dieser Email und etwaiger Anhnge ist vertraulich und ausschlielich fr den bezeichneten Adressaten bestimmt Jede unbefugte Kenntnisnahme Verffentlichung Vervielfltigung oder Weitergabe ist unzulssig Sollten Sie nicht der vorgesehene Empfnger sein bitten wir Sie sich mit uns in Verbindung zu setzen und die Email zu lschen sowie alle Kopien zu vernichten This email message including any attachments is for the sole use of the intended recipients and is privileged or confidential information Any unauthorized review use disclosure or distribution is prohibited If you are not the intended recipient please immediately contact us by reply email and delete the message and destroy all copies thereof</td>\n",
       "      <td>0</td>\n",
       "      <td>1</td>\n",
       "    </tr>\n",
       "    <tr>\n",
       "      <th>25</th>\n",
       "      <td>173</td>\n",
       "      <td>Forwarded message From Kristof Laureys Date Fri Jul at Subject Fwd Scan verzonden via een Persgroepprinter To Forwarded message From Valerie Van Dyck Date Thu Jul at Subject Fwd Scan verzonden via een Persgroepprinter To Kristof Laureys Cc Hilde Sijbers In bijlage de ruilovereenkomst van Selected by Line Groet Valrie Van Dyck Producer image VTMNIEUWS Mediaplein Antwerpen T M valerievandyckvtmnieuwsbe dpgmediabe image DPG Media Forwarded message Van infoselectedbylinebe Date di jun om Subject RE Scan verzonden via een Persgroepprinter To Valerie Van Dyck Dag Valerie In bijlage kan je zowel het getekende contract vinden als de factuur aan jullie Kan je even meekijken of ik alles goed gedaan heb Bedankt alvast Line Van Hilde Sijbers Verzonden dinsdag juni Aan infoselectedbylinebe CC Valerie Van Dyck Onderwerp Fwd Scan verzonden via een Persgroepprinter Dag Line In bijlage het ondertekend contract Willen jullie het contract ondertekenen en samen met de factuur aan Valerie cc bezorgen aub Valerie neemt vanaf nu de opvolging van de ruilcontracten van mij over U kan dus voor de praktische opvolging bij haar terecht Met vriendelijke groeten Hilde Sijbers planner image DPG Media Medialaan Vilvoorde T M Hildesijbersdpgmediabe dpgmediabe Forwarded message Van Date di jun om Subject Scan verzonden via een Persgroepprinter To Dit document werd ingescand en verzonden via een Lexmark</td>\n",
       "      <td>0</td>\n",
       "      <td>1</td>\n",
       "    </tr>\n",
       "  </tbody>\n",
       "</table>\n",
       "</div>"
      ],
      "text/plain": [
       "    testSet_id  \\\n",
       "0            1   \n",
       "1           17   \n",
       "2           25   \n",
       "3           32   \n",
       "4           33   \n",
       "5           45   \n",
       "6           68   \n",
       "7           69   \n",
       "8           81   \n",
       "9           87   \n",
       "10          88   \n",
       "11         106   \n",
       "12         112   \n",
       "13         117   \n",
       "14         119   \n",
       "15         120   \n",
       "16         122   \n",
       "17         124   \n",
       "18         132   \n",
       "19         141   \n",
       "20         147   \n",
       "21         150   \n",
       "22         151   \n",
       "23         152   \n",
       "24         168   \n",
       "25         173   \n",
       "\n",
       "                                                                                                                                                                                                                                                                                                                                                                                                                                                                                                                                                                                                                                                                                                                                                                                                                                                                                                                                                                                                                                                                                                                                                                                                                                                                                                                                                                                                                                                                                                                                                                                                                                                                                                                                                                                                                                                                                                                                                                                                                                                                                                                                                                                                                                                                                                                                                                                                                                                                                                                                                                                                                                                                                                                                                                                                                                                                                                                                                                                                                                                                                                                                                                                                                                                                                                                                                                                                                                                                                                                                                                                                                                                                                                                                                                                                                                                                                                                                                                                                                                                                                                                                                                                                                                                                                                                                                                                                                                                                                                                                                                                                                                                                                                                                                                                                                                                                                                                                                                                                                                                                                                                                                                                                                                                                                                                                                                                                                                                                                                                                                                                                                                                                                                                                                                                                                                                                                                                                                                                                                                                                                                                                                                                                                                                                                                                                                                                                                                                                                                                                                                                                                                                                                                                                                                                                                                                                                                                                                                                                                                                                                                                                                                                                                                                                                                                                                                                                                                                                                                                                                                                                                                                                                                                                                                                                                                                 text  \\\n",
       "0                                                                                                                                                                                                                                                                                                                                                                                                                                                                                                                                                                                                                                                                                                                                                                                                                                                                                                                                                                                                                                                                                                                                                                                                                                                                                                                                                                                                                                                                                                                                                                                                                                                                                                                                                                                                                                                                                                                                                                                                                                                                                                                                                                                                                                                                                                                                                                                                                                                                                                                                                                                                                                                                                                                                                                                                                                                                                                                                                                                                                                                                                                                                                                                                                                                                                                                                                                                                                                                                                                                                                                                                                                                                                                                                                                                                                                                                                                                                                                                                                                                                                                                                                                                                                                                                                                                                                                                                                                                                                                                                                                                                                                                                                                                                                                                                                                                                                                                                                                                                                                                                                                                                                                                                                                                                                                                                                                                                                                                                                                                                                                                                                                                                                                                                                                                                                                                                                                                                                                                                                                                                                                                                                                                                                                                                                                                                                                                                                                                                                                                                                                                                                                                                                                                                                                                                                                                                                                                                                                             Geachte Heer Mevrouw In de bijlage vindt u een rekeningoverzicht vanaf Mocht u vragen hebben of heeft u kopien nodig van uw facturen u kunt ons altijd contacteren op het volgende adres cashbeneluxsappicom Wij willen u vriendelijk verzoeken alle reeds vervallen facturen zo spoedig mogelijk te betalen Met vriendelijke groeten Afdeling Credit Control Johan ZwaanSenior Accounts Receivable SpecialistSappi Europe Sappi Europe Polska Sp z oo Shared Service Center CracowOrange Office Park ul Klimeckiego Cracow PolandTel wpisana do Krajowego Rejestru Sdowego prowadzonego przez Sd Rejonowy dla M St Warszawy w Warszawie XII Wydzia Gospodarczy KRS pod numerem KRS Kapita zakadowy PLN siedziba ul Bonifraterska Warszawa NIP Please recycle all printed documents sappicomThis email is subject to the Sappi email legal notice available at sappicom   \n",
       "1                                                                                                                                                                                                                                                                                                                                                                                                                                                                                                                                                                                                                                                                                                                                                                                                                                                                                                                                                                                                                                                                                                                                                                                                                                                                                                                                                                                                                                                                                                                                                                                                                                                                                                                                                                                                                                                                                                                                                                                                                                                                                                                                                                                                                                                                                                                                                                                                                                                                                                                                                                                                                                                                                                                                                                                                                                                                                                                                                                                                                                                                                                                                                                                                                                                                                                                                                                                                                                                                                                                                                                                                                                                                                                                                                                                                                                                                                                                                                                                                                                                                                                                                                                                                                                                                                                                                                                                                                                                                                                                                                                                                                                                                                                                                                                                                                                                                                                                                                                                                                                                                                                                                                                                                                                                                                                                                                                                                                                                                                                                                                                                                                                                                                                                                                                                                                                                                                                                                                                                                                                                                                                                                                                                                                                                                                                                                                                                                                                                                                                                                                                                                                                                                                                                                                                                                                                                                                                                                                                                                                                                                                                                                                                                                                                                                                                                                                                                                                                                                                                                                                                                            Beste Blijkbaar hebben wij een factuur betaald Graag terugstorten aub Met vriendelijke groeten Bart De Witte De Witte Communicatie De Witte Communicatie Wijerstraat Zonhoven T wwwdewittebe Facebook LinkedIn YouTube Pinterest Officile Google Partner   \n",
       "2                                                                                                                                                                                                                                                                                                                                                                                                                                                                                                                                                                                                                                                                                                                                                                                                                                                                                                                                                                                                                                                                                                                                                                                                                                                                                                                                                                                                                                                                                                                                                                                                                                                                                                                                                                                                                                                                                                                                                                                                                                                                                                                                                                                                                                                                                                                                                                                                                                                                                                                                                                                                                                                                                                                                                                                                                                                                                                                                                                                                                                                                                                                                                                                                                                                                                                                                                                                                                                                                                                                                                                                                                                                                                                                                                                                                                                                                                                                                                                                                                                                                                                                                                                                                                                                                                                                                                                                                                                                                                                                                                                                                                                                                                                                                                                                                                                                                                                                                                                                                                                                                                                                                                                                                                                                                                                                                                                                                                                                                                                                                                                                                                                                                                                                                                                                                                                                                                                                                                                                                                                                                                                                                                                                                                                                                                                                                                                                                                                                                                                                                                                                                                                                                                                                                                                                                                                                                                                                                                                                                                                                                                                                                                                                                                                                                                                                                                                                                                                                                                                                                                                                                                                                                                                            Your document OFFERTE has been accepted To change your email preferences when comments are added to this discussion click here Sent from   \n",
       "3   Hi Filip It is likely that the same invoice has been processed internally by yourselves twice by mistake We cannot provide you with a credit note for it as there is nothing for us to credit against on our end Instead we have allocated the duplicate payment to the invoice that followed and as such all subsequent payments were allocated to invoices that followed Your most recent payment on September which had the reference was allocated to Please see the attached statement accounts for your reference Also attached are the invoices which are currently outstanding although not due has been prorated and is the final invoice on the old contract is the first invoice on the new contract I hope this makes sense but if you have any further questions please let me know Best Adam Adam Patel Finance Assistant Snowplow Analytics Snowplowanalyticscom Floor Bevis Marks London Hello We work flexibly at Snowplow I am sending this message now but I dont expect you to read respond or action outside of your regular working hours image twitter image linkedin On Tue Sept at Lalsa Budhwar wrote Hi Filip Thanks for this I have added Adam CC from our accounts team to clarify this with you and your team All the best Lalsa On Mon Sept at Filip Beslic wrote Hi Lalsa Ive put Tamara Roos in cc from our financial department according to what I see there are two invoices with both the amount of for March paid in April with the following name MRT Snowplow Insight Growth MRT Snowplow insight growth Notice the subtle difference invoicedate for both Is this correct that we have two invoices How come we have this mismatch Regards Filip Beslic acting Area manager data image DPG Media Mediaplein Antwerpen T M filipbeslicdpgmediabe dpgmediabe On Tue Aug at Lalsa Budhwar wrote Hi Isabelle Filip I have spoken to the accounts team about this and the have informed me that they cant issue a credit note as there isnt an incorrect invoice to issue against I believe DPG have just paid the same invoice twice It is my understanding that you should be able to reconcile this in your accounting system To help you with this I have attached a statement of accounts from April to date I hope this makes sense please let me know if you would like to talk to our accounts team further about this All the best Lalsa On Thu Aug at Lalsa Budhwar wrote Hi Isabelle Thanks for providing this I have now passed it onto our accounts team who will be able to action this I will keep you updated with the progress Thanks Lalsa On Thu Aug at Isabelle De Lentdecker isabelledelentdeckerdpgmediabe wrote Hi Lalsa Please find information beneath for the transfer Beneficiary name DPG Media Services NV Beneficiary address Medialaan Antwerpen Bank name KBC Bank Account number SWIFT code KREDBEBB Reference CN invoice number Many thanks and kind regards Met vriendelijk groeten Isabelle De Lentdecker Management assistant ICT image DPG Media Mediaplein Antwerpen T isabelledelentdeckerdpgmediabe dpgmediabe image DPG Media dots Op wo aug om schreef Lalsa Budhwar lalsasnowplowanalyticscom Hi Filip Thanks for flagging this I am following this up with the accounts team to ensure that a credit note is issued as soon as possible I believe that we need your bank details in order to issue this so if you could send those over that would be appreciated All the best Lalsa On Wed Aug at Filip Beslic wrote Hi Lalsa Rebecca Previously youve spoken with Wannes about an invoice which charged an excessive amount see below Weve paid instead of the agreed amount of for April It seems we still have not received a creditnote for this yet can you please quickly take care of this and send it to suppliersdpgmediabe Kind regards Filip Filip Beslic acting Area manager data image DPG Media Mediaplein Antwerpen T M filipbeslicdpgmediabe dpgmediabe Forwarded message From Wannes Rosiers Date Wed Aug at Subject Fwd Snowplow facturen voor maart To Filip Beslic FYI Begin doorgestuurd bericht Van Lalsa Budhwar Onderwerp Antw Snowplow facturen voor maart Datum mei om CEST Aan Wannes Rosiers Kopie Rebecca Lane Hi Wannes Ok great I have passed this onto the accounts team so they will take the relevant actions on their end All the best Lalsa On Mon May at Wannes Rosiers wannesrosierspersgroepnet wrote Laisa Change of plan could you offset the amount on our next invoice Probably way easier Thanks in advance Wannes Op mei om heeft Lalsa Budhwar lalsasnowplowanalyticscom het volgende geschreven Hi Wannes Yes of course would you be able to provide bank details so we can send this to you Thanks Lalsa On Fri May at Wannes Rosiers wannesrosierspersgroepnet wrote Laisa I would prefer a creditnote Thanks in advance Wannes Op vr mei schreef Lalsa Budhwar lalsasnowplowanalyticscom Hi Wannes I have spoken to the account team about this and it seems that the invoice was just paid twice We will be able to either Offset this amount on your next invoice Provide a credit note for the amount Please do let me know what you would prefer and I will get this actioned All the best Lalsa On Wed May at Rebecca Lane rebeccasnowplowanalyticscom wrote Hi Wannes Im looking into it with the finance team on our end and will loop back with you ASAP Kind regards Rebecca Lane Head of Customer Success Snowplow Analytics snowplowanalyticscom Floor Bevis Marks London image twitter image linkedin On Wed May at Wannes Rosiers wannesrosierspersgroepnet wrote Rebecca For March we have received the invoice up to the invoice number Both even have the same invoice number but both are as well processed and paid Is it possible to receive a credit note Thanks Wannes RosiersArea manager data Mediaplein Antwerpen M wannesrosiersdpgmediabe dpgmediabe Lalsa Budhwar Customer Success Specialist Customer Success Snowplow Analytics lalsasnowplowanalyticscom wwwsnowplowanalyticscom Floor Bevis Marks London Book a slot in my calendar Join the data discussion at our online event series image twitter image linkedin Lalsa Budhwar Customer Success Specialist Customer Success Snowplow Analytics lalsasnowplowanalyticscom wwwsnowplowanalyticscom Floor Bevis Marks London Book a slot in my calendar Join the data discussion at our online event series image twitter image linkedin Lalsa Budhwar Customer Success Specialist Customer Success Snowplow Analytics lalsasnowplowanalyticscom wwwsnowplowanalyticscom Floor Bevis Marks London Book a slot in my calendar Join the data discussion at our online event series image twitter image linkedin Lalsa Budhwar SheHer Customer Success Specialist Customer Success Snowplow Analytics lalsasnowplowanalyticscom wwwsnowplowanalyticscom Floor Bevis Marks London Book a slot in my calendar Join the data discussion at our online event series image twitter image linkedin Lalsa Budhwar SheHer Customer Success Specialist Customer Success Snowplow Analytics lalsasnowplowanalyticscom wwwsnowplowanalyticscom Floor Bevis Marks London Book a slot in my calendar Join the data discussion at our online event series image twitter image linkedin Lalsa Budhwar SheHer Customer Success Specialist Customer Success Snowplow Analytics lalsasnowplowanalyticscom wwwsnowplowanalyticscom Floor Bevis Marks London Book a slot in my calendar Join the data discussion at our online event series image twitter image linkedin Lalsa Budhwar SheHer Customer Success Specialist Customer Success Snowplow Analytics lalsasnowplowanalyticscom wwwsnowplowanalyticscom Floor Bevis Marks London Book a slot in my calendar Join the data discussion at our online event series image twitter image linkedin   \n",
       "4                                                                                                                                                                                                                                                                                                                                                                                                                                                                                                                                                                                                                                                                                                                                                                                                                                                                                                                                                                                                                                                                                                                                                                                                                                                                                                                                                                                                                                                                                                                                                                                                                                                                                                                                                                                                                                                                                                                                                                                                                                                                                                                                                                                                                                                                                                                                                                                                                                                                                                                                                                                                                                                                                                                                                                                                                                                                                                                                                                                                                                                                                                                                                                                                                                                                                                                                                                                                                                                                                                                                                                                                                                                                                                                                                                                                                                                                                                                                                                                                                                                                                                                                                                                                                                                                                                                                                                                                                                                                                                                                                                                                                                                                                                                                                                                                                                                                                                                                                                                                                                                                                                                                                                                                                                                                                                                                                                                                                                                                                                                                                                                                                                                                                                                                                                                                                                                                                                                                                                                                                                                                                                                                                                                                                                                                                                                                                                                                                                                                                                                                                                                                                                                                                                                                                                                                                                                                                                                                                                                                                                                                                                                                                                                                                                                                                                                               Beste In bijlage vindt u onze betalingsherinnering Gelieve dit per kerende te vereffenen of ons duiding te geven Indien deze mail uw bestaling kruiste gelieve deze dan te negeren Met vriendelijk groeten Marijke Vercammen T M E marijkeicometbe Heeft u al kennis gemaakt met de afdelingen van de ICOMETgroep Bezoek onze website wwwicometbe Marijke Vercammen Financial Assistant marijkevcicometgroupcom icometgroupcom Deinze Pruwelz Paris Doors gates windows Security Metalworks Projects Products Service   \n",
       "5                                                                                                                                                                                                                                                                                                                                                                                                                                                                                                                                                                                                                                                                                                                                                                                                                                                                                                                                                                                                                                                                                                                                                                                                                                                                                                                                                                                                                                                                                                                                                                                                                                                                                                                                                                                                                                                                                                                                                                                                                                                                                                                                                                                                                                                                                                                                                                                                                                                                                                                                                                                                                                                                                                                                                                                                                                                                                                                                                                                                                                                                                                                                                                                                                                                                                                                                                                                                                                                                                                                                                                                                                                                                                                                                                                                                                                                                                                                                                                                                                                                                                                                                                                                                                                                                                                                                                                                                                                                                                                                                                                                                                                                                                                                                                                                                                                                                                                                                                                                                                                                                                                                                                                                                                                                                                                                                                                                                                                                                                                                                                                                                                                                                                                                                                                                                                                                                                                                                                                                                                                                                                                                                                                                                                                                                                                                                                                                                                                                                                                                                                                                                                                                                                                                                                                                                                                                                                                                                                                                                                                                                                                                                                                                                                                                                                                                                                                                                         Beste Zie bijlage Met vriendelijke groeten Hoe gaat KBC om met uw persoonsgegevens Klik hier voor meer informatie Mark De Temmerman Financieel medewerker vastgoed Inspiring tailormade real estate solutions Tel fax intern KBC Real Estate Havenlaan Brussels wwwkbcrealestatecom F IN T YT KBC Bank NV Havenlaan Brussels Belgium VAT BE RLP Brussels Be green keep it on the screen Please think before you print this email Disclaimer   \n",
       "6                                                                                                                                                                                                                                                                                                                                                                                                                                                                                                                                                                                                                                                                                                                                                                                                                                                                                                                                                                                                                                                                                                                                                                                                                                                                                                                                                                                                                                                                                                                                                                                                                                                                                                                                                                                                                                                                                                                                                                                                                                                                                                                                                                                                                                                                                                                                                                                                                                                                                                                                                                                                                                                                                                                                                                                                                                                                                                                                                                                                                                                                                                                                                                                                                                                                                                                                                                                                                                                                                                                                                                                                                                                                                                                                                                                                                                                                                                                                                                                                                                                                                                                                                                                                                                                                                                                                                                                                                                                                                                                                                                                                                                                                                                                                                                                                                                                                                                                                                                                                                                                                                                                                                                                                                                                                Good Afternoon Please can I have a response to my email below also now confirming payment date Thank you Kind Regards Ruzma Butt Group Credit Control Executive Phone Direct Number Email RuzmaButtarrowsgroupcom The technology talent experts for the hypergrowth era Arrows Group Wootton St London wwwarrowsgroupcom Follow us Arrows Group is proud to be GDPR ready and compliant We acknowledge our responsibilities when handling your data and ensure it is respected valued and protected For further information on your rights please review our privacy policy The information in this email and any attachment is confidential and is intended for the named recipients The email may not be disclosed or used by any person other than the addressee nor may it be copied in any way If you are not a named recipient please notify the sender immediately and delete copies from this message Any unauthorised copying disclosure or distribution of the material in this email is strictly forbidden Any view or opinions presented are solely those of the author and do not necessarily represent those of Arrows Group Please consider the environment before printing this email From Ruzma Butt Sent August To suppliersdpgmediabe Subject DPG MEDIA SERVICES NV Balance on Account Good Afternoon Team I hope you are well Please can you con receipt of the invoice listed below that has a due date of Please do let me know if you have any queries Thank you Kind Regards Ruzma Butt Group Credit Control Executive Phone Direct Number Email RuzmaButtarrowsgroupcom The technology talent experts for the hypergrowth era Arrows Group Wootton St London wwwarrowsgroupcom Follow us Arrows Group is proud to be GDPR ready and compliant We acknowledge our responsibilities when handling your data and ensure it is respected valued and protected For further information on your rights please review our privacy policy The information in this email and any attachment is confidential and is intended for the named recipients The email may not be disclosed or used by any person other than the addressee nor may it be copied in any way If you are not a named recipient please notify the sender immediately and delete copies from this message Any unauthorised copying disclosure or distribution of the material in this email is strictly forbidden Any view or opinions presented are solely those of the author and do not necessarily represent those of Arrows Group Please consider the environment before printing this email   \n",
       "7                                                                                                                                                                                                                                                                                                                                                                                                                                                                                                                                                                                                                                                                                                                                                                                                                                                                                                                                                                                                                                                                                                                                                                                                                                                                                                                                                                                                                                                                                                                                                                                                                                                                                                                                                                                                                                                                                                                                                                                                                                                                                                                                                                                                                                                                                                                                                                                                                                                                                                                                                                                                                                                                                                                                                                                                                                                                                                                                                                                                                                                                                                                                                                                                                                                                                                                                                                                                                                                                                                                                                                                                                                                                                                                  NEWSLETTER Did you know ControlUp is now generally available GA Thats right the latest and greatest ControlUp ever is now available to help you deliver the Contact our sales team ULTIMATE digital employee experience so your endusers can stay productive and frustrationfree and keep your stress level in check too Ready to upgrade to ControlUp Ultimate Increase your ControlUp IQ Once youve upgraded to ControlUp Ultimate raise your game with Introduction to ControlUp Ultimate at ControlUp Academy Available at no extra cost its the ultimate educational tool for unleashing the power of ControlUp Get started today ControlUp named by Gartner in its latest Hype Cycles We are EXCITED Why might you ask Because Gartner has recognized ControlUp as a Digital Employee Experience vendor in four of their latest Hype Cycles Hype Cycle for the Digital Workplace Hype Cycle for Digital Workplace Infrastructure and Operations Hype Cycle for ITSM Hype Cycle for Monitoring Observability and Cloud Operations What can we say When you know you know Solve Custom Dashboards are here You asked for them now weve got them The custom dashboards widgets provide ample opportunity to create visualizations that contain multiple metrics in a single chart for quick data correlation Yeah we think theyre pretty cool tooWed love to have you participate in the beta Interested Contact our sales team Get to know ControlUp Scoutbees With Scoutbees you can test and report the availability of your EUC virtual apps VDI desktops your web and networkbased resources all from a single place so your endusers can stay productive and never miss a beat Weve got brandnew integrations with ServiceNow and Microsoft Teams And now you can have access to Honeycombthe Scoutbees API so you can deliver a richer digital experience Stay tuned for lots more exciting updates from the Scoutbees team Check out The Upload with ControlUp Take control of your digital workspace environment endtoend AND make your endusers happy with their digital experience In our latest episode Pete Jeff and Eugenia catch up on all things ControlUp EUC have a great interview with Tom Fenton about ControlUp VMware and his journey we discuss DEX what it is is it subjective or objective and how ControlUp can help plus a whole lot more Listen to it wherever you get your podcasts No one tells our story better than our customers Check out our latest case study get to know our friends at Florida Cancer Specialists and hear their ControlUp story Team ControlUp is Vaccinated Ready for Summer As Pete Townshend once said Rock n roll might not solve your problems but it does let you dance all over them With that in mind after a longwho are we kidding seemingly our vaccinated Israeli team got to blow off some muchneeded steam at our Summer Fling which included a ripper of a performance by the ControlUp Band featuring Lior Shub RD Yosi Hasid RD Tal Green Automation Engineer Dudi Grinstin CSE and Michael Nahmias ControlUp Academy Manager At ControlUp we work hard and play hard too Learn what ControlUp life is all about Check out all thats new on the ControlUp Blog What is Digital Employee Experience Management DEX by Joel Stocker Deliver a great digital employee experience with ControlUp Remote DX by Trentent Tye From the Field Episode II The PoC Awakens by Chris Rogers Join ControlUp for HIMMS either in person or virtually Were thrilled to be joining our friends at IGEL for taking place in Las Vegas August Stop by our booth in the IGEL Ready Pavilion to see how ControlUp and its integration with Epic can deliver a bestinclass digital employee experience for healthcare And if youre there dont miss our HIMMS kickoff happy hour at Rockhouse at the Venetian Well be going digital too taking part in the Citrix HIMMS Virtual Citrix Ready Partner Pavilion August Read all about it on the Citrix blog This email was sent to suppliersdpgmediabe If you no longer wish to receive these emails you may unsubscribe here   \n",
       "8                                                                                                                                                                                                                                                                                                                                                                                                                                                                                                                                                                                                                                                                                                                                                                                                                                                                                                                                                                                                                                                                                                                                                                                                                                                                                                                                                                                                                                                                                                                                                                                                                                                                                                                                                                                                                                                                                                                                                                                                                                                                                                                                                                                                                                                                                                                                                                                                                                                                                                                                                                                                                                                                                                                                                                                                                                                                                                                                                                                                                                                                                                                                                                                                                                                                                                                                                                                                                                                                                                                                                                                                                                                                                                                                                                                                                                                                                                                                                                                                                                                                                                   Hi Filip Thanks for flagging this I am following this up with the accounts team to ensure that a credit note is issued as soon as possible I believe that we need your bank details in order to issue this so if you could send those over that would be appreciated All the best Lalsa On Wed Aug at Filip Beslic wrote Hi Lalsa Rebecca Previously youve spoken with Wannes about an invoice which charged an excessive amount see below Weve paid instead of the agreed amount of for April It seems we still have not received a creditnote for this yet can you please quickly take care of this and send it to suppliersdpgmediabe Kind regards Filip Filip Beslic acting Area manager data image DPG Media Mediaplein Antwerpen T M filipbeslicdpgmediabe dpgmediabe Forwarded message From Wannes Rosiers Date Wed Aug at Subject Fwd Snowplow facturen voor maart To Filip Beslic FYI Begin doorgestuurd bericht Van Lalsa Budhwar Onderwerp Antw Snowplow facturen voor maart Datum mei om CEST Aan Wannes Rosiers Kopie Rebecca Lane Hi Wannes Ok great I have passed this onto the accounts team so they will take the relevant actions on their end All the best Lalsa On Mon May at Wannes Rosiers wrote Laisa Change of plan could you offset the amount on our next invoice Probably way easier Thanks in advance Wannes Op mei om heeft Lalsa Budhwar het volgende geschreven Hi Wannes Yes of course would you be able to provide bank details so we can send this to you Thanks Lalsa On Fri May at Wannes Rosiers wrote Laisa I would prefer a creditnote Thanks in advance Wannes Op vr mei schreef Lalsa Budhwar lalsasnowplowanalyticscom Hi Wannes I have spoken to the account team about this and it seems that the invoice was just paid twice We will be able to either Offset this amount on your next invoice Provide a credit note for the amount Please do let me know what you would prefer and I will get this actioned All the best Lalsa On Wed May at Rebecca Lane rebeccasnowplowanalyticscom wrote Hi Wannes Im looking into it with the finance team on our end and will loop back with you ASAP Kind regards Rebecca Lane Head of Customer Success Snowplow Analytics snowplowanalyticscom Floor Bevis Marks London image twitter image linkedin On Wed May at Wannes Rosiers wannesrosierspersgroepnet wrote Rebecca For March we have received the invoice up to the invoice number Both even have the same invoice number but both are as well processed and paid Is it possible to receive a credit note Thanks Wannes RosiersArea manager data Mediaplein Antwerpen M wannesrosiersdpgmediabe dpgmediabe Lalsa Budhwar Customer Success Specialist Customer Success Snowplow Analytics lalsasnowplowanalyticscom wwwsnowplowanalyticscom Floor Bevis Marks London Book a slot in my calendar Join the data discussion at our online event series image twitter image linkedin Lalsa Budhwar Customer Success Specialist Customer Success Snowplow Analytics lalsasnowplowanalyticscom wwwsnowplowanalyticscom Floor Bevis Marks London Book a slot in my calendar Join the data discussion at our online event series image twitter image linkedin Lalsa Budhwar Customer Success Specialist Customer Success Snowplow Analytics lalsasnowplowanalyticscom wwwsnowplowanalyticscom Floor Bevis Marks London Book a slot in my calendar Join the data discussion at our online event series image twitter image linkedin Lalsa Budhwar SheHer Customer Success Specialist Customer Success Snowplow Analytics lalsasnowplowanalyticscom wwwsnowplowanalyticscom Floor Bevis Marks London Book a slot in my calendar Join the data discussion at our online event series image twitter image linkedin   \n",
       "9                                                                                                                                                                                                                                                                                                                                                                                                                                                                                                                                                                                                                                                                                                                                                                                                                                                                                                                                                                                                                                                                                                                                                                                                                                                                                                                                                                                                                                                                                                                                                                                                                                                                                                                                                                                                                                                                                                                                                                                                                                                                                                                                                                                                                                                                                                                                                                                                                                                                                                                                                                                                                                                                                                                                                                                                                                                                                                                                                                                                                                                                                                                                                                                                                                                                                                                                                                                                                                                                                                                                                                                                                                                                                                                                                                                                                                                                                                                                                                                                                                                                                                                                                                                                                                                                                                                                                                                                                                                                                                                                                                                                                                                                                                                                                                                                                                                                                                                                                                                                                                                                                                                                                                                                                                                                                                                                                                                                                                                                                                                                                                                                                                                                                                                                                                                                                                                                                                                                                                                                                                                                                                                                                                                                                                                                                                                                                                                                                                                                                                                                                                                                                                                                                                                        Beste Gelieve in bijlage fiches te willen vinden op naam van Delphine Lecompte Mogen wij vragen om ons een detail te willen mailen van deze fiches Alvast bedankt Marnix MMC Co Accountancy Tax Marnix Voet Bestuurder Fiscaal accountant Sassevaartstraat Gent dido Stadionlaan Deinze mawovr T GSM Dit bericht werd gescand op virussen en werd verzonden door MMC Co De verzonden informatie is enkel bestemd voor de persoon of entiteit aan wie het geadresseerd is en anderen die toestemming hebben deze te mogen ontvangen Dit bericht kan vertrouwelijke of geprivilegieerde informatie bevatten Als u niet de beoogde ontvanger bent wordt u hierbij op de hoogte gesteld dat elke openbaarmaking herverzending verspreiding of gebruik of elke actie in verband met deze informatie verboden is Als u dit bericht per vergissing ontvangen heeft brengt u ons onmiddellijk op de hoogte door op dit bericht te reageren en verwijder het uit uw systeem MMC Co is niet verantwoordelijk voor het correct of volledig versturen van de informatie in dit bericht noch voor enige vertraging bij de ontvangst ervan   \n",
       "10                                                                                                                                                                                                                                                                                                                                                                                                                                                                                                                                                                                                                                                                                                                                                                                                                                                                                                                                                                                                                                                                                                                                                                                                                                                                                                                                                                                                                                                                                                                                                                                                                                                                                                                                                                                                                                                                                                                                                                                                                                                                                                                                                                                                                                                                                                                                                                                                                                                                                                                                                                                                                                                                                                                                                                                                                                                                                                                                                                                                                                                                                                                                                                                                                                                                                                                                                                                                                                                                                                                                                                                                                                                                                                                                                                                                                                                                                                                                                                                                                                                                                                                                                                                                                                                                                                                                                                                                                                                                                                                                                                                                                                                                                                                                                                                                                                                                                                                                                                                                                                                                                                                                                                                                                                                                                                                                                                                                                                                                                                                                                                                                                                                                                                                                                                                                                                                                                                                                                                                                                                                                                                                                                                                                                                                                                                                                                                                                                                                                                                                                                                                                                                                                                                                                                                                                                                                                                                                                                              Collegas Pascale is met verlof tot Kunnen jullie aub zorgen voor onderstaande uitbetalingen van het prijzengeld Gouden Vuelta Van der Aerschot Junior Project Manager Commerce Mediaplein Antwerpen M benvanderaerschotdpgmediabe dpgmediabe Van Ben Van der AerschotVerzonden donderdag september pascalesegersdpgmediabeCC Damien DuboisOnderwerp Uitbetalingsfile Gouden Vuelta Pascale In bijlage kan je uitbetalingsfile Gouden Vuelta vinden Enkel van de eindwinnaar peloton ontbreek ik nog de nodige gegevens Deze bezorg ik van zodra de winnaar ze mij bezorgd Ook nog de adresgegevens van de grote euro Janneau GordeijnsAdres Liesbosdreef JL Prinsenbeek euro Mireille de royAdresExterkenstraat MoorselBevestig je even de uitbetaling aub GroetjesBen Van der Aerschot Junior Project Manager Commerce Mediaplein Antwerpen M benvanderaerschotdpgmediabe dpgmediabe   \n",
       "11                                                                                                                                                                                                                                                                                                                                                                                                                                                                                                                                                                                                                                                                                                                                                                                                                                                                                                                                                                                                                                                                                                                                                                                                                                                                                                                                                                                                                                                                                                                                                                                                                                                                                                                                                                                                                                                                                                                                                                                                                                                                                                                                                                                                                                                                                                                                                                                                                                                                                                                                                                                                                                                                                                                                                                                                                                                                                                                                                                                                                                                                                                                                                                                                                                                                                                                                                                                                                                                                                                                                                                                                                                                                                                                                                                                                                                                                                                                                                                                                                                                                                                                                                                                                                                                                                                                                                                                                                                                                                                                                                                                                                                                                                                                                                                                                                                                                                                                                                                                                                                                                                                                                                                                                                                                                                                                                                                                                                                                                                                                                                                                                                                                                                                                                                                                                                                                                                                                                                                                                                                                                                                                                                                                                                                                                                                                                                                                                                                                                                                                                                                                                                                                                                                                                                                                                                                                                                                                                                                                                                                                                                                                                                                                                                                                                                                                                                                                                                                                                                                     Geachte Ik stuur deze mail om te informeren of mijn factuur van vorige maand goed toegekomen is Vriendelijke groet Hendrik vandeput Op ma jul schreef Hendrik Vandeput vandeputhendrikgmailcom Geachte In bijlage vindt u de factuur voor de muzikale opluistering van de opnames van Ze zeggen dat juli Vriendelijke groeten Hendrik Vandeput   \n",
       "12                                                                                                                                                                                                                                                                                                                                                                                                                                                                                                                                                                                                                                                                                                                                                                                                                                                                                                                                                                                                                                                                                                                                                                                                                                                                                                                                                                                                                                                                                                                                                                                                                                                                                                                                                                                                                                                                                                                                                                                                                                                                                                                                                                                                                                                                                                                                                                                                                                                                                                                                                                                                                                                                                                                                                                                                                                                                                                                                                                                                                                                                                                                                                                                                                                                                                                                                                                                                                                                                                                                                                                                                                                                                                                                                                                                                                                                                                                                                                                                                                                                                                                                                                                                                                                                                                                                                                                                                                                                                                                                                                                                                                                                                                                                                                                                                                                                                                                                                                                                                                                                                                                                                                                                                                                                                                                                                                                                                                                                                                                                                                                                                                                                                                                                                                                                                                                                                                                                                                                                                                                                                                                                                                                                                                                                                                                                                                                                                                                                                                                                                                                                                                                                                                                                                                                                                                                                                                                                                                                                                                                                                                                                                                                                                                                                                                                                                                                                                                          Forwarded message Van seppeseppenobelsbe Date vr sep om Subject Seppe Nobels Factuur To Wim Van de Voorde Beste Wim beste verantwoordelijke van afdeling suppliersdpg In bijlage vind je de creditnota CN en de aangepaste factuur F Laten jullie weten of die nu klaar is voor betaling fijn weekend Wim Van de Voorde Executive Producer TV image DPG Media Medialaan Vilvoorde T M wimvandevoordedpgmediabe dpgmediabe   \n",
       "13                                                                                                                                                                                                                                                                                                                                                                                                                                                                                                                                                                                                                                                                                                                                                                                                                                                                                                                                                                                                                                                                                                                                                                                                                                                                                                                                                                                                                                                                                                                                                                                                                                                                                                                                                                                                                                                                                                                                                                                                                                                                                                                                                                                                                                                                                                                                                                                                                                                                                                                                                                                                                                                                                                                                                                                                                                                                                                                                                                                                                                                                                                                                                                                                                                                                                                                                                                                                                                                                                                                  Ah its already provided thanks Isabelle De Lentdecker Regards Filip Filip Beslic acting Area manager data image DPG Media Mediaplein Antwerpen T M filipbeslicdpgmediabe dpgmediabe On Thu Aug at Filip Beslic wrote Hi Isabelle Can you please provide the necessary information for a Snowplow Analytics needs for a creditnote Regards Filip Filip Beslic acting Area manager data image DPG Media Mediaplein Antwerpen T M filipbeslicdpgmediabe dpgmediabe On Wed Aug at Lalsa Budhwar wrote Hi Filip Thanks for flagging this I am following this up with the accounts team to ensure that a credit note is issued as soon as possible I believe that we need your bank details in order to issue this so if you could send those over that would be appreciated All the best Lalsa On Wed Aug at Filip Beslic wrote Hi Lalsa Rebecca Previously youve spoken with Wannes about an invoice which charged an excessive amount see below Weve paid instead of the agreed amount of for April It seems we still have not received a creditnote for this yet can you please quickly take care of this and send it to suppliersdpgmediabe Kind regards Filip Filip Beslic acting Area manager data image DPG Media Mediaplein Antwerpen T M filipbeslicdpgmediabe dpgmediabe Forwarded message From Wannes Rosiers Date Wed Aug at Subject Fwd Snowplow facturen voor maart To Filip Beslic FYI Begin doorgestuurd bericht Van Lalsa Budhwar Onderwerp Antw Snowplow facturen voor maart Datum mei om CEST Aan Wannes Rosiers Kopie Rebecca Lane Hi Wannes Ok great I have passed this onto the accounts team so they will take the relevant actions on their end All the best Lalsa On Mon May at Wannes Rosiers wannesrosierspersgroepnet wrote Laisa Change of plan could you offset the amount on our next invoice Probably way easier Thanks in advance Wannes Op mei om heeft Lalsa Budhwar lalsasnowplowanalyticscom het volgende geschreven Hi Wannes Yes of course would you be able to provide bank details so we can send this to you Thanks Lalsa On Fri May at Wannes Rosiers wannesrosierspersgroepnet wrote Laisa I would prefer a creditnote Thanks in advance Wannes Op vr mei schreef Lalsa Budhwar lalsasnowplowanalyticscom Hi Wannes I have spoken to the account team about this and it seems that the invoice was just paid twice We will be able to either Offset this amount on your next invoice Provide a credit note for the amount Please do let me know what you would prefer and I will get this actioned All the best Lalsa On Wed May at Rebecca Lane rebeccasnowplowanalyticscom wrote Hi Wannes Im looking into it with the finance team on our end and will loop back with you ASAP Kind regards Rebecca Lane Head of Customer Success Snowplow Analytics snowplowanalyticscom Floor Bevis Marks London image twitter image linkedin On Wed May at Wannes Rosiers wannesrosierspersgroepnet wrote Rebecca For March we have received the invoice up to the invoice number Both even have the same invoice number but both are as well processed and paid Is it possible to receive a credit note Thanks Wannes RosiersArea manager data Mediaplein Antwerpen M wannesrosiersdpgmediabe dpgmediabe Lalsa Budhwar Customer Success Specialist Customer Success Snowplow Analytics lalsasnowplowanalyticscom wwwsnowplowanalyticscom Floor Bevis Marks London Book a slot in my calendar Join the data discussion at our online event series image twitter image linkedin Lalsa Budhwar Customer Success Specialist Customer Success Snowplow Analytics lalsasnowplowanalyticscom wwwsnowplowanalyticscom Floor Bevis Marks London Book a slot in my calendar Join the data discussion at our online event series image twitter image linkedin Lalsa Budhwar Customer Success Specialist Customer Success Snowplow Analytics lalsasnowplowanalyticscom wwwsnowplowanalyticscom Floor Bevis Marks London Book a slot in my calendar Join the data discussion at our online event series image twitter image linkedin Lalsa Budhwar SheHer Customer Success Specialist Customer Success Snowplow Analytics lalsasnowplowanalyticscom wwwsnowplowanalyticscom Floor Bevis Marks London Book a slot in my calendar Join the data discussion at our online event series image twitter image linkedin   \n",
       "14                                                                                                                                                                                                                                                                                                                                                                                                                                                                                                                                                                                                                                                                                                                                                                                                                                                                                                                                                                                                                                                                                                                                                                                                                                                                                                                                                                                                                                                                                                                                                                                                                                                                                                                                                                                                                                                                                                                                                                                                                                                                                                                                                                                                                                                                                                                                                                                                                                                                                                                                                                                                                                                                                                                                                                                                                                                                                                                                                                                                                                                                                                                                                                                                                                                                                                                                                                                                                                                                                                                                                                                                                                                                                                                                                                                                                                                                                                                                                                                                                                                                                                                                                                                                                                                                                                                                                                                                                                                                                                                                                                                                                                                                                                                                                                                                                                                                                                                                                                                                                                                                                                                                                                                                                                                                                                                                                                                                                                                                                                                                                                                                                                                                                                                                                                                                                                                                                                                                                                                                                                                                                                                                                                                                                                                                                                                                                                                                                                                                                                                                                                                                                                                                                                                                                                                                                                                                                                                                                                                                                                                                                                                                                                                                                                                                                                                                                                                                                                                                                                                                                                                                                                                                             Dag collegas kunnen jullie deze verwerken op Dank je Joris Joris Bensch Technical Event Manager image DPG Media Medialaan Vilvoorde M jorisbenschdpgmediabe dpgmediabe   \n",
       "15                                                                                                                                                                                                                                                                                                                                                                                                                                                                                                                                                                                                                                                                                                                                                                                                                                                                                                                                                                                                                                                                                                                                                                                                                                                                                                                                                                                                                                                                                                                                                                                                                                                                                                                                                                                                                                                                                                                                                                                                                                                                                                                                                                                                                                                                                                                                                                                                                                                                                                                                                                                                                                                                                                                                                                                                                                                                                                                                                                                                                                                                                                                                                                                                                                                                                                                                                                                                                                                                                                                                                                                                                                                                                                                                                                                                                                                                                                                                                                                                                                                                                                                                                                                                                                                                                                                                                                                                                                                                                                                                                                                                                                                                                                                                                                                                                                                                                                                                                                                                                                                                                                                                                                                                                                                                                                                                                                                                                                                                                                                                                                                                                                                                                                                                                                                                                                                                                                                                                                                                                                                                                                                                                                                                                                                                                                                                                                                                                                                                                                                                                                                                                                                                                                                                                                                                                                                                                                                                                                                                                                                                                                                                                                                                                                                                                                                                                                                                                                                                                              Dear DPG MEDIA SERVICES NV Please find attached the following documents from News UK ZSYFFD These documents are also available to view online by visiting Your username is You should already have your password but if you have forgotten it please click here If you have a question and would like to contact News UK please phone Regards News UK   \n",
       "16                                                                                                                                                                                                                                                                                                                                                                                                                                                                                                                                                                                                                                                                                                                                                                                                                                                                                                                                                                                                                                                                                                                                                                                                                                                                                                                                                                                                                                                                                                                                                                                                                                                                                                                                                                                                                                                                                                                                                                                                                                                                                                                                                                                                                                                                                                                                                                                                                                                                                                                                                                                                                                                                                                                                                                                                                                                                                                                                                                                                                                                                                                                                                                                                                                                                                                                                                                                                                                                                                                                                                                                                                                                                                                                                                                                                                                                                                                                                                                                                                                                                                                                                                                                                                                                                                                                                                                                                                                                                                                                                                                                                                                                                                                                                                                                                                                                                                                                                                                                                                                                                                                                                                                                                                                                                                                                                                                                                                                                                                                                                                                                                                                                                                                                                                                                                                                                                                                                                                                                                                                                                                                                                                                                                                                                                                                                                                                                                                                                                                                                                                                                                                                                                                                                                                                                                                                                                                                                                                                                                                         Hallo is het mogelijk onderstaande factuur in de flow te krijgen opdat ze dringend betaald kan worden Alvast bedankt Groeten Tijl Tijl Sacr Director Integreate image Integreate Creative HUB DPG Media Advertising Medialaan Vilvoorde M tijlsacredpgmediabe dpgmediabe image DPG Media Forwarded message Van Marika Miserez Date wo aug om Subject lefaccom Benelux Factuur tweede herinnering To Tijl Sacr Geachte We hopen dat alles goed gaat met u en uw team We komen bij u terug omdat we op u een herinnering stuurden ivm de onbetaalde factuur zie bijlage Voor onze verleende diensten vragen wij u zo snel mogelijk de volgende betaling te voldoen Met vriendelijke groeten Marika Miserez Administrative Assistant TBS group Belgium Avenue Louise Louizalaan Brussels Tel wwwtbsgroupeuropecom wwwlefaccom   \n",
       "17                                                                                                                                                                                                                                                                                                                                                                                                                                                                                                                                                                                                                                                                                                                                                                                                                                                                                                                                                                                                                                                                                                                                                                                                                                                                                                                                                                                                                                                                                                                                                                                                                                                                                                                                                                                                                                                                                                                                                                                                                                                                                                                                                                                                                                                                                                                                                                                                                                                                                                                                                                                                                                                                                                                                                                                                                                                                                                                                                                                                                                                                                                                                                                                                                                                                                                                                                                                                                                                                                                                                                                                                                                                                                                                                                                                                                                                                                                                                                                                                                                                                                                                                                                                                                                                                                                                                                                                                                                                                                                                                                                                                                                                                                                                                                                                                                                                                                                                                                                                                                                                                                                                                                                                                                                                                                                                                                                                                                                                                                                                                                                                                                                                                                                                                                                                                                                                                                                                                                                                                                                                                                                                                                                                                                                                                                                                                                                                                                                                                                                                                                                                                                                                                                                                                                                                                                                                                                                                                                                                                      Beste Op aanvraag van Fremantle zal de factuur voor de audities naar DPG gaan kunnen wij voor de goede orde Uw akkoord krijgen voor volgende factuur aub Aanrekening BGT Factureren VTM Main Job Extra Rook Extra Riggers Totaal exc btw Graag confirmatie van volgende specificaties op de factuur PRG Logo Yves Melis Account Manager Production Resource Group BV Phone Mobile Fax Email ymelisprgcom Web wwwprgcombe Industriezone Hambos Vaartdijk BE Tildonk This email may contain confidential andor privileged information If you are not the intended recipient or have received this email by error please notify the sender immediately and destroy this email Any unauthorised copying disclosure or distribution of the material in this email is strictly forbidden Please consider the environment before printing this email   \n",
       "18                                                                                                                                                                                                                                                                                                                                                                                                                                                                                                                                                                                                                                                                                                                                                                                                                                                                                                                                                                                                                                                                                                                                                                                                                                                                                                                                                                                                                                                                                                                                                                                                                                                                                                                                                                                                                                                                                                                                                                                                                                                                                                                                                                                                                                                                                                                                                                                                                                                                                                                                                                                                                                                                                                                                                                                                                                                                                                                                                                                                                                                                                                                                                                                                                                                                                                                                                                                                                                                                                                                                                                                                                                                                                                                                                                                                                                                                                                                                                                                                                                                                                                                                                                                                                                                                                                                                                                                                                                                                                                                                                                                                                                                                                                                                                                                                                                                                                                                                                                                                                                                                                                                                                                                                                                                                                                                                                                                                                                                                                                                                                                                                                                                                                                                                                                                                                                                                                                                                                                                                                                                                                                                                                                                                                                                                                                                                                                                                                                                                                                                                                                                                                                                                                                                                                                                                                                                                                                                                                                                                                                                                                                                                                                                                                                                                                                                                                                                                                                                       Deze factuur kan online bekeken en gedownload worden Bekijk de factuur Geachte heermevrouw We hebben zojuist uw betaling van EUR verwerkt Hiermee komt het openstaande bedrag van factuur op EUR Hartelijk dank voor uw betaling Voor vragen kanu contact opnemen met ons Met vriendelijke groeten Peter Jan Van Mieghem Capture CV Leningstraat BE Borgerhout financecapturebe wwwcapturebe   \n",
       "19                                                                                                                                                                                                                                                                                                                                                                                                                                                                                                                                                                                                                                                                                                                                                                                                                                                                                                                                                                                                                                                                                                                                                                                                                                                                                                                                                                                                                                                                                                                                                                                                                                                                                                                                                                                                                                                                                                                                                                                                                                                                                                                                                                                                                                                                                                                                                                                                                                                                                                                                                                                                                                                                                                                                                                                                                                                                                                                                                                                                                                                                                                                                                                                                                                                                                                                                                                                                                                                                                                                                                                                                                                                                                                                                                                                                                                                                                                                                                                                                                                                                                                                                                                                                                                                                                                                                                                                                                                                                                                                                                                                                                                                                                                                                                                                                                                                                                                                                                                                                                                                                                                                                                                                                                                                                                                                                                                                                                                                                                                                                                                                                                                                                                                                                                                                                                                                                                                                                                                                                                                                                                                                                                                                                                                                                                                                                                                                                                                                                                                                                                                                                                                                                                                                                                                                                                                                                                                                                                                                                                                                                                                                                                                                                                                                                                                                                                                                                                                                                                                                                                                                                                                                                                                       Your document ContractMET has been accepted To change your email preferences when comments are added to this discussion click here Sent from   \n",
       "20                                                                                                                                                                                                                                                                                                                                                                                                                                                                                                                                                                                                                                                                                                                                                                                                                                                                                                                                                                                                                                                                                                                                                                                                                                                                                                                                                                                                                                                                                                                                                                                                                                                                                                                                                                                                                                                                                                                                                                                                                                                                                                                                                                                                                                                                                                                                                                                                                                                                                                                                                                                                                                                                                                                                                                                                                                                                                                                                                                                                                                                                                                                                                                                                                                                                                                                                                                                                                                                                                                                                                                                                                                                                                                                                                                                                                                                                                                                                                                                                                                                                                                                                                                                                                                                                                                                                                                                                                                                                                                                                                                                                                                                                                                                                                                                                                                                                                                                                                                                                                                                                                                                                                                                                                                                                                                                                                                                                                                                                                                                                                                                                                                                                                                                                                                                                                                                                                                                                                                                                                                                                                                                                                                                                                                                                                                                                                                                                                                                                                                                                                                                                                                                                                                                                                                                                                                                                                                                                                                                                                                                                                                                                                                                                                                                                                                                                                                                                                                                                                                                                                                                                                                                                                                                                                                                                                                                nan   \n",
       "21                                                                                                                                                                                                                                                                                                                                                                                                                                                                                                                                                                                                                                                                                                                                                                                                                                                                                                                                                                                                                                                                                                                                                                                                                                                                                                                                                                                                                                                                                                                                                                                                                                                                                                                                                                                                                                                                                                                                                                                                                                                                                                                                                                                                                                                                                                                                                                                                                                                                                                                                                                                                                                                                                                                                                                                                                                                                                                                                                                                                                                                                                                                                                                                                                                                                                                                                                                                                                                                                                                                                                                                                                                                                                                                                                                                                                                                                                                                                                                                                                                                                                                                                                                                                                                                                                                                                                                                                                                                                                                                                                                                                                                                                                                                                                                                                                                                                                                                                                                                                                                                                                                                                                                                                                                                                                                                                                                                                                                                                                                                                                                                                                                                                                                                                                                                                                                                                                                                                                                                                                                                                                                                                                                                                                                                                                                                                                                                                                                                                                                                                                                                                                                                                                                                                                                                                                                                                                                                                                                                                                                                                                                                                                                                                                                                                                                                                                                                                                                                                                                                                          FYI Onkosten formulier voor TOTZ Groetjes Miek De Fruytier Producer image PIT Medialaan Vilvoorde M miekdefruytierdpgmediabe dpgmediabe image DPG Media Forwarded message Van Date vr sep om Subject Scan verzonden via een DPG Media printer To Dit document werd ingescand en verzonden via een Lexmark   \n",
       "22                                                                                                                                                                                                                                                                                                                                                                                                                                                                                                                                                                                                                                                                                                                                                                                                                                                                                                                                                                                                                                                                                                                                                                                                                                                                                                                                                                                                                                                                                                                                                                                                                                                                                                                                                                                                                                                                                                                                                                                                                                                                                                                                                                                                                                                                                                                                                                                                                                                                                                                                                                                                                                                                                                                                                                                                                                                                                                                                                                                                                                                                                                                                                                                                                                                                                                                                                                                                                                                                                                                                                                                                                                                                                                                                                                                                                                                                                                                                                                                                                                                                                                                                                                                                                                                                                                                                                                                                                                                                                                                                                                                                                                                                                                                                                                                                                                                                                                                                                                                                                                                                                                                                                                                                                                                                                                                                                                                                                                                                                                                                                                                                                                                                                                                                                                                                                                                                                                                                                                                                                                                                                                                                                                                                                                                                                                                                                                                                                                                                                                                                                                                                              Van Ellen Jacobs CMcom Verzonden woensdag augustus Aan Vincent Coessens Ilse Klep CMcom Wholesale Billing Finance Onderwerp RE invoice for interconnection services july Beste Vincent Ik zag dat het statementnummer ontbrak op de pdf Bij deze het document met het statementnummer erop vermeld Met vriendelijke groet Ellen Jacobs CMcom Finance Professional cmcom Follow CMcom on LinkedIn for the latest updates on conversational commerce Van Ellen Jacobs CMcom Verzonden woensdag augustus Aan Vincent Coessens Ilse Klep CMcom Wholesale Billing Finance Onderwerp RE invoice for interconnection services july Beste Vincent Hierbij het statement met verzoek tot uitbetaling Met vriendelijke groet Ellen Jacobs CMcom Finance Professional cmcom Follow CMcom on LinkedIn for the latest updates on conversational commerce Van Vincent Coessens Verzonden donderdag augustus Aan Ellen Jacobs CMcom Ilse Klep CMcom Wholesale Billing Finance Invoice Onderwerp invoice for interconnection services july EXTERNAL EMAIL Hallo Ilse In bijlage factuur en usage report Prettige vakantie Vincent Coessens TPO Wholesale Billing and Fraud Mobile Vikings Kempische Steenweg Hasselt M vincentcoessensmobilevikingsbe   \n",
       "23                                                                                                                                                                                                                                                                                                                                                                                                                                                                                                                                                                                                                                                                                                                                                                                                                                                                                                                                                                                                                                                                                                                                                                                                                                                                                                                                                                                                                                                                                                                                                                                                                                                                                                                                                                                                                                                                                                                                                                                                                                                                                                                                                                                                                                                                                                                                                                                                                                                                                                                                                                                                                                                                                                                                                                                                                                                                                                                                                                                                                                                                                                                                                                                                                                                                                                                                                                                                                                                                                                                                                                                                                                                                                                                                                                                                                                                                                                                                                                                                                                                                                                                                                                                                                                                                                                                                                                                                                                                                                                                                                                                                                                                                                                                                                                                                                                                                                                                                                                                                                                                                                                                                                                                                                                                                                                                                                                                                                                                                                                                                                                                                                                                                                                                                                                                                                                                                                                                                                                                                                                                                                                                                                                                                                                                                                                                         Mit freundlichen Gren Best regards i A Lisa ZundelVersand T M lisazundelkoenigbauercom Koenig Bauer Industrial AG Co KG FriedrichKoenigStr Wrzburg Deutschland koenigbauercom Koenig Bauer Industrial AG Co KG GeschftsfhrerCEO DiplIng FH Gnter Drossel Sitz der GesellschaftRegistered Office Wrzburg AmtsgerichtLocal Court Wrzburg HandelsregisterTrade Register A KomplementrinGeneral Partner Koenig Bauer AG AufsichtsratSupervisory Board Prof DrIng Raimund Klinkner VorsitzenderChairman VorstandExecutive Board Dr Andreas Pleke Sprecherspokesman Dr Stephen Kimmich DiplBetriebswirt Christoph Mller DiplIng Ralf Sammeck DiplIng Michael Ulverich Sitz der GesellschaftRegistered Office Wrzburg Germany AmtsgerichtLocal Court Wrzburg HandelsregisterTrade Register B Der Inhalt dieser Email und etwaiger Anhnge ist vertraulich und ausschlielich fr den bezeichneten Adressaten bestimmt Jede unbefugte Kenntnisnahme Verffentlichung Vervielfltigung oder Weitergabe ist unzulssig Sollten Sie nicht der vorgesehene Empfnger sein bitten wir Sie sich mit uns in Verbindung zu setzen und die Email zu lschen sowie alle Kopien zu vernichten This email message including any attachments is for the sole use of the intended recipients and is privileged or confidential information Any unauthorized review use disclosure or distribution is prohibited If you are not the intended recipient please immediately contact us by reply email and delete the message and destroy all copies thereof   \n",
       "24                                                                                                                                                                                                                                                                                                                                                                                                                                                                                                                                                                                                                                                                                                                                                                                                                                                                                                                                                                                                                                                                                                                                                                                                                                                                                                                                                                                                                                                                                                                                                                                                                                                                                                                                                                                                                                                                                                                                                                                                                                                                                                                                                                                                                                                                                                                                                                                                                                                                                                                                                                                                                                                                                                                                                                                                                                                                                                                                                                                                                                                                                                                                                                                                                                                                                                                                                                                                                                                                                                                                                                                                                                                                                                                                                                                                                                                                                                                                                                                                                                                                                                                                                                                                                                                                                                                                                                                                                                                                                                                                                                                                                                                                                                                                                                                                                                                                                                                                                                                                                                                                                                                                                                                                                                                                                                                                                                                                                                                                                                                                                                                                                                                                                                                                                                                                                                                                                                                                                                                                                                                                                                                                                                                                                                                                                                                         Mit freundlichen Gren Best regards i A Lisa ZundelVersand T M lisazundelkoenigbauercom Koenig Bauer Industrial AG Co KG FriedrichKoenigStr Wrzburg Deutschland koenigbauercom Koenig Bauer Industrial AG Co KG GeschftsfhrerCEO DiplIng FH Gnter Drossel Sitz der GesellschaftRegistered Office Wrzburg AmtsgerichtLocal Court Wrzburg HandelsregisterTrade Register A KomplementrinGeneral Partner Koenig Bauer AG AufsichtsratSupervisory Board Prof DrIng Raimund Klinkner VorsitzenderChairman VorstandExecutive Board Dr Andreas Pleke Sprecherspokesman Dr Stephen Kimmich DiplBetriebswirt Christoph Mller DiplIng Ralf Sammeck DiplIng Michael Ulverich Sitz der GesellschaftRegistered Office Wrzburg Germany AmtsgerichtLocal Court Wrzburg HandelsregisterTrade Register B Der Inhalt dieser Email und etwaiger Anhnge ist vertraulich und ausschlielich fr den bezeichneten Adressaten bestimmt Jede unbefugte Kenntnisnahme Verffentlichung Vervielfltigung oder Weitergabe ist unzulssig Sollten Sie nicht der vorgesehene Empfnger sein bitten wir Sie sich mit uns in Verbindung zu setzen und die Email zu lschen sowie alle Kopien zu vernichten This email message including any attachments is for the sole use of the intended recipients and is privileged or confidential information Any unauthorized review use disclosure or distribution is prohibited If you are not the intended recipient please immediately contact us by reply email and delete the message and destroy all copies thereof   \n",
       "25                                                                                                                                                                                                                                                                                                                                                                                                                                                                                                                                                                                                                                                                                                                                                                                                                                                                                                                                                                                                                                                                                                                                                                                                                                                                                                                                                                                                                                                                                                                                                                                                                                                                                                                                                                                                                                                                                                                                                                                                                                                                                                                                                                                                                                                                                                                                                                                                                                                                                                                                                                                                                                                                                                                                                                                                                                                                                                                                                                                                                                                                                                                                                                                                                                                                                                                                                                                                                                                                                                                                                                                                                                                                                                                                                                                                                                                                                                                                                                                                                                                                                                                                                                                                                                                                                                                                                                                                                                                                                                                                                                                                                                                                                                                                                                                                                                                                                                                                                                                                                                                                                                                                                                                                                                                                                                                                                                                                                                                                                                                                                                                                                                                                                                                                                                                                                                                                                                                                                                                                                                                                                                                                                                                                                                                                                                                                                                                                    Forwarded message From Kristof Laureys Date Fri Jul at Subject Fwd Scan verzonden via een Persgroepprinter To Forwarded message From Valerie Van Dyck Date Thu Jul at Subject Fwd Scan verzonden via een Persgroepprinter To Kristof Laureys Cc Hilde Sijbers In bijlage de ruilovereenkomst van Selected by Line Groet Valrie Van Dyck Producer image VTMNIEUWS Mediaplein Antwerpen T M valerievandyckvtmnieuwsbe dpgmediabe image DPG Media Forwarded message Van infoselectedbylinebe Date di jun om Subject RE Scan verzonden via een Persgroepprinter To Valerie Van Dyck Dag Valerie In bijlage kan je zowel het getekende contract vinden als de factuur aan jullie Kan je even meekijken of ik alles goed gedaan heb Bedankt alvast Line Van Hilde Sijbers Verzonden dinsdag juni Aan infoselectedbylinebe CC Valerie Van Dyck Onderwerp Fwd Scan verzonden via een Persgroepprinter Dag Line In bijlage het ondertekend contract Willen jullie het contract ondertekenen en samen met de factuur aan Valerie cc bezorgen aub Valerie neemt vanaf nu de opvolging van de ruilcontracten van mij over U kan dus voor de praktische opvolging bij haar terecht Met vriendelijke groeten Hilde Sijbers planner image DPG Media Medialaan Vilvoorde T M Hildesijbersdpgmediabe dpgmediabe Forwarded message Van Date di jun om Subject Scan verzonden via een Persgroepprinter To Dit document werd ingescand en verzonden via een Lexmark   \n",
       "\n",
       "   pred_label  true_label  \n",
       "0           2           0  \n",
       "1           1           2  \n",
       "2           1           0  \n",
       "3           1           2  \n",
       "4           1           2  \n",
       "5           0           1  \n",
       "6           0           2  \n",
       "7           1           0  \n",
       "8           0           1  \n",
       "9           1           0  \n",
       "10          0           1  \n",
       "11          1           2  \n",
       "12          1           0  \n",
       "13          1           0  \n",
       "14          1           0  \n",
       "15          1           2  \n",
       "16          2           1  \n",
       "17          1           0  \n",
       "18          1           0  \n",
       "19          1           0  \n",
       "20          1           2  \n",
       "21          1           0  \n",
       "22          1           2  \n",
       "23          0           1  \n",
       "24          0           1  \n",
       "25          0           1  "
      ]
     },
     "execution_count": 9,
     "metadata": {},
     "output_type": "execute_result"
    }
   ],
   "source": [
    "print(type(wrong_predictions[0]))\n",
    "for i, x in enumerate(wrong_predictions):\n",
    "    wrong_predictions[i] = str(wrong_predictions[i])\n",
    "    #wrong_predictions[i] = re.sub(\"'\",\"\\\"\",wrong_predictions[i])\n",
    "print(type(wrong_predictions[0]))\n",
    "print(wrong_predictions[0])\n",
    "for i, x in enumerate(wrong_predictions):\n",
    "    wrong_predictions[i] = ast.literal_eval(wrong_predictions[i])\n",
    "print(type(wrong_predictions[0]))\n",
    "wrong_predictions_df = pd.DataFrame(wrong_predictions)\n",
    "wrong_predictions_df = wrong_predictions_df.rename(columns={'guid' : 'testSet_id', 'text_a' : 'text', 'text_b' : 'pred_label', 'label' : 'true_label'})\n",
    "for i, row in wrong_predictions_df.iterrows():   \n",
    "    wrong_predictions_df.iloc[i,2] = np.argmax(model_outputs[int(row['testSet_id'])])\n",
    "wrong_predictions_df"
   ]
  },
  {
   "cell_type": "markdown",
   "id": "daeef7e1",
   "metadata": {},
   "source": [
    "### Save model localy"
   ]
  },
  {
   "cell_type": "raw",
   "id": "fa07a1b5",
   "metadata": {},
   "source": [
    "classifier.save_model(os.getcwd() + '\\Bert model storage')"
   ]
  },
  {
   "cell_type": "markdown",
   "id": "8388c24a",
   "metadata": {},
   "source": [
    "# Conclusion:\n",
    "BERTje is able to classify emails with high accuracy and percision, but is significantly slower to train or use inference on. However, this can be mitigated by using a more powerfull gpu (at least for training)\n",
    "- Avg training time with Nvidia RTX 3070 mobile (at 100W tdp) = ~8 seconds per epoch (batch size of 64)\n",
    "- Avg training time with Nvidia Quadro t1000 mobile (at 50W tdp) = ~7-8 minutes per epoch (batch size of 16)\n",
    "\n",
    "Conclusion on data: accuracy is heavily influenced by the amount -> each category will need a lot off data"
   ]
  },
  {
   "cell_type": "markdown",
   "id": "d33bb9c4",
   "metadata": {},
   "source": [
    "# Sources:\n",
    "- https://www.philschmid.de/bert-text-classification-in-a-different-language\n",
    "- https://huggingface.co/GroNLP/bert-base-dutch-cased\n",
    "- https://scikit-learn.org/stable/modules/generated/sklearn.metrics.matthews_corrcoef.html\n",
    "- https://huggingface.co/docs/transformers/perf_train_gpu_one\n",
    "- https://www.analyticsvidhya.com/blog/2020/10/improve-class-imbalance-class-weights"
   ]
  },
  {
   "cell_type": "markdown",
   "id": "d509bd7a",
   "metadata": {},
   "source": [
    "# License"
   ]
  },
  {
   "cell_type": "markdown",
   "id": "02491409",
   "metadata": {},
   "source": [
    "BERTje: de Vries, W., van Cranenburgh, A., Bisazza, A., Caselli, T., van Noord, G., & Nissim, M. (2019, December 19). BERTje: A Dutch BERT Model. Groningen, Groningen, Nederland."
   ]
  }
 ],
 "metadata": {
  "kernelspec": {
   "display_name": "gpu",
   "language": "python",
   "name": "gpu"
  },
  "language_info": {
   "codemirror_mode": {
    "name": "ipython",
    "version": 3
   },
   "file_extension": ".py",
   "mimetype": "text/x-python",
   "name": "python",
   "nbconvert_exporter": "python",
   "pygments_lexer": "ipython3",
   "version": "3.10.9"
  }
 },
 "nbformat": 4,
 "nbformat_minor": 5
}
